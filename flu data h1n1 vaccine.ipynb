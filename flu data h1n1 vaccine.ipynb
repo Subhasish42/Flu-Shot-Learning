{
 "cells": [
  {
   "cell_type": "code",
   "execution_count": 1,
   "id": "9a040d60",
   "metadata": {},
   "outputs": [],
   "source": [
    "import pandas as pd\n",
    "import numpy as np\n",
    "import matplotlib.pyplot as plt\n",
    "%matplotlib inline"
   ]
  },
  {
   "cell_type": "code",
   "execution_count": 2,
   "id": "d24c6f54",
   "metadata": {},
   "outputs": [
    {
     "name": "stdout",
     "output_type": "stream",
     "text": [
      "F:\\Imarticus\\PGA18\\python works\\DrivenData\\Flu data\n"
     ]
    }
   ],
   "source": [
    "import io\n",
    "%cd \"F:\\Imarticus\\PGA18\\python works\\DrivenData\\Flu data\""
   ]
  },
  {
   "cell_type": "code",
   "execution_count": 3,
   "id": "fe5e2da5",
   "metadata": {},
   "outputs": [],
   "source": [
    "vaccinetrain=pd.read_csv(\"training_set_features.csv\")"
   ]
  },
  {
   "cell_type": "code",
   "execution_count": 4,
   "id": "f5e2c2d2",
   "metadata": {},
   "outputs": [],
   "source": [
    "vaccinetest=pd.read_csv(\"test_set_features.csv\")"
   ]
  },
  {
   "cell_type": "code",
   "execution_count": 5,
   "id": "ae734ad4",
   "metadata": {},
   "outputs": [],
   "source": [
    "labels=pd.read_csv(\"training_set_labels.csv\")"
   ]
  },
  {
   "cell_type": "code",
   "execution_count": 6,
   "id": "27eaa689",
   "metadata": {},
   "outputs": [
    {
     "name": "stdout",
     "output_type": "stream",
     "text": [
      "(26707, 36)\n",
      "(26708, 36)\n",
      "(26707, 3)\n"
     ]
    }
   ],
   "source": [
    "print(vaccinetrain.shape)\n",
    "print(vaccinetest.shape)\n",
    "print(labels.shape)"
   ]
  },
  {
   "cell_type": "code",
   "execution_count": 7,
   "id": "0db1724c",
   "metadata": {},
   "outputs": [],
   "source": [
    "vaccinetrain[\"id\"]=\"train\"\n",
    "vaccinetest[\"id\"]=\"test\""
   ]
  },
  {
   "cell_type": "code",
   "execution_count": 8,
   "id": "7eeca0f2",
   "metadata": {},
   "outputs": [],
   "source": [
    "combinedf=pd.concat([vaccinetrain,vaccinetest],axis=0)"
   ]
  },
  {
   "cell_type": "code",
   "execution_count": 9,
   "id": "f219ae2d",
   "metadata": {},
   "outputs": [
    {
     "data": {
      "text/plain": [
       "employment_occupation          26896\n",
       "employment_industry            26605\n",
       "health_insurance               24502\n",
       "income_poverty                  8920\n",
       "doctor_recc_h1n1                4320\n",
       "doctor_recc_seasonal            4320\n",
       "rent_or_own                     4078\n",
       "employment_status               2934\n",
       "marital_status                  2850\n",
       "education                       2814\n",
       "chronic_med_condition           1903\n",
       "child_under_6_months            1633\n",
       "health_worker                   1593\n",
       "opinion_seas_sick_from_vacc     1058\n",
       "opinion_seas_risk               1013\n",
       "opinion_seas_vacc_effective      914\n",
       "opinion_h1n1_vacc_effective      789\n",
       "opinion_h1n1_sick_from_vacc      770\n",
       "opinion_h1n1_risk                768\n",
       "household_children               474\n",
       "household_adults                 474\n",
       "behavioral_avoidance             421\n",
       "behavioral_touch_face            256\n",
       "h1n1_knowledge                   238\n",
       "h1n1_concern                     177\n",
       "behavioral_outside_home          164\n",
       "behavioral_large_gatherings      159\n",
       "behavioral_antiviral_meds        150\n",
       "behavioral_wash_hands             82\n",
       "behavioral_face_mask              38\n",
       "census_msa                         0\n",
       "respondent_id                      0\n",
       "hhs_geo_region                     0\n",
       "sex                                0\n",
       "race                               0\n",
       "age_group                          0\n",
       "id                                 0\n",
       "dtype: int64"
      ]
     },
     "execution_count": 9,
     "metadata": {},
     "output_type": "execute_result"
    }
   ],
   "source": [
    "combinedf.isnull().sum().sort_values(ascending=False)"
   ]
  },
  {
   "cell_type": "code",
   "execution_count": 10,
   "id": "5a11f325",
   "metadata": {},
   "outputs": [
    {
     "name": "stdout",
     "output_type": "stream",
     "text": [
      "(26708, 37)\n",
      "(26707, 37)\n"
     ]
    }
   ],
   "source": [
    "print(vaccinetest.shape)\n",
    "print(vaccinetrain.shape)"
   ]
  },
  {
   "cell_type": "code",
   "execution_count": 11,
   "id": "c9bb4a89",
   "metadata": {},
   "outputs": [],
   "source": [
    "# combinedfNew=combinedf.drop([\"employment_occupation\",\"employment_industry\"],axis=1)"
   ]
  },
  {
   "cell_type": "code",
   "execution_count": 12,
   "id": "3436f7c6",
   "metadata": {},
   "outputs": [
    {
     "data": {
      "text/html": [
       "<div>\n",
       "<style scoped>\n",
       "    .dataframe tbody tr th:only-of-type {\n",
       "        vertical-align: middle;\n",
       "    }\n",
       "\n",
       "    .dataframe tbody tr th {\n",
       "        vertical-align: top;\n",
       "    }\n",
       "\n",
       "    .dataframe thead th {\n",
       "        text-align: right;\n",
       "    }\n",
       "</style>\n",
       "<table border=\"1\" class=\"dataframe\">\n",
       "  <thead>\n",
       "    <tr style=\"text-align: right;\">\n",
       "      <th></th>\n",
       "      <th>respondent_id</th>\n",
       "      <th>h1n1_concern</th>\n",
       "      <th>h1n1_knowledge</th>\n",
       "      <th>behavioral_antiviral_meds</th>\n",
       "      <th>behavioral_avoidance</th>\n",
       "      <th>behavioral_face_mask</th>\n",
       "      <th>behavioral_wash_hands</th>\n",
       "      <th>behavioral_large_gatherings</th>\n",
       "      <th>behavioral_outside_home</th>\n",
       "      <th>behavioral_touch_face</th>\n",
       "      <th>...</th>\n",
       "      <th>marital_status</th>\n",
       "      <th>rent_or_own</th>\n",
       "      <th>employment_status</th>\n",
       "      <th>hhs_geo_region</th>\n",
       "      <th>census_msa</th>\n",
       "      <th>household_adults</th>\n",
       "      <th>household_children</th>\n",
       "      <th>employment_industry</th>\n",
       "      <th>employment_occupation</th>\n",
       "      <th>id</th>\n",
       "    </tr>\n",
       "  </thead>\n",
       "  <tbody>\n",
       "    <tr>\n",
       "      <th>0</th>\n",
       "      <td>0</td>\n",
       "      <td>1.0</td>\n",
       "      <td>0.0</td>\n",
       "      <td>0.0</td>\n",
       "      <td>0.0</td>\n",
       "      <td>0.0</td>\n",
       "      <td>0.0</td>\n",
       "      <td>0.0</td>\n",
       "      <td>1.0</td>\n",
       "      <td>1.0</td>\n",
       "      <td>...</td>\n",
       "      <td>Not Married</td>\n",
       "      <td>Own</td>\n",
       "      <td>Not in Labor Force</td>\n",
       "      <td>oxchjgsf</td>\n",
       "      <td>Non-MSA</td>\n",
       "      <td>0.0</td>\n",
       "      <td>0.0</td>\n",
       "      <td>NaN</td>\n",
       "      <td>NaN</td>\n",
       "      <td>train</td>\n",
       "    </tr>\n",
       "    <tr>\n",
       "      <th>1</th>\n",
       "      <td>1</td>\n",
       "      <td>3.0</td>\n",
       "      <td>2.0</td>\n",
       "      <td>0.0</td>\n",
       "      <td>1.0</td>\n",
       "      <td>0.0</td>\n",
       "      <td>1.0</td>\n",
       "      <td>0.0</td>\n",
       "      <td>1.0</td>\n",
       "      <td>1.0</td>\n",
       "      <td>...</td>\n",
       "      <td>Not Married</td>\n",
       "      <td>Rent</td>\n",
       "      <td>Employed</td>\n",
       "      <td>bhuqouqj</td>\n",
       "      <td>MSA, Not Principle  City</td>\n",
       "      <td>0.0</td>\n",
       "      <td>0.0</td>\n",
       "      <td>pxcmvdjn</td>\n",
       "      <td>xgwztkwe</td>\n",
       "      <td>train</td>\n",
       "    </tr>\n",
       "    <tr>\n",
       "      <th>2</th>\n",
       "      <td>2</td>\n",
       "      <td>1.0</td>\n",
       "      <td>1.0</td>\n",
       "      <td>0.0</td>\n",
       "      <td>1.0</td>\n",
       "      <td>0.0</td>\n",
       "      <td>0.0</td>\n",
       "      <td>0.0</td>\n",
       "      <td>0.0</td>\n",
       "      <td>0.0</td>\n",
       "      <td>...</td>\n",
       "      <td>Not Married</td>\n",
       "      <td>Own</td>\n",
       "      <td>Employed</td>\n",
       "      <td>qufhixun</td>\n",
       "      <td>MSA, Not Principle  City</td>\n",
       "      <td>2.0</td>\n",
       "      <td>0.0</td>\n",
       "      <td>rucpziij</td>\n",
       "      <td>xtkaffoo</td>\n",
       "      <td>train</td>\n",
       "    </tr>\n",
       "    <tr>\n",
       "      <th>3</th>\n",
       "      <td>3</td>\n",
       "      <td>1.0</td>\n",
       "      <td>1.0</td>\n",
       "      <td>0.0</td>\n",
       "      <td>1.0</td>\n",
       "      <td>0.0</td>\n",
       "      <td>1.0</td>\n",
       "      <td>1.0</td>\n",
       "      <td>0.0</td>\n",
       "      <td>0.0</td>\n",
       "      <td>...</td>\n",
       "      <td>Not Married</td>\n",
       "      <td>Rent</td>\n",
       "      <td>Not in Labor Force</td>\n",
       "      <td>lrircsnp</td>\n",
       "      <td>MSA, Principle City</td>\n",
       "      <td>0.0</td>\n",
       "      <td>0.0</td>\n",
       "      <td>NaN</td>\n",
       "      <td>NaN</td>\n",
       "      <td>train</td>\n",
       "    </tr>\n",
       "    <tr>\n",
       "      <th>4</th>\n",
       "      <td>4</td>\n",
       "      <td>2.0</td>\n",
       "      <td>1.0</td>\n",
       "      <td>0.0</td>\n",
       "      <td>1.0</td>\n",
       "      <td>0.0</td>\n",
       "      <td>1.0</td>\n",
       "      <td>1.0</td>\n",
       "      <td>0.0</td>\n",
       "      <td>1.0</td>\n",
       "      <td>...</td>\n",
       "      <td>Married</td>\n",
       "      <td>Own</td>\n",
       "      <td>Employed</td>\n",
       "      <td>qufhixun</td>\n",
       "      <td>MSA, Not Principle  City</td>\n",
       "      <td>1.0</td>\n",
       "      <td>0.0</td>\n",
       "      <td>wxleyezf</td>\n",
       "      <td>emcorrxb</td>\n",
       "      <td>train</td>\n",
       "    </tr>\n",
       "  </tbody>\n",
       "</table>\n",
       "<p>5 rows × 37 columns</p>\n",
       "</div>"
      ],
      "text/plain": [
       "   respondent_id  h1n1_concern  h1n1_knowledge  behavioral_antiviral_meds  \\\n",
       "0              0           1.0             0.0                        0.0   \n",
       "1              1           3.0             2.0                        0.0   \n",
       "2              2           1.0             1.0                        0.0   \n",
       "3              3           1.0             1.0                        0.0   \n",
       "4              4           2.0             1.0                        0.0   \n",
       "\n",
       "   behavioral_avoidance  behavioral_face_mask  behavioral_wash_hands  \\\n",
       "0                   0.0                   0.0                    0.0   \n",
       "1                   1.0                   0.0                    1.0   \n",
       "2                   1.0                   0.0                    0.0   \n",
       "3                   1.0                   0.0                    1.0   \n",
       "4                   1.0                   0.0                    1.0   \n",
       "\n",
       "   behavioral_large_gatherings  behavioral_outside_home  \\\n",
       "0                          0.0                      1.0   \n",
       "1                          0.0                      1.0   \n",
       "2                          0.0                      0.0   \n",
       "3                          1.0                      0.0   \n",
       "4                          1.0                      0.0   \n",
       "\n",
       "   behavioral_touch_face  ...  marital_status  rent_or_own  \\\n",
       "0                    1.0  ...     Not Married          Own   \n",
       "1                    1.0  ...     Not Married         Rent   \n",
       "2                    0.0  ...     Not Married          Own   \n",
       "3                    0.0  ...     Not Married         Rent   \n",
       "4                    1.0  ...         Married          Own   \n",
       "\n",
       "    employment_status  hhs_geo_region                census_msa  \\\n",
       "0  Not in Labor Force        oxchjgsf                   Non-MSA   \n",
       "1            Employed        bhuqouqj  MSA, Not Principle  City   \n",
       "2            Employed        qufhixun  MSA, Not Principle  City   \n",
       "3  Not in Labor Force        lrircsnp       MSA, Principle City   \n",
       "4            Employed        qufhixun  MSA, Not Principle  City   \n",
       "\n",
       "   household_adults  household_children  employment_industry  \\\n",
       "0               0.0                 0.0                  NaN   \n",
       "1               0.0                 0.0             pxcmvdjn   \n",
       "2               2.0                 0.0             rucpziij   \n",
       "3               0.0                 0.0                  NaN   \n",
       "4               1.0                 0.0             wxleyezf   \n",
       "\n",
       "   employment_occupation     id  \n",
       "0                    NaN  train  \n",
       "1               xgwztkwe  train  \n",
       "2               xtkaffoo  train  \n",
       "3                    NaN  train  \n",
       "4               emcorrxb  train  \n",
       "\n",
       "[5 rows x 37 columns]"
      ]
     },
     "execution_count": 12,
     "metadata": {},
     "output_type": "execute_result"
    }
   ],
   "source": [
    "combinedf.head()"
   ]
  },
  {
   "cell_type": "code",
   "execution_count": 13,
   "id": "d5519dca",
   "metadata": {},
   "outputs": [
    {
     "data": {
      "text/plain": [
       "(53415, 37)"
      ]
     },
     "execution_count": 13,
     "metadata": {},
     "output_type": "execute_result"
    }
   ],
   "source": [
    "combinedf.shape"
   ]
  },
  {
   "cell_type": "code",
   "execution_count": 14,
   "id": "a12f6818",
   "metadata": {},
   "outputs": [
    {
     "name": "stdout",
     "output_type": "stream",
     "text": [
      "2.0    21318\n",
      "1.0    16311\n",
      "3.0     9114\n",
      "0.0     6495\n",
      "NaN      177\n",
      "Name: h1n1_concern, dtype: int64\n",
      "1.0    29227\n",
      "2.0    19002\n",
      "0.0     4948\n",
      "NaN      238\n",
      "Name: h1n1_knowledge, dtype: int64\n",
      "0.0    50642\n",
      "1.0     2623\n",
      "NaN      150\n",
      "Name: behavioral_antiviral_meds, dtype: int64\n",
      "1.0    38564\n",
      "0.0    14430\n",
      "NaN      421\n",
      "Name: behavioral_avoidance, dtype: int64\n",
      "0.0    49687\n",
      "1.0     3690\n",
      "NaN       38\n",
      "Name: behavioral_face_mask, dtype: int64\n",
      "1.0    44045\n",
      "0.0     9288\n",
      "NaN       82\n",
      "Name: behavioral_wash_hands, dtype: int64\n",
      "0.0    34346\n",
      "1.0    18910\n",
      "NaN      159\n",
      "Name: behavioral_large_gatherings, dtype: int64\n",
      "0.0    35291\n",
      "1.0    17960\n",
      "NaN      164\n",
      "Name: behavioral_outside_home, dtype: int64\n",
      "1.0    36175\n",
      "0.0    16984\n",
      "NaN      256\n",
      "Name: behavioral_touch_face, dtype: int64\n",
      "0.0    38221\n",
      "1.0    10874\n",
      "NaN     4320\n",
      "Name: doctor_recc_h1n1, dtype: int64\n",
      "0.0    32813\n",
      "1.0    16282\n",
      "NaN     4320\n",
      "Name: doctor_recc_seasonal, dtype: int64\n",
      "0.0    36978\n",
      "1.0    14534\n",
      "NaN     1903\n",
      "Name: chronic_med_condition, dtype: int64\n",
      "0.0    47409\n",
      "1.0     4373\n",
      "NaN     1633\n",
      "Name: child_under_6_months, dtype: int64\n",
      "0.0    46033\n",
      "1.0     5789\n",
      "NaN     1593\n",
      "Name: health_worker, dtype: int64\n",
      "1.0    25554\n",
      "NaN    24502\n",
      "0.0     3359\n",
      "Name: health_insurance, dtype: int64\n",
      "4.0    23417\n",
      "5.0    14231\n",
      "3.0     9513\n",
      "2.0     3658\n",
      "1.0     1807\n",
      "NaN      789\n",
      "Name: opinion_h1n1_vacc_effective, dtype: int64\n",
      "2.0    19861\n",
      "1.0    16346\n",
      "4.0    10659\n",
      "5.0     3434\n",
      "3.0     2347\n",
      "NaN      768\n",
      "Name: opinion_h1n1_risk, dtype: int64\n",
      "2.0    18306\n",
      "1.0    17933\n",
      "4.0    11760\n",
      "5.0     4337\n",
      "NaN      770\n",
      "3.0      309\n",
      "Name: opinion_h1n1_sick_from_vacc, dtype: int64\n",
      "4.0    23131\n",
      "5.0    19970\n",
      "2.0     4490\n",
      "3.0     2537\n",
      "1.0     2373\n",
      "NaN      914\n",
      "Name: opinion_seas_vacc_effective, dtype: int64\n",
      "2.0    18026\n",
      "4.0    15239\n",
      "1.0    11913\n",
      "5.0     5811\n",
      "3.0     1413\n",
      "NaN     1013\n",
      "Name: opinion_seas_risk, dtype: int64\n",
      "1.0    23447\n",
      "2.0    15422\n",
      "4.0     9799\n",
      "5.0     3503\n",
      "NaN     1058\n",
      "3.0      186\n",
      "Name: opinion_seas_sick_from_vacc, dtype: int64\n",
      "65+ Years        13561\n",
      "55 - 64 Years    11092\n",
      "45 - 54 Years    10495\n",
      "18 - 34 Years    10449\n",
      "35 - 44 Years     7818\n",
      "Name: age_group, dtype: int64\n",
      "College Graduate    20283\n",
      "Some College        14123\n",
      "12 Years            11496\n",
      "< 12 Years           4699\n",
      "NaN                  2814\n",
      "Name: education, dtype: int64\n",
      "White                42523\n",
      "Black                 4292\n",
      "Hispanic              3458\n",
      "Other or Multiple     3142\n",
      "Name: race, dtype: int64\n",
      "Female    31692\n",
      "Male      21723\n",
      "Name: sex, dtype: int64\n",
      "<= $75,000, Above Poverty    25552\n",
      "> $75,000                    13673\n",
      "NaN                           8920\n",
      "Below Poverty                 5270\n",
      "Name: income_poverty, dtype: int64\n",
      "Married        27103\n",
      "Not Married    23462\n",
      "NaN             2850\n",
      "Name: marital_status, dtype: int64\n",
      "Own     37457\n",
      "Rent    11880\n",
      "NaN      4078\n",
      "Name: rent_or_own, dtype: int64\n",
      "Employed              27192\n",
      "Not in Labor Force    20323\n",
      "Unemployed             2966\n",
      "NaN                    2934\n",
      "Name: employment_status, dtype: int64\n",
      "lzgpxyit    8660\n",
      "fpwskwrf    6506\n",
      "qufhixun    6166\n",
      "oxchjgsf    5846\n",
      "bhuqouqj    5713\n",
      "kbazzjca    5702\n",
      "mlyzmhmf    4426\n",
      "lrircsnp    4100\n",
      "atmpeygn    4019\n",
      "dqpwygqj    2277\n",
      "Name: hhs_geo_region, dtype: int64\n",
      "MSA, Not Principle  City    23571\n",
      "MSA, Principle City         15669\n",
      "Non-MSA                     14175\n",
      "Name: census_msa, dtype: int64\n",
      "1.0    29007\n",
      "0.0    15999\n",
      "2.0     5673\n",
      "3.0     2262\n",
      "NaN      474\n",
      "Name: household_adults, dtype: int64\n",
      "0.0    37243\n",
      "1.0     6403\n",
      "2.0     5744\n",
      "3.0     3551\n",
      "NaN      474\n",
      "Name: household_children, dtype: int64\n",
      "NaN         26605\n",
      "fcxhlnwr     4952\n",
      "wxleyezf     3609\n",
      "ldnlellj     2455\n",
      "pxcmvdjn     2115\n",
      "arjwrbjb     1756\n",
      "atmlpfrs     1748\n",
      "xicduogh     1698\n",
      "mfikgejo     1263\n",
      "vjjrobsf     1094\n",
      "rucpziij     1061\n",
      "xqicxuve     1038\n",
      "saaquncn      676\n",
      "cfqqtusy      629\n",
      "nduyfdeo      578\n",
      "mcubkhph      537\n",
      "wlfvacwt      427\n",
      "dotnnunm      421\n",
      "haxffmxo      308\n",
      "msuufmds      256\n",
      "phxvnwax      170\n",
      "qnlwzans       19\n",
      "Name: employment_industry, dtype: int64\n",
      "NaN         26896\n",
      "xtkaffoo     3526\n",
      "mxkfnird     3070\n",
      "emcorrxb     2554\n",
      "cmhcxjea     2471\n",
      "xgwztkwe     2220\n",
      "hfxkjkmi     1491\n",
      "qxajmpny     1047\n",
      "xqwwgdyp      960\n",
      "uqqtjvyb      953\n",
      "kldqjyjy      915\n",
      "tfqavkke      790\n",
      "ccgxvspp      709\n",
      "ukymxvdu      701\n",
      "oijqvulv      690\n",
      "vlluhbov      679\n",
      "bxpfxfdn      662\n",
      "haliazsg      596\n",
      "rcertsgn      573\n",
      "dlvbwzss      472\n",
      "xzmlyyjv      464\n",
      "hodpvpew      461\n",
      "dcjcmpih      309\n",
      "pvmttkik      206\n",
      "Name: employment_occupation, dtype: int64\n"
     ]
    }
   ],
   "source": [
    "for col in combinedf.drop([\"respondent_id\",\"id\"],axis=1).columns:\n",
    "    freq=combinedf[col].value_counts(dropna=False)\n",
    "    print(freq)"
   ]
  },
  {
   "cell_type": "code",
   "execution_count": 15,
   "id": "7451bff3",
   "metadata": {},
   "outputs": [],
   "source": [
    "# combinedfNew.dtypes"
   ]
  },
  {
   "cell_type": "code",
   "execution_count": 16,
   "id": "c7ed184f",
   "metadata": {},
   "outputs": [],
   "source": [
    "# Missing Value Imputation - KNNImputer\n",
    "# K Nearest Neighbour is a non parametric algorithm that uses distance calculation like Euclidean to calculated \n",
    "# algorith that uses distance missing value \n",
    "\n",
    "\n",
    "# For running this imputer on object or categorical data labelencoding must be done before running imputer\n"
   ]
  },
  {
   "cell_type": "code",
   "execution_count": 17,
   "id": "e97319de",
   "metadata": {},
   "outputs": [],
   "source": [
    "from sklearn.preprocessing import LabelEncoder"
   ]
  },
  {
   "cell_type": "code",
   "execution_count": 18,
   "id": "c56c36f3",
   "metadata": {},
   "outputs": [],
   "source": [
    "stringcols=combinedf.drop([\"respondent_id\",\"id\"],axis=1)"
   ]
  },
  {
   "cell_type": "code",
   "execution_count": 19,
   "id": "bbab1c82",
   "metadata": {},
   "outputs": [
    {
     "data": {
      "text/plain": [
       "(53415, 35)"
      ]
     },
     "execution_count": 19,
     "metadata": {},
     "output_type": "execute_result"
    }
   ],
   "source": [
    "stringcols.shape"
   ]
  },
  {
   "cell_type": "code",
   "execution_count": 20,
   "id": "a38b2d4e",
   "metadata": {},
   "outputs": [],
   "source": [
    "stringcols=stringcols.astype(str).apply(lambda series:pd.Series(\n",
    "LabelEncoder().fit_transform(series[series.notnull()]),index=series[series.notnull()].index))"
   ]
  },
  {
   "cell_type": "code",
   "execution_count": 21,
   "id": "be90ea98",
   "metadata": {},
   "outputs": [],
   "source": [
    "from sklearn.impute import KNNImputer"
   ]
  },
  {
   "cell_type": "code",
   "execution_count": 22,
   "id": "e359dd00",
   "metadata": {},
   "outputs": [],
   "source": [
    "imputer=KNNImputer()"
   ]
  },
  {
   "cell_type": "code",
   "execution_count": 23,
   "id": "1b439dce",
   "metadata": {},
   "outputs": [],
   "source": [
    "stringcolsimp=imputer.fit_transform(stringcols)"
   ]
  },
  {
   "cell_type": "code",
   "execution_count": 24,
   "id": "d0ab858b",
   "metadata": {},
   "outputs": [
    {
     "data": {
      "text/plain": [
       "h1n1_concern                   0\n",
       "marital_status                 0\n",
       "opinion_seas_sick_from_vacc    0\n",
       "age_group                      0\n",
       "education                      0\n",
       "race                           0\n",
       "sex                            0\n",
       "income_poverty                 0\n",
       "rent_or_own                    0\n",
       "opinion_seas_vacc_effective    0\n",
       "employment_status              0\n",
       "hhs_geo_region                 0\n",
       "census_msa                     0\n",
       "household_adults               0\n",
       "household_children             0\n",
       "employment_industry            0\n",
       "opinion_seas_risk              0\n",
       "opinion_h1n1_sick_from_vacc    0\n",
       "h1n1_knowledge                 0\n",
       "behavioral_touch_face          0\n",
       "behavioral_antiviral_meds      0\n",
       "behavioral_avoidance           0\n",
       "behavioral_face_mask           0\n",
       "behavioral_wash_hands          0\n",
       "behavioral_large_gatherings    0\n",
       "behavioral_outside_home        0\n",
       "doctor_recc_h1n1               0\n",
       "opinion_h1n1_risk              0\n",
       "doctor_recc_seasonal           0\n",
       "chronic_med_condition          0\n",
       "child_under_6_months           0\n",
       "health_worker                  0\n",
       "health_insurance               0\n",
       "opinion_h1n1_vacc_effective    0\n",
       "employment_occupation          0\n",
       "dtype: int64"
      ]
     },
     "execution_count": 24,
     "metadata": {},
     "output_type": "execute_result"
    }
   ],
   "source": [
    "stringcols.isnull().sum().sort_values(ascending=False)"
   ]
  },
  {
   "cell_type": "code",
   "execution_count": 25,
   "id": "89a0f298",
   "metadata": {},
   "outputs": [],
   "source": [
    "stringcolsimp=pd.DataFrame(stringcolsimp,columns=stringcols.columns)"
   ]
  },
  {
   "cell_type": "code",
   "execution_count": 26,
   "id": "2ec4bf7c",
   "metadata": {},
   "outputs": [
    {
     "name": "stdout",
     "output_type": "stream",
     "text": [
      "2.0    21318\n",
      "1.0    16311\n",
      "3.0     9114\n",
      "0.0     6495\n",
      "4.0      177\n",
      "Name: h1n1_concern, dtype: int64\n",
      "1.0    29227\n",
      "2.0    19002\n",
      "0.0     4948\n",
      "3.0      238\n",
      "Name: h1n1_knowledge, dtype: int64\n",
      "0.0    50642\n",
      "1.0     2623\n",
      "2.0      150\n",
      "Name: behavioral_antiviral_meds, dtype: int64\n",
      "1.0    38564\n",
      "0.0    14430\n",
      "2.0      421\n",
      "Name: behavioral_avoidance, dtype: int64\n",
      "0.0    49687\n",
      "1.0     3690\n",
      "2.0       38\n",
      "Name: behavioral_face_mask, dtype: int64\n",
      "1.0    44045\n",
      "0.0     9288\n",
      "2.0       82\n",
      "Name: behavioral_wash_hands, dtype: int64\n",
      "0.0    34346\n",
      "1.0    18910\n",
      "2.0      159\n",
      "Name: behavioral_large_gatherings, dtype: int64\n",
      "0.0    35291\n",
      "1.0    17960\n",
      "2.0      164\n",
      "Name: behavioral_outside_home, dtype: int64\n",
      "1.0    36175\n",
      "0.0    16984\n",
      "2.0      256\n",
      "Name: behavioral_touch_face, dtype: int64\n",
      "0.0    38221\n",
      "1.0    10874\n",
      "2.0     4320\n",
      "Name: doctor_recc_h1n1, dtype: int64\n",
      "0.0    32813\n",
      "1.0    16282\n",
      "2.0     4320\n",
      "Name: doctor_recc_seasonal, dtype: int64\n",
      "0.0    36978\n",
      "1.0    14534\n",
      "2.0     1903\n",
      "Name: chronic_med_condition, dtype: int64\n",
      "0.0    47409\n",
      "1.0     4373\n",
      "2.0     1633\n",
      "Name: child_under_6_months, dtype: int64\n",
      "0.0    46033\n",
      "1.0     5789\n",
      "2.0     1593\n",
      "Name: health_worker, dtype: int64\n",
      "1.0    25554\n",
      "2.0    24502\n",
      "0.0     3359\n",
      "Name: health_insurance, dtype: int64\n",
      "3.0    23417\n",
      "4.0    14231\n",
      "2.0     9513\n",
      "1.0     3658\n",
      "0.0     1807\n",
      "5.0      789\n",
      "Name: opinion_h1n1_vacc_effective, dtype: int64\n",
      "1.0    19861\n",
      "0.0    16346\n",
      "3.0    10659\n",
      "4.0     3434\n",
      "2.0     2347\n",
      "5.0      768\n",
      "Name: opinion_h1n1_risk, dtype: int64\n",
      "1.0    18306\n",
      "0.0    17933\n",
      "3.0    11760\n",
      "4.0     4337\n",
      "5.0      770\n",
      "2.0      309\n",
      "Name: opinion_h1n1_sick_from_vacc, dtype: int64\n",
      "3.0    23131\n",
      "4.0    19970\n",
      "1.0     4490\n",
      "2.0     2537\n",
      "0.0     2373\n",
      "5.0      914\n",
      "Name: opinion_seas_vacc_effective, dtype: int64\n",
      "1.0    18026\n",
      "3.0    15239\n",
      "0.0    11913\n",
      "4.0     5811\n",
      "2.0     1413\n",
      "5.0     1013\n",
      "Name: opinion_seas_risk, dtype: int64\n",
      "0.0    23447\n",
      "1.0    15422\n",
      "3.0     9799\n",
      "4.0     3503\n",
      "5.0     1058\n",
      "2.0      186\n",
      "Name: opinion_seas_sick_from_vacc, dtype: int64\n",
      "4.0    13561\n",
      "3.0    11092\n",
      "2.0    10495\n",
      "0.0    10449\n",
      "1.0     7818\n",
      "Name: age_group, dtype: int64\n",
      "2.0    20283\n",
      "3.0    14123\n",
      "0.0    11496\n",
      "1.0     4699\n",
      "4.0     2814\n",
      "Name: education, dtype: int64\n",
      "3.0    42523\n",
      "0.0     4292\n",
      "1.0     3458\n",
      "2.0     3142\n",
      "Name: race, dtype: int64\n",
      "0.0    31692\n",
      "1.0    21723\n",
      "Name: sex, dtype: int64\n",
      "0.0    25552\n",
      "1.0    13673\n",
      "3.0     8920\n",
      "2.0     5270\n",
      "Name: income_poverty, dtype: int64\n",
      "0.0    27103\n",
      "1.0    23462\n",
      "2.0     2850\n",
      "Name: marital_status, dtype: int64\n",
      "0.0    37457\n",
      "1.0    11880\n",
      "2.0     4078\n",
      "Name: rent_or_own, dtype: int64\n",
      "0.0    27192\n",
      "1.0    20323\n",
      "2.0     2966\n",
      "3.0     2934\n",
      "Name: employment_status, dtype: int64\n",
      "6.0    8660\n",
      "3.0    6506\n",
      "9.0    6166\n",
      "8.0    5846\n",
      "1.0    5713\n",
      "4.0    5702\n",
      "7.0    4426\n",
      "5.0    4100\n",
      "0.0    4019\n",
      "2.0    2277\n",
      "Name: hhs_geo_region, dtype: int64\n",
      "0.0    23571\n",
      "1.0    15669\n",
      "2.0    14175\n",
      "Name: census_msa, dtype: int64\n",
      "1.0    29007\n",
      "0.0    15999\n",
      "2.0     5673\n",
      "3.0     2262\n",
      "4.0      474\n",
      "Name: household_adults, dtype: int64\n",
      "0.0    37243\n",
      "1.0     6403\n",
      "2.0     5744\n",
      "3.0     3551\n",
      "4.0      474\n",
      "Name: household_children, dtype: int64\n",
      "10.0    26605\n",
      "4.0      4952\n",
      "19.0     3609\n",
      "6.0      2455\n",
      "13.0     2115\n",
      "0.0      1756\n",
      "1.0      1748\n",
      "20.0     1698\n",
      "8.0      1263\n",
      "17.0     1094\n",
      "15.0     1061\n",
      "21.0     1038\n",
      "16.0      676\n",
      "2.0       629\n",
      "11.0      578\n",
      "7.0       537\n",
      "18.0      427\n",
      "3.0       421\n",
      "5.0       308\n",
      "9.0       256\n",
      "12.0      170\n",
      "14.0       19\n",
      "Name: employment_industry, dtype: int64\n",
      "11.0    26896\n",
      "22.0     3526\n",
      "10.0     3070\n",
      "5.0      2554\n",
      "2.0      2471\n",
      "20.0     2220\n",
      "7.0      1491\n",
      "14.0     1047\n",
      "21.0      960\n",
      "18.0      953\n",
      "9.0       915\n",
      "16.0      790\n",
      "1.0       709\n",
      "17.0      701\n",
      "12.0      690\n",
      "19.0      679\n",
      "0.0       662\n",
      "6.0       596\n",
      "15.0      573\n",
      "4.0       472\n",
      "23.0      464\n",
      "8.0       461\n",
      "3.0       309\n",
      "13.0      206\n",
      "Name: employment_occupation, dtype: int64\n"
     ]
    }
   ],
   "source": [
    "for col in stringcolsimp.columns:\n",
    "    freq=stringcolsimp[col].value_counts(dropna=False)\n",
    "    print(freq)"
   ]
  },
  {
   "cell_type": "code",
   "execution_count": 27,
   "id": "05811b2f",
   "metadata": {},
   "outputs": [
    {
     "data": {
      "text/html": [
       "<div>\n",
       "<style scoped>\n",
       "    .dataframe tbody tr th:only-of-type {\n",
       "        vertical-align: middle;\n",
       "    }\n",
       "\n",
       "    .dataframe tbody tr th {\n",
       "        vertical-align: top;\n",
       "    }\n",
       "\n",
       "    .dataframe thead th {\n",
       "        text-align: right;\n",
       "    }\n",
       "</style>\n",
       "<table border=\"1\" class=\"dataframe\">\n",
       "  <thead>\n",
       "    <tr style=\"text-align: right;\">\n",
       "      <th></th>\n",
       "      <th>index</th>\n",
       "      <th>id</th>\n",
       "    </tr>\n",
       "  </thead>\n",
       "  <tbody>\n",
       "    <tr>\n",
       "      <th>0</th>\n",
       "      <td>0</td>\n",
       "      <td>train</td>\n",
       "    </tr>\n",
       "    <tr>\n",
       "      <th>1</th>\n",
       "      <td>1</td>\n",
       "      <td>train</td>\n",
       "    </tr>\n",
       "    <tr>\n",
       "      <th>2</th>\n",
       "      <td>2</td>\n",
       "      <td>train</td>\n",
       "    </tr>\n",
       "    <tr>\n",
       "      <th>3</th>\n",
       "      <td>3</td>\n",
       "      <td>train</td>\n",
       "    </tr>\n",
       "    <tr>\n",
       "      <th>4</th>\n",
       "      <td>4</td>\n",
       "      <td>train</td>\n",
       "    </tr>\n",
       "    <tr>\n",
       "      <th>...</th>\n",
       "      <td>...</td>\n",
       "      <td>...</td>\n",
       "    </tr>\n",
       "    <tr>\n",
       "      <th>53410</th>\n",
       "      <td>26703</td>\n",
       "      <td>test</td>\n",
       "    </tr>\n",
       "    <tr>\n",
       "      <th>53411</th>\n",
       "      <td>26704</td>\n",
       "      <td>test</td>\n",
       "    </tr>\n",
       "    <tr>\n",
       "      <th>53412</th>\n",
       "      <td>26705</td>\n",
       "      <td>test</td>\n",
       "    </tr>\n",
       "    <tr>\n",
       "      <th>53413</th>\n",
       "      <td>26706</td>\n",
       "      <td>test</td>\n",
       "    </tr>\n",
       "    <tr>\n",
       "      <th>53414</th>\n",
       "      <td>26707</td>\n",
       "      <td>test</td>\n",
       "    </tr>\n",
       "  </tbody>\n",
       "</table>\n",
       "<p>53415 rows × 2 columns</p>\n",
       "</div>"
      ],
      "text/plain": [
       "       index     id\n",
       "0          0  train\n",
       "1          1  train\n",
       "2          2  train\n",
       "3          3  train\n",
       "4          4  train\n",
       "...      ...    ...\n",
       "53410  26703   test\n",
       "53411  26704   test\n",
       "53412  26705   test\n",
       "53413  26706   test\n",
       "53414  26707   test\n",
       "\n",
       "[53415 rows x 2 columns]"
      ]
     },
     "execution_count": 27,
     "metadata": {},
     "output_type": "execute_result"
    }
   ],
   "source": [
    "combinedf.id.reset_index()  # not required"
   ]
  },
  {
   "cell_type": "code",
   "execution_count": 28,
   "id": "c72bf2a5",
   "metadata": {},
   "outputs": [],
   "source": [
    "vaccinetraindf=stringcolsimp.loc[0:26706]"
   ]
  },
  {
   "cell_type": "code",
   "execution_count": 29,
   "id": "1da35335",
   "metadata": {},
   "outputs": [],
   "source": [
    "vaccinetestdf=stringcolsimp.loc[26707:53415]"
   ]
  },
  {
   "cell_type": "code",
   "execution_count": 30,
   "id": "7c766c30",
   "metadata": {},
   "outputs": [
    {
     "name": "stdout",
     "output_type": "stream",
     "text": [
      "(26708, 35)\n",
      "(26707, 35)\n"
     ]
    }
   ],
   "source": [
    "print(vaccinetestdf.shape)\n",
    "print(vaccinetraindf.shape)"
   ]
  },
  {
   "cell_type": "code",
   "execution_count": 31,
   "id": "2ab39105",
   "metadata": {},
   "outputs": [],
   "source": [
    "y=labels.seasonal_vaccine\n",
    "X=vaccinetraindf"
   ]
  },
  {
   "cell_type": "code",
   "execution_count": 32,
   "id": "d2c03432",
   "metadata": {},
   "outputs": [],
   "source": [
    "y1=labels.h1n1_vaccine"
   ]
  },
  {
   "cell_type": "code",
   "execution_count": 34,
   "id": "d7e9c2e8",
   "metadata": {},
   "outputs": [
    {
     "data": {
      "text/plain": [
       "<AxesSubplot:ylabel='seasonal_vaccine'>"
      ]
     },
     "execution_count": 34,
     "metadata": {},
     "output_type": "execute_result"
    },
    {
     "data": {
      "image/png": "[encoded data removed]",
      "text/plain": [
       "<Figure size 432x288 with 1 Axes>"
      ]
     },
     "metadata": {},
     "output_type": "display_data"
    }
   ],
   "source": [
    "pd.value_counts(y).plot(kind=\"pie\",autopct=\"%0.1f\")\n",
    "# Shows the percentage of persons taking seasonal_vaccine is 46.6%(i.e-1) and not taking is 53.4%(i.e-0)"
   ]
  },
  {
   "cell_type": "code",
   "execution_count": 35,
   "id": "24d44b28",
   "metadata": {},
   "outputs": [
    {
     "data": {
      "text/plain": [
       "<AxesSubplot:ylabel='h1n1_vaccine'>"
      ]
     },
     "execution_count": 35,
     "metadata": {},
     "output_type": "execute_result"
    },
    {
     "data": {
      "image/png": "[encoded data removed]",
      "text/plain": [
       "<Figure size 432x288 with 1 Axes>"
      ]
     },
     "metadata": {},
     "output_type": "display_data"
    }
   ],
   "source": [
    "pd.value_counts(y1).plot(kind=\"pie\",autopct=\"%0.2f\")\n",
    "# Shows the percentage of persons taking h1n1_vaccine is 21.25%(i.e-1) and not taking is 78.75%(i.e-0)"
   ]
  },
  {
   "cell_type": "code",
   "execution_count": 36,
   "id": "2fd4f080",
   "metadata": {},
   "outputs": [
    {
     "data": {
      "text/plain": [
       "<AxesSubplot:xlabel='h1n1_concern'>"
      ]
     },
     "execution_count": 36,
     "metadata": {},
     "output_type": "execute_result"
    },
    {
     "data": {
      "image/png": "[encoded data removed]",
      "text/plain": [
       "<Figure size 432x288 with 1 Axes>"
      ]
     },
     "metadata": {
      "needs_background": "light"
     },
     "output_type": "display_data"
    }
   ],
   "source": [
    "# Stacked Bar plot of h1n1concern and Seasonal_vaccine and h1n1_vaccine\n",
    "pd.crosstab(X.h1n1_concern,y).plot(kind=\"bar\",stacked=False)"
   ]
  },
  {
   "cell_type": "code",
   "execution_count": 37,
   "id": "166cd0ff",
   "metadata": {},
   "outputs": [
    {
     "data": {
      "text/plain": [
       "<AxesSubplot:xlabel='h1n1_concern'>"
      ]
     },
     "execution_count": 37,
     "metadata": {},
     "output_type": "execute_result"
    },
    {
     "data": {
      "image/png": "[encoded data removed]",
      "text/plain": [
       "<Figure size 432x288 with 1 Axes>"
      ]
     },
     "metadata": {
      "needs_background": "light"
     },
     "output_type": "display_data"
    }
   ],
   "source": [
    "pd.crosstab(X.h1n1_concern,y1).plot(kind=\"bar\",stacked=False)"
   ]
  },
  {
   "cell_type": "code",
   "execution_count": 38,
   "id": "22ab262d",
   "metadata": {},
   "outputs": [
    {
     "data": {
      "text/plain": [
       "<AxesSubplot:xlabel='h1n1_knowledge'>"
      ]
     },
     "execution_count": 38,
     "metadata": {},
     "output_type": "execute_result"
    },
    {
     "data": {
      "image/png": "[encoded data removed]",
      "text/plain": [
       "<Figure size 432x288 with 1 Axes>"
      ]
     },
     "metadata": {
      "needs_background": "light"
     },
     "output_type": "display_data"
    }
   ],
   "source": [
    "# Stacked Bar plot of h1n1_knowledge and Seasonal_vaccine and h1n1_vaccine\n",
    "pd.crosstab(X.h1n1_knowledge,y).plot(kind=\"bar\",stacked=False)"
   ]
  },
  {
   "cell_type": "code",
   "execution_count": 39,
   "id": "f291fd50",
   "metadata": {},
   "outputs": [
    {
     "data": {
      "text/plain": [
       "<AxesSubplot:xlabel='h1n1_knowledge'>"
      ]
     },
     "execution_count": 39,
     "metadata": {},
     "output_type": "execute_result"
    },
    {
     "data": {
      "image/png": "[encoded data removed]",
      "text/plain": [
       "<Figure size 432x288 with 1 Axes>"
      ]
     },
     "metadata": {
      "needs_background": "light"
     },
     "output_type": "display_data"
    }
   ],
   "source": [
    "pd.crosstab(X.h1n1_knowledge,y1).plot(kind=\"bar\",stacked=False)"
   ]
  },
  {
   "cell_type": "code",
   "execution_count": 40,
   "id": "69a7c83d",
   "metadata": {},
   "outputs": [
    {
     "data": {
      "text/plain": [
       "<AxesSubplot:xlabel='doctor_recc_h1n1'>"
      ]
     },
     "execution_count": 40,
     "metadata": {},
     "output_type": "execute_result"
    },
    {
     "data": {
      "image/png": "[encoded data removed]",
      "text/plain": [
       "<Figure size 432x288 with 1 Axes>"
      ]
     },
     "metadata": {
      "needs_background": "light"
     },
     "output_type": "display_data"
    }
   ],
   "source": [
    "# Stacked Bar plot of doctor_recc_h1n1 and h1n1_vaccine\n",
    "pd.crosstab(X.doctor_recc_h1n1,y1).plot(kind=\"bar\",stacked=False)"
   ]
  },
  {
   "cell_type": "code",
   "execution_count": 41,
   "id": "a520757c",
   "metadata": {},
   "outputs": [
    {
     "data": {
      "text/plain": [
       "<AxesSubplot:xlabel='doctor_recc_seasonal'>"
      ]
     },
     "execution_count": 41,
     "metadata": {},
     "output_type": "execute_result"
    },
    {
     "data": {
      "image/png": "[encoded data removed]",
      "text/plain": [
       "<Figure size 432x288 with 1 Axes>"
      ]
     },
     "metadata": {
      "needs_background": "light"
     },
     "output_type": "display_data"
    }
   ],
   "source": [
    "# Stacked Bar plot of doctor_recc_seasonal and Seasonal_vaccine \n",
    "pd.crosstab(X.doctor_recc_seasonal,y).plot(kind=\"bar\",stacked=False)"
   ]
  },
  {
   "cell_type": "markdown",
   "id": "c06a2117",
   "metadata": {},
   "source": [
    "# Logistic "
   ]
  },
  {
   "cell_type": "code",
   "execution_count": 33,
   "id": "9cd274f2",
   "metadata": {},
   "outputs": [],
   "source": [
    "from sklearn.linear_model import LogisticRegression"
   ]
  },
  {
   "cell_type": "code",
   "execution_count": 34,
   "id": "a42a9461",
   "metadata": {},
   "outputs": [],
   "source": [
    "logit=LogisticRegression(max_iter=3000)"
   ]
  },
  {
   "cell_type": "code",
   "execution_count": 35,
   "id": "01f404ff",
   "metadata": {},
   "outputs": [],
   "source": [
    "logitmodel=logit.fit(X,y)"
   ]
  },
  {
   "cell_type": "code",
   "execution_count": 36,
   "id": "b3ed7f2d",
   "metadata": {},
   "outputs": [
    {
     "data": {
      "text/plain": [
       "0.7611487624967237"
      ]
     },
     "execution_count": 36,
     "metadata": {},
     "output_type": "execute_result"
    }
   ],
   "source": [
    "logitmodel.score(X,y)"
   ]
  },
  {
   "cell_type": "code",
   "execution_count": 37,
   "id": "46a53581",
   "metadata": {},
   "outputs": [],
   "source": [
    "logitpredict=logitmodel.predict(X)"
   ]
  },
  {
   "cell_type": "code",
   "execution_count": 38,
   "id": "0faced84",
   "metadata": {},
   "outputs": [
    {
     "data": {
      "text/plain": [
       "array([0, 0, 0, ..., 1, 0, 0], dtype=int64)"
      ]
     },
     "execution_count": 38,
     "metadata": {},
     "output_type": "execute_result"
    }
   ],
   "source": [
    "logitpredict"
   ]
  },
  {
   "cell_type": "code",
   "execution_count": 39,
   "id": "7d07dae9",
   "metadata": {},
   "outputs": [],
   "source": [
    "from sklearn.metrics import classification_report"
   ]
  },
  {
   "cell_type": "code",
   "execution_count": 40,
   "id": "f062f691",
   "metadata": {},
   "outputs": [
    {
     "name": "stdout",
     "output_type": "stream",
     "text": [
      "              precision    recall  f1-score   support\n",
      "\n",
      "           0       0.77      0.79      0.78     14272\n",
      "           1       0.75      0.73      0.74     12435\n",
      "\n",
      "    accuracy                           0.76     26707\n",
      "   macro avg       0.76      0.76      0.76     26707\n",
      "weighted avg       0.76      0.76      0.76     26707\n",
      "\n"
     ]
    }
   ],
   "source": [
    "print(classification_report(y,logitpredict))"
   ]
  },
  {
   "cell_type": "code",
   "execution_count": 41,
   "id": "2d370f54",
   "metadata": {},
   "outputs": [],
   "source": [
    "from sklearn.model_selection import cross_val_score"
   ]
  },
  {
   "cell_type": "code",
   "execution_count": 42,
   "id": "d6758c89",
   "metadata": {},
   "outputs": [
    {
     "name": "stdout",
     "output_type": "stream",
     "text": [
      "[0.75739423 0.759079   0.76427635 0.76671035 0.75360419]\n"
     ]
    }
   ],
   "source": [
    "print(cross_val_score(logit,X,y))"
   ]
  },
  {
   "cell_type": "code",
   "execution_count": 43,
   "id": "0df7cb98",
   "metadata": {},
   "outputs": [
    {
     "data": {
      "text/plain": [
       "0.7602128263160083"
      ]
     },
     "execution_count": 43,
     "metadata": {},
     "output_type": "execute_result"
    }
   ],
   "source": [
    "(cross_val_score(logit,X,y)).mean()"
   ]
  },
  {
   "cell_type": "markdown",
   "id": "ba834b96",
   "metadata": {},
   "source": [
    "### N.B Gaussian"
   ]
  },
  {
   "cell_type": "code",
   "execution_count": 44,
   "id": "3e0df26e",
   "metadata": {},
   "outputs": [],
   "source": [
    "from sklearn.naive_bayes import GaussianNB"
   ]
  },
  {
   "cell_type": "code",
   "execution_count": 45,
   "id": "d94d738b",
   "metadata": {},
   "outputs": [],
   "source": [
    "naiv=GaussianNB()"
   ]
  },
  {
   "cell_type": "code",
   "execution_count": 46,
   "id": "a2f8ce22",
   "metadata": {},
   "outputs": [],
   "source": [
    "naivmodel=naiv.fit(X,y)"
   ]
  },
  {
   "cell_type": "code",
   "execution_count": 47,
   "id": "5136b8fa",
   "metadata": {},
   "outputs": [
    {
     "data": {
      "text/plain": [
       "0.7113116411427716"
      ]
     },
     "execution_count": 47,
     "metadata": {},
     "output_type": "execute_result"
    }
   ],
   "source": [
    "naivmodel.score(X,y)"
   ]
  },
  {
   "cell_type": "code",
   "execution_count": 48,
   "id": "f928b331",
   "metadata": {},
   "outputs": [],
   "source": [
    "naivpredict=naivmodel.predict(X)"
   ]
  },
  {
   "cell_type": "code",
   "execution_count": 49,
   "id": "a2c60b12",
   "metadata": {},
   "outputs": [
    {
     "data": {
      "text/plain": [
       "array([0, 1, 0, ..., 1, 0, 0], dtype=int64)"
      ]
     },
     "execution_count": 49,
     "metadata": {},
     "output_type": "execute_result"
    }
   ],
   "source": [
    "naivpredict"
   ]
  },
  {
   "cell_type": "code",
   "execution_count": 50,
   "id": "86e33909",
   "metadata": {},
   "outputs": [
    {
     "name": "stdout",
     "output_type": "stream",
     "text": [
      "              precision    recall  f1-score   support\n",
      "\n",
      "           0       0.75      0.69      0.72     14272\n",
      "           1       0.68      0.73      0.70     12435\n",
      "\n",
      "    accuracy                           0.71     26707\n",
      "   macro avg       0.71      0.71      0.71     26707\n",
      "weighted avg       0.71      0.71      0.71     26707\n",
      "\n"
     ]
    }
   ],
   "source": [
    "print(classification_report(y,naivpredict))"
   ]
  },
  {
   "cell_type": "code",
   "execution_count": 51,
   "id": "6777144a",
   "metadata": {},
   "outputs": [
    {
     "name": "stdout",
     "output_type": "stream",
     "text": [
      "[0.69805316 0.71658555 0.71990264 0.71147725 0.70735817]\n"
     ]
    }
   ],
   "source": [
    "print(cross_val_score(naiv,X,y))"
   ]
  },
  {
   "cell_type": "code",
   "execution_count": 52,
   "id": "079eeb40",
   "metadata": {},
   "outputs": [
    {
     "data": {
      "text/plain": [
       "0.7106753552251603"
      ]
     },
     "execution_count": 52,
     "metadata": {},
     "output_type": "execute_result"
    }
   ],
   "source": [
    "(cross_val_score(naiv,X,y)).mean()"
   ]
  },
  {
   "cell_type": "markdown",
   "id": "64cb0e88",
   "metadata": {},
   "source": [
    "### N.B Categorical"
   ]
  },
  {
   "cell_type": "code",
   "execution_count": 53,
   "id": "b9fe5381",
   "metadata": {},
   "outputs": [],
   "source": [
    "from sklearn.naive_bayes import CategoricalNB"
   ]
  },
  {
   "cell_type": "code",
   "execution_count": 54,
   "id": "f8a156d6",
   "metadata": {},
   "outputs": [],
   "source": [
    "catnb=CategoricalNB()"
   ]
  },
  {
   "cell_type": "code",
   "execution_count": 55,
   "id": "9f039ddd",
   "metadata": {},
   "outputs": [],
   "source": [
    "catnbmodel=catnb.fit(X,y)"
   ]
  },
  {
   "cell_type": "code",
   "execution_count": 56,
   "id": "5560a664",
   "metadata": {},
   "outputs": [
    {
     "data": {
      "text/plain": [
       "0.7545961732879021"
      ]
     },
     "execution_count": 56,
     "metadata": {},
     "output_type": "execute_result"
    }
   ],
   "source": [
    "catnbmodel.score(X,y)"
   ]
  },
  {
   "cell_type": "code",
   "execution_count": 57,
   "id": "c7dd7cbb",
   "metadata": {},
   "outputs": [],
   "source": [
    "catnbpredict=catnbmodel.predict(X)"
   ]
  },
  {
   "cell_type": "code",
   "execution_count": 58,
   "id": "64869a0e",
   "metadata": {},
   "outputs": [
    {
     "name": "stdout",
     "output_type": "stream",
     "text": [
      "              precision    recall  f1-score   support\n",
      "\n",
      "           0       0.77      0.77      0.77     14272\n",
      "           1       0.73      0.74      0.74     12435\n",
      "\n",
      "    accuracy                           0.75     26707\n",
      "   macro avg       0.75      0.75      0.75     26707\n",
      "weighted avg       0.75      0.75      0.75     26707\n",
      "\n"
     ]
    }
   ],
   "source": [
    "print(classification_report(y,catnbpredict))"
   ]
  },
  {
   "cell_type": "code",
   "execution_count": 59,
   "id": "2c1888dd",
   "metadata": {},
   "outputs": [
    {
     "name": "stdout",
     "output_type": "stream",
     "text": [
      "[0.74934481 0.75514788 0.75454035 0.75641266 0.75023404]\n"
     ]
    }
   ],
   "source": [
    "print(cross_val_score(catnb,X,y))"
   ]
  },
  {
   "cell_type": "code",
   "execution_count": 60,
   "id": "16ceaaf4",
   "metadata": {},
   "outputs": [
    {
     "data": {
      "text/plain": [
       "0.7531359485976648"
      ]
     },
     "execution_count": 60,
     "metadata": {},
     "output_type": "execute_result"
    }
   ],
   "source": [
    "(cross_val_score(catnb,X,y)).mean()"
   ]
  },
  {
   "cell_type": "markdown",
   "id": "8aa824ff",
   "metadata": {},
   "source": [
    "#### h1n1 vac & seasonal vac logistic"
   ]
  },
  {
   "cell_type": "code",
   "execution_count": 61,
   "id": "b871d2ed",
   "metadata": {},
   "outputs": [],
   "source": [
    "y1=labels.h1n1_vaccine"
   ]
  },
  {
   "cell_type": "code",
   "execution_count": 62,
   "id": "2819f07f",
   "metadata": {},
   "outputs": [],
   "source": [
    "logitmodel2=logit.fit(X,y1)"
   ]
  },
  {
   "cell_type": "code",
   "execution_count": 63,
   "id": "dd175911",
   "metadata": {},
   "outputs": [
    {
     "data": {
      "text/plain": [
       "0.8279102856928895"
      ]
     },
     "execution_count": 63,
     "metadata": {},
     "output_type": "execute_result"
    }
   ],
   "source": [
    "logitmodel2.score(X,y1)"
   ]
  },
  {
   "cell_type": "code",
   "execution_count": 113,
   "id": "b95e3c50",
   "metadata": {},
   "outputs": [],
   "source": [
    "logitpredict2=logitmodel2.predict(X)"
   ]
  },
  {
   "cell_type": "code",
   "execution_count": 115,
   "id": "326d4c78",
   "metadata": {},
   "outputs": [
    {
     "name": "stdout",
     "output_type": "stream",
     "text": [
      "              precision    recall  f1-score   support\n",
      "\n",
      "           0       0.85      0.95      0.90     21033\n",
      "           1       0.67      0.37      0.48      5674\n",
      "\n",
      "    accuracy                           0.83     26707\n",
      "   macro avg       0.76      0.66      0.69     26707\n",
      "weighted avg       0.81      0.83      0.81     26707\n",
      "\n"
     ]
    }
   ],
   "source": [
    "print(classification_report(y1,logitpredict2))"
   ]
  },
  {
   "cell_type": "code",
   "execution_count": 64,
   "id": "f0197fb0",
   "metadata": {},
   "outputs": [],
   "source": [
    "logiseasonpredict=logitmodel.predict(vaccinetestdf)"
   ]
  },
  {
   "cell_type": "code",
   "execution_count": 65,
   "id": "d5211c08",
   "metadata": {},
   "outputs": [],
   "source": [
    "logith1n1predict=logitmodel2.predict(vaccinetestdf)"
   ]
  },
  {
   "cell_type": "code",
   "execution_count": 66,
   "id": "9a4b15b0",
   "metadata": {},
   "outputs": [],
   "source": [
    "pd.DataFrame(logiseasonpredict).to_csv(\"logitseasonNEW.csv\")"
   ]
  },
  {
   "cell_type": "code",
   "execution_count": 67,
   "id": "dbfede8c",
   "metadata": {},
   "outputs": [],
   "source": [
    "pd.DataFrame(logith1n1predict).to_csv(\"logith1n1NEW.csv\")"
   ]
  },
  {
   "cell_type": "markdown",
   "id": "98b811df",
   "metadata": {},
   "source": [
    "#### h1n1 vac & seasonal vac N.B Categorical"
   ]
  },
  {
   "cell_type": "code",
   "execution_count": 68,
   "id": "c7e3715b",
   "metadata": {},
   "outputs": [],
   "source": [
    "catnbmodel2=catnb.fit(X,y1)"
   ]
  },
  {
   "cell_type": "code",
   "execution_count": 69,
   "id": "1e478081",
   "metadata": {},
   "outputs": [
    {
     "data": {
      "text/plain": [
       "0.8092260456060208"
      ]
     },
     "execution_count": 69,
     "metadata": {},
     "output_type": "execute_result"
    }
   ],
   "source": [
    "catnbmodel2.score(X,y1)"
   ]
  },
  {
   "cell_type": "code",
   "execution_count": 70,
   "id": "d3160e65",
   "metadata": {},
   "outputs": [],
   "source": [
    "catnbseasonpredict=catnbmodel.predict(vaccinetestdf)"
   ]
  },
  {
   "cell_type": "code",
   "execution_count": 71,
   "id": "90cfce5b",
   "metadata": {},
   "outputs": [],
   "source": [
    "catnbh1n1predict=catnbmodel2.predict(vaccinetestdf)"
   ]
  },
  {
   "cell_type": "code",
   "execution_count": 72,
   "id": "0eee4486",
   "metadata": {},
   "outputs": [],
   "source": [
    "pd.DataFrame(catnbseasonpredict).to_csv(\"catNBseasonNEW.csv\")"
   ]
  },
  {
   "cell_type": "code",
   "execution_count": 73,
   "id": "c6fed821",
   "metadata": {},
   "outputs": [],
   "source": [
    "pd.DataFrame(catnbh1n1predict).to_csv(\"catNBh1n1NEW.csv\")"
   ]
  },
  {
   "cell_type": "markdown",
   "id": "35a55d83",
   "metadata": {},
   "source": [
    "## Decission Tree"
   ]
  },
  {
   "cell_type": "code",
   "execution_count": 74,
   "id": "f150ce39",
   "metadata": {},
   "outputs": [],
   "source": [
    "from sklearn.tree import DecisionTreeClassifier"
   ]
  },
  {
   "cell_type": "code",
   "execution_count": 75,
   "id": "e0701a93",
   "metadata": {},
   "outputs": [],
   "source": [
    "Dtree=DecisionTreeClassifier(max_depth=13)"
   ]
  },
  {
   "cell_type": "code",
   "execution_count": 76,
   "id": "59589467",
   "metadata": {},
   "outputs": [],
   "source": [
    "Dtreemodel=Dtree.fit(X,y)   # max_depth = 16"
   ]
  },
  {
   "cell_type": "code",
   "execution_count": 77,
   "id": "dfd9d104",
   "metadata": {},
   "outputs": [
    {
     "data": {
      "text/plain": [
       "0.8820908376081177"
      ]
     },
     "execution_count": 77,
     "metadata": {},
     "output_type": "execute_result"
    }
   ],
   "source": [
    "Dtreemodel.score(X,y)"
   ]
  },
  {
   "cell_type": "code",
   "execution_count": 78,
   "id": "99c2020a",
   "metadata": {},
   "outputs": [],
   "source": [
    "Dtreepredict=Dtreemodel.predict(X)"
   ]
  },
  {
   "cell_type": "code",
   "execution_count": 79,
   "id": "3bab6719",
   "metadata": {},
   "outputs": [
    {
     "data": {
      "text/html": [
       "<div>\n",
       "<style scoped>\n",
       "    .dataframe tbody tr th:only-of-type {\n",
       "        vertical-align: middle;\n",
       "    }\n",
       "\n",
       "    .dataframe tbody tr th {\n",
       "        vertical-align: top;\n",
       "    }\n",
       "\n",
       "    .dataframe thead th {\n",
       "        text-align: right;\n",
       "    }\n",
       "</style>\n",
       "<table border=\"1\" class=\"dataframe\">\n",
       "  <thead>\n",
       "    <tr style=\"text-align: right;\">\n",
       "      <th>col_0</th>\n",
       "      <th>0</th>\n",
       "      <th>1</th>\n",
       "    </tr>\n",
       "    <tr>\n",
       "      <th>seasonal_vaccine</th>\n",
       "      <th></th>\n",
       "      <th></th>\n",
       "    </tr>\n",
       "  </thead>\n",
       "  <tbody>\n",
       "    <tr>\n",
       "      <th>0</th>\n",
       "      <td>12870</td>\n",
       "      <td>1402</td>\n",
       "    </tr>\n",
       "    <tr>\n",
       "      <th>1</th>\n",
       "      <td>1747</td>\n",
       "      <td>10688</td>\n",
       "    </tr>\n",
       "  </tbody>\n",
       "</table>\n",
       "</div>"
      ],
      "text/plain": [
       "col_0                 0      1\n",
       "seasonal_vaccine              \n",
       "0                 12870   1402\n",
       "1                  1747  10688"
      ]
     },
     "execution_count": 79,
     "metadata": {},
     "output_type": "execute_result"
    }
   ],
   "source": [
    "pd.crosstab(y,Dtreepredict)"
   ]
  },
  {
   "cell_type": "code",
   "execution_count": 80,
   "id": "43d7b67f",
   "metadata": {},
   "outputs": [
    {
     "name": "stdout",
     "output_type": "stream",
     "text": [
      "              precision    recall  f1-score   support\n",
      "\n",
      "           0       0.88      0.90      0.89     14272\n",
      "           1       0.88      0.86      0.87     12435\n",
      "\n",
      "    accuracy                           0.88     26707\n",
      "   macro avg       0.88      0.88      0.88     26707\n",
      "weighted avg       0.88      0.88      0.88     26707\n",
      "\n"
     ]
    }
   ],
   "source": [
    "print(classification_report(y,Dtreepredict))"
   ]
  },
  {
   "cell_type": "code",
   "execution_count": 81,
   "id": "09f75bab",
   "metadata": {},
   "outputs": [
    {
     "name": "stdout",
     "output_type": "stream",
     "text": [
      "[0.72107825 0.73006365 0.72252387 0.73862573 0.71803033]\n"
     ]
    }
   ],
   "source": [
    "print(cross_val_score(Dtree,X,y))"
   ]
  },
  {
   "cell_type": "code",
   "execution_count": 82,
   "id": "7b487959",
   "metadata": {},
   "outputs": [
    {
     "data": {
      "text/plain": [
       "0.7272252450281306"
      ]
     },
     "execution_count": 82,
     "metadata": {},
     "output_type": "execute_result"
    }
   ],
   "source": [
    "(cross_val_score(Dtree,X,y)).mean()"
   ]
  },
  {
   "cell_type": "code",
   "execution_count": 83,
   "id": "fc2e3fce",
   "metadata": {},
   "outputs": [],
   "source": [
    "Dtreemodel2=Dtree.fit(X,y1)    # max Depth = 13"
   ]
  },
  {
   "cell_type": "code",
   "execution_count": 84,
   "id": "6f9dba45",
   "metadata": {},
   "outputs": [
    {
     "data": {
      "text/plain": [
       "0.9233534279402403"
      ]
     },
     "execution_count": 84,
     "metadata": {},
     "output_type": "execute_result"
    }
   ],
   "source": [
    "Dtreemodel2.score(X,y1)"
   ]
  },
  {
   "cell_type": "code",
   "execution_count": 85,
   "id": "ed308153",
   "metadata": {},
   "outputs": [],
   "source": [
    "Dtreepredict2=Dtreemodel2.predict(X)"
   ]
  },
  {
   "cell_type": "code",
   "execution_count": 86,
   "id": "b1544232",
   "metadata": {},
   "outputs": [
    {
     "name": "stdout",
     "output_type": "stream",
     "text": [
      "              precision    recall  f1-score   support\n",
      "\n",
      "           0       0.61      0.94      0.74     14272\n",
      "           1       0.81      0.31      0.45     12435\n",
      "\n",
      "    accuracy                           0.64     26707\n",
      "   macro avg       0.71      0.62      0.59     26707\n",
      "weighted avg       0.70      0.64      0.60     26707\n",
      "\n"
     ]
    }
   ],
   "source": [
    "print(classification_report(y,Dtreepredict2))"
   ]
  },
  {
   "cell_type": "code",
   "execution_count": 87,
   "id": "03050040",
   "metadata": {},
   "outputs": [
    {
     "data": {
      "text/plain": [
       "0.8130826491392604"
      ]
     },
     "execution_count": 87,
     "metadata": {},
     "output_type": "execute_result"
    }
   ],
   "source": [
    "(cross_val_score(Dtree,X,y1)).mean()"
   ]
  },
  {
   "cell_type": "code",
   "execution_count": 88,
   "id": "c2d82eb8",
   "metadata": {},
   "outputs": [],
   "source": [
    "Dtreepredictseason=Dtreemodel.predict(vaccinetestdf)"
   ]
  },
  {
   "cell_type": "code",
   "execution_count": 89,
   "id": "2da99b3e",
   "metadata": {},
   "outputs": [],
   "source": [
    "Dtreepredicth1n1=Dtreemodel2.predict(vaccinetestdf)"
   ]
  },
  {
   "cell_type": "code",
   "execution_count": 90,
   "id": "47801ab5",
   "metadata": {},
   "outputs": [],
   "source": [
    "pd.DataFrame(Dtreepredictseason).to_csv(\"DtreeSeasonNEW.csv\")"
   ]
  },
  {
   "cell_type": "code",
   "execution_count": 91,
   "id": "e35d6b5f",
   "metadata": {},
   "outputs": [],
   "source": [
    "pd.DataFrame(Dtreepredicth1n1).to_csv(\"Dtreeh1n1NEW.csv\")"
   ]
  },
  {
   "cell_type": "markdown",
   "id": "20a19cc3",
   "metadata": {},
   "source": [
    "#### feature selection fro DT"
   ]
  },
  {
   "cell_type": "code",
   "execution_count": 92,
   "id": "2e15e2b3",
   "metadata": {},
   "outputs": [],
   "source": [
    "from sklearn.tree import export_graphviz"
   ]
  },
  {
   "cell_type": "code",
   "execution_count": 93,
   "id": "b344d256",
   "metadata": {},
   "outputs": [
    {
     "data": {
      "text/plain": [
       "'digraph Tree {\\nnode [shape=box, fontname=\"helvetica\"] ;\\nedge [fontname=\"helvetica\"] ;\\n0 [label=\"opinion_h1n1_risk <= 2.5\\\\ngini = 0.335\\\\nsamples = 26707\\\\nvalue = [21033, 5674]\"] ;\\n1 [label=\"doctor_recc_h1n1 <= 0.5\\\\ngini = 0.233\\\\nsamples = 19175\\\\nvalue = [16596, 2579]\"] ;\\n0 -> 1 [labeldistance=2.5, labelangle=45, headlabel=\"True\"] ;\\n2 [label=\"opinion_h1n1_vacc_effective <= 3.5\\\\ngini = 0.166\\\\nsamples = 14979\\\\nvalue = [13610, 1369]\"] ;\\n1 -> 2 ;\\n3 [label=\"health_insurance <= 1.5\\\\ngini = 0.125\\\\nsamples = 12044\\\\nvalue = [11236, 808]\"] ;\\n2 -> 3 ;\\n4 [label=\"opinion_seas_risk <= 0.5\\\\ngini = 0.166\\\\nsamples = 6810\\\\nvalue = [6186, 624]\"] ;\\n3 -> 4 ;\\n5 [label=\"employment_industry <= 5.5\\\\ngini = 0.093\\\\nsamples = 2259\\\\nvalue = [2149, 110]\"] ;\\n4 -> 5 ;\\n6 [label=\"employment_industry <= 4.5\\\\ngini = 0.153\\\\nsamples = 395\\\\nvalue = [362, 33]\"] ;\\n5 -> 6 ;\\n7 [label=\"behavioral_antiviral_meds <= 0.5\\\\ngini = 0.122\\\\nsamples = 382\\\\nvalue = [357, 25]\"] ;\\n6 -> 7 ;\\n8 [label=\"employment_occupation <= 22.5\\\\ngini = 0.11\\\\nsamples = 375\\\\nvalue = [353, 22]\"] ;\\n7 -> 8 ;\\n9 [label=\"age_group <= 0.5\\\\ngini = 0.106\\\\nsamples = 373\\\\nvalue = [352, 21]\"] ;\\n8 -> 9 ;\\n10 [label=\"hhs_geo_region <= 8.5\\\\ngini = 0.205\\\\nsamples = 69\\\\nvalue = [61, 8]\"] ;\\n9 -> 10 ;\\n11 [label=\"opinion_h1n1_vacc_effective <= 0.5\\\\ngini = 0.15\\\\nsamples = 61\\\\nvalue = [56, 5]\"] ;\\n10 -> 11 ;\\n12 [label=\"health_insurance <= 0.5\\\\ngini = 0.444\\\\nsamples = 6\\\\nvalue = [4, 2]\"] ;\\n11 -> 12 ;\\n13 [label=\"gini = 0.444\\\\nsamples = 3\\\\nvalue = [1, 2]\"] ;\\n12 -> 13 ;\\n14 [label=\"gini = 0.0\\\\nsamples = 3\\\\nvalue = [3, 0]\"] ;\\n12 -> 14 ;\\n15 [label=\"sex <= 0.5\\\\ngini = 0.103\\\\nsamples = 55\\\\nvalue = [52, 3]\"] ;\\n11 -> 15 ;\\n16 [label=\"gini = 0.0\\\\nsamples = 35\\\\nvalue = [35, 0]\"] ;\\n15 -> 16 ;\\n17 [label=\"gini = 0.255\\\\nsamples = 20\\\\nvalue = [17, 3]\"] ;\\n15 -> 17 ;\\n18 [label=\"opinion_h1n1_risk <= 0.5\\\\ngini = 0.469\\\\nsamples = 8\\\\nvalue = [5, 3]\"] ;\\n10 -> 18 ;\\n19 [label=\"opinion_h1n1_vacc_effective <= 2.0\\\\ngini = 0.48\\\\nsamples = 5\\\\nvalue = [2, 3]\"] ;\\n18 -> 19 ;\\n20 [label=\"gini = 0.444\\\\nsamples = 3\\\\nvalue = [2, 1]\"] ;\\n19 -> 20 ;\\n21 [label=\"gini = 0.0\\\\nsamples = 2\\\\nvalue = [0, 2]\"] ;\\n19 -> 21 ;\\n22 [label=\"gini = 0.0\\\\nsamples = 3\\\\nvalue = [3, 0]\"] ;\\n18 -> 22 ;\\n23 [label=\"chronic_med_condition <= 0.5\\\\ngini = 0.082\\\\nsamples = 304\\\\nvalue = [291, 13]\"] ;\\n9 -> 23 ;\\n24 [label=\"h1n1_knowledge <= 1.5\\\\ngini = 0.061\\\\nsamples = 255\\\\nvalue = [247, 8]\"] ;\\n23 -> 24 ;\\n25 [label=\"employment_industry <= 0.5\\\\ngini = 0.013\\\\nsamples = 155\\\\nvalue = [154, 1]\"] ;\\n24 -> 25 ;\\n26 [label=\"gini = 0.053\\\\nsamples = 37\\\\nvalue = [36, 1]\"] ;\\n25 -> 26 ;\\n27 [label=\"gini = 0.0\\\\nsamples = 118\\\\nvalue = [118, 0]\"] ;\\n25 -> 27 ;\\n28 [label=\"education <= 2.5\\\\ngini = 0.13\\\\nsamples = 100\\\\nvalue = [93, 7]\"] ;\\n24 -> 28 ;\\n29 [label=\"gini = 0.076\\\\nsamples = 76\\\\nvalue = [73, 3]\"] ;\\n28 -> 29 ;\\n30 [label=\"gini = 0.278\\\\nsamples = 24\\\\nvalue = [20, 4]\"] ;\\n28 -> 30 ;\\n31 [label=\"rent_or_own <= 1.5\\\\ngini = 0.183\\\\nsamples = 49\\\\nvalue = [44, 5]\"] ;\\n23 -> 31 ;\\n32 [label=\"hhs_geo_region <= 0.5\\\\ngini = 0.153\\\\nsamples = 48\\\\nvalue = [44, 4]\"] ;\\n31 -> 32 ;\\n33 [label=\"gini = 0.5\\\\nsamples = 2\\\\nvalue = [1, 1]\"] ;\\n32 -> 33 ;\\n34 [label=\"gini = 0.122\\\\nsamples = 46\\\\nvalue = [43, 3]\"] ;\\n32 -> 34 ;\\n35 [label=\"gini = 0.0\\\\nsamples = 1\\\\nvalue = [0, 1]\"] ;\\n31 -> 35 ;\\n36 [label=\"opinion_h1n1_sick_from_vacc <= 0.5\\\\ngini = 0.5\\\\nsamples = 2\\\\nvalue = [1, 1]\"] ;\\n8 -> 36 ;\\n37 [label=\"gini = 0.0\\\\nsamples = 1\\\\nvalue = [0, 1]\"] ;\\n36 -> 37 ;\\n38 [label=\"gini = 0.0\\\\nsamples = 1\\\\nvalue = [1, 0]\"] ;\\n36 -> 38 ;\\n39 [label=\"employment_occupation <= 8.0\\\\ngini = 0.49\\\\nsamples = 7\\\\nvalue = [4, 3]\"] ;\\n7 -> 39 ;\\n40 [label=\"gini = 0.0\\\\nsamples = 3\\\\nvalue = [0, 3]\"] ;\\n39 -> 40 ;\\n41 [label=\"gini = 0.0\\\\nsamples = 4\\\\nvalue = [4, 0]\"] ;\\n39 -> 41 ;\\n42 [label=\"opinion_h1n1_risk <= 0.5\\\\ngini = 0.473\\\\nsamples = 13\\\\nvalue = [5, 8]\"] ;\\n6 -> 42 ;\\n43 [label=\"sex <= 0.5\\\\ngini = 0.397\\\\nsamples = 11\\\\nvalue = [3, 8]\"] ;\\n42 -> 43 ;\\n44 [label=\"gini = 0.0\\\\nsamples = 1\\\\nvalue = [1, 0]\"] ;\\n43 -> 44 ;\\n45 [label=\"opinion_seas_sick_from_vacc <= 3.5\\\\ngini = 0.32\\\\nsamples = 10\\\\nvalue = [2, 8]\"] ;\\n43 -> 45 ;\\n46 [label=\"census_msa <= 0.5\\\\ngini = 0.198\\\\nsamples = 9\\\\nvalue = [1, 8]\"] ;\\n45 -> 46 ;\\n47 [label=\"gini = 0.0\\\\nsamples = 6\\\\nvalue = [0, 6]\"] ;\\n46 -> 47 ;\\n48 [label=\"household_adults <= 1.0\\\\ngini = 0.444\\\\nsamples = 3\\\\nvalue = [1, 2]\"] ;\\n46 -> 48 ;\\n49 [label=\"gini = 0.0\\\\nsamples = 2\\\\nvalue = [0, 2]\"] ;\\n48 -> 49 ;\\n50 [label=\"gini = 0.0\\\\nsamples = 1\\\\nvalue = [1, 0]\"] ;\\n48 -> 50 ;\\n51 [label=\"gini = 0.0\\\\nsamples = 1\\\\nvalue = [1, 0]\"] ;\\n45 -> 51 ;\\n52 [label=\"gini = 0.0\\\\nsamples = 2\\\\nvalue = [2, 0]\"] ;\\n42 -> 52 ;\\n53 [label=\"opinion_h1n1_vacc_effective <= 1.5\\\\ngini = 0.079\\\\nsamples = 1864\\\\nvalue = [1787, 77]\"] ;\\n5 -> 53 ;\\n54 [label=\"age_group <= 1.5\\\\ngini = 0.038\\\\nsamples = 470\\\\nvalue = [461, 9]\"] ;\\n53 -> 54 ;\\n55 [label=\"opinion_h1n1_vacc_effective <= 0.5\\\\ngini = 0.087\\\\nsamples = 153\\\\nvalue = [146, 7]\"] ;\\n54 -> 55 ;\\n56 [label=\"h1n1_concern <= 2.5\\\\ngini = 0.03\\\\nsamples = 65\\\\nvalue = [64, 1]\"] ;\\n55 -> 56 ;\\n57 [label=\"gini = 0.0\\\\nsamples = 60\\\\nvalue = [60, 0]\"] ;\\n56 -> 57 ;\\n58 [label=\"employment_occupation <= 15.0\\\\ngini = 0.32\\\\nsamples = 5\\\\nvalue = [4, 1]\"] ;\\n56 -> 58 ;\\n59 [label=\"gini = 0.0\\\\nsamples = 4\\\\nvalue = [4, 0]\"] ;\\n58 -> 59 ;\\n60 [label=\"gini = 0.0\\\\nsamples = 1\\\\nvalue = [0, 1]\"] ;\\n58 -> 60 ;\\n61 [label=\"sex <= 0.5\\\\ngini = 0.127\\\\nsamples = 88\\\\nvalue = [82, 6]\"] ;\\n55 -> 61 ;\\n62 [label=\"race <= 0.5\\\\ngini = 0.042\\\\nsamples = 47\\\\nvalue = [46, 1]\"] ;\\n61 -> 62 ;\\n63 [label=\"opinion_h1n1_sick_from_vacc <= 0.5\\\\ngini = 0.18\\\\nsamples = 10\\\\nvalue = [9, 1]\"] ;\\n62 -> 63 ;\\n64 [label=\"education <= 2.0\\\\ngini = 0.5\\\\nsamples = 2\\\\nvalue = [1, 1]\"] ;\\n63 -> 64 ;\\n65 [label=\"gini = 0.0\\\\nsamples = 1\\\\nvalue = [1, 0]\"] ;\\n64 -> 65 ;\\n66 [label=\"gini = 0.0\\\\nsamples = 1\\\\nvalue = [0, 1]\"] ;\\n64 -> 66 ;\\n67 [label=\"gini = 0.0\\\\nsamples = 8\\\\nvalue = [8, 0]\"] ;\\n63 -> 67 ;\\n68 [label=\"gini = 0.0\\\\nsamples = 37\\\\nvalue = [37, 0]\"] ;\\n62 -> 68 ;\\n69 [label=\"opinion_seas_vacc_effective <= 3.5\\\\ngini = 0.214\\\\nsamples = 41\\\\nvalue = [36, 5]\"] ;\\n61 -> 69 ;\\n70 [label=\"behavioral_touch_face <= 0.5\\\\ngini = 0.18\\\\nsamples = 40\\\\nvalue = [36, 4]\"] ;\\n69 -> 70 ;\\n71 [label=\"behavioral_large_gatherings <= 0.5\\\\ngini = 0.32\\\\nsamples = 20\\\\nvalue = [16, 4]\"] ;\\n70 -> 71 ;\\n72 [label=\"gini = 0.208\\\\nsamples = 17\\\\nvalue = [15, 2]\"] ;\\n71 -> 72 ;\\n73 [label=\"gini = 0.444\\\\nsamples = 3\\\\nvalue = [1, 2]\"] ;\\n71 -> 73 ;\\n74 [label=\"gini = 0.0\\\\nsamples = 20\\\\nvalue = [20, 0]\"] ;\\n70 -> 74 ;\\n75 [label=\"gini = 0.0\\\\nsamples = 1\\\\nvalue = [0, 1]\"] ;\\n69 -> 75 ;\\n76 [label=\"hhs_geo_region <= 2.5\\\\ngini = 0.013\\\\nsamples = 317\\\\nvalue = [315, 2]\"] ;\\n54 -> 76 ;\\n77 [label=\"opinion_seas_vacc_effective <= 3.5\\\\ngini = 0.062\\\\nsamples = 62\\\\nvalue = [60, 2]\"] ;\\n76 -> 77 ;\\n78 [label=\"h1n1_knowledge <= 0.5\\\\ngini = 0.034\\\\nsamples = 58\\\\nvalue = [57, 1]\"] ;\\n77 -> 78 ;\\n79 [label=\"census_msa <= 0.5\\\\ngini = 0.133\\\\nsamples = 14\\\\nvalue = [13, 1]\"] ;\\n78 -> 79 ;\\n80 [label=\"gini = 0.0\\\\nsamples = 8\\\\nvalue = [8, 0]\"] ;\\n79 -> 80 ;\\n81 [label=\"hhs_geo_region <= 0.5\\\\ngini = 0.278\\\\nsamples = 6\\\\nvalue = [5, 1]\"] ;\\n79 -> 81 ;\\n82 [label=\"gini = 0.0\\\\nsamples = 5\\\\nvalue = [5, 0]\"] ;\\n81 -> 82 ;\\n83 [label=\"gini = 0.0\\\\nsamples = 1\\\\nvalue = [0, 1]\"] ;\\n81 -> 83 ;\\n84 [label=\"gini = 0.0\\\\nsamples = 44\\\\nvalue = [44, 0]\"] ;\\n78 -> 84 ;\\n85 [label=\"behavioral_touch_face <= 0.5\\\\ngini = 0.375\\\\nsamples = 4\\\\nvalue = [3, 1]\"] ;\\n77 -> 85 ;\\n86 [label=\"gini = 0.0\\\\nsamples = 1\\\\nvalue = [0, 1]\"] ;\\n85 -> 86 ;\\n87 [label=\"gini = 0.0\\\\nsamples = 3\\\\nvalue = [3, 0]\"] ;\\n85 -> 87 ;\\n88 [label=\"gini = 0.0\\\\nsamples = 255\\\\nvalue = [255, 0]\"] ;\\n76 -> 88 ;\\n89 [label=\"opinion_h1n1_risk <= 0.5\\\\ngini = 0.093\\\\nsamples = 1394\\\\nvalue = [1326, 68]\"] ;\\n53 -> 89 ;\\n90 [label=\"age_group <= 3.5\\\\ngini = 0.077\\\\nsamples = 1090\\\\nvalue = [1046, 44]\"] ;\\n89 -> 90 ;\\n91 [label=\"h1n1_concern <= 3.5\\\\ngini = 0.057\\\\nsamples = 746\\\\nvalue = [724, 22]\"] ;\\n90 -> 91 ;\\n92 [label=\"chronic_med_condition <= 1.5\\\\ngini = 0.055\\\\nsamples = 743\\\\nvalue = [722, 21]\"] ;\\n91 -> 92 ;\\n93 [label=\"chronic_med_condition <= 0.5\\\\ngini = 0.053\\\\nsamples = 739\\\\nvalue = [719, 20]\"] ;\\n92 -> 93 ;\\n94 [label=\"employment_occupation <= 22.5\\\\ngini = 0.042\\\\nsamples = 612\\\\nvalue = [599, 13]\"] ;\\n93 -> 94 ;\\n95 [label=\"gini = 0.039\\\\nsamples = 607\\\\nvalue = [595, 12]\"] ;\\n94 -> 95 ;\\n96 [label=\"gini = 0.32\\\\nsamples = 5\\\\nvalue = [4, 1]\"] ;\\n94 -> 96 ;\\n97 [label=\"employment_occupation <= 20.5\\\\ngini = 0.104\\\\nsamples = 127\\\\nvalue = [120, 7]\"] ;\\n93 -> 97 ;\\n98 [label=\"gini = 0.082\\\\nsamples = 117\\\\nvalue = [112, 5]\"] ;\\n97 -> 98 ;\\n99 [label=\"gini = 0.32\\\\nsamples = 10\\\\nvalue = [8, 2]\"] ;\\n97 -> 99 ;\\n100 [label=\"hhs_geo_region <= 3.0\\\\ngini = 0.375\\\\nsamples = 4\\\\nvalue = [3, 1]\"] ;\\n92 -> 100 ;\\n101 [label=\"gini = 0.0\\\\nsamples = 1\\\\nvalue = [0, 1]\"] ;\\n100 -> 101 ;\\n102 [label=\"gini = 0.0\\\\nsamples = 3\\\\nvalue = [3, 0]\"] ;\\n100 -> 102 ;\\n103 [label=\"sex <= 0.5\\\\ngini = 0.444\\\\nsamples = 3\\\\nvalue = [2, 1]\"] ;\\n91 -> 103 ;\\n104 [label=\"gini = 0.0\\\\nsamples = 1\\\\nvalue = [0, 1]\"] ;\\n103 -> 104 ;\\n105 [label=\"gini = 0.0\\\\nsamples = 2\\\\nvalue = [2, 0]\"] ;\\n103 -> 105 ;\\n106 [label=\"sex <= 0.5\\\\ngini = 0.12\\\\nsamples = 344\\\\nvalue = [322, 22]\"] ;\\n90 -> 106 ;\\n107 [label=\"hhs_geo_region <= 1.5\\\\ngini = 0.077\\\\nsamples = 224\\\\nvalue = [215, 9]\"] ;\\n106 -> 107 ;\\n108 [label=\"opinion_h1n1_vacc_effective <= 2.5\\\\ngini = 0.18\\\\nsamples = 40\\\\nvalue = [36, 4]\"] ;\\n107 -> 108 ;\\n109 [label=\"gini = 0.0\\\\nsamples = 19\\\\nvalue = [19, 0]\"] ;\\n108 -> 109 ;\\n110 [label=\"opinion_seas_vacc_effective <= 0.5\\\\ngini = 0.308\\\\nsamples = 21\\\\nvalue = [17, 4]\"] ;\\n108 -> 110 ;\\n111 [label=\"gini = 0.0\\\\nsamples = 1\\\\nvalue = [0, 1]\"] ;\\n110 -> 111 ;\\n112 [label=\"gini = 0.255\\\\nsamples = 20\\\\nvalue = [17, 3]\"] ;\\n110 -> 112 ;\\n113 [label=\"hhs_geo_region <= 4.5\\\\ngini = 0.053\\\\nsamples = 184\\\\nvalue = [179, 5]\"] ;\\n107 -> 113 ;\\n114 [label=\"gini = 0.0\\\\nsamples = 73\\\\nvalue = [73, 0]\"] ;\\n113 -> 114 ;\\n115 [label=\"hhs_geo_region <= 6.5\\\\ngini = 0.086\\\\nsamples = 111\\\\nvalue = [106, 5]\"] ;\\n113 -> 115 ;\\n116 [label=\"gini = 0.168\\\\nsamples = 54\\\\nvalue = [49, 5]\"] ;\\n115 -> 116 ;\\n117 [label=\"gini = 0.0\\\\nsamples = 57\\\\nvalue = [57, 0]\"] ;\\n115 -> 117 ;\\n118 [label=\"behavioral_touch_face <= 1.5\\\\ngini = 0.193\\\\nsamples = 120\\\\nvalue = [107, 13]\"] ;\\n106 -> 118 ;\\n119 [label=\"opinion_seas_vacc_effective <= 2.5\\\\ngini = 0.181\\\\nsamples = 119\\\\nvalue = [107, 12]\"] ;\\n118 -> 119 ;\\n120 [label=\"h1n1_concern <= 0.5\\\\ngini = 0.325\\\\nsamples = 44\\\\nvalue = [35, 9]\"] ;\\n119 -> 120 ;\\n121 [label=\"gini = 0.087\\\\nsamples = 22\\\\nvalue = [21, 1]\"] ;\\n120 -> 121 ;\\n122 [label=\"gini = 0.463\\\\nsamples = 22\\\\nvalue = [14, 8]\"] ;\\n120 -> 122 ;\\n123 [label=\"chronic_med_condition <= 1.5\\\\ngini = 0.077\\\\nsamples = 75\\\\nvalue = [72, 3]\"] ;\\n119 -> 123 ;\\n124 [label=\"gini = 0.053\\\\nsamples = 74\\\\nvalue = [72, 2]\"] ;\\n123 -> 124 ;\\n125 [label=\"gini = 0.0\\\\nsamples = 1\\\\nvalue = [0, 1]\"] ;\\n123 -> 125 ;\\n126 [label=\"gini = 0.0\\\\nsamples = 1\\\\nvalue = [0, 1]\"] ;\\n118 -> 126 ;\\n127 [label=\"h1n1_knowledge <= 2.5\\\\ngini = 0.145\\\\nsamples = 304\\\\nvalue = [280, 24]\"] ;\\n89 -> 127 ;\\n128 [label=\"education <= 3.5\\\\ngini = 0.14\\\\nsamples = 303\\\\nvalue = [280, 23]\"] ;\\n127 -> 128 ;\\n129 [label=\"behavioral_antiviral_meds <= 0.5\\\\ngini = 0.131\\\\nsamples = 299\\\\nvalue = [278, 21]\"] ;\\n128 -> 129 ;\\n130 [label=\"race <= 2.5\\\\ngini = 0.119\\\\nsamples = 283\\\\nvalue = [265, 18]\"] ;\\n129 -> 130 ;\\n131 [label=\"hhs_geo_region <= 1.5\\\\ngini = 0.226\\\\nsamples = 54\\\\nvalue = [47, 7]\"] ;\\n130 -> 131 ;\\n132 [label=\"gini = 0.5\\\\nsamples = 4\\\\nvalue = [2, 2]\"] ;\\n131 -> 132 ;\\n133 [label=\"gini = 0.18\\\\nsamples = 50\\\\nvalue = [45, 5]\"] ;\\n131 -> 133 ;\\n134 [label=\"hhs_geo_region <= 7.5\\\\ngini = 0.091\\\\nsamples = 229\\\\nvalue = [218, 11]\"] ;\\n130 -> 134 ;\\n135 [label=\"gini = 0.056\\\\nsamples = 172\\\\nvalue = [167, 5]\"] ;\\n134 -> 135 ;\\n136 [label=\"gini = 0.188\\\\nsamples = 57\\\\nvalue = [51, 6]\"] ;\\n134 -> 136 ;\\n137 [label=\"opinion_seas_sick_from_vacc <= 2.0\\\\ngini = 0.305\\\\nsamples = 16\\\\nvalue = [13, 3]\"] ;\\n129 -> 137 ;\\n138 [label=\"hhs_geo_region <= 1.0\\\\ngini = 0.231\\\\nsamples = 15\\\\nvalue = [13, 2]\"] ;\\n137 -> 138 ;\\n139 [label=\"gini = 0.0\\\\nsamples = 1\\\\nvalue = [0, 1]\"] ;\\n138 -> 139 ;\\n140 [label=\"gini = 0.133\\\\nsamples = 14\\\\nvalue = [13, 1]\"] ;\\n138 -> 140 ;\\n141 [label=\"gini = 0.0\\\\nsamples = 1\\\\nvalue = [0, 1]\"] ;\\n137 -> 141 ;\\n142 [label=\"household_adults <= 0.5\\\\ngini = 0.5\\\\nsamples = 4\\\\nvalue = [2, 2]\"] ;\\n128 -> 142 ;\\n143 [label=\"gini = 0.0\\\\nsamples = 2\\\\nvalue = [0, 2]\"] ;\\n142 -> 143 ;\\n144 [label=\"gini = 0.0\\\\nsamples = 2\\\\nvalue = [2, 0]\"] ;\\n142 -> 144 ;\\n145 [label=\"gini = 0.0\\\\nsamples = 1\\\\nvalue = [0, 1]\"] ;\\n127 -> 145 ;\\n146 [label=\"health_worker <= 0.5\\\\ngini = 0.2\\\\nsamples = 4551\\\\nvalue = [4037, 514]\"] ;\\n4 -> 146 ;\\n147 [label=\"opinion_h1n1_vacc_effective <= 1.5\\\\ngini = 0.184\\\\nsamples = 4183\\\\nvalue = [3753, 430]\"] ;\\n146 -> 147 ;\\n148 [label=\"employment_occupation <= 3.5\\\\ngini = 0.041\\\\nsamples = 527\\\\nvalue = [516, 11]\"] ;\\n147 -> 148 ;\\n149 [label=\"behavioral_large_gatherings <= 0.5\\\\ngini = 0.255\\\\nsamples = 20\\\\nvalue = [17, 3]\"] ;\\n148 -> 149 ;\\n150 [label=\"opinion_seas_vacc_effective <= 0.5\\\\ngini = 0.111\\\\nsamples = 17\\\\nvalue = [16, 1]\"] ;\\n149 -> 150 ;\\n151 [label=\"age_group <= 0.5\\\\ngini = 0.5\\\\nsamples = 2\\\\nvalue = [1, 1]\"] ;\\n150 -> 151 ;\\n152 [label=\"gini = 0.0\\\\nsamples = 1\\\\nvalue = [1, 0]\"] ;\\n151 -> 152 ;\\n153 [label=\"gini = 0.0\\\\nsamples = 1\\\\nvalue = [0, 1]\"] ;\\n151 -> 153 ;\\n154 [label=\"gini = 0.0\\\\nsamples = 15\\\\nvalue = [15, 0]\"] ;\\n150 -> 154 ;\\n155 [label=\"hhs_geo_region <= 7.5\\\\ngini = 0.444\\\\nsamples = 3\\\\nvalue = [1, 2]\"] ;\\n149 -> 155 ;\\n156 [label=\"gini = 0.0\\\\nsamples = 2\\\\nvalue = [0, 2]\"] ;\\n155 -> 156 ;\\n157 [label=\"gini = 0.0\\\\nsamples = 1\\\\nvalue = [1, 0]\"] ;\\n155 -> 157 ;\\n158 [label=\"education <= 3.5\\\\ngini = 0.031\\\\nsamples = 507\\\\nvalue = [499, 8]\"] ;\\n148 -> 158 ;\\n159 [label=\"chronic_med_condition <= 1.5\\\\ngini = 0.027\\\\nsamples = 502\\\\nvalue = [495, 7]\"] ;\\n158 -> 159 ;\\n160 [label=\"behavioral_wash_hands <= 0.5\\\\ngini = 0.024\\\\nsamples = 497\\\\nvalue = [491, 6]\"] ;\\n159 -> 160 ;\\n161 [label=\"chronic_med_condition <= 0.5\\\\ngini = 0.069\\\\nsamples = 111\\\\nvalue = [107, 4]\"] ;\\n160 -> 161 ;\\n162 [label=\"rent_or_own <= 1.5\\\\ngini = 0.023\\\\nsamples = 87\\\\nvalue = [86, 1]\"] ;\\n161 -> 162 ;\\n163 [label=\"gini = 0.0\\\\nsamples = 82\\\\nvalue = [82, 0]\"] ;\\n162 -> 163 ;\\n164 [label=\"gini = 0.32\\\\nsamples = 5\\\\nvalue = [4, 1]\"] ;\\n162 -> 164 ;\\n165 [label=\"household_children <= 2.5\\\\ngini = 0.219\\\\nsamples = 24\\\\nvalue = [21, 3]\"] ;\\n161 -> 165 ;\\n166 [label=\"gini = 0.159\\\\nsamples = 23\\\\nvalue = [21, 2]\"] ;\\n165 -> 166 ;\\n167 [label=\"gini = 0.0\\\\nsamples = 1\\\\nvalue = [0, 1]\"] ;\\n165 -> 167 ;\\n168 [label=\"opinion_h1n1_risk <= 1.5\\\\ngini = 0.01\\\\nsamples = 386\\\\nvalue = [384, 2]\"] ;\\n160 -> 168 ;\\n169 [label=\"race <= 0.5\\\\ngini = 0.005\\\\nsamples = 376\\\\nvalue = [375, 1]\"] ;\\n168 -> 169 ;\\n170 [label=\"gini = 0.056\\\\nsamples = 35\\\\nvalue = [34, 1]\"] ;\\n169 -> 170 ;\\n171 [label=\"gini = 0.0\\\\nsamples = 341\\\\nvalue = [341, 0]\"] ;\\n169 -> 171 ;\\n172 [label=\"household_children <= 1.5\\\\ngini = 0.18\\\\nsamples = 10\\\\nvalue = [9, 1]\"] ;\\n168 -> 172 ;\\n173 [label=\"gini = 0.0\\\\nsamples = 8\\\\nvalue = [8, 0]\"] ;\\n172 -> 173 ;\\n174 [label=\"gini = 0.5\\\\nsamples = 2\\\\nvalue = [1, 1]\"] ;\\n172 -> 174 ;\\n175 [label=\"employment_occupation <= 15.5\\\\ngini = 0.32\\\\nsamples = 5\\\\nvalue = [4, 1]\"] ;\\n159 -> 175 ;\\n176 [label=\"gini = 0.0\\\\nsamples = 4\\\\nvalue = [4, 0]\"] ;\\n175 -> 176 ;\\n177 [label=\"gini = 0.0\\\\nsamples = 1\\\\nvalue = [0, 1]\"] ;\\n175 -> 177 ;\\n178 [label=\"employment_occupation <= 16.5\\\\ngini = 0.32\\\\nsamples = 5\\\\nvalue = [4, 1]\"] ;\\n158 -> 178 ;\\n179 [label=\"gini = 0.0\\\\nsamples = 4\\\\nvalue = [4, 0]\"] ;\\n178 -> 179 ;\\n180 [label=\"gini = 0.0\\\\nsamples = 1\\\\nvalue = [0, 1]\"] ;\\n178 -> 180 ;\\n181 [label=\"age_group <= 3.5\\\\ngini = 0.203\\\\nsamples = 3656\\\\nvalue = [3237, 419]\"] ;\\n147 -> 181 ;\\n182 [label=\"employment_occupation <= 4.5\\\\ngini = 0.176\\\\nsamples = 2580\\\\nvalue = [2329, 251]\"] ;\\n181 -> 182 ;\\n183 [label=\"employment_occupation <= 2.5\\\\ngini = 0.296\\\\nsamples = 177\\\\nvalue = [145, 32]\"] ;\\n182 -> 183 ;\\n184 [label=\"hhs_geo_region <= 1.5\\\\ngini = 0.182\\\\nsamples = 138\\\\nvalue = [124, 14]\"] ;\\n183 -> 184 ;\\n185 [label=\"income_poverty <= 2.0\\\\ngini = 0.408\\\\nsamples = 21\\\\nvalue = [15, 6]\"] ;\\n184 -> 185 ;\\n186 [label=\"opinion_seas_risk <= 2.0\\\\ngini = 0.332\\\\nsamples = 19\\\\nvalue = [15, 4]\"] ;\\n185 -> 186 ;\\n187 [label=\"gini = 0.0\\\\nsamples = 10\\\\nvalue = [10, 0]\"] ;\\n186 -> 187 ;\\n188 [label=\"gini = 0.494\\\\nsamples = 9\\\\nvalue = [5, 4]\"] ;\\n186 -> 188 ;\\n189 [label=\"gini = 0.0\\\\nsamples = 2\\\\nvalue = [0, 2]\"] ;\\n185 -> 189 ;\\n190 [label=\"employment_industry <= 19.5\\\\ngini = 0.127\\\\nsamples = 117\\\\nvalue = [109, 8]\"] ;\\n184 -> 190 ;\\n191 [label=\"income_poverty <= 0.5\\\\ngini = 0.087\\\\nsamples = 110\\\\nvalue = [105, 5]\"] ;\\n190 -> 191 ;\\n192 [label=\"gini = 0.0\\\\nsamples = 51\\\\nvalue = [51, 0]\"] ;\\n191 -> 192 ;\\n193 [label=\"gini = 0.155\\\\nsamples = 59\\\\nvalue = [54, 5]\"] ;\\n191 -> 193 ;\\n194 [label=\"h1n1_knowledge <= 1.5\\\\ngini = 0.49\\\\nsamples = 7\\\\nvalue = [4, 3]\"] ;\\n190 -> 194 ;\\n195 [label=\"gini = 0.32\\\\nsamples = 5\\\\nvalue = [4, 1]\"] ;\\n194 -> 195 ;\\n196 [label=\"gini = 0.0\\\\nsamples = 2\\\\nvalue = [0, 2]\"] ;\\n194 -> 196 ;\\n197 [label=\"age_group <= 0.5\\\\ngini = 0.497\\\\nsamples = 39\\\\nvalue = [21, 18]\"] ;\\n183 -> 197 ;\\n198 [label=\"behavioral_touch_face <= 0.5\\\\ngini = 0.401\\\\nsamples = 18\\\\nvalue = [5, 13]\"] ;\\n197 -> 198 ;\\n199 [label=\"health_insurance <= 0.5\\\\ngini = 0.165\\\\nsamples = 11\\\\nvalue = [1, 10]\"] ;\\n198 -> 199 ;\\n200 [label=\"gini = 0.0\\\\nsamples = 1\\\\nvalue = [1, 0]\"] ;\\n199 -> 200 ;\\n201 [label=\"gini = 0.0\\\\nsamples = 10\\\\nvalue = [0, 10]\"] ;\\n199 -> 201 ;\\n202 [label=\"marital_status <= 0.5\\\\ngini = 0.49\\\\nsamples = 7\\\\nvalue = [4, 3]\"] ;\\n198 -> 202 ;\\n203 [label=\"gini = 0.375\\\\nsamples = 4\\\\nvalue = [1, 3]\"] ;\\n202 -> 203 ;\\n204 [label=\"gini = 0.0\\\\nsamples = 3\\\\nvalue = [3, 0]\"] ;\\n202 -> 204 ;\\n205 [label=\"education <= 2.5\\\\ngini = 0.363\\\\nsamples = 21\\\\nvalue = [16, 5]\"] ;\\n197 -> 205 ;\\n206 [label=\"sex <= 0.5\\\\ngini = 0.496\\\\nsamples = 11\\\\nvalue = [6, 5]\"] ;\\n205 -> 206 ;\\n207 [label=\"gini = 0.0\\\\nsamples = 4\\\\nvalue = [4, 0]\"] ;\\n206 -> 207 ;\\n208 [label=\"gini = 0.408\\\\nsamples = 7\\\\nvalue = [2, 5]\"] ;\\n206 -> 208 ;\\n209 [label=\"gini = 0.0\\\\nsamples = 10\\\\nvalue = [10, 0]\"] ;\\n205 -> 209 ;\\n210 [label=\"opinion_seas_risk <= 1.5\\\\ngini = 0.166\\\\nsamples = 2403\\\\nvalue = [2184, 219]\"] ;\\n182 -> 210 ;\\n211 [label=\"h1n1_concern <= 3.5\\\\ngini = 0.141\\\\nsamples = 1591\\\\nvalue = [1470, 121]\"] ;\\n210 -> 211 ;\\n212 [label=\"opinion_seas_sick_from_vacc <= 2.0\\\\ngini = 0.14\\\\nsamples = 1590\\\\nvalue = [1470, 120]\"] ;\\n211 -> 212 ;\\n213 [label=\"income_poverty <= 2.5\\\\ngini = 0.155\\\\nsamples = 1276\\\\nvalue = [1168, 108]\"] ;\\n212 -> 213 ;\\n214 [label=\"gini = 0.146\\\\nsamples = 1164\\\\nvalue = [1072, 92]\"] ;\\n213 -> 214 ;\\n215 [label=\"gini = 0.245\\\\nsamples = 112\\\\nvalue = [96, 16]\"] ;\\n213 -> 215 ;\\n216 [label=\"behavioral_antiviral_meds <= 1.5\\\\ngini = 0.074\\\\nsamples = 314\\\\nvalue = [302, 12]\"] ;\\n212 -> 216 ;\\n217 [label=\"gini = 0.068\\\\nsamples = 313\\\\nvalue = [302, 11]\"] ;\\n216 -> 217 ;\\n218 [label=\"gini = 0.0\\\\nsamples = 1\\\\nvalue = [0, 1]\"] ;\\n216 -> 218 ;\\n219 [label=\"gini = 0.0\\\\nsamples = 1\\\\nvalue = [0, 1]\"] ;\\n211 -> 219 ;\\n220 [label=\"behavioral_antiviral_meds <= 1.5\\\\ngini = 0.212\\\\nsamples = 812\\\\nvalue = [714, 98]\"] ;\\n210 -> 220 ;\\n221 [label=\"age_group <= 1.5\\\\ngini = 0.209\\\\nsamples = 809\\\\nvalue = [713, 96]\"] ;\\n220 -> 221 ;\\n222 [label=\"behavioral_outside_home <= 1.5\\\\ngini = 0.147\\\\nsamples = 326\\\\nvalue = [300, 26]\"] ;\\n221 -> 222 ;\\n223 [label=\"gini = 0.142\\\\nsamples = 325\\\\nvalue = [300, 25]\"] ;\\n222 -> 223 ;\\n224 [label=\"gini = 0.0\\\\nsamples = 1\\\\nvalue = [0, 1]\"] ;\\n222 -> 224 ;\\n225 [label=\"behavioral_outside_home <= 0.5\\\\ngini = 0.248\\\\nsamples = 483\\\\nvalue = [413, 70]\"] ;\\n221 -> 225 ;\\n226 [label=\"gini = 0.29\\\\nsamples = 330\\\\nvalue = [272, 58]\"] ;\\n225 -> 226 ;\\n227 [label=\"gini = 0.145\\\\nsamples = 153\\\\nvalue = [141, 12]\"] ;\\n225 -> 227 ;\\n228 [label=\"employment_occupation <= 9.5\\\\ngini = 0.444\\\\nsamples = 3\\\\nvalue = [1, 2]\"] ;\\n220 -> 228 ;\\n229 [label=\"gini = 0.0\\\\nsamples = 1\\\\nvalue = [1, 0]\"] ;\\n228 -> 229 ;\\n230 [label=\"gini = 0.0\\\\nsamples = 2\\\\nvalue = [0, 2]\"] ;\\n228 -> 230 ;\\n231 [label=\"doctor_recc_seasonal <= 0.5\\\\ngini = 0.264\\\\nsamples = 1076\\\\nvalue = [908, 168]\"] ;\\n181 -> 231 ;\\n232 [label=\"opinion_h1n1_risk <= 0.5\\\\ngini = 0.324\\\\nsamples = 663\\\\nvalue = [528, 135]\"] ;\\n231 -> 232 ;\\n233 [label=\"opinion_h1n1_sick_from_vacc <= 3.5\\\\ngini = 0.191\\\\nsamples = 224\\\\nvalue = [200, 24]\"] ;\\n232 -> 233 ;\\n234 [label=\"h1n1_concern <= 1.5\\\\ngini = 0.179\\\\nsamples = 221\\\\nvalue = [199, 22]\"] ;\\n233 -> 234 ;\\n235 [label=\"rent_or_own <= 1.5\\\\ngini = 0.14\\\\nsamples = 159\\\\nvalue = [147, 12]\"] ;\\n234 -> 235 ;\\n236 [label=\"gini = 0.121\\\\nsamples = 155\\\\nvalue = [145, 10]\"] ;\\n235 -> 236 ;\\n237 [label=\"gini = 0.5\\\\nsamples = 4\\\\nvalue = [2, 2]\"] ;\\n235 -> 237 ;\\n238 [label=\"household_children <= 1.5\\\\ngini = 0.271\\\\nsamples = 62\\\\nvalue = [52, 10]\"] ;\\n234 -> 238 ;\\n239 [label=\"gini = 0.252\\\\nsamples = 61\\\\nvalue = [52, 9]\"] ;\\n238 -> 239 ;\\n240 [label=\"gini = 0.0\\\\nsamples = 1\\\\nvalue = [0, 1]\"] ;\\n238 -> 240 ;\\n241 [label=\"census_msa <= 0.5\\\\ngini = 0.444\\\\nsamples = 3\\\\nvalue = [1, 2]\"] ;\\n233 -> 241 ;\\n242 [label=\"gini = 0.0\\\\nsamples = 1\\\\nvalue = [1, 0]\"] ;\\n241 -> 242 ;\\n243 [label=\"gini = 0.0\\\\nsamples = 2\\\\nvalue = [0, 2]\"] ;\\n241 -> 243 ;\\n244 [label=\"sex <= 0.5\\\\ngini = 0.378\\\\nsamples = 439\\\\nvalue = [328, 111]\"] ;\\n232 -> 244 ;\\n245 [label=\"opinion_h1n1_sick_from_vacc <= 0.5\\\\ngini = 0.301\\\\nsamples = 282\\\\nvalue = [230, 52]\"] ;\\n244 -> 245 ;\\n246 [label=\"opinion_seas_risk <= 3.5\\\\ngini = 0.41\\\\nsamples = 59\\\\nvalue = [42, 17]\"] ;\\n245 -> 246 ;\\n247 [label=\"gini = 0.375\\\\nsamples = 56\\\\nvalue = [42, 14]\"] ;\\n246 -> 247 ;\\n248 [label=\"gini = 0.0\\\\nsamples = 3\\\\nvalue = [0, 3]\"] ;\\n246 -> 248 ;\\n249 [label=\"opinion_h1n1_sick_from_vacc <= 2.5\\\\ngini = 0.265\\\\nsamples = 223\\\\nvalue = [188, 35]\"] ;\\n245 -> 249 ;\\n250 [label=\"gini = 0.195\\\\nsamples = 137\\\\nvalue = [122, 15]\"] ;\\n249 -> 250 ;\\n251 [label=\"gini = 0.357\\\\nsamples = 86\\\\nvalue = [66, 20]\"] ;\\n249 -> 251 ;\\n252 [label=\"h1n1_knowledge <= 1.5\\\\ngini = 0.469\\\\nsamples = 157\\\\nvalue = [98, 59]\"] ;\\n244 -> 252 ;\\n253 [label=\"income_poverty <= 2.5\\\\ngini = 0.439\\\\nsamples = 132\\\\nvalue = [89, 43]\"] ;\\n252 -> 253 ;\\n254 [label=\"gini = 0.403\\\\nsamples = 111\\\\nvalue = [80, 31]\"] ;\\n253 -> 254 ;\\n255 [label=\"gini = 0.49\\\\nsamples = 21\\\\nvalue = [9, 12]\"] ;\\n253 -> 255 ;\\n256 [label=\"hhs_geo_region <= 6.5\\\\ngini = 0.461\\\\nsamples = 25\\\\nvalue = [9, 16]\"] ;\\n252 -> 256 ;\\n257 [label=\"gini = 0.48\\\\nsamples = 15\\\\nvalue = [9, 6]\"] ;\\n256 -> 257 ;\\n258 [label=\"gini = 0.0\\\\nsamples = 10\\\\nvalue = [0, 10]\"] ;\\n256 -> 258 ;\\n259 [label=\"employment_occupation <= 21.0\\\\ngini = 0.147\\\\nsamples = 413\\\\nvalue = [380, 33]\"] ;\\n231 -> 259 ;\\n260 [label=\"employment_industry <= 0.5\\\\ngini = 0.14\\\\nsamples = 408\\\\nvalue = [377, 31]\"] ;\\n259 -> 260 ;\\n261 [label=\"employment_occupation <= 8.5\\\\ngini = 0.5\\\\nsamples = 2\\\\nvalue = [1, 1]\"] ;\\n260 -> 261 ;\\n262 [label=\"gini = 0.0\\\\nsamples = 1\\\\nvalue = [1, 0]\"] ;\\n261 -> 262 ;\\n263 [label=\"gini = 0.0\\\\nsamples = 1\\\\nvalue = [0, 1]\"] ;\\n261 -> 263 ;\\n264 [label=\"employment_industry <= 20.5\\\\ngini = 0.137\\\\nsamples = 406\\\\nvalue = [376, 30]\"] ;\\n260 -> 264 ;\\n265 [label=\"behavioral_outside_home <= 0.5\\\\ngini = 0.133\\\\nsamples = 404\\\\nvalue = [375, 29]\"] ;\\n264 -> 265 ;\\n266 [label=\"gini = 0.091\\\\nsamples = 250\\\\nvalue = [238, 12]\"] ;\\n265 -> 266 ;\\n267 [label=\"gini = 0.196\\\\nsamples = 154\\\\nvalue = [137, 17]\"] ;\\n265 -> 267 ;\\n268 [label=\"income_poverty <= 0.5\\\\ngini = 0.5\\\\nsamples = 2\\\\nvalue = [1, 1]\"] ;\\n264 -> 268 ;\\n269 [label=\"gini = 0.0\\\\nsamples = 1\\\\nvalue = [1, 0]\"] ;\\n268 -> 269 ;\\n270 [label=\"gini = 0.0\\\\nsamples = 1\\\\nvalue = [0, 1]\"] ;\\n268 -> 270 ;\\n271 [label=\"h1n1_concern <= 1.5\\\\ngini = 0.48\\\\nsamples = 5\\\\nvalue = [3, 2]\"] ;\\n259 -> 271 ;\\n272 [label=\"gini = 0.0\\\\nsamples = 3\\\\nvalue = [3, 0]\"] ;\\n271 -> 272 ;\\n273 [label=\"gini = 0.0\\\\nsamples = 2\\\\nvalue = [0, 2]\"] ;\\n271 -> 273 ;\\n274 [label=\"doctor_recc_seasonal <= 0.5\\\\ngini = 0.352\\\\nsamples = 368\\\\nvalue = [284, 84]\"] ;\\n146 -> 274 ;\\n275 [label=\"age_group <= 2.5\\\\ngini = 0.385\\\\nsamples = 288\\\\nvalue = [213, 75]\"] ;\\n274 -> 275 ;\\n276 [label=\"opinion_seas_sick_from_vacc <= 0.5\\\\ngini = 0.329\\\\nsamples = 193\\\\nvalue = [153, 40]\"] ;\\n275 -> 276 ;\\n277 [label=\"behavioral_large_gatherings <= 0.5\\\\ngini = 0.404\\\\nsamples = 82\\\\nvalue = [59, 23]\"] ;\\n276 -> 277 ;\\n278 [label=\"sex <= 0.5\\\\ngini = 0.338\\\\nsamples = 65\\\\nvalue = [51, 14]\"] ;\\n277 -> 278 ;\\n279 [label=\"household_children <= 2.5\\\\ngini = 0.193\\\\nsamples = 37\\\\nvalue = [33, 4]\"] ;\\n278 -> 279 ;\\n280 [label=\"behavioral_avoidance <= 0.5\\\\ngini = 0.117\\\\nsamples = 32\\\\nvalue = [30, 2]\"] ;\\n279 -> 280 ;\\n281 [label=\"gini = 0.375\\\\nsamples = 8\\\\nvalue = [6, 2]\"] ;\\n280 -> 281 ;\\n282 [label=\"gini = 0.0\\\\nsamples = 24\\\\nvalue = [24, 0]\"] ;\\n280 -> 282 ;\\n283 [label=\"hhs_geo_region <= 7.5\\\\ngini = 0.48\\\\nsamples = 5\\\\nvalue = [3, 2]\"] ;\\n279 -> 283 ;\\n284 [label=\"gini = 0.0\\\\nsamples = 3\\\\nvalue = [3, 0]\"] ;\\n283 -> 284 ;\\n285 [label=\"gini = 0.0\\\\nsamples = 2\\\\nvalue = [0, 2]\"] ;\\n283 -> 285 ;\\n286 [label=\"behavioral_avoidance <= 0.5\\\\ngini = 0.459\\\\nsamples = 28\\\\nvalue = [18, 10]\"] ;\\n278 -> 286 ;\\n287 [label=\"hhs_geo_region <= 4.0\\\\ngini = 0.332\\\\nsamples = 19\\\\nvalue = [15, 4]\"] ;\\n286 -> 287 ;\\n288 [label=\"gini = 0.49\\\\nsamples = 7\\\\nvalue = [3, 4]\"] ;\\n287 -> 288 ;\\n289 [label=\"gini = 0.0\\\\nsamples = 12\\\\nvalue = [12, 0]\"] ;\\n287 -> 289 ;\\n290 [label=\"income_poverty <= 0.5\\\\ngini = 0.444\\\\nsamples = 9\\\\nvalue = [3, 6]\"] ;\\n286 -> 290 ;\\n291 [label=\"gini = 0.0\\\\nsamples = 4\\\\nvalue = [0, 4]\"] ;\\n290 -> 291 ;\\n292 [label=\"gini = 0.48\\\\nsamples = 5\\\\nvalue = [3, 2]\"] ;\\n290 -> 292 ;\\n293 [label=\"race <= 0.5\\\\ngini = 0.498\\\\nsamples = 17\\\\nvalue = [8, 9]\"] ;\\n277 -> 293 ;\\n294 [label=\"gini = 0.0\\\\nsamples = 3\\\\nvalue = [3, 0]\"] ;\\n293 -> 294 ;\\n295 [label=\"employment_occupation <= 10.5\\\\ngini = 0.459\\\\nsamples = 14\\\\nvalue = [5, 9]\"] ;\\n293 -> 295 ;\\n296 [label=\"opinion_seas_vacc_effective <= 2.0\\\\ngini = 0.375\\\\nsamples = 12\\\\nvalue = [3, 9]\"] ;\\n295 -> 296 ;\\n297 [label=\"gini = 0.444\\\\nsamples = 3\\\\nvalue = [2, 1]\"] ;\\n296 -> 297 ;\\n298 [label=\"gini = 0.198\\\\nsamples = 9\\\\nvalue = [1, 8]\"] ;\\n296 -> 298 ;\\n299 [label=\"gini = 0.0\\\\nsamples = 2\\\\nvalue = [2, 0]\"] ;\\n295 -> 299 ;\\n300 [label=\"h1n1_concern <= 2.5\\\\ngini = 0.259\\\\nsamples = 111\\\\nvalue = [94, 17]\"] ;\\n276 -> 300 ;\\n301 [label=\"behavioral_avoidance <= 0.5\\\\ngini = 0.222\\\\nsamples = 102\\\\nvalue = [89, 13]\"] ;\\n300 -> 301 ;\\n302 [label=\"hhs_geo_region <= 1.5\\\\ngini = 0.403\\\\nsamples = 25\\\\nvalue = [18, 7]\"] ;\\n301 -> 302 ;\\n303 [label=\"household_children <= 0.5\\\\ngini = 0.444\\\\nsamples = 6\\\\nvalue = [2, 4]\"] ;\\n302 -> 303 ;\\n304 [label=\"gini = 0.0\\\\nsamples = 4\\\\nvalue = [0, 4]\"] ;\\n303 -> 304 ;\\n305 [label=\"gini = 0.0\\\\nsamples = 2\\\\nvalue = [2, 0]\"] ;\\n303 -> 305 ;\\n306 [label=\"employment_industry <= 2.0\\\\ngini = 0.266\\\\nsamples = 19\\\\nvalue = [16, 3]\"] ;\\n302 -> 306 ;\\n307 [label=\"gini = 0.0\\\\nsamples = 1\\\\nvalue = [0, 1]\"] ;\\n306 -> 307 ;\\n308 [label=\"gini = 0.198\\\\nsamples = 18\\\\nvalue = [16, 2]\"] ;\\n306 -> 308 ;\\n309 [label=\"employment_occupation <= 1.0\\\\ngini = 0.144\\\\nsamples = 77\\\\nvalue = [71, 6]\"] ;\\n301 -> 309 ;\\n310 [label=\"gini = 0.0\\\\nsamples = 1\\\\nvalue = [0, 1]\"] ;\\n309 -> 310 ;\\n311 [label=\"opinion_seas_vacc_effective <= 0.5\\\\ngini = 0.123\\\\nsamples = 76\\\\nvalue = [71, 5]\"] ;\\n309 -> 311 ;\\n312 [label=\"gini = 0.0\\\\nsamples = 1\\\\nvalue = [0, 1]\"] ;\\n311 -> 312 ;\\n313 [label=\"gini = 0.101\\\\nsamples = 75\\\\nvalue = [71, 4]\"] ;\\n311 -> 313 ;\\n314 [label=\"behavioral_large_gatherings <= 0.5\\\\ngini = 0.494\\\\nsamples = 9\\\\nvalue = [5, 4]\"] ;\\n300 -> 314 ;\\n315 [label=\"gini = 0.0\\\\nsamples = 4\\\\nvalue = [4, 0]\"] ;\\n314 -> 315 ;\\n316 [label=\"h1n1_knowledge <= 1.5\\\\ngini = 0.32\\\\nsamples = 5\\\\nvalue = [1, 4]\"] ;\\n314 -> 316 ;\\n317 [label=\"gini = 0.0\\\\nsamples = 4\\\\nvalue = [0, 4]\"] ;\\n316 -> 317 ;\\n318 [label=\"gini = 0.0\\\\nsamples = 1\\\\nvalue = [1, 0]\"] ;\\n316 -> 318 ;\\n319 [label=\"behavioral_large_gatherings <= 0.5\\\\ngini = 0.465\\\\nsamples = 95\\\\nvalue = [60, 35]\"] ;\\n275 -> 319 ;\\n320 [label=\"opinion_h1n1_risk <= 1.5\\\\ngini = 0.495\\\\nsamples = 71\\\\nvalue = [39, 32]\"] ;\\n319 -> 320 ;\\n321 [label=\"rent_or_own <= 0.5\\\\ngini = 0.483\\\\nsamples = 66\\\\nvalue = [39, 27]\"] ;\\n320 -> 321 ;\\n322 [label=\"hhs_geo_region <= 7.5\\\\ngini = 0.444\\\\nsamples = 54\\\\nvalue = [36, 18]\"] ;\\n321 -> 322 ;\\n323 [label=\"opinion_h1n1_vacc_effective <= 2.5\\\\ngini = 0.375\\\\nsamples = 40\\\\nvalue = [30, 10]\"] ;\\n322 -> 323 ;\\n324 [label=\"gini = 0.124\\\\nsamples = 15\\\\nvalue = [14, 1]\"] ;\\n323 -> 324 ;\\n325 [label=\"gini = 0.461\\\\nsamples = 25\\\\nvalue = [16, 9]\"] ;\\n323 -> 325 ;\\n326 [label=\"income_poverty <= 0.5\\\\ngini = 0.49\\\\nsamples = 14\\\\nvalue = [6, 8]\"] ;\\n322 -> 326 ;\\n327 [label=\"gini = 0.346\\\\nsamples = 9\\\\nvalue = [2, 7]\"] ;\\n326 -> 327 ;\\n328 [label=\"gini = 0.32\\\\nsamples = 5\\\\nvalue = [4, 1]\"] ;\\n326 -> 328 ;\\n329 [label=\"education <= 0.5\\\\ngini = 0.375\\\\nsamples = 12\\\\nvalue = [3, 9]\"] ;\\n321 -> 329 ;\\n330 [label=\"hhs_geo_region <= 4.5\\\\ngini = 0.375\\\\nsamples = 4\\\\nvalue = [3, 1]\"] ;\\n329 -> 330 ;\\n331 [label=\"gini = 0.0\\\\nsamples = 1\\\\nvalue = [0, 1]\"] ;\\n330 -> 331 ;\\n332 [label=\"gini = 0.0\\\\nsamples = 3\\\\nvalue = [3, 0]\"] ;\\n330 -> 332 ;\\n333 [label=\"gini = 0.0\\\\nsamples = 8\\\\nvalue = [0, 8]\"] ;\\n329 -> 333 ;\\n334 [label=\"gini = 0.0\\\\nsamples = 5\\\\nvalue = [0, 5]\"] ;\\n320 -> 334 ;\\n335 [label=\"household_children <= 2.5\\\\ngini = 0.219\\\\nsamples = 24\\\\nvalue = [21, 3]\"] ;\\n319 -> 335 ;\\n336 [label=\"hhs_geo_region <= 1.5\\\\ngini = 0.159\\\\nsamples = 23\\\\nvalue = [21, 2]\"] ;\\n335 -> 336 ;\\n337 [label=\"age_group <= 3.5\\\\ngini = 0.5\\\\nsamples = 4\\\\nvalue = [2, 2]\"] ;\\n336 -> 337 ;\\n338 [label=\"gini = 0.0\\\\nsamples = 2\\\\nvalue = [2, 0]\"] ;\\n337 -> 338 ;\\n339 [label=\"gini = 0.0\\\\nsamples = 2\\\\nvalue = [0, 2]\"] ;\\n337 -> 339 ;\\n340 [label=\"gini = 0.0\\\\nsamples = 19\\\\nvalue = [19, 0]\"] ;\\n336 -> 340 ;\\n341 [label=\"gini = 0.0\\\\nsamples = 1\\\\nvalue = [0, 1]\"] ;\\n335 -> 341 ;\\n342 [label=\"employment_occupation <= 1.0\\\\ngini = 0.2\\\\nsamples = 80\\\\nvalue = [71, 9]\"] ;\\n274 -> 342 ;\\n343 [label=\"gini = 0.0\\\\nsamples = 1\\\\nvalue = [0, 1]\"] ;\\n342 -> 343 ;\\n344 [label=\"marital_status <= 1.5\\\\ngini = 0.182\\\\nsamples = 79\\\\nvalue = [71, 8]\"] ;\\n342 -> 344 ;\\n345 [label=\"employment_industry <= 5.0\\\\ngini = 0.163\\\\nsamples = 78\\\\nvalue = [71, 7]\"] ;\\n344 -> 345 ;\\n346 [label=\"gini = 0.0\\\\nsamples = 39\\\\nvalue = [39, 0]\"] ;\\n345 -> 346 ;\\n347 [label=\"health_insurance <= 0.5\\\\ngini = 0.295\\\\nsamples = 39\\\\nvalue = [32, 7]\"] ;\\n345 -> 347 ;\\n348 [label=\"gini = 0.0\\\\nsamples = 1\\\\nvalue = [0, 1]\"] ;\\n347 -> 348 ;\\n349 [label=\"chronic_med_condition <= 0.5\\\\ngini = 0.266\\\\nsamples = 38\\\\nvalue = [32, 6]\"] ;\\n347 -> 349 ;\\n350 [label=\"age_group <= 2.5\\\\ngini = 0.375\\\\nsamples = 24\\\\nvalue = [18, 6]\"] ;\\n349 -> 350 ;\\n351 [label=\"gini = 0.0\\\\nsamples = 8\\\\nvalue = [8, 0]\"] ;\\n350 -> 351 ;\\n352 [label=\"gini = 0.469\\\\nsamples = 16\\\\nvalue = [10, 6]\"] ;\\n350 -> 352 ;\\n353 [label=\"gini = 0.0\\\\nsamples = 14\\\\nvalue = [14, 0]\"] ;\\n349 -> 353 ;\\n354 [label=\"gini = 0.0\\\\nsamples = 1\\\\nvalue = [0, 1]\"] ;\\n344 -> 354 ;\\n355 [label=\"health_worker <= 0.5\\\\ngini = 0.068\\\\nsamples = 5234\\\\nvalue = [5050, 184]\"] ;\\n3 -> 355 ;\\n356 [label=\"education <= 3.5\\\\ngini = 0.056\\\\nsamples = 4619\\\\nvalue = [4487, 132]\"] ;\\n355 -> 356 ;\\n357 [label=\"opinion_h1n1_risk <= 0.5\\\\ngini = 0.051\\\\nsamples = 4410\\\\nvalue = [4295, 115]\"] ;\\n356 -> 357 ;\\n358 [label=\"employment_occupation <= 3.5\\\\ngini = 0.026\\\\nsamples = 1801\\\\nvalue = [1777, 24]\"] ;\\n357 -> 358 ;\\n359 [label=\"hhs_geo_region <= 7.5\\\\ngini = 0.128\\\\nsamples = 58\\\\nvalue = [54, 4]\"] ;\\n358 -> 359 ;\\n360 [label=\"employment_occupation <= 2.5\\\\ngini = 0.073\\\\nsamples = 53\\\\nvalue = [51, 2]\"] ;\\n359 -> 360 ;\\n361 [label=\"gini = 0.0\\\\nsamples = 42\\\\nvalue = [42, 0]\"] ;\\n360 -> 361 ;\\n362 [label=\"opinion_seas_vacc_effective <= 0.5\\\\ngini = 0.298\\\\nsamples = 11\\\\nvalue = [9, 2]\"] ;\\n360 -> 362 ;\\n363 [label=\"gini = 0.0\\\\nsamples = 1\\\\nvalue = [0, 1]\"] ;\\n362 -> 363 ;\\n364 [label=\"income_poverty <= 2.0\\\\ngini = 0.18\\\\nsamples = 10\\\\nvalue = [9, 1]\"] ;\\n362 -> 364 ;\\n365 [label=\"gini = 0.0\\\\nsamples = 8\\\\nvalue = [8, 0]\"] ;\\n364 -> 365 ;\\n366 [label=\"h1n1_concern <= 0.5\\\\ngini = 0.5\\\\nsamples = 2\\\\nvalue = [1, 1]\"] ;\\n364 -> 366 ;\\n367 [label=\"gini = 0.0\\\\nsamples = 1\\\\nvalue = [1, 0]\"] ;\\n366 -> 367 ;\\n368 [label=\"gini = 0.0\\\\nsamples = 1\\\\nvalue = [0, 1]\"] ;\\n366 -> 368 ;\\n369 [label=\"opinion_seas_vacc_effective <= 3.5\\\\ngini = 0.48\\\\nsamples = 5\\\\nvalue = [3, 2]\"] ;\\n359 -> 369 ;\\n370 [label=\"gini = 0.0\\\\nsamples = 3\\\\nvalue = [3, 0]\"] ;\\n369 -> 370 ;\\n371 [label=\"gini = 0.0\\\\nsamples = 2\\\\nvalue = [0, 2]\"] ;\\n369 -> 371 ;\\n372 [label=\"behavioral_avoidance <= 1.5\\\\ngini = 0.023\\\\nsamples = 1743\\\\nvalue = [1723, 20]\"] ;\\n358 -> 372 ;\\n373 [label=\"age_group <= 3.5\\\\ngini = 0.022\\\\nsamples = 1730\\\\nvalue = [1711, 19]\"] ;\\n372 -> 373 ;\\n374 [label=\"age_group <= 1.5\\\\ngini = 0.015\\\\nsamples = 1216\\\\nvalue = [1207, 9]\"] ;\\n373 -> 374 ;\\n375 [label=\"h1n1_concern <= 1.5\\\\ngini = 0.029\\\\nsamples = 481\\\\nvalue = [474, 7]\"] ;\\n374 -> 375 ;\\n376 [label=\"household_adults <= 1.5\\\\ngini = 0.012\\\\nsamples = 319\\\\nvalue = [317, 2]\"] ;\\n375 -> 376 ;\\n377 [label=\"gini = 0.0\\\\nsamples = 240\\\\nvalue = [240, 0]\"] ;\\n376 -> 377 ;\\n378 [label=\"gini = 0.049\\\\nsamples = 79\\\\nvalue = [77, 2]\"] ;\\n376 -> 378 ;\\n379 [label=\"employment_occupation <= 8.5\\\\ngini = 0.06\\\\nsamples = 162\\\\nvalue = [157, 5]\"] ;\\n375 -> 379 ;\\n380 [label=\"gini = 0.208\\\\nsamples = 17\\\\nvalue = [15, 2]\"] ;\\n379 -> 380 ;\\n381 [label=\"gini = 0.041\\\\nsamples = 145\\\\nvalue = [142, 3]\"] ;\\n379 -> 381 ;\\n382 [label=\"census_msa <= 1.5\\\\ngini = 0.005\\\\nsamples = 735\\\\nvalue = [733, 2]\"] ;\\n374 -> 382 ;\\n383 [label=\"gini = 0.0\\\\nsamples = 526\\\\nvalue = [526, 0]\"] ;\\n382 -> 383 ;\\n384 [label=\"h1n1_knowledge <= 1.5\\\\ngini = 0.019\\\\nsamples = 209\\\\nvalue = [207, 2]\"] ;\\n382 -> 384 ;\\n385 [label=\"gini = 0.0\\\\nsamples = 143\\\\nvalue = [143, 0]\"] ;\\n384 -> 385 ;\\n386 [label=\"gini = 0.059\\\\nsamples = 66\\\\nvalue = [64, 2]\"] ;\\n384 -> 386 ;\\n387 [label=\"employment_industry <= 18.5\\\\ngini = 0.038\\\\nsamples = 514\\\\nvalue = [504, 10]\"] ;\\n373 -> 387 ;\\n388 [label=\"chronic_med_condition <= 1.5\\\\ngini = 0.032\\\\nsamples = 499\\\\nvalue = [491, 8]\"] ;\\n387 -> 388 ;\\n389 [label=\"employment_status <= 2.5\\\\ngini = 0.028\\\\nsamples = 493\\\\nvalue = [486, 7]\"] ;\\n388 -> 389 ;\\n390 [label=\"gini = 0.024\\\\nsamples = 484\\\\nvalue = [478, 6]\"] ;\\n389 -> 390 ;\\n391 [label=\"gini = 0.198\\\\nsamples = 9\\\\nvalue = [8, 1]\"] ;\\n389 -> 391 ;\\n392 [label=\"opinion_seas_sick_from_vacc <= 2.0\\\\ngini = 0.278\\\\nsamples = 6\\\\nvalue = [5, 1]\"] ;\\n388 -> 392 ;\\n393 [label=\"gini = 0.0\\\\nsamples = 5\\\\nvalue = [5, 0]\"] ;\\n392 -> 393 ;\\n394 [label=\"gini = 0.0\\\\nsamples = 1\\\\nvalue = [0, 1]\"] ;\\n392 -> 394 ;\\n395 [label=\"behavioral_face_mask <= 0.5\\\\ngini = 0.231\\\\nsamples = 15\\\\nvalue = [13, 2]\"] ;\\n387 -> 395 ;\\n396 [label=\"opinion_seas_risk <= 3.5\\\\ngini = 0.133\\\\nsamples = 14\\\\nvalue = [13, 1]\"] ;\\n395 -> 396 ;\\n397 [label=\"gini = 0.0\\\\nsamples = 13\\\\nvalue = [13, 0]\"] ;\\n396 -> 397 ;\\n398 [label=\"gini = 0.0\\\\nsamples = 1\\\\nvalue = [0, 1]\"] ;\\n396 -> 398 ;\\n399 [label=\"gini = 0.0\\\\nsamples = 1\\\\nvalue = [0, 1]\"] ;\\n395 -> 399 ;\\n400 [label=\"rent_or_own <= 1.5\\\\ngini = 0.142\\\\nsamples = 13\\\\nvalue = [12, 1]\"] ;\\n372 -> 400 ;\\n401 [label=\"gini = 0.0\\\\nsamples = 12\\\\nvalue = [12, 0]\"] ;\\n400 -> 401 ;\\n402 [label=\"gini = 0.0\\\\nsamples = 1\\\\nvalue = [0, 1]\"] ;\\n400 -> 402 ;\\n403 [label=\"chronic_med_condition <= 1.5\\\\ngini = 0.067\\\\nsamples = 2609\\\\nvalue = [2518, 91]\"] ;\\n357 -> 403 ;\\n404 [label=\"behavioral_antiviral_meds <= 1.5\\\\ngini = 0.066\\\\nsamples = 2590\\\\nvalue = [2502, 88]\"] ;\\n403 -> 404 ;\\n405 [label=\"employment_occupation <= 11.5\\\\ngini = 0.065\\\\nsamples = 2587\\\\nvalue = [2500, 87]\"] ;\\n404 -> 405 ;\\n406 [label=\"doctor_recc_seasonal <= 0.5\\\\ngini = 0.076\\\\nsamples = 1847\\\\nvalue = [1774, 73]\"] ;\\n405 -> 406 ;\\n407 [label=\"opinion_h1n1_sick_from_vacc <= 0.5\\\\ngini = 0.086\\\\nsamples = 1480\\\\nvalue = [1413, 67]\"] ;\\n406 -> 407 ;\\n408 [label=\"marital_status <= 0.5\\\\ngini = 0.121\\\\nsamples = 339\\\\nvalue = [317, 22]\"] ;\\n407 -> 408 ;\\n409 [label=\"gini = 0.072\\\\nsamples = 187\\\\nvalue = [180, 7]\"] ;\\n408 -> 409 ;\\n410 [label=\"gini = 0.178\\\\nsamples = 152\\\\nvalue = [137, 15]\"] ;\\n408 -> 410 ;\\n411 [label=\"employment_industry <= 5.5\\\\ngini = 0.076\\\\nsamples = 1141\\\\nvalue = [1096, 45]\"] ;\\n407 -> 411 ;\\n412 [label=\"gini = 0.143\\\\nsamples = 129\\\\nvalue = [119, 10]\"] ;\\n411 -> 412 ;\\n413 [label=\"gini = 0.067\\\\nsamples = 1012\\\\nvalue = [977, 35]\"] ;\\n411 -> 413 ;\\n414 [label=\"marital_status <= 1.5\\\\ngini = 0.032\\\\nsamples = 367\\\\nvalue = [361, 6]\"] ;\\n406 -> 414 ;\\n415 [label=\"child_under_6_months <= 0.5\\\\ngini = 0.027\\\\nsamples = 363\\\\nvalue = [358, 5]\"] ;\\n414 -> 415 ;\\n416 [label=\"gini = 0.023\\\\nsamples = 350\\\\nvalue = [346, 4]\"] ;\\n415 -> 416 ;\\n417 [label=\"gini = 0.142\\\\nsamples = 13\\\\nvalue = [12, 1]\"] ;\\n415 -> 417 ;\\n418 [label=\"age_group <= 3.5\\\\ngini = 0.375\\\\nsamples = 4\\\\nvalue = [3, 1]\"] ;\\n414 -> 418 ;\\n419 [label=\"gini = 0.0\\\\nsamples = 3\\\\nvalue = [3, 0]\"] ;\\n418 -> 419 ;\\n420 [label=\"gini = 0.0\\\\nsamples = 1\\\\nvalue = [0, 1]\"] ;\\n418 -> 420 ;\\n421 [label=\"employment_industry <= 0.5\\\\ngini = 0.037\\\\nsamples = 740\\\\nvalue = [726, 14]\"] ;\\n405 -> 421 ;\\n422 [label=\"employment_occupation <= 17.5\\\\ngini = 0.17\\\\nsamples = 32\\\\nvalue = [29, 3]\"] ;\\n421 -> 422 ;\\n423 [label=\"opinion_h1n1_vacc_effective <= 2.5\\\\ngini = 0.48\\\\nsamples = 5\\\\nvalue = [3, 2]\"] ;\\n422 -> 423 ;\\n424 [label=\"gini = 0.0\\\\nsamples = 3\\\\nvalue = [3, 0]\"] ;\\n423 -> 424 ;\\n425 [label=\"gini = 0.0\\\\nsamples = 2\\\\nvalue = [0, 2]\"] ;\\n423 -> 425 ;\\n426 [label=\"household_adults <= 1.5\\\\ngini = 0.071\\\\nsamples = 27\\\\nvalue = [26, 1]\"] ;\\n422 -> 426 ;\\n427 [label=\"gini = 0.0\\\\nsamples = 24\\\\nvalue = [24, 0]\"] ;\\n426 -> 427 ;\\n428 [label=\"gini = 0.444\\\\nsamples = 3\\\\nvalue = [2, 1]\"] ;\\n426 -> 428 ;\\n429 [label=\"employment_occupation <= 18.5\\\\ngini = 0.031\\\\nsamples = 708\\\\nvalue = [697, 11]\"] ;\\n421 -> 429 ;\\n430 [label=\"gini = 0.0\\\\nsamples = 265\\\\nvalue = [265, 0]\"] ;\\n429 -> 430 ;\\n431 [label=\"census_msa <= 0.5\\\\ngini = 0.048\\\\nsamples = 443\\\\nvalue = [432, 11]\"] ;\\n429 -> 431 ;\\n432 [label=\"gini = 0.011\\\\nsamples = 186\\\\nvalue = [185, 1]\"] ;\\n431 -> 432 ;\\n433 [label=\"gini = 0.075\\\\nsamples = 257\\\\nvalue = [247, 10]\"] ;\\n431 -> 433 ;\\n434 [label=\"race <= 1.5\\\\ngini = 0.444\\\\nsamples = 3\\\\nvalue = [2, 1]\"] ;\\n404 -> 434 ;\\n435 [label=\"gini = 0.0\\\\nsamples = 1\\\\nvalue = [0, 1]\"] ;\\n434 -> 435 ;\\n436 [label=\"gini = 0.0\\\\nsamples = 2\\\\nvalue = [2, 0]\"] ;\\n434 -> 436 ;\\n437 [label=\"child_under_6_months <= 0.5\\\\ngini = 0.266\\\\nsamples = 19\\\\nvalue = [16, 3]\"] ;\\n403 -> 437 ;\\n438 [label=\"employment_status <= 2.5\\\\ngini = 0.117\\\\nsamples = 16\\\\nvalue = [15, 1]\"] ;\\n437 -> 438 ;\\n439 [label=\"gini = 0.0\\\\nsamples = 15\\\\nvalue = [15, 0]\"] ;\\n438 -> 439 ;\\n440 [label=\"gini = 0.0\\\\nsamples = 1\\\\nvalue = [0, 1]\"] ;\\n438 -> 440 ;\\n441 [label=\"behavioral_outside_home <= 0.5\\\\ngini = 0.444\\\\nsamples = 3\\\\nvalue = [1, 2]\"] ;\\n437 -> 441 ;\\n442 [label=\"gini = 0.0\\\\nsamples = 2\\\\nvalue = [0, 2]\"] ;\\n441 -> 442 ;\\n443 [label=\"gini = 0.0\\\\nsamples = 1\\\\nvalue = [1, 0]\"] ;\\n441 -> 443 ;\\n444 [label=\"opinion_h1n1_sick_from_vacc <= 0.5\\\\ngini = 0.149\\\\nsamples = 209\\\\nvalue = [192, 17]\"] ;\\n356 -> 444 ;\\n445 [label=\"behavioral_avoidance <= 0.5\\\\ngini = 0.258\\\\nsamples = 92\\\\nvalue = [78, 14]\"] ;\\n444 -> 445 ;\\n446 [label=\"employment_occupation <= 15.5\\\\ngini = 0.08\\\\nsamples = 48\\\\nvalue = [46, 2]\"] ;\\n445 -> 446 ;\\n447 [label=\"opinion_seas_sick_from_vacc <= 2.0\\\\ngini = 0.042\\\\nsamples = 47\\\\nvalue = [46, 1]\"] ;\\n446 -> 447 ;\\n448 [label=\"gini = 0.0\\\\nsamples = 44\\\\nvalue = [44, 0]\"] ;\\n447 -> 448 ;\\n449 [label=\"household_children <= 0.5\\\\ngini = 0.444\\\\nsamples = 3\\\\nvalue = [2, 1]\"] ;\\n447 -> 449 ;\\n450 [label=\"gini = 0.0\\\\nsamples = 1\\\\nvalue = [0, 1]\"] ;\\n449 -> 450 ;\\n451 [label=\"gini = 0.0\\\\nsamples = 2\\\\nvalue = [2, 0]\"] ;\\n449 -> 451 ;\\n452 [label=\"gini = 0.0\\\\nsamples = 1\\\\nvalue = [0, 1]\"] ;\\n446 -> 452 ;\\n453 [label=\"h1n1_concern <= 2.5\\\\ngini = 0.397\\\\nsamples = 44\\\\nvalue = [32, 12]\"] ;\\n445 -> 453 ;\\n454 [label=\"hhs_geo_region <= 0.5\\\\ngini = 0.355\\\\nsamples = 39\\\\nvalue = [30, 9]\"] ;\\n453 -> 454 ;\\n455 [label=\"gini = 0.0\\\\nsamples = 1\\\\nvalue = [0, 1]\"] ;\\n454 -> 455 ;\\n456 [label=\"behavioral_large_gatherings <= 0.5\\\\ngini = 0.332\\\\nsamples = 38\\\\nvalue = [30, 8]\"] ;\\n454 -> 456 ;\\n457 [label=\"census_msa <= 0.5\\\\ngini = 0.435\\\\nsamples = 25\\\\nvalue = [17, 8]\"] ;\\n456 -> 457 ;\\n458 [label=\"household_children <= 0.5\\\\ngini = 0.26\\\\nsamples = 13\\\\nvalue = [11, 2]\"] ;\\n457 -> 458 ;\\n459 [label=\"gini = 0.0\\\\nsamples = 1\\\\nvalue = [0, 1]\"] ;\\n458 -> 459 ;\\n460 [label=\"gini = 0.153\\\\nsamples = 12\\\\nvalue = [11, 1]\"] ;\\n458 -> 460 ;\\n461 [label=\"age_group <= 2.0\\\\ngini = 0.5\\\\nsamples = 12\\\\nvalue = [6, 6]\"] ;\\n457 -> 461 ;\\n462 [label=\"gini = 0.444\\\\nsamples = 9\\\\nvalue = [3, 6]\"] ;\\n461 -> 462 ;\\n463 [label=\"gini = 0.0\\\\nsamples = 3\\\\nvalue = [3, 0]\"] ;\\n461 -> 463 ;\\n464 [label=\"gini = 0.0\\\\nsamples = 13\\\\nvalue = [13, 0]\"] ;\\n456 -> 464 ;\\n465 [label=\"census_msa <= 0.5\\\\ngini = 0.48\\\\nsamples = 5\\\\nvalue = [2, 3]\"] ;\\n453 -> 465 ;\\n466 [label=\"gini = 0.0\\\\nsamples = 3\\\\nvalue = [0, 3]\"] ;\\n465 -> 466 ;\\n467 [label=\"gini = 0.0\\\\nsamples = 2\\\\nvalue = [2, 0]\"] ;\\n465 -> 467 ;\\n468 [label=\"opinion_seas_risk <= 3.5\\\\ngini = 0.05\\\\nsamples = 117\\\\nvalue = [114, 3]\"] ;\\n444 -> 468 ;\\n469 [label=\"opinion_h1n1_sick_from_vacc <= 3.5\\\\ngini = 0.018\\\\nsamples = 112\\\\nvalue = [111, 1]\"] ;\\n468 -> 469 ;\\n470 [label=\"gini = 0.0\\\\nsamples = 100\\\\nvalue = [100, 0]\"] ;\\n469 -> 470 ;\\n471 [label=\"household_children <= 2.5\\\\ngini = 0.153\\\\nsamples = 12\\\\nvalue = [11, 1]\"] ;\\n469 -> 471 ;\\n472 [label=\"gini = 0.0\\\\nsamples = 11\\\\nvalue = [11, 0]\"] ;\\n471 -> 472 ;\\n473 [label=\"gini = 0.0\\\\nsamples = 1\\\\nvalue = [0, 1]\"] ;\\n471 -> 473 ;\\n474 [label=\"hhs_geo_region <= 5.0\\\\ngini = 0.48\\\\nsamples = 5\\\\nvalue = [3, 2]\"] ;\\n468 -> 474 ;\\n475 [label=\"behavioral_large_gatherings <= 0.5\\\\ngini = 0.444\\\\nsamples = 3\\\\nvalue = [1, 2]\"] ;\\n474 -> 475 ;\\n476 [label=\"gini = 0.0\\\\nsamples = 1\\\\nvalue = [1, 0]\"] ;\\n475 -> 476 ;\\n477 [label=\"gini = 0.0\\\\nsamples = 2\\\\nvalue = [0, 2]\"] ;\\n475 -> 477 ;\\n478 [label=\"gini = 0.0\\\\nsamples = 2\\\\nvalue = [2, 0]\"] ;\\n474 -> 478 ;\\n479 [label=\"h1n1_concern <= 1.5\\\\ngini = 0.155\\\\nsamples = 615\\\\nvalue = [563, 52]\"] ;\\n355 -> 479 ;\\n480 [label=\"behavioral_antiviral_meds <= 0.5\\\\ngini = 0.092\\\\nsamples = 310\\\\nvalue = [295, 15]\"] ;\\n479 -> 480 ;\\n481 [label=\"opinion_h1n1_sick_from_vacc <= 4.5\\\\ngini = 0.077\\\\nsamples = 300\\\\nvalue = [288, 12]\"] ;\\n480 -> 481 ;\\n482 [label=\"employment_occupation <= 1.0\\\\ngini = 0.066\\\\nsamples = 294\\\\nvalue = [284, 10]\"] ;\\n481 -> 482 ;\\n483 [label=\"hhs_geo_region <= 2.0\\\\ngini = 0.375\\\\nsamples = 4\\\\nvalue = [3, 1]\"] ;\\n482 -> 483 ;\\n484 [label=\"gini = 0.0\\\\nsamples = 1\\\\nvalue = [0, 1]\"] ;\\n483 -> 484 ;\\n485 [label=\"gini = 0.0\\\\nsamples = 3\\\\nvalue = [3, 0]\"] ;\\n483 -> 485 ;\\n486 [label=\"opinion_seas_risk <= 1.5\\\\ngini = 0.06\\\\nsamples = 290\\\\nvalue = [281, 9]\"] ;\\n482 -> 486 ;\\n487 [label=\"hhs_geo_region <= 1.5\\\\ngini = 0.028\\\\nsamples = 209\\\\nvalue = [206, 3]\"] ;\\n486 -> 487 ;\\n488 [label=\"behavioral_avoidance <= 0.5\\\\ngini = 0.108\\\\nsamples = 35\\\\nvalue = [33, 2]\"] ;\\n487 -> 488 ;\\n489 [label=\"opinion_h1n1_vacc_effective <= 2.5\\\\ngini = 0.26\\\\nsamples = 13\\\\nvalue = [11, 2]\"] ;\\n488 -> 489 ;\\n490 [label=\"gini = 0.0\\\\nsamples = 9\\\\nvalue = [9, 0]\"] ;\\n489 -> 490 ;\\n491 [label=\"gini = 0.5\\\\nsamples = 4\\\\nvalue = [2, 2]\"] ;\\n489 -> 491 ;\\n492 [label=\"gini = 0.0\\\\nsamples = 22\\\\nvalue = [22, 0]\"] ;\\n488 -> 492 ;\\n493 [label=\"doctor_recc_seasonal <= 0.5\\\\ngini = 0.011\\\\nsamples = 174\\\\nvalue = [173, 1]\"] ;\\n487 -> 493 ;\\n494 [label=\"gini = 0.0\\\\nsamples = 149\\\\nvalue = [149, 0]\"] ;\\n493 -> 494 ;\\n495 [label=\"employment_occupation <= 5.5\\\\ngini = 0.077\\\\nsamples = 25\\\\nvalue = [24, 1]\"] ;\\n493 -> 495 ;\\n496 [label=\"gini = 0.444\\\\nsamples = 3\\\\nvalue = [2, 1]\"] ;\\n495 -> 496 ;\\n497 [label=\"gini = 0.0\\\\nsamples = 22\\\\nvalue = [22, 0]\"] ;\\n495 -> 497 ;\\n498 [label=\"age_group <= 1.5\\\\ngini = 0.137\\\\nsamples = 81\\\\nvalue = [75, 6]\"] ;\\n486 -> 498 ;\\n499 [label=\"behavioral_outside_home <= 0.5\\\\ngini = 0.224\\\\nsamples = 39\\\\nvalue = [34, 5]\"] ;\\n498 -> 499 ;\\n500 [label=\"income_poverty <= 0.5\\\\ngini = 0.117\\\\nsamples = 32\\\\nvalue = [30, 2]\"] ;\\n499 -> 500 ;\\n501 [label=\"gini = 0.375\\\\nsamples = 8\\\\nvalue = [6, 2]\"] ;\\n500 -> 501 ;\\n502 [label=\"gini = 0.0\\\\nsamples = 24\\\\nvalue = [24, 0]\"] ;\\n500 -> 502 ;\\n503 [label=\"opinion_h1n1_risk <= 0.5\\\\ngini = 0.49\\\\nsamples = 7\\\\nvalue = [4, 3]\"] ;\\n499 -> 503 ;\\n504 [label=\"gini = 0.0\\\\nsamples = 3\\\\nvalue = [3, 0]\"] ;\\n503 -> 504 ;\\n505 [label=\"gini = 0.375\\\\nsamples = 4\\\\nvalue = [1, 3]\"] ;\\n503 -> 505 ;\\n506 [label=\"employment_occupation <= 4.0\\\\ngini = 0.046\\\\nsamples = 42\\\\nvalue = [41, 1]\"] ;\\n498 -> 506 ;\\n507 [label=\"child_under_6_months <= 0.5\\\\ngini = 0.32\\\\nsamples = 5\\\\nvalue = [4, 1]\"] ;\\n506 -> 507 ;\\n508 [label=\"gini = 0.0\\\\nsamples = 4\\\\nvalue = [4, 0]\"] ;\\n507 -> 508 ;\\n509 [label=\"gini = 0.0\\\\nsamples = 1\\\\nvalue = [0, 1]\"] ;\\n507 -> 509 ;\\n510 [label=\"gini = 0.0\\\\nsamples = 37\\\\nvalue = [37, 0]\"] ;\\n506 -> 510 ;\\n511 [label=\"behavioral_touch_face <= 0.5\\\\ngini = 0.444\\\\nsamples = 6\\\\nvalue = [4, 2]\"] ;\\n481 -> 511 ;\\n512 [label=\"gini = 0.0\\\\nsamples = 1\\\\nvalue = [0, 1]\"] ;\\n511 -> 512 ;\\n513 [label=\"behavioral_outside_home <= 0.5\\\\ngini = 0.32\\\\nsamples = 5\\\\nvalue = [4, 1]\"] ;\\n511 -> 513 ;\\n514 [label=\"gini = 0.0\\\\nsamples = 4\\\\nvalue = [4, 0]\"] ;\\n513 -> 514 ;\\n515 [label=\"gini = 0.0\\\\nsamples = 1\\\\nvalue = [0, 1]\"] ;\\n513 -> 515 ;\\n516 [label=\"opinion_seas_sick_from_vacc <= 0.5\\\\ngini = 0.42\\\\nsamples = 10\\\\nvalue = [7, 3]\"] ;\\n480 -> 516 ;\\n517 [label=\"household_children <= 1.5\\\\ngini = 0.5\\\\nsamples = 6\\\\nvalue = [3, 3]\"] ;\\n516 -> 517 ;\\n518 [label=\"sex <= 0.5\\\\ngini = 0.375\\\\nsamples = 4\\\\nvalue = [3, 1]\"] ;\\n517 -> 518 ;\\n519 [label=\"gini = 0.0\\\\nsamples = 3\\\\nvalue = [3, 0]\"] ;\\n518 -> 519 ;\\n520 [label=\"gini = 0.0\\\\nsamples = 1\\\\nvalue = [0, 1]\"] ;\\n518 -> 520 ;\\n521 [label=\"gini = 0.0\\\\nsamples = 2\\\\nvalue = [0, 2]\"] ;\\n517 -> 521 ;\\n522 [label=\"gini = 0.0\\\\nsamples = 4\\\\nvalue = [4, 0]\"] ;\\n516 -> 522 ;\\n523 [label=\"age_group <= 1.5\\\\ngini = 0.213\\\\nsamples = 305\\\\nvalue = [268, 37]\"] ;\\n479 -> 523 ;\\n524 [label=\"income_poverty <= 0.5\\\\ngini = 0.123\\\\nsamples = 121\\\\nvalue = [113, 8]\"] ;\\n523 -> 524 ;\\n525 [label=\"employment_occupation <= 5.5\\\\ngini = 0.251\\\\nsamples = 34\\\\nvalue = [29, 5]\"] ;\\n524 -> 525 ;\\n526 [label=\"gini = 0.0\\\\nsamples = 15\\\\nvalue = [15, 0]\"] ;\\n525 -> 526 ;\\n527 [label=\"employment_occupation <= 11.5\\\\ngini = 0.388\\\\nsamples = 19\\\\nvalue = [14, 5]\"] ;\\n525 -> 527 ;\\n528 [label=\"opinion_h1n1_vacc_effective <= 2.5\\\\ngini = 0.473\\\\nsamples = 13\\\\nvalue = [8, 5]\"] ;\\n527 -> 528 ;\\n529 [label=\"gini = 0.0\\\\nsamples = 3\\\\nvalue = [3, 0]\"] ;\\n528 -> 529 ;\\n530 [label=\"opinion_seas_risk <= 2.0\\\\ngini = 0.5\\\\nsamples = 10\\\\nvalue = [5, 5]\"] ;\\n528 -> 530 ;\\n531 [label=\"household_children <= 0.5\\\\ngini = 0.408\\\\nsamples = 7\\\\nvalue = [5, 2]\"] ;\\n530 -> 531 ;\\n532 [label=\"gini = 0.444\\\\nsamples = 3\\\\nvalue = [1, 2]\"] ;\\n531 -> 532 ;\\n533 [label=\"gini = 0.0\\\\nsamples = 4\\\\nvalue = [4, 0]\"] ;\\n531 -> 533 ;\\n534 [label=\"gini = 0.0\\\\nsamples = 3\\\\nvalue = [0, 3]\"] ;\\n530 -> 534 ;\\n535 [label=\"gini = 0.0\\\\nsamples = 6\\\\nvalue = [6, 0]\"] ;\\n527 -> 535 ;\\n536 [label=\"opinion_h1n1_vacc_effective <= 0.5\\\\ngini = 0.067\\\\nsamples = 87\\\\nvalue = [84, 3]\"] ;\\n524 -> 536 ;\\n537 [label=\"age_group <= 0.5\\\\ngini = 0.32\\\\nsamples = 5\\\\nvalue = [4, 1]\"] ;\\n536 -> 537 ;\\n538 [label=\"gini = 0.0\\\\nsamples = 4\\\\nvalue = [4, 0]\"] ;\\n537 -> 538 ;\\n539 [label=\"gini = 0.0\\\\nsamples = 1\\\\nvalue = [0, 1]\"] ;\\n537 -> 539 ;\\n540 [label=\"opinion_seas_vacc_effective <= 3.5\\\\ngini = 0.048\\\\nsamples = 82\\\\nvalue = [80, 2]\"] ;\\n536 -> 540 ;\\n541 [label=\"gini = 0.0\\\\nsamples = 60\\\\nvalue = [60, 0]\"] ;\\n540 -> 541 ;\\n542 [label=\"behavioral_wash_hands <= 0.5\\\\ngini = 0.165\\\\nsamples = 22\\\\nvalue = [20, 2]\"] ;\\n540 -> 542 ;\\n543 [label=\"gini = 0.0\\\\nsamples = 1\\\\nvalue = [0, 1]\"] ;\\n542 -> 543 ;\\n544 [label=\"employment_occupation <= 3.0\\\\ngini = 0.091\\\\nsamples = 21\\\\nvalue = [20, 1]\"] ;\\n542 -> 544 ;\\n545 [label=\"household_adults <= 1.5\\\\ngini = 0.5\\\\nsamples = 2\\\\nvalue = [1, 1]\"] ;\\n544 -> 545 ;\\n546 [label=\"gini = 0.0\\\\nsamples = 1\\\\nvalue = [0, 1]\"] ;\\n545 -> 546 ;\\n547 [label=\"gini = 0.0\\\\nsamples = 1\\\\nvalue = [1, 0]\"] ;\\n545 -> 547 ;\\n548 [label=\"gini = 0.0\\\\nsamples = 19\\\\nvalue = [19, 0]\"] ;\\n544 -> 548 ;\\n549 [label=\"census_msa <= 1.5\\\\ngini = 0.266\\\\nsamples = 184\\\\nvalue = [155, 29]\"] ;\\n523 -> 549 ;\\n550 [label=\"behavioral_touch_face <= 0.5\\\\ngini = 0.316\\\\nsamples = 127\\\\nvalue = [102, 25]\"] ;\\n549 -> 550 ;\\n551 [label=\"opinion_seas_risk <= 2.5\\\\ngini = 0.48\\\\nsamples = 20\\\\nvalue = [12, 8]\"] ;\\n550 -> 551 ;\\n552 [label=\"age_group <= 2.5\\\\ngini = 0.497\\\\nsamples = 13\\\\nvalue = [6, 7]\"] ;\\n551 -> 552 ;\\n553 [label=\"household_adults <= 2.0\\\\ngini = 0.278\\\\nsamples = 6\\\\nvalue = [5, 1]\"] ;\\n552 -> 553 ;\\n554 [label=\"gini = 0.0\\\\nsamples = 5\\\\nvalue = [5, 0]\"] ;\\n553 -> 554 ;\\n555 [label=\"gini = 0.0\\\\nsamples = 1\\\\nvalue = [0, 1]\"] ;\\n553 -> 555 ;\\n556 [label=\"employment_industry <= 14.5\\\\ngini = 0.245\\\\nsamples = 7\\\\nvalue = [1, 6]\"] ;\\n552 -> 556 ;\\n557 [label=\"gini = 0.0\\\\nsamples = 6\\\\nvalue = [0, 6]\"] ;\\n556 -> 557 ;\\n558 [label=\"gini = 0.0\\\\nsamples = 1\\\\nvalue = [1, 0]\"] ;\\n556 -> 558 ;\\n559 [label=\"marital_status <= 0.5\\\\ngini = 0.245\\\\nsamples = 7\\\\nvalue = [6, 1]\"] ;\\n551 -> 559 ;\\n560 [label=\"opinion_h1n1_vacc_effective <= 2.5\\\\ngini = 0.5\\\\nsamples = 2\\\\nvalue = [1, 1]\"] ;\\n559 -> 560 ;\\n561 [label=\"gini = 0.0\\\\nsamples = 1\\\\nvalue = [0, 1]\"] ;\\n560 -> 561 ;\\n562 [label=\"gini = 0.0\\\\nsamples = 1\\\\nvalue = [1, 0]\"] ;\\n560 -> 562 ;\\n563 [label=\"gini = 0.0\\\\nsamples = 5\\\\nvalue = [5, 0]\"] ;\\n559 -> 563 ;\\n564 [label=\"employment_occupation <= 1.0\\\\ngini = 0.267\\\\nsamples = 107\\\\nvalue = [90, 17]\"] ;\\n550 -> 564 ;\\n565 [label=\"rent_or_own <= 0.5\\\\ngini = 0.5\\\\nsamples = 6\\\\nvalue = [3, 3]\"] ;\\n564 -> 565 ;\\n566 [label=\"opinion_h1n1_vacc_effective <= 2.5\\\\ngini = 0.375\\\\nsamples = 4\\\\nvalue = [1, 3]\"] ;\\n565 -> 566 ;\\n567 [label=\"gini = 0.0\\\\nsamples = 1\\\\nvalue = [1, 0]\"] ;\\n566 -> 567 ;\\n568 [label=\"gini = 0.0\\\\nsamples = 3\\\\nvalue = [0, 3]\"] ;\\n566 -> 568 ;\\n569 [label=\"gini = 0.0\\\\nsamples = 2\\\\nvalue = [2, 0]\"] ;\\n565 -> 569 ;\\n570 [label=\"employment_industry <= 2.5\\\\ngini = 0.239\\\\nsamples = 101\\\\nvalue = [87, 14]\"] ;\\n564 -> 570 ;\\n571 [label=\"gini = 0.0\\\\nsamples = 1\\\\nvalue = [0, 1]\"] ;\\n570 -> 571 ;\\n572 [label=\"behavioral_outside_home <= 0.5\\\\ngini = 0.226\\\\nsamples = 100\\\\nvalue = [87, 13]\"] ;\\n570 -> 572 ;\\n573 [label=\"behavioral_avoidance <= 1.5\\\\ngini = 0.131\\\\nsamples = 57\\\\nvalue = [53, 4]\"] ;\\n572 -> 573 ;\\n574 [label=\"gini = 0.101\\\\nsamples = 56\\\\nvalue = [53, 3]\"] ;\\n573 -> 574 ;\\n575 [label=\"gini = 0.0\\\\nsamples = 1\\\\nvalue = [0, 1]\"] ;\\n573 -> 575 ;\\n576 [label=\"household_adults <= 1.5\\\\ngini = 0.331\\\\nsamples = 43\\\\nvalue = [34, 9]\"] ;\\n572 -> 576 ;\\n577 [label=\"gini = 0.234\\\\nsamples = 37\\\\nvalue = [32, 5]\"] ;\\n576 -> 577 ;\\n578 [label=\"gini = 0.444\\\\nsamples = 6\\\\nvalue = [2, 4]\"] ;\\n576 -> 578 ;\\n579 [label=\"employment_industry <= 16.0\\\\ngini = 0.131\\\\nsamples = 57\\\\nvalue = [53, 4]\"] ;\\n549 -> 579 ;\\n580 [label=\"h1n1_concern <= 3.5\\\\ngini = 0.101\\\\nsamples = 56\\\\nvalue = [53, 3]\"] ;\\n579 -> 580 ;\\n581 [label=\"opinion_seas_vacc_effective <= 2.5\\\\ngini = 0.07\\\\nsamples = 55\\\\nvalue = [53, 2]\"] ;\\n580 -> 581 ;\\n582 [label=\"opinion_h1n1_sick_from_vacc <= 0.5\\\\ngini = 0.408\\\\nsamples = 7\\\\nvalue = [5, 2]\"] ;\\n581 -> 582 ;\\n583 [label=\"gini = 0.0\\\\nsamples = 1\\\\nvalue = [0, 1]\"] ;\\n582 -> 583 ;\\n584 [label=\"rent_or_own <= 0.5\\\\ngini = 0.278\\\\nsamples = 6\\\\nvalue = [5, 1]\"] ;\\n582 -> 584 ;\\n585 [label=\"gini = 0.5\\\\nsamples = 2\\\\nvalue = [1, 1]\"] ;\\n584 -> 585 ;\\n586 [label=\"gini = 0.0\\\\nsamples = 4\\\\nvalue = [4, 0]\"] ;\\n584 -> 586 ;\\n587 [label=\"gini = 0.0\\\\nsamples = 48\\\\nvalue = [48, 0]\"] ;\\n581 -> 587 ;\\n588 [label=\"gini = 0.0\\\\nsamples = 1\\\\nvalue = [0, 1]\"] ;\\n580 -> 588 ;\\n589 [label=\"gini = 0.0\\\\nsamples = 1\\\\nvalue = [0, 1]\"] ;\\n579 -> 589 ;\\n590 [label=\"health_insurance <= 1.5\\\\ngini = 0.309\\\\nsamples = 2935\\\\nvalue = [2374, 561]\"] ;\\n2 -> 590 ;\\n591 [label=\"opinion_h1n1_risk <= 0.5\\\\ngini = 0.39\\\\nsamples = 1707\\\\nvalue = [1253, 454]\"] ;\\n590 -> 591 ;\\n592 [label=\"doctor_recc_seasonal <= 0.5\\\\ngini = 0.295\\\\nsamples = 727\\\\nvalue = [596, 131]\"] ;\\n591 -> 592 ;\\n593 [label=\"age_group <= 2.5\\\\ngini = 0.332\\\\nsamples = 591\\\\nvalue = [467, 124]\"] ;\\n592 -> 593 ;\\n594 [label=\"employment_occupation <= 4.5\\\\ngini = 0.269\\\\nsamples = 318\\\\nvalue = [267, 51]\"] ;\\n593 -> 594 ;\\n595 [label=\"opinion_seas_sick_from_vacc <= 0.5\\\\ngini = 0.495\\\\nsamples = 31\\\\nvalue = [17, 14]\"] ;\\n594 -> 595 ;\\n596 [label=\"child_under_6_months <= 0.5\\\\ngini = 0.491\\\\nsamples = 23\\\\nvalue = [10, 13]\"] ;\\n595 -> 596 ;\\n597 [label=\"income_poverty <= 0.5\\\\ngini = 0.444\\\\nsamples = 18\\\\nvalue = [6, 12]\"] ;\\n596 -> 597 ;\\n598 [label=\"employment_occupation <= 2.5\\\\ngini = 0.494\\\\nsamples = 9\\\\nvalue = [5, 4]\"] ;\\n597 -> 598 ;\\n599 [label=\"employment_industry <= 2.0\\\\ngini = 0.278\\\\nsamples = 6\\\\nvalue = [5, 1]\"] ;\\n598 -> 599 ;\\n600 [label=\"gini = 0.0\\\\nsamples = 1\\\\nvalue = [0, 1]\"] ;\\n599 -> 600 ;\\n601 [label=\"gini = 0.0\\\\nsamples = 5\\\\nvalue = [5, 0]\"] ;\\n599 -> 601 ;\\n602 [label=\"gini = 0.0\\\\nsamples = 3\\\\nvalue = [0, 3]\"] ;\\n598 -> 602 ;\\n603 [label=\"employment_industry <= 2.0\\\\ngini = 0.198\\\\nsamples = 9\\\\nvalue = [1, 8]\"] ;\\n597 -> 603 ;\\n604 [label=\"gini = 0.0\\\\nsamples = 1\\\\nvalue = [1, 0]\"] ;\\n603 -> 604 ;\\n605 [label=\"gini = 0.0\\\\nsamples = 8\\\\nvalue = [0, 8]\"] ;\\n603 -> 605 ;\\n606 [label=\"employment_occupation <= 0.5\\\\ngini = 0.32\\\\nsamples = 5\\\\nvalue = [4, 1]\"] ;\\n596 -> 606 ;\\n607 [label=\"gini = 0.0\\\\nsamples = 1\\\\nvalue = [0, 1]\"] ;\\n606 -> 607 ;\\n608 [label=\"gini = 0.0\\\\nsamples = 4\\\\nvalue = [4, 0]\"] ;\\n606 -> 608 ;\\n609 [label=\"behavioral_avoidance <= 0.5\\\\ngini = 0.219\\\\nsamples = 8\\\\nvalue = [7, 1]\"] ;\\n595 -> 609 ;\\n610 [label=\"gini = 0.0\\\\nsamples = 1\\\\nvalue = [0, 1]\"] ;\\n609 -> 610 ;\\n611 [label=\"gini = 0.0\\\\nsamples = 7\\\\nvalue = [7, 0]\"] ;\\n609 -> 611 ;\\n612 [label=\"behavioral_avoidance <= 1.5\\\\ngini = 0.225\\\\nsamples = 287\\\\nvalue = [250, 37]\"] ;\\n594 -> 612 ;\\n613 [label=\"opinion_seas_risk <= 2.0\\\\ngini = 0.215\\\\nsamples = 285\\\\nvalue = [250, 35]\"] ;\\n612 -> 613 ;\\n614 [label=\"marital_status <= 1.5\\\\ngini = 0.163\\\\nsamples = 235\\\\nvalue = [214, 21]\"] ;\\n613 -> 614 ;\\n615 [label=\"child_under_6_months <= 0.5\\\\ngini = 0.156\\\\nsamples = 234\\\\nvalue = [214, 20]\"] ;\\n614 -> 615 ;\\n616 [label=\"employment_industry <= 7.5\\\\ngini = 0.136\\\\nsamples = 218\\\\nvalue = [202, 16]\"] ;\\n615 -> 616 ;\\n617 [label=\"gini = 0.0\\\\nsamples = 52\\\\nvalue = [52, 0]\"] ;\\n616 -> 617 ;\\n618 [label=\"gini = 0.174\\\\nsamples = 166\\\\nvalue = [150, 16]\"] ;\\n616 -> 618 ;\\n619 [label=\"opinion_h1n1_sick_from_vacc <= 0.5\\\\ngini = 0.375\\\\nsamples = 16\\\\nvalue = [12, 4]\"] ;\\n615 -> 619 ;\\n620 [label=\"gini = 0.0\\\\nsamples = 9\\\\nvalue = [9, 0]\"] ;\\n619 -> 620 ;\\n621 [label=\"gini = 0.49\\\\nsamples = 7\\\\nvalue = [3, 4]\"] ;\\n619 -> 621 ;\\n622 [label=\"gini = 0.0\\\\nsamples = 1\\\\nvalue = [0, 1]\"] ;\\n614 -> 622 ;\\n623 [label=\"employment_occupation <= 20.5\\\\ngini = 0.403\\\\nsamples = 50\\\\nvalue = [36, 14]\"] ;\\n613 -> 623 ;\\n624 [label=\"income_poverty <= 0.5\\\\ngini = 0.331\\\\nsamples = 43\\\\nvalue = [34, 9]\"] ;\\n623 -> 624 ;\\n625 [label=\"household_children <= 1.5\\\\ngini = 0.1\\\\nsamples = 19\\\\nvalue = [18, 1]\"] ;\\n624 -> 625 ;\\n626 [label=\"gini = 0.0\\\\nsamples = 15\\\\nvalue = [15, 0]\"] ;\\n625 -> 626 ;\\n627 [label=\"gini = 0.375\\\\nsamples = 4\\\\nvalue = [3, 1]\"] ;\\n625 -> 627 ;\\n628 [label=\"opinion_h1n1_sick_from_vacc <= 2.0\\\\ngini = 0.444\\\\nsamples = 24\\\\nvalue = [16, 8]\"] ;\\n624 -> 628 ;\\n629 [label=\"gini = 0.494\\\\nsamples = 18\\\\nvalue = [10, 8]\"] ;\\n628 -> 629 ;\\n630 [label=\"gini = 0.0\\\\nsamples = 6\\\\nvalue = [6, 0]\"] ;\\n628 -> 630 ;\\n631 [label=\"household_children <= 0.5\\\\ngini = 0.408\\\\nsamples = 7\\\\nvalue = [2, 5]\"] ;\\n623 -> 631 ;\\n632 [label=\"opinion_h1n1_sick_from_vacc <= 2.0\\\\ngini = 0.444\\\\nsamples = 3\\\\nvalue = [2, 1]\"] ;\\n631 -> 632 ;\\n633 [label=\"gini = 0.0\\\\nsamples = 2\\\\nvalue = [2, 0]\"] ;\\n632 -> 633 ;\\n634 [label=\"gini = 0.0\\\\nsamples = 1\\\\nvalue = [0, 1]\"] ;\\n632 -> 634 ;\\n635 [label=\"gini = 0.0\\\\nsamples = 4\\\\nvalue = [0, 4]\"] ;\\n631 -> 635 ;\\n636 [label=\"gini = 0.0\\\\nsamples = 2\\\\nvalue = [0, 2]\"] ;\\n612 -> 636 ;\\n637 [label=\"sex <= 0.5\\\\ngini = 0.392\\\\nsamples = 273\\\\nvalue = [200, 73]\"] ;\\n593 -> 637 ;\\n638 [label=\"h1n1_knowledge <= 1.5\\\\ngini = 0.332\\\\nsamples = 162\\\\nvalue = [128, 34]\"] ;\\n637 -> 638 ;\\n639 [label=\"h1n1_concern <= 0.5\\\\ngini = 0.182\\\\nsamples = 99\\\\nvalue = [89, 10]\"] ;\\n638 -> 639 ;\\n640 [label=\"education <= 1.5\\\\ngini = 0.43\\\\nsamples = 16\\\\nvalue = [11, 5]\"] ;\\n639 -> 640 ;\\n641 [label=\"gini = 0.0\\\\nsamples = 3\\\\nvalue = [0, 3]\"] ;\\n640 -> 641 ;\\n642 [label=\"opinion_h1n1_sick_from_vacc <= 0.5\\\\ngini = 0.26\\\\nsamples = 13\\\\nvalue = [11, 2]\"] ;\\n640 -> 642 ;\\n643 [label=\"gini = 0.0\\\\nsamples = 9\\\\nvalue = [9, 0]\"] ;\\n642 -> 643 ;\\n644 [label=\"h1n1_knowledge <= 0.5\\\\ngini = 0.5\\\\nsamples = 4\\\\nvalue = [2, 2]\"] ;\\n642 -> 644 ;\\n645 [label=\"gini = 0.0\\\\nsamples = 2\\\\nvalue = [2, 0]\"] ;\\n644 -> 645 ;\\n646 [label=\"gini = 0.0\\\\nsamples = 2\\\\nvalue = [0, 2]\"] ;\\n644 -> 646 ;\\n647 [label=\"household_adults <= 2.5\\\\ngini = 0.113\\\\nsamples = 83\\\\nvalue = [78, 5]\"] ;\\n639 -> 647 ;\\n648 [label=\"behavioral_wash_hands <= 0.5\\\\ngini = 0.093\\\\nsamples = 82\\\\nvalue = [78, 4]\"] ;\\n647 -> 648 ;\\n649 [label=\"h1n1_concern <= 2.5\\\\ngini = 0.32\\\\nsamples = 10\\\\nvalue = [8, 2]\"] ;\\n648 -> 649 ;\\n650 [label=\"gini = 0.198\\\\nsamples = 9\\\\nvalue = [8, 1]\"] ;\\n649 -> 650 ;\\n651 [label=\"gini = 0.0\\\\nsamples = 1\\\\nvalue = [0, 1]\"] ;\\n649 -> 651 ;\\n652 [label=\"behavioral_avoidance <= 1.5\\\\ngini = 0.054\\\\nsamples = 72\\\\nvalue = [70, 2]\"] ;\\n648 -> 652 ;\\n653 [label=\"gini = 0.029\\\\nsamples = 69\\\\nvalue = [68, 1]\"] ;\\n652 -> 653 ;\\n654 [label=\"gini = 0.444\\\\nsamples = 3\\\\nvalue = [2, 1]\"] ;\\n652 -> 654 ;\\n655 [label=\"gini = 0.0\\\\nsamples = 1\\\\nvalue = [0, 1]\"] ;\\n647 -> 655 ;\\n656 [label=\"hhs_geo_region <= 6.5\\\\ngini = 0.472\\\\nsamples = 63\\\\nvalue = [39, 24]\"] ;\\n638 -> 656 ;\\n657 [label=\"education <= 0.5\\\\ngini = 0.426\\\\nsamples = 52\\\\nvalue = [36, 16]\"] ;\\n656 -> 657 ;\\n658 [label=\"opinion_seas_sick_from_vacc <= 0.5\\\\ngini = 0.444\\\\nsamples = 9\\\\nvalue = [3, 6]\"] ;\\n657 -> 658 ;\\n659 [label=\"gini = 0.0\\\\nsamples = 4\\\\nvalue = [0, 4]\"] ;\\n658 -> 659 ;\\n660 [label=\"chronic_med_condition <= 0.5\\\\ngini = 0.48\\\\nsamples = 5\\\\nvalue = [3, 2]\"] ;\\n658 -> 660 ;\\n661 [label=\"gini = 0.0\\\\nsamples = 3\\\\nvalue = [3, 0]\"] ;\\n660 -> 661 ;\\n662 [label=\"gini = 0.0\\\\nsamples = 2\\\\nvalue = [0, 2]\"] ;\\n660 -> 662 ;\\n663 [label=\"income_poverty <= 1.5\\\\ngini = 0.357\\\\nsamples = 43\\\\nvalue = [33, 10]\"] ;\\n657 -> 663 ;\\n664 [label=\"opinion_seas_vacc_effective <= 0.5\\\\ngini = 0.251\\\\nsamples = 34\\\\nvalue = [29, 5]\"] ;\\n663 -> 664 ;\\n665 [label=\"gini = 0.0\\\\nsamples = 1\\\\nvalue = [0, 1]\"] ;\\n664 -> 665 ;\\n666 [label=\"gini = 0.213\\\\nsamples = 33\\\\nvalue = [29, 4]\"] ;\\n664 -> 666 ;\\n667 [label=\"hhs_geo_region <= 3.5\\\\ngini = 0.494\\\\nsamples = 9\\\\nvalue = [4, 5]\"] ;\\n663 -> 667 ;\\n668 [label=\"gini = 0.0\\\\nsamples = 3\\\\nvalue = [3, 0]\"] ;\\n667 -> 668 ;\\n669 [label=\"gini = 0.278\\\\nsamples = 6\\\\nvalue = [1, 5]\"] ;\\n667 -> 669 ;\\n670 [label=\"opinion_seas_risk <= 0.5\\\\ngini = 0.397\\\\nsamples = 11\\\\nvalue = [3, 8]\"] ;\\n656 -> 670 ;\\n671 [label=\"gini = 0.0\\\\nsamples = 5\\\\nvalue = [0, 5]\"] ;\\n670 -> 671 ;\\n672 [label=\"household_adults <= 0.5\\\\ngini = 0.5\\\\nsamples = 6\\\\nvalue = [3, 3]\"] ;\\n670 -> 672 ;\\n673 [label=\"gini = 0.0\\\\nsamples = 2\\\\nvalue = [2, 0]\"] ;\\n672 -> 673 ;\\n674 [label=\"household_children <= 0.5\\\\ngini = 0.375\\\\nsamples = 4\\\\nvalue = [1, 3]\"] ;\\n672 -> 674 ;\\n675 [label=\"gini = 0.0\\\\nsamples = 3\\\\nvalue = [0, 3]\"] ;\\n674 -> 675 ;\\n676 [label=\"gini = 0.0\\\\nsamples = 1\\\\nvalue = [1, 0]\"] ;\\n674 -> 676 ;\\n677 [label=\"opinion_seas_vacc_effective <= 3.5\\\\ngini = 0.456\\\\nsamples = 111\\\\nvalue = [72, 39]\"] ;\\n637 -> 677 ;\\n678 [label=\"rent_or_own <= 0.5\\\\ngini = 0.32\\\\nsamples = 35\\\\nvalue = [28, 7]\"] ;\\n677 -> 678 ;\\n679 [label=\"household_adults <= 2.0\\\\ngini = 0.198\\\\nsamples = 27\\\\nvalue = [24, 3]\"] ;\\n678 -> 679 ;\\n680 [label=\"opinion_h1n1_sick_from_vacc <= 3.5\\\\ngini = 0.142\\\\nsamples = 26\\\\nvalue = [24, 2]\"] ;\\n679 -> 680 ;\\n681 [label=\"opinion_seas_sick_from_vacc <= 2.0\\\\ngini = 0.08\\\\nsamples = 24\\\\nvalue = [23, 1]\"] ;\\n680 -> 681 ;\\n682 [label=\"gini = 0.0\\\\nsamples = 23\\\\nvalue = [23, 0]\"] ;\\n681 -> 682 ;\\n683 [label=\"gini = 0.0\\\\nsamples = 1\\\\nvalue = [0, 1]\"] ;\\n681 -> 683 ;\\n684 [label=\"hhs_geo_region <= 6.5\\\\ngini = 0.5\\\\nsamples = 2\\\\nvalue = [1, 1]\"] ;\\n680 -> 684 ;\\n685 [label=\"gini = 0.0\\\\nsamples = 1\\\\nvalue = [0, 1]\"] ;\\n684 -> 685 ;\\n686 [label=\"gini = 0.0\\\\nsamples = 1\\\\nvalue = [1, 0]\"] ;\\n684 -> 686 ;\\n687 [label=\"gini = 0.0\\\\nsamples = 1\\\\nvalue = [0, 1]\"] ;\\n679 -> 687 ;\\n688 [label=\"opinion_seas_vacc_effective <= 2.0\\\\ngini = 0.5\\\\nsamples = 8\\\\nvalue = [4, 4]\"] ;\\n678 -> 688 ;\\n689 [label=\"gini = 0.0\\\\nsamples = 3\\\\nvalue = [0, 3]\"] ;\\n688 -> 689 ;\\n690 [label=\"hhs_geo_region <= 8.5\\\\ngini = 0.32\\\\nsamples = 5\\\\nvalue = [4, 1]\"] ;\\n688 -> 690 ;\\n691 [label=\"gini = 0.0\\\\nsamples = 4\\\\nvalue = [4, 0]\"] ;\\n690 -> 691 ;\\n692 [label=\"gini = 0.0\\\\nsamples = 1\\\\nvalue = [0, 1]\"] ;\\n690 -> 692 ;\\n693 [label=\"behavioral_wash_hands <= 0.5\\\\ngini = 0.488\\\\nsamples = 76\\\\nvalue = [44, 32]\"] ;\\n677 -> 693 ;\\n694 [label=\"hhs_geo_region <= 7.5\\\\ngini = 0.404\\\\nsamples = 32\\\\nvalue = [23, 9]\"] ;\\n693 -> 694 ;\\n695 [label=\"behavioral_touch_face <= 0.5\\\\ngini = 0.278\\\\nsamples = 24\\\\nvalue = [20, 4]\"] ;\\n694 -> 695 ;\\n696 [label=\"education <= 1.5\\\\ngini = 0.408\\\\nsamples = 14\\\\nvalue = [10, 4]\"] ;\\n695 -> 696 ;\\n697 [label=\"gini = 0.444\\\\nsamples = 3\\\\nvalue = [1, 2]\"] ;\\n696 -> 697 ;\\n698 [label=\"gini = 0.298\\\\nsamples = 11\\\\nvalue = [9, 2]\"] ;\\n696 -> 698 ;\\n699 [label=\"gini = 0.0\\\\nsamples = 10\\\\nvalue = [10, 0]\"] ;\\n695 -> 699 ;\\n700 [label=\"age_group <= 3.5\\\\ngini = 0.469\\\\nsamples = 8\\\\nvalue = [3, 5]\"] ;\\n694 -> 700 ;\\n701 [label=\"household_adults <= 1.5\\\\ngini = 0.375\\\\nsamples = 4\\\\nvalue = [3, 1]\"] ;\\n700 -> 701 ;\\n702 [label=\"gini = 0.0\\\\nsamples = 3\\\\nvalue = [3, 0]\"] ;\\n701 -> 702 ;\\n703 [label=\"gini = 0.0\\\\nsamples = 1\\\\nvalue = [0, 1]\"] ;\\n701 -> 703 ;\\n704 [label=\"gini = 0.0\\\\nsamples = 4\\\\nvalue = [0, 4]\"] ;\\n700 -> 704 ;\\n705 [label=\"employment_occupation <= 7.5\\\\ngini = 0.499\\\\nsamples = 44\\\\nvalue = [21, 23]\"] ;\\n693 -> 705 ;\\n706 [label=\"hhs_geo_region <= 2.0\\\\ngini = 0.278\\\\nsamples = 6\\\\nvalue = [5, 1]\"] ;\\n705 -> 706 ;\\n707 [label=\"gini = 0.0\\\\nsamples = 1\\\\nvalue = [0, 1]\"] ;\\n706 -> 707 ;\\n708 [label=\"gini = 0.0\\\\nsamples = 5\\\\nvalue = [5, 0]\"] ;\\n706 -> 708 ;\\n709 [label=\"income_poverty <= 2.5\\\\ngini = 0.488\\\\nsamples = 38\\\\nvalue = [16, 22]\"] ;\\n705 -> 709 ;\\n710 [label=\"employment_occupation <= 10.5\\\\ngini = 0.5\\\\nsamples = 33\\\\nvalue = [16, 17]\"] ;\\n709 -> 710 ;\\n711 [label=\"gini = 0.0\\\\nsamples = 4\\\\nvalue = [0, 4]\"] ;\\n710 -> 711 ;\\n712 [label=\"gini = 0.495\\\\nsamples = 29\\\\nvalue = [16, 13]\"] ;\\n710 -> 712 ;\\n713 [label=\"gini = 0.0\\\\nsamples = 5\\\\nvalue = [0, 5]\"] ;\\n709 -> 713 ;\\n714 [label=\"h1n1_concern <= 0.5\\\\ngini = 0.098\\\\nsamples = 136\\\\nvalue = [129, 7]\"] ;\\n592 -> 714 ;\\n715 [label=\"employment_occupation <= 9.5\\\\ngini = 0.278\\\\nsamples = 18\\\\nvalue = [15, 3]\"] ;\\n714 -> 715 ;\\n716 [label=\"sex <= 0.5\\\\ngini = 0.444\\\\nsamples = 3\\\\nvalue = [1, 2]\"] ;\\n715 -> 716 ;\\n717 [label=\"gini = 0.0\\\\nsamples = 1\\\\nvalue = [1, 0]\"] ;\\n716 -> 717 ;\\n718 [label=\"gini = 0.0\\\\nsamples = 2\\\\nvalue = [0, 2]\"] ;\\n716 -> 718 ;\\n719 [label=\"h1n1_knowledge <= 1.5\\\\ngini = 0.124\\\\nsamples = 15\\\\nvalue = [14, 1]\"] ;\\n715 -> 719 ;\\n720 [label=\"gini = 0.0\\\\nsamples = 12\\\\nvalue = [12, 0]\"] ;\\n719 -> 720 ;\\n721 [label=\"behavioral_large_gatherings <= 0.5\\\\ngini = 0.444\\\\nsamples = 3\\\\nvalue = [2, 1]\"] ;\\n719 -> 721 ;\\n722 [label=\"gini = 0.0\\\\nsamples = 2\\\\nvalue = [2, 0]\"] ;\\n721 -> 722 ;\\n723 [label=\"gini = 0.0\\\\nsamples = 1\\\\nvalue = [0, 1]\"] ;\\n721 -> 723 ;\\n724 [label=\"education <= 2.5\\\\ngini = 0.065\\\\nsamples = 118\\\\nvalue = [114, 4]\"] ;\\n714 -> 724 ;\\n725 [label=\"gini = 0.0\\\\nsamples = 87\\\\nvalue = [87, 0]\"] ;\\n724 -> 725 ;\\n726 [label=\"behavioral_wash_hands <= 0.5\\\\ngini = 0.225\\\\nsamples = 31\\\\nvalue = [27, 4]\"] ;\\n724 -> 726 ;\\n727 [label=\"behavioral_touch_face <= 0.5\\\\ngini = 0.5\\\\nsamples = 4\\\\nvalue = [2, 2]\"] ;\\n726 -> 727 ;\\n728 [label=\"gini = 0.0\\\\nsamples = 2\\\\nvalue = [0, 2]\"] ;\\n727 -> 728 ;\\n729 [label=\"gini = 0.0\\\\nsamples = 2\\\\nvalue = [2, 0]\"] ;\\n727 -> 729 ;\\n730 [label=\"h1n1_concern <= 2.5\\\\ngini = 0.137\\\\nsamples = 27\\\\nvalue = [25, 2]\"] ;\\n726 -> 730 ;\\n731 [label=\"gini = 0.0\\\\nsamples = 21\\\\nvalue = [21, 0]\"] ;\\n730 -> 731 ;\\n732 [label=\"opinion_seas_sick_from_vacc <= 2.0\\\\ngini = 0.444\\\\nsamples = 6\\\\nvalue = [4, 2]\"] ;\\n730 -> 732 ;\\n733 [label=\"hhs_geo_region <= 5.5\\\\ngini = 0.444\\\\nsamples = 3\\\\nvalue = [1, 2]\"] ;\\n732 -> 733 ;\\n734 [label=\"gini = 0.0\\\\nsamples = 1\\\\nvalue = [1, 0]\"] ;\\n733 -> 734 ;\\n735 [label=\"gini = 0.0\\\\nsamples = 2\\\\nvalue = [0, 2]\"] ;\\n733 -> 735 ;\\n736 [label=\"gini = 0.0\\\\nsamples = 3\\\\nvalue = [3, 0]\"] ;\\n732 -> 736 ;\\n737 [label=\"health_insurance <= 0.5\\\\ngini = 0.442\\\\nsamples = 980\\\\nvalue = [657, 323]\"] ;\\n591 -> 737 ;\\n738 [label=\"health_worker <= 0.5\\\\ngini = 0.207\\\\nsamples = 94\\\\nvalue = [83, 11]\"] ;\\n737 -> 738 ;\\n739 [label=\"hhs_geo_region <= 8.5\\\\ngini = 0.162\\\\nsamples = 90\\\\nvalue = [82, 8]\"] ;\\n738 -> 739 ;\\n740 [label=\"employment_status <= 1.5\\\\ngini = 0.076\\\\nsamples = 76\\\\nvalue = [73, 3]\"] ;\\n739 -> 740 ;\\n741 [label=\"gini = 0.0\\\\nsamples = 50\\\\nvalue = [50, 0]\"] ;\\n740 -> 741 ;\\n742 [label=\"opinion_seas_sick_from_vacc <= 3.5\\\\ngini = 0.204\\\\nsamples = 26\\\\nvalue = [23, 3]\"] ;\\n740 -> 742 ;\\n743 [label=\"hhs_geo_region <= 3.5\\\\ngini = 0.147\\\\nsamples = 25\\\\nvalue = [23, 2]\"] ;\\n742 -> 743 ;\\n744 [label=\"age_group <= 1.5\\\\ngini = 0.408\\\\nsamples = 7\\\\nvalue = [5, 2]\"] ;\\n743 -> 744 ;\\n745 [label=\"gini = 0.0\\\\nsamples = 2\\\\nvalue = [0, 2]\"] ;\\n744 -> 745 ;\\n746 [label=\"gini = 0.0\\\\nsamples = 5\\\\nvalue = [5, 0]\"] ;\\n744 -> 746 ;\\n747 [label=\"gini = 0.0\\\\nsamples = 18\\\\nvalue = [18, 0]\"] ;\\n743 -> 747 ;\\n748 [label=\"gini = 0.0\\\\nsamples = 1\\\\nvalue = [0, 1]\"] ;\\n742 -> 748 ;\\n749 [label=\"age_group <= 2.5\\\\ngini = 0.459\\\\nsamples = 14\\\\nvalue = [9, 5]\"] ;\\n739 -> 749 ;\\n750 [label=\"h1n1_concern <= 0.5\\\\ngini = 0.219\\\\nsamples = 8\\\\nvalue = [7, 1]\"] ;\\n749 -> 750 ;\\n751 [label=\"gini = 0.0\\\\nsamples = 1\\\\nvalue = [0, 1]\"] ;\\n750 -> 751 ;\\n752 [label=\"gini = 0.0\\\\nsamples = 7\\\\nvalue = [7, 0]\"] ;\\n750 -> 752 ;\\n753 [label=\"employment_occupation <= 14.0\\\\ngini = 0.444\\\\nsamples = 6\\\\nvalue = [2, 4]\"] ;\\n749 -> 753 ;\\n754 [label=\"census_msa <= 1.0\\\\ngini = 0.444\\\\nsamples = 3\\\\nvalue = [2, 1]\"] ;\\n753 -> 754 ;\\n755 [label=\"gini = 0.0\\\\nsamples = 2\\\\nvalue = [2, 0]\"] ;\\n754 -> 755 ;\\n756 [label=\"gini = 0.0\\\\nsamples = 1\\\\nvalue = [0, 1]\"] ;\\n754 -> 756 ;\\n757 [label=\"gini = 0.0\\\\nsamples = 3\\\\nvalue = [0, 3]\"] ;\\n753 -> 757 ;\\n758 [label=\"employment_occupation <= 11.5\\\\ngini = 0.375\\\\nsamples = 4\\\\nvalue = [1, 3]\"] ;\\n738 -> 758 ;\\n759 [label=\"gini = 0.0\\\\nsamples = 3\\\\nvalue = [0, 3]\"] ;\\n758 -> 759 ;\\n760 [label=\"gini = 0.0\\\\nsamples = 1\\\\nvalue = [1, 0]\"] ;\\n758 -> 760 ;\\n761 [label=\"h1n1_knowledge <= 1.5\\\\ngini = 0.456\\\\nsamples = 886\\\\nvalue = [574, 312]\"] ;\\n737 -> 761 ;\\n762 [label=\"h1n1_concern <= 1.5\\\\ngini = 0.422\\\\nsamples = 489\\\\nvalue = [341, 148]\"] ;\\n761 -> 762 ;\\n763 [label=\"chronic_med_condition <= 0.5\\\\ngini = 0.348\\\\nsamples = 187\\\\nvalue = [145, 42]\"] ;\\n762 -> 763 ;\\n764 [label=\"education <= 1.5\\\\ngini = 0.304\\\\nsamples = 139\\\\nvalue = [113, 26]\"] ;\\n763 -> 764 ;\\n765 [label=\"employment_occupation <= 6.0\\\\ngini = 0.13\\\\nsamples = 43\\\\nvalue = [40, 3]\"] ;\\n764 -> 765 ;\\n766 [label=\"gini = 0.0\\\\nsamples = 1\\\\nvalue = [0, 1]\"] ;\\n765 -> 766 ;\\n767 [label=\"hhs_geo_region <= 3.5\\\\ngini = 0.091\\\\nsamples = 42\\\\nvalue = [40, 2]\"] ;\\n765 -> 767 ;\\n768 [label=\"age_group <= 2.5\\\\ngini = 0.278\\\\nsamples = 12\\\\nvalue = [10, 2]\"] ;\\n767 -> 768 ;\\n769 [label=\"gini = 0.0\\\\nsamples = 7\\\\nvalue = [7, 0]\"] ;\\n768 -> 769 ;\\n770 [label=\"gini = 0.48\\\\nsamples = 5\\\\nvalue = [3, 2]\"] ;\\n768 -> 770 ;\\n771 [label=\"gini = 0.0\\\\nsamples = 30\\\\nvalue = [30, 0]\"] ;\\n767 -> 771 ;\\n772 [label=\"employment_industry <= 18.5\\\\ngini = 0.364\\\\nsamples = 96\\\\nvalue = [73, 23]\"] ;\\n764 -> 772 ;\\n773 [label=\"opinion_seas_vacc_effective <= 3.5\\\\ngini = 0.405\\\\nsamples = 78\\\\nvalue = [56, 22]\"] ;\\n772 -> 773 ;\\n774 [label=\"opinion_seas_risk <= 3.5\\\\ngini = 0.489\\\\nsamples = 33\\\\nvalue = [19, 14]\"] ;\\n773 -> 774 ;\\n775 [label=\"gini = 0.475\\\\nsamples = 31\\\\nvalue = [19, 12]\"] ;\\n774 -> 775 ;\\n776 [label=\"gini = 0.0\\\\nsamples = 2\\\\nvalue = [0, 2]\"] ;\\n774 -> 776 ;\\n777 [label=\"household_children <= 1.5\\\\ngini = 0.292\\\\nsamples = 45\\\\nvalue = [37, 8]\"] ;\\n773 -> 777 ;\\n778 [label=\"gini = 0.219\\\\nsamples = 40\\\\nvalue = [35, 5]\"] ;\\n777 -> 778 ;\\n779 [label=\"gini = 0.48\\\\nsamples = 5\\\\nvalue = [2, 3]\"] ;\\n777 -> 779 ;\\n780 [label=\"opinion_h1n1_sick_from_vacc <= 0.5\\\\ngini = 0.105\\\\nsamples = 18\\\\nvalue = [17, 1]\"] ;\\n772 -> 780 ;\\n781 [label=\"hhs_geo_region <= 4.0\\\\ngini = 0.32\\\\nsamples = 5\\\\nvalue = [4, 1]\"] ;\\n780 -> 781 ;\\n782 [label=\"gini = 0.0\\\\nsamples = 1\\\\nvalue = [0, 1]\"] ;\\n781 -> 782 ;\\n783 [label=\"gini = 0.0\\\\nsamples = 4\\\\nvalue = [4, 0]\"] ;\\n781 -> 783 ;\\n784 [label=\"gini = 0.0\\\\nsamples = 13\\\\nvalue = [13, 0]\"] ;\\n780 -> 784 ;\\n785 [label=\"hhs_geo_region <= 7.5\\\\ngini = 0.444\\\\nsamples = 48\\\\nvalue = [32, 16]\"] ;\\n763 -> 785 ;\\n786 [label=\"opinion_seas_sick_from_vacc <= 2.5\\\\ngini = 0.355\\\\nsamples = 39\\\\nvalue = [30, 9]\"] ;\\n785 -> 786 ;\\n787 [label=\"census_msa <= 1.5\\\\ngini = 0.231\\\\nsamples = 30\\\\nvalue = [26, 4]\"] ;\\n786 -> 787 ;\\n788 [label=\"behavioral_large_gatherings <= 1.5\\\\ngini = 0.08\\\\nsamples = 24\\\\nvalue = [23, 1]\"] ;\\n787 -> 788 ;\\n789 [label=\"gini = 0.0\\\\nsamples = 23\\\\nvalue = [23, 0]\"] ;\\n788 -> 789 ;\\n790 [label=\"gini = 0.0\\\\nsamples = 1\\\\nvalue = [0, 1]\"] ;\\n788 -> 790 ;\\n791 [label=\"opinion_seas_sick_from_vacc <= 0.5\\\\ngini = 0.5\\\\nsamples = 6\\\\nvalue = [3, 3]\"] ;\\n787 -> 791 ;\\n792 [label=\"gini = 0.0\\\\nsamples = 2\\\\nvalue = [0, 2]\"] ;\\n791 -> 792 ;\\n793 [label=\"gini = 0.375\\\\nsamples = 4\\\\nvalue = [3, 1]\"] ;\\n791 -> 793 ;\\n794 [label=\"h1n1_concern <= 0.5\\\\ngini = 0.494\\\\nsamples = 9\\\\nvalue = [4, 5]\"] ;\\n786 -> 794 ;\\n795 [label=\"gini = 0.0\\\\nsamples = 3\\\\nvalue = [0, 3]\"] ;\\n794 -> 795 ;\\n796 [label=\"income_poverty <= 1.0\\\\ngini = 0.444\\\\nsamples = 6\\\\nvalue = [4, 2]\"] ;\\n794 -> 796 ;\\n797 [label=\"gini = 0.444\\\\nsamples = 3\\\\nvalue = [1, 2]\"] ;\\n796 -> 797 ;\\n798 [label=\"gini = 0.0\\\\nsamples = 3\\\\nvalue = [3, 0]\"] ;\\n796 -> 798 ;\\n799 [label=\"opinion_seas_vacc_effective <= 3.5\\\\ngini = 0.346\\\\nsamples = 9\\\\nvalue = [2, 7]\"] ;\\n785 -> 799 ;\\n800 [label=\"gini = 0.0\\\\nsamples = 2\\\\nvalue = [2, 0]\"] ;\\n799 -> 800 ;\\n801 [label=\"gini = 0.0\\\\nsamples = 7\\\\nvalue = [0, 7]\"] ;\\n799 -> 801 ;\\n802 [label=\"employment_industry <= 17.5\\\\ngini = 0.456\\\\nsamples = 302\\\\nvalue = [196, 106]\"] ;\\n762 -> 802 ;\\n803 [label=\"behavioral_avoidance <= 0.5\\\\ngini = 0.472\\\\nsamples = 252\\\\nvalue = [156, 96]\"] ;\\n802 -> 803 ;\\n804 [label=\"behavioral_wash_hands <= 0.5\\\\ngini = 0.496\\\\nsamples = 46\\\\nvalue = [21, 25]\"] ;\\n803 -> 804 ;\\n805 [label=\"age_group <= 1.5\\\\ngini = 0.397\\\\nsamples = 11\\\\nvalue = [8, 3]\"] ;\\n804 -> 805 ;\\n806 [label=\"gini = 0.0\\\\nsamples = 2\\\\nvalue = [0, 2]\"] ;\\n805 -> 806 ;\\n807 [label=\"hhs_geo_region <= 2.0\\\\ngini = 0.198\\\\nsamples = 9\\\\nvalue = [8, 1]\"] ;\\n805 -> 807 ;\\n808 [label=\"gini = 0.5\\\\nsamples = 2\\\\nvalue = [1, 1]\"] ;\\n807 -> 808 ;\\n809 [label=\"gini = 0.0\\\\nsamples = 7\\\\nvalue = [7, 0]\"] ;\\n807 -> 809 ;\\n810 [label=\"income_poverty <= 2.5\\\\ngini = 0.467\\\\nsamples = 35\\\\nvalue = [13, 22]\"] ;\\n804 -> 810 ;\\n811 [label=\"hhs_geo_region <= 8.5\\\\ngini = 0.491\\\\nsamples = 30\\\\nvalue = [13, 17]\"] ;\\n810 -> 811 ;\\n812 [label=\"gini = 0.444\\\\nsamples = 24\\\\nvalue = [8, 16]\"] ;\\n811 -> 812 ;\\n813 [label=\"gini = 0.278\\\\nsamples = 6\\\\nvalue = [5, 1]\"] ;\\n811 -> 813 ;\\n814 [label=\"gini = 0.0\\\\nsamples = 5\\\\nvalue = [0, 5]\"] ;\\n810 -> 814 ;\\n815 [label=\"employment_industry <= 7.5\\\\ngini = 0.452\\\\nsamples = 206\\\\nvalue = [135, 71]\"] ;\\n803 -> 815 ;\\n816 [label=\"opinion_seas_vacc_effective <= 3.5\\\\ngini = 0.306\\\\nsamples = 53\\\\nvalue = [43, 10]\"] ;\\n815 -> 816 ;\\n817 [label=\"opinion_seas_vacc_effective <= 1.5\\\\ngini = 0.091\\\\nsamples = 21\\\\nvalue = [20, 1]\"] ;\\n816 -> 817 ;\\n818 [label=\"gini = 0.5\\\\nsamples = 2\\\\nvalue = [1, 1]\"] ;\\n817 -> 818 ;\\n819 [label=\"gini = 0.0\\\\nsamples = 19\\\\nvalue = [19, 0]\"] ;\\n817 -> 819 ;\\n820 [label=\"hhs_geo_region <= 7.5\\\\ngini = 0.404\\\\nsamples = 32\\\\nvalue = [23, 9]\"] ;\\n816 -> 820 ;\\n821 [label=\"gini = 0.346\\\\nsamples = 27\\\\nvalue = [21, 6]\"] ;\\n820 -> 821 ;\\n822 [label=\"gini = 0.48\\\\nsamples = 5\\\\nvalue = [2, 3]\"] ;\\n820 -> 822 ;\\n823 [label=\"age_group <= 0.5\\\\ngini = 0.479\\\\nsamples = 153\\\\nvalue = [92, 61]\"] ;\\n815 -> 823 ;\\n824 [label=\"sex <= 0.5\\\\ngini = 0.266\\\\nsamples = 19\\\\nvalue = [16, 3]\"] ;\\n823 -> 824 ;\\n825 [label=\"gini = 0.0\\\\nsamples = 14\\\\nvalue = [14, 0]\"] ;\\n824 -> 825 ;\\n826 [label=\"gini = 0.48\\\\nsamples = 5\\\\nvalue = [2, 3]\"] ;\\n824 -> 826 ;\\n827 [label=\"sex <= 0.5\\\\ngini = 0.491\\\\nsamples = 134\\\\nvalue = [76, 58]\"] ;\\n823 -> 827 ;\\n828 [label=\"gini = 0.5\\\\nsamples = 86\\\\nvalue = [43, 43]\"] ;\\n827 -> 828 ;\\n829 [label=\"gini = 0.43\\\\nsamples = 48\\\\nvalue = [33, 15]\"] ;\\n827 -> 829 ;\\n830 [label=\"opinion_seas_sick_from_vacc <= 0.5\\\\ngini = 0.32\\\\nsamples = 50\\\\nvalue = [40, 10]\"] ;\\n802 -> 830 ;\\n831 [label=\"household_adults <= 1.5\\\\ngini = 0.494\\\\nsamples = 18\\\\nvalue = [10, 8]\"] ;\\n830 -> 831 ;\\n832 [label=\"h1n1_concern <= 2.5\\\\ngini = 0.444\\\\nsamples = 15\\\\nvalue = [10, 5]\"] ;\\n831 -> 832 ;\\n833 [label=\"employment_occupation <= 8.5\\\\ngini = 0.355\\\\nsamples = 13\\\\nvalue = [10, 3]\"] ;\\n832 -> 833 ;\\n834 [label=\"gini = 0.48\\\\nsamples = 5\\\\nvalue = [2, 3]\"] ;\\n833 -> 834 ;\\n835 [label=\"gini = 0.0\\\\nsamples = 8\\\\nvalue = [8, 0]\"] ;\\n833 -> 835 ;\\n836 [label=\"gini = 0.0\\\\nsamples = 2\\\\nvalue = [0, 2]\"] ;\\n832 -> 836 ;\\n837 [label=\"gini = 0.0\\\\nsamples = 3\\\\nvalue = [0, 3]\"] ;\\n831 -> 837 ;\\n838 [label=\"income_poverty <= 2.5\\\\ngini = 0.117\\\\nsamples = 32\\\\nvalue = [30, 2]\"] ;\\n830 -> 838 ;\\n839 [label=\"opinion_seas_vacc_effective <= 2.0\\\\ngini = 0.062\\\\nsamples = 31\\\\nvalue = [30, 1]\"] ;\\n838 -> 839 ;\\n840 [label=\"gini = 0.0\\\\nsamples = 1\\\\nvalue = [0, 1]\"] ;\\n839 -> 840 ;\\n841 [label=\"gini = 0.0\\\\nsamples = 30\\\\nvalue = [30, 0]\"] ;\\n839 -> 841 ;\\n842 [label=\"gini = 0.0\\\\nsamples = 1\\\\nvalue = [0, 1]\"] ;\\n838 -> 842 ;\\n843 [label=\"health_worker <= 0.5\\\\ngini = 0.485\\\\nsamples = 397\\\\nvalue = [233, 164]\"] ;\\n761 -> 843 ;\\n844 [label=\"employment_industry <= 18.5\\\\ngini = 0.468\\\\nsamples = 340\\\\nvalue = [213, 127]\"] ;\\n843 -> 844 ;\\n845 [label=\"doctor_recc_seasonal <= 0.5\\\\ngini = 0.451\\\\nsamples = 291\\\\nvalue = [191, 100]\"] ;\\n844 -> 845 ;\\n846 [label=\"age_group <= 1.5\\\\ngini = 0.475\\\\nsamples = 217\\\\nvalue = [133, 84]\"] ;\\n845 -> 846 ;\\n847 [label=\"hhs_geo_region <= 0.5\\\\ngini = 0.375\\\\nsamples = 68\\\\nvalue = [51, 17]\"] ;\\n846 -> 847 ;\\n848 [label=\"opinion_seas_vacc_effective <= 3.5\\\\ngini = 0.375\\\\nsamples = 4\\\\nvalue = [1, 3]\"] ;\\n847 -> 848 ;\\n849 [label=\"gini = 0.0\\\\nsamples = 1\\\\nvalue = [1, 0]\"] ;\\n848 -> 849 ;\\n850 [label=\"gini = 0.0\\\\nsamples = 3\\\\nvalue = [0, 3]\"] ;\\n848 -> 850 ;\\n851 [label=\"h1n1_concern <= 0.5\\\\ngini = 0.342\\\\nsamples = 64\\\\nvalue = [50, 14]\"] ;\\n847 -> 851 ;\\n852 [label=\"gini = 0.49\\\\nsamples = 7\\\\nvalue = [3, 4]\"] ;\\n851 -> 852 ;\\n853 [label=\"gini = 0.289\\\\nsamples = 57\\\\nvalue = [47, 10]\"] ;\\n851 -> 853 ;\\n854 [label=\"opinion_h1n1_sick_from_vacc <= 2.0\\\\ngini = 0.495\\\\nsamples = 149\\\\nvalue = [82, 67]\"] ;\\n846 -> 854 ;\\n855 [label=\"hhs_geo_region <= 4.5\\\\ngini = 0.484\\\\nsamples = 119\\\\nvalue = [70, 49]\"] ;\\n854 -> 855 ;\\n856 [label=\"gini = 0.398\\\\nsamples = 51\\\\nvalue = [37, 14]\"] ;\\n855 -> 856 ;\\n857 [label=\"gini = 0.5\\\\nsamples = 68\\\\nvalue = [33, 35]\"] ;\\n855 -> 857 ;\\n858 [label=\"behavioral_outside_home <= 0.5\\\\ngini = 0.48\\\\nsamples = 30\\\\nvalue = [12, 18]\"] ;\\n854 -> 858 ;\\n859 [label=\"gini = 0.351\\\\nsamples = 22\\\\nvalue = [5, 17]\"] ;\\n858 -> 859 ;\\n860 [label=\"gini = 0.219\\\\nsamples = 8\\\\nvalue = [7, 1]\"] ;\\n858 -> 860 ;\\n861 [label=\"opinion_h1n1_sick_from_vacc <= 2.0\\\\ngini = 0.339\\\\nsamples = 74\\\\nvalue = [58, 16]\"] ;\\n845 -> 861 ;\\n862 [label=\"h1n1_concern <= 0.5\\\\ngini = 0.226\\\\nsamples = 54\\\\nvalue = [47, 7]\"] ;\\n861 -> 862 ;\\n863 [label=\"employment_occupation <= 9.0\\\\ngini = 0.444\\\\nsamples = 3\\\\nvalue = [1, 2]\"] ;\\n862 -> 863 ;\\n864 [label=\"gini = 0.0\\\\nsamples = 1\\\\nvalue = [1, 0]\"] ;\\n863 -> 864 ;\\n865 [label=\"gini = 0.0\\\\nsamples = 2\\\\nvalue = [0, 2]\"] ;\\n863 -> 865 ;\\n866 [label=\"employment_status <= 1.5\\\\ngini = 0.177\\\\nsamples = 51\\\\nvalue = [46, 5]\"] ;\\n862 -> 866 ;\\n867 [label=\"gini = 0.147\\\\nsamples = 50\\\\nvalue = [46, 4]\"] ;\\n866 -> 867 ;\\n868 [label=\"gini = 0.0\\\\nsamples = 1\\\\nvalue = [0, 1]\"] ;\\n866 -> 868 ;\\n869 [label=\"hhs_geo_region <= 6.5\\\\ngini = 0.495\\\\nsamples = 20\\\\nvalue = [11, 9]\"] ;\\n861 -> 869 ;\\n870 [label=\"census_msa <= 1.5\\\\ngini = 0.48\\\\nsamples = 15\\\\nvalue = [6, 9]\"] ;\\n869 -> 870 ;\\n871 [label=\"gini = 0.375\\\\nsamples = 12\\\\nvalue = [3, 9]\"] ;\\n870 -> 871 ;\\n872 [label=\"gini = 0.0\\\\nsamples = 3\\\\nvalue = [3, 0]\"] ;\\n870 -> 872 ;\\n873 [label=\"gini = 0.0\\\\nsamples = 5\\\\nvalue = [5, 0]\"] ;\\n869 -> 873 ;\\n874 [label=\"opinion_seas_risk <= 3.5\\\\ngini = 0.495\\\\nsamples = 49\\\\nvalue = [22, 27]\"] ;\\n844 -> 874 ;\\n875 [label=\"employment_industry <= 19.5\\\\ngini = 0.5\\\\nsamples = 45\\\\nvalue = [22, 23]\"] ;\\n874 -> 875 ;\\n876 [label=\"sex <= 0.5\\\\ngini = 0.497\\\\nsamples = 37\\\\nvalue = [20, 17]\"] ;\\n875 -> 876 ;\\n877 [label=\"hhs_geo_region <= 3.5\\\\ngini = 0.466\\\\nsamples = 27\\\\nvalue = [17, 10]\"] ;\\n876 -> 877 ;\\n878 [label=\"gini = 0.444\\\\nsamples = 9\\\\nvalue = [3, 6]\"] ;\\n877 -> 878 ;\\n879 [label=\"gini = 0.346\\\\nsamples = 18\\\\nvalue = [14, 4]\"] ;\\n877 -> 879 ;\\n880 [label=\"age_group <= 1.5\\\\ngini = 0.42\\\\nsamples = 10\\\\nvalue = [3, 7]\"] ;\\n876 -> 880 ;\\n881 [label=\"gini = 0.48\\\\nsamples = 5\\\\nvalue = [3, 2]\"] ;\\n880 -> 881 ;\\n882 [label=\"gini = 0.0\\\\nsamples = 5\\\\nvalue = [0, 5]\"] ;\\n880 -> 882 ;\\n883 [label=\"sex <= 0.5\\\\ngini = 0.375\\\\nsamples = 8\\\\nvalue = [2, 6]\"] ;\\n875 -> 883 ;\\n884 [label=\"gini = 0.0\\\\nsamples = 5\\\\nvalue = [0, 5]\"] ;\\n883 -> 884 ;\\n885 [label=\"hhs_geo_region <= 5.0\\\\ngini = 0.444\\\\nsamples = 3\\\\nvalue = [2, 1]\"] ;\\n883 -> 885 ;\\n886 [label=\"gini = 0.0\\\\nsamples = 1\\\\nvalue = [0, 1]\"] ;\\n885 -> 886 ;\\n887 [label=\"gini = 0.0\\\\nsamples = 2\\\\nvalue = [2, 0]\"] ;\\n885 -> 887 ;\\n888 [label=\"gini = 0.0\\\\nsamples = 4\\\\nvalue = [0, 4]\"] ;\\n874 -> 888 ;\\n889 [label=\"doctor_recc_seasonal <= 0.5\\\\ngini = 0.456\\\\nsamples = 57\\\\nvalue = [20, 37]\"] ;\\n843 -> 889 ;\\n890 [label=\"employment_occupation <= 1.5\\\\ngini = 0.39\\\\nsamples = 49\\\\nvalue = [13, 36]\"] ;\\n889 -> 890 ;\\n891 [label=\"gini = 0.0\\\\nsamples = 2\\\\nvalue = [2, 0]\"] ;\\n890 -> 891 ;\\n892 [label=\"opinion_seas_vacc_effective <= 2.0\\\\ngini = 0.359\\\\nsamples = 47\\\\nvalue = [11, 36]\"] ;\\n890 -> 892 ;\\n893 [label=\"gini = 0.0\\\\nsamples = 2\\\\nvalue = [2, 0]\"] ;\\n892 -> 893 ;\\n894 [label=\"census_msa <= 0.5\\\\ngini = 0.32\\\\nsamples = 45\\\\nvalue = [9, 36]\"] ;\\n892 -> 894 ;\\n895 [label=\"h1n1_concern <= 1.5\\\\ngini = 0.455\\\\nsamples = 20\\\\nvalue = [7, 13]\"] ;\\n894 -> 895 ;\\n896 [label=\"gini = 0.0\\\\nsamples = 9\\\\nvalue = [0, 9]\"] ;\\n895 -> 896 ;\\n897 [label=\"gini = 0.463\\\\nsamples = 11\\\\nvalue = [7, 4]\"] ;\\n895 -> 897 ;\\n898 [label=\"opinion_h1n1_risk <= 1.5\\\\ngini = 0.147\\\\nsamples = 25\\\\nvalue = [2, 23]\"] ;\\n894 -> 898 ;\\n899 [label=\"gini = 0.08\\\\nsamples = 24\\\\nvalue = [1, 23]\"] ;\\n898 -> 899 ;\\n900 [label=\"gini = 0.0\\\\nsamples = 1\\\\nvalue = [1, 0]\"] ;\\n898 -> 900 ;\\n901 [label=\"income_poverty <= 2.0\\\\ngini = 0.219\\\\nsamples = 8\\\\nvalue = [7, 1]\"] ;\\n889 -> 901 ;\\n902 [label=\"gini = 0.0\\\\nsamples = 7\\\\nvalue = [7, 0]\"] ;\\n901 -> 902 ;\\n903 [label=\"gini = 0.0\\\\nsamples = 1\\\\nvalue = [0, 1]\"] ;\\n901 -> 903 ;\\n904 [label=\"health_worker <= 0.5\\\\ngini = 0.159\\\\nsamples = 1228\\\\nvalue = [1121, 107]\"] ;\\n590 -> 904 ;\\n905 [label=\"household_adults <= 3.5\\\\ngini = 0.139\\\\nsamples = 1075\\\\nvalue = [994, 81]\"] ;\\n904 -> 905 ;\\n906 [label=\"rent_or_own <= 1.5\\\\ngini = 0.138\\\\nsamples = 1074\\\\nvalue = [994, 80]\"] ;\\n905 -> 906 ;\\n907 [label=\"behavioral_face_mask <= 0.5\\\\ngini = 0.128\\\\nsamples = 1016\\\\nvalue = [946, 70]\"] ;\\n906 -> 907 ;\\n908 [label=\"opinion_h1n1_risk <= 0.5\\\\ngini = 0.118\\\\nsamples = 968\\\\nvalue = [907, 61]\"] ;\\n907 -> 908 ;\\n909 [label=\"household_adults <= 2.5\\\\ngini = 0.078\\\\nsamples = 371\\\\nvalue = [356, 15]\"] ;\\n908 -> 909 ;\\n910 [label=\"household_children <= 0.5\\\\ngini = 0.069\\\\nsamples = 362\\\\nvalue = [349, 13]\"] ;\\n909 -> 910 ;\\n911 [label=\"behavioral_antiviral_meds <= 0.5\\\\ngini = 0.047\\\\nsamples = 291\\\\nvalue = [284, 7]\"] ;\\n910 -> 911 ;\\n912 [label=\"employment_status <= 1.5\\\\ngini = 0.041\\\\nsamples = 286\\\\nvalue = [280, 6]\"] ;\\n911 -> 912 ;\\n913 [label=\"gini = 0.029\\\\nsamples = 268\\\\nvalue = [264, 4]\"] ;\\n912 -> 913 ;\\n914 [label=\"gini = 0.198\\\\nsamples = 18\\\\nvalue = [16, 2]\"] ;\\n912 -> 914 ;\\n915 [label=\"behavioral_large_gatherings <= 0.5\\\\ngini = 0.32\\\\nsamples = 5\\\\nvalue = [4, 1]\"] ;\\n911 -> 915 ;\\n916 [label=\"gini = 0.0\\\\nsamples = 4\\\\nvalue = [4, 0]\"] ;\\n915 -> 916 ;\\n917 [label=\"gini = 0.0\\\\nsamples = 1\\\\nvalue = [0, 1]\"] ;\\n915 -> 917 ;\\n918 [label=\"marital_status <= 0.5\\\\ngini = 0.155\\\\nsamples = 71\\\\nvalue = [65, 6]\"] ;\\n910 -> 918 ;\\n919 [label=\"opinion_h1n1_sick_from_vacc <= 3.5\\\\ngini = 0.08\\\\nsamples = 48\\\\nvalue = [46, 2]\"] ;\\n918 -> 919 ;\\n920 [label=\"gini = 0.043\\\\nsamples = 46\\\\nvalue = [45, 1]\"] ;\\n919 -> 920 ;\\n921 [label=\"gini = 0.5\\\\nsamples = 2\\\\nvalue = [1, 1]\"] ;\\n919 -> 921 ;\\n922 [label=\"employment_status <= 1.5\\\\ngini = 0.287\\\\nsamples = 23\\\\nvalue = [19, 4]\"] ;\\n918 -> 922 ;\\n923 [label=\"gini = 0.236\\\\nsamples = 22\\\\nvalue = [19, 3]\"] ;\\n922 -> 923 ;\\n924 [label=\"gini = 0.0\\\\nsamples = 1\\\\nvalue = [0, 1]\"] ;\\n922 -> 924 ;\\n925 [label=\"income_poverty <= 0.5\\\\ngini = 0.346\\\\nsamples = 9\\\\nvalue = [7, 2]\"] ;\\n909 -> 925 ;\\n926 [label=\"gini = 0.0\\\\nsamples = 1\\\\nvalue = [0, 1]\"] ;\\n925 -> 926 ;\\n927 [label=\"employment_industry <= 16.0\\\\ngini = 0.219\\\\nsamples = 8\\\\nvalue = [7, 1]\"] ;\\n925 -> 927 ;\\n928 [label=\"gini = 0.0\\\\nsamples = 7\\\\nvalue = [7, 0]\"] ;\\n927 -> 928 ;\\n929 [label=\"gini = 0.0\\\\nsamples = 1\\\\nvalue = [0, 1]\"] ;\\n927 -> 929 ;\\n930 [label=\"h1n1_knowledge <= 2.5\\\\ngini = 0.142\\\\nsamples = 597\\\\nvalue = [551, 46]\"] ;\\n908 -> 930 ;\\n931 [label=\"employment_occupation <= 8.5\\\\ngini = 0.14\\\\nsamples = 596\\\\nvalue = [551, 45]\"] ;\\n930 -> 931 ;\\n932 [label=\"age_group <= 3.5\\\\ngini = 0.231\\\\nsamples = 105\\\\nvalue = [91, 14]\"] ;\\n931 -> 932 ;\\n933 [label=\"education <= 2.5\\\\ngini = 0.201\\\\nsamples = 97\\\\nvalue = [86, 11]\"] ;\\n932 -> 933 ;\\n934 [label=\"gini = 0.153\\\\nsamples = 84\\\\nvalue = [77, 7]\"] ;\\n933 -> 934 ;\\n935 [label=\"gini = 0.426\\\\nsamples = 13\\\\nvalue = [9, 4]\"] ;\\n933 -> 935 ;\\n936 [label=\"opinion_seas_vacc_effective <= 3.5\\\\ngini = 0.469\\\\nsamples = 8\\\\nvalue = [5, 3]\"] ;\\n932 -> 936 ;\\n937 [label=\"gini = 0.0\\\\nsamples = 3\\\\nvalue = [0, 3]\"] ;\\n936 -> 937 ;\\n938 [label=\"gini = 0.0\\\\nsamples = 5\\\\nvalue = [5, 0]\"] ;\\n936 -> 938 ;\\n939 [label=\"census_msa <= 1.5\\\\ngini = 0.118\\\\nsamples = 491\\\\nvalue = [460, 31]\"] ;\\n931 -> 939 ;\\n940 [label=\"sex <= 0.5\\\\ngini = 0.092\\\\nsamples = 372\\\\nvalue = [354, 18]\"] ;\\n939 -> 940 ;\\n941 [label=\"gini = 0.131\\\\nsamples = 199\\\\nvalue = [185, 14]\"] ;\\n940 -> 941 ;\\n942 [label=\"gini = 0.045\\\\nsamples = 173\\\\nvalue = [169, 4]\"] ;\\n940 -> 942 ;\\n943 [label=\"income_poverty <= 2.5\\\\ngini = 0.195\\\\nsamples = 119\\\\nvalue = [106, 13]\"] ;\\n939 -> 943 ;\\n944 [label=\"gini = 0.153\\\\nsamples = 108\\\\nvalue = [99, 9]\"] ;\\n943 -> 944 ;\\n945 [label=\"gini = 0.463\\\\nsamples = 11\\\\nvalue = [7, 4]\"] ;\\n943 -> 945 ;\\n946 [label=\"gini = 0.0\\\\nsamples = 1\\\\nvalue = [0, 1]\"] ;\\n930 -> 946 ;\\n947 [label=\"behavioral_wash_hands <= 0.5\\\\ngini = 0.305\\\\nsamples = 48\\\\nvalue = [39, 9]\"] ;\\n907 -> 947 ;\\n948 [label=\"household_children <= 1.5\\\\ngini = 0.375\\\\nsamples = 4\\\\nvalue = [1, 3]\"] ;\\n947 -> 948 ;\\n949 [label=\"gini = 0.0\\\\nsamples = 3\\\\nvalue = [0, 3]\"] ;\\n948 -> 949 ;\\n950 [label=\"gini = 0.0\\\\nsamples = 1\\\\nvalue = [1, 0]\"] ;\\n948 -> 950 ;\\n951 [label=\"marital_status <= 0.5\\\\ngini = 0.236\\\\nsamples = 44\\\\nvalue = [38, 6]\"] ;\\n947 -> 951 ;\\n952 [label=\"race <= 2.5\\\\ngini = 0.42\\\\nsamples = 20\\\\nvalue = [14, 6]\"] ;\\n951 -> 952 ;\\n953 [label=\"race <= 0.5\\\\ngini = 0.49\\\\nsamples = 7\\\\nvalue = [3, 4]\"] ;\\n952 -> 953 ;\\n954 [label=\"gini = 0.0\\\\nsamples = 3\\\\nvalue = [3, 0]\"] ;\\n953 -> 954 ;\\n955 [label=\"gini = 0.0\\\\nsamples = 4\\\\nvalue = [0, 4]\"] ;\\n953 -> 955 ;\\n956 [label=\"opinion_seas_sick_from_vacc <= 2.0\\\\ngini = 0.26\\\\nsamples = 13\\\\nvalue = [11, 2]\"] ;\\n952 -> 956 ;\\n957 [label=\"gini = 0.0\\\\nsamples = 11\\\\nvalue = [11, 0]\"] ;\\n956 -> 957 ;\\n958 [label=\"gini = 0.0\\\\nsamples = 2\\\\nvalue = [0, 2]\"] ;\\n956 -> 958 ;\\n959 [label=\"gini = 0.0\\\\nsamples = 24\\\\nvalue = [24, 0]\"] ;\\n951 -> 959 ;\\n960 [label=\"employment_industry <= 20.0\\\\ngini = 0.285\\\\nsamples = 58\\\\nvalue = [48, 10]\"] ;\\n906 -> 960 ;\\n961 [label=\"opinion_seas_risk <= 0.5\\\\ngini = 0.266\\\\nsamples = 57\\\\nvalue = [48, 9]\"] ;\\n960 -> 961 ;\\n962 [label=\"h1n1_concern <= 2.5\\\\ngini = 0.444\\\\nsamples = 18\\\\nvalue = [12, 6]\"] ;\\n961 -> 962 ;\\n963 [label=\"census_msa <= 0.5\\\\ngini = 0.298\\\\nsamples = 11\\\\nvalue = [9, 2]\"] ;\\n962 -> 963 ;\\n964 [label=\"gini = 0.0\\\\nsamples = 6\\\\nvalue = [6, 0]\"] ;\\n963 -> 964 ;\\n965 [label=\"h1n1_concern <= 1.5\\\\ngini = 0.48\\\\nsamples = 5\\\\nvalue = [3, 2]\"] ;\\n963 -> 965 ;\\n966 [label=\"gini = 0.0\\\\nsamples = 2\\\\nvalue = [0, 2]\"] ;\\n965 -> 966 ;\\n967 [label=\"gini = 0.0\\\\nsamples = 3\\\\nvalue = [3, 0]\"] ;\\n965 -> 967 ;\\n968 [label=\"household_children <= 0.5\\\\ngini = 0.49\\\\nsamples = 7\\\\nvalue = [3, 4]\"] ;\\n962 -> 968 ;\\n969 [label=\"gini = 0.0\\\\nsamples = 3\\\\nvalue = [0, 3]\"] ;\\n968 -> 969 ;\\n970 [label=\"hhs_geo_region <= 2.5\\\\ngini = 0.375\\\\nsamples = 4\\\\nvalue = [3, 1]\"] ;\\n968 -> 970 ;\\n971 [label=\"gini = 0.0\\\\nsamples = 1\\\\nvalue = [0, 1]\"] ;\\n970 -> 971 ;\\n972 [label=\"gini = 0.0\\\\nsamples = 3\\\\nvalue = [3, 0]\"] ;\\n970 -> 972 ;\\n973 [label=\"h1n1_concern <= 0.5\\\\ngini = 0.142\\\\nsamples = 39\\\\nvalue = [36, 3]\"] ;\\n961 -> 973 ;\\n974 [label=\"opinion_seas_risk <= 1.5\\\\ngini = 0.48\\\\nsamples = 5\\\\nvalue = [3, 2]\"] ;\\n973 -> 974 ;\\n975 [label=\"gini = 0.0\\\\nsamples = 2\\\\nvalue = [0, 2]\"] ;\\n974 -> 975 ;\\n976 [label=\"gini = 0.0\\\\nsamples = 3\\\\nvalue = [3, 0]\"] ;\\n974 -> 976 ;\\n977 [label=\"opinion_seas_risk <= 3.5\\\\ngini = 0.057\\\\nsamples = 34\\\\nvalue = [33, 1]\"] ;\\n973 -> 977 ;\\n978 [label=\"gini = 0.0\\\\nsamples = 32\\\\nvalue = [32, 0]\"] ;\\n977 -> 978 ;\\n979 [label=\"race <= 2.5\\\\ngini = 0.5\\\\nsamples = 2\\\\nvalue = [1, 1]\"] ;\\n977 -> 979 ;\\n980 [label=\"gini = 0.0\\\\nsamples = 1\\\\nvalue = [0, 1]\"] ;\\n979 -> 980 ;\\n981 [label=\"gini = 0.0\\\\nsamples = 1\\\\nvalue = [1, 0]\"] ;\\n979 -> 981 ;\\n982 [label=\"gini = 0.0\\\\nsamples = 1\\\\nvalue = [0, 1]\"] ;\\n960 -> 982 ;\\n983 [label=\"gini = 0.0\\\\nsamples = 1\\\\nvalue = [0, 1]\"] ;\\n905 -> 983 ;\\n984 [label=\"employment_status <= 1.5\\\\ngini = 0.282\\\\nsamples = 153\\\\nvalue = [127, 26]\"] ;\\n904 -> 984 ;\\n985 [label=\"doctor_recc_seasonal <= 0.5\\\\ngini = 0.37\\\\nsamples = 98\\\\nvalue = [74, 24]\"] ;\\n984 -> 985 ;\\n986 [label=\"opinion_h1n1_sick_from_vacc <= 2.0\\\\ngini = 0.422\\\\nsamples = 76\\\\nvalue = [53, 23]\"] ;\\n985 -> 986 ;\\n987 [label=\"opinion_seas_risk <= 2.5\\\\ngini = 0.371\\\\nsamples = 65\\\\nvalue = [49, 16]\"] ;\\n986 -> 987 ;\\n988 [label=\"behavioral_large_gatherings <= 0.5\\\\ngini = 0.302\\\\nsamples = 54\\\\nvalue = [44, 10]\"] ;\\n987 -> 988 ;\\n989 [label=\"employment_status <= 0.5\\\\ngini = 0.184\\\\nsamples = 39\\\\nvalue = [35, 4]\"] ;\\n988 -> 989 ;\\n990 [label=\"household_children <= 2.5\\\\ngini = 0.062\\\\nsamples = 31\\\\nvalue = [30, 1]\"] ;\\n989 -> 990 ;\\n991 [label=\"gini = 0.0\\\\nsamples = 29\\\\nvalue = [29, 0]\"] ;\\n990 -> 991 ;\\n992 [label=\"age_group <= 1.5\\\\ngini = 0.5\\\\nsamples = 2\\\\nvalue = [1, 1]\"] ;\\n990 -> 992 ;\\n993 [label=\"gini = 0.0\\\\nsamples = 1\\\\nvalue = [1, 0]\"] ;\\n992 -> 993 ;\\n994 [label=\"gini = 0.0\\\\nsamples = 1\\\\nvalue = [0, 1]\"] ;\\n992 -> 994 ;\\n995 [label=\"opinion_seas_vacc_effective <= 3.5\\\\ngini = 0.469\\\\nsamples = 8\\\\nvalue = [5, 3]\"] ;\\n989 -> 995 ;\\n996 [label=\"income_poverty <= 2.5\\\\ngini = 0.375\\\\nsamples = 4\\\\nvalue = [1, 3]\"] ;\\n995 -> 996 ;\\n997 [label=\"gini = 0.0\\\\nsamples = 3\\\\nvalue = [0, 3]\"] ;\\n996 -> 997 ;\\n998 [label=\"gini = 0.0\\\\nsamples = 1\\\\nvalue = [1, 0]\"] ;\\n996 -> 998 ;\\n999 [label=\"gini = 0.0\\\\nsamples = 4\\\\nvalue = [4, 0]\"] ;\\n995 -> 999 ;\\n1000 [label=\"behavioral_antiviral_meds <= 0.5\\\\ngini = 0.48\\\\nsamples = 15\\\\nvalue = [9, 6]\"] ;\\n988 -> 1000 ;\\n1001 [label=\"employment_status <= 0.5\\\\ngini = 0.426\\\\nsamples = 13\\\\nvalue = [9, 4]\"] ;\\n1000 -> 1001 ;\\n1002 [label=\"sex <= 0.5\\\\ngini = 0.375\\\\nsamples = 12\\\\nvalue = [9, 3]\"] ;\\n1001 -> 1002 ;\\n1003 [label=\"gini = 0.198\\\\nsamples = 9\\\\nvalue = [8, 1]\"] ;\\n1002 -> 1003 ;\\n1004 [label=\"gini = 0.444\\\\nsamples = 3\\\\nvalue = [1, 2]\"] ;\\n1002 -> 1004 ;\\n1005 [label=\"gini = 0.0\\\\nsamples = 1\\\\nvalue = [0, 1]\"] ;\\n1001 -> 1005 ;\\n1006 [label=\"gini = 0.0\\\\nsamples = 2\\\\nvalue = [0, 2]\"] ;\\n1000 -> 1006 ;\\n1007 [label=\"sex <= 0.5\\\\ngini = 0.496\\\\nsamples = 11\\\\nvalue = [5, 6]\"] ;\\n987 -> 1007 ;\\n1008 [label=\"gini = 0.0\\\\nsamples = 5\\\\nvalue = [0, 5]\"] ;\\n1007 -> 1008 ;\\n1009 [label=\"income_poverty <= 0.5\\\\ngini = 0.278\\\\nsamples = 6\\\\nvalue = [5, 1]\"] ;\\n1007 -> 1009 ;\\n1010 [label=\"gini = 0.0\\\\nsamples = 5\\\\nvalue = [5, 0]\"] ;\\n1009 -> 1010 ;\\n1011 [label=\"gini = 0.0\\\\nsamples = 1\\\\nvalue = [0, 1]\"] ;\\n1009 -> 1011 ;\\n1012 [label=\"census_msa <= 1.5\\\\ngini = 0.463\\\\nsamples = 11\\\\nvalue = [4, 7]\"] ;\\n986 -> 1012 ;\\n1013 [label=\"age_group <= 2.5\\\\ngini = 0.444\\\\nsamples = 6\\\\nvalue = [4, 2]\"] ;\\n1012 -> 1013 ;\\n1014 [label=\"gini = 0.0\\\\nsamples = 4\\\\nvalue = [4, 0]\"] ;\\n1013 -> 1014 ;\\n1015 [label=\"gini = 0.0\\\\nsamples = 2\\\\nvalue = [0, 2]\"] ;\\n1013 -> 1015 ;\\n1016 [label=\"gini = 0.0\\\\nsamples = 5\\\\nvalue = [0, 5]\"] ;\\n1012 -> 1016 ;\\n1017 [label=\"hhs_geo_region <= 0.5\\\\ngini = 0.087\\\\nsamples = 22\\\\nvalue = [21, 1]\"] ;\\n985 -> 1017 ;\\n1018 [label=\"gini = 0.0\\\\nsamples = 1\\\\nvalue = [0, 1]\"] ;\\n1017 -> 1018 ;\\n1019 [label=\"gini = 0.0\\\\nsamples = 21\\\\nvalue = [21, 0]\"] ;\\n1017 -> 1019 ;\\n1020 [label=\"race <= 1.5\\\\ngini = 0.07\\\\nsamples = 55\\\\nvalue = [53, 2]\"] ;\\n984 -> 1020 ;\\n1021 [label=\"behavioral_touch_face <= 0.5\\\\ngini = 0.26\\\\nsamples = 13\\\\nvalue = [11, 2]\"] ;\\n1020 -> 1021 ;\\n1022 [label=\"h1n1_concern <= 2.5\\\\ngini = 0.48\\\\nsamples = 5\\\\nvalue = [3, 2]\"] ;\\n1021 -> 1022 ;\\n1023 [label=\"opinion_seas_sick_from_vacc <= 3.0\\\\ngini = 0.444\\\\nsamples = 3\\\\nvalue = [1, 2]\"] ;\\n1022 -> 1023 ;\\n1024 [label=\"gini = 0.0\\\\nsamples = 2\\\\nvalue = [0, 2]\"] ;\\n1023 -> 1024 ;\\n1025 [label=\"gini = 0.0\\\\nsamples = 1\\\\nvalue = [1, 0]\"] ;\\n1023 -> 1025 ;\\n1026 [label=\"gini = 0.0\\\\nsamples = 2\\\\nvalue = [2, 0]\"] ;\\n1022 -> 1026 ;\\n1027 [label=\"gini = 0.0\\\\nsamples = 8\\\\nvalue = [8, 0]\"] ;\\n1021 -> 1027 ;\\n1028 [label=\"gini = 0.0\\\\nsamples = 42\\\\nvalue = [42, 0]\"] ;\\n1020 -> 1028 ;\\n1029 [label=\"doctor_recc_seasonal <= 1.5\\\\ngini = 0.41\\\\nsamples = 4196\\\\nvalue = [2986, 1210]\"] ;\\n1 -> 1029 ;\\n1030 [label=\"opinion_h1n1_vacc_effective <= 3.5\\\\ngini = 0.484\\\\nsamples = 2763\\\\nvalue = [1627, 1136]\"] ;\\n1029 -> 1030 ;\\n1031 [label=\"health_insurance <= 1.5\\\\ngini = 0.441\\\\nsamples = 1909\\\\nvalue = [1282, 627]\"] ;\\n1030 -> 1031 ;\\n1032 [label=\"opinion_seas_risk <= 1.5\\\\ngini = 0.474\\\\nsamples = 1228\\\\nvalue = [753, 475]\"] ;\\n1031 -> 1032 ;\\n1033 [label=\"opinion_seas_vacc_effective <= 1.5\\\\ngini = 0.431\\\\nsamples = 864\\\\nvalue = [592, 272]\"] ;\\n1032 -> 1033 ;\\n1034 [label=\"opinion_h1n1_risk <= 0.5\\\\ngini = 0.26\\\\nsamples = 208\\\\nvalue = [176, 32]\"] ;\\n1033 -> 1034 ;\\n1035 [label=\"education <= 3.5\\\\ngini = 0.154\\\\nsamples = 119\\\\nvalue = [109, 10]\"] ;\\n1034 -> 1035 ;\\n1036 [label=\"employment_occupation <= 3.5\\\\ngini = 0.141\\\\nsamples = 118\\\\nvalue = [109, 9]\"] ;\\n1035 -> 1036 ;\\n1037 [label=\"behavioral_touch_face <= 0.5\\\\ngini = 0.42\\\\nsamples = 10\\\\nvalue = [7, 3]\"] ;\\n1036 -> 1037 ;\\n1038 [label=\"gini = 0.0\\\\nsamples = 4\\\\nvalue = [4, 0]\"] ;\\n1037 -> 1038 ;\\n1039 [label=\"employment_occupation <= 2.5\\\\ngini = 0.5\\\\nsamples = 6\\\\nvalue = [3, 3]\"] ;\\n1037 -> 1039 ;\\n1040 [label=\"hhs_geo_region <= 8.5\\\\ngini = 0.375\\\\nsamples = 4\\\\nvalue = [3, 1]\"] ;\\n1039 -> 1040 ;\\n1041 [label=\"gini = 0.0\\\\nsamples = 3\\\\nvalue = [3, 0]\"] ;\\n1040 -> 1041 ;\\n1042 [label=\"gini = 0.0\\\\nsamples = 1\\\\nvalue = [0, 1]\"] ;\\n1040 -> 1042 ;\\n1043 [label=\"gini = 0.0\\\\nsamples = 2\\\\nvalue = [0, 2]\"] ;\\n1039 -> 1043 ;\\n1044 [label=\"health_worker <= 0.5\\\\ngini = 0.105\\\\nsamples = 108\\\\nvalue = [102, 6]\"] ;\\n1036 -> 1044 ;\\n1045 [label=\"child_under_6_months <= 0.5\\\\ngini = 0.075\\\\nsamples = 103\\\\nvalue = [99, 4]\"] ;\\n1044 -> 1045 ;\\n1046 [label=\"employment_occupation <= 21.5\\\\ngini = 0.043\\\\nsamples = 92\\\\nvalue = [90, 2]\"] ;\\n1045 -> 1046 ;\\n1047 [label=\"gini = 0.024\\\\nsamples = 84\\\\nvalue = [83, 1]\"] ;\\n1046 -> 1047 ;\\n1048 [label=\"gini = 0.219\\\\nsamples = 8\\\\nvalue = [7, 1]\"] ;\\n1046 -> 1048 ;\\n1049 [label=\"behavioral_wash_hands <= 0.5\\\\ngini = 0.298\\\\nsamples = 11\\\\nvalue = [9, 2]\"] ;\\n1045 -> 1049 ;\\n1050 [label=\"gini = 0.0\\\\nsamples = 1\\\\nvalue = [0, 1]\"] ;\\n1049 -> 1050 ;\\n1051 [label=\"gini = 0.18\\\\nsamples = 10\\\\nvalue = [9, 1]\"] ;\\n1049 -> 1051 ;\\n1052 [label=\"household_adults <= 0.5\\\\ngini = 0.48\\\\nsamples = 5\\\\nvalue = [3, 2]\"] ;\\n1044 -> 1052 ;\\n1053 [label=\"gini = 0.0\\\\nsamples = 2\\\\nvalue = [0, 2]\"] ;\\n1052 -> 1053 ;\\n1054 [label=\"gini = 0.0\\\\nsamples = 3\\\\nvalue = [3, 0]\"] ;\\n1052 -> 1054 ;\\n1055 [label=\"gini = 0.0\\\\nsamples = 1\\\\nvalue = [0, 1]\"] ;\\n1035 -> 1055 ;\\n1056 [label=\"hhs_geo_region <= 2.5\\\\ngini = 0.372\\\\nsamples = 89\\\\nvalue = [67, 22]\"] ;\\n1034 -> 1056 ;\\n1057 [label=\"doctor_recc_seasonal <= 0.5\\\\ngini = 0.211\\\\nsamples = 25\\\\nvalue = [22, 3]\"] ;\\n1056 -> 1057 ;\\n1058 [label=\"employment_occupation <= 10.5\\\\ngini = 0.48\\\\nsamples = 5\\\\nvalue = [2, 3]\"] ;\\n1057 -> 1058 ;\\n1059 [label=\"gini = 0.0\\\\nsamples = 2\\\\nvalue = [2, 0]\"] ;\\n1058 -> 1059 ;\\n1060 [label=\"gini = 0.0\\\\nsamples = 3\\\\nvalue = [0, 3]\"] ;\\n1058 -> 1060 ;\\n1061 [label=\"gini = 0.0\\\\nsamples = 20\\\\nvalue = [20, 0]\"] ;\\n1057 -> 1061 ;\\n1062 [label=\"opinion_h1n1_risk <= 1.5\\\\ngini = 0.417\\\\nsamples = 64\\\\nvalue = [45, 19]\"] ;\\n1056 -> 1062 ;\\n1063 [label=\"marital_status <= 0.5\\\\ngini = 0.398\\\\nsamples = 62\\\\nvalue = [45, 17]\"] ;\\n1062 -> 1063 ;\\n1064 [label=\"income_poverty <= 1.5\\\\ngini = 0.48\\\\nsamples = 30\\\\nvalue = [18, 12]\"] ;\\n1063 -> 1064 ;\\n1065 [label=\"opinion_h1n1_sick_from_vacc <= 0.5\\\\ngini = 0.459\\\\nsamples = 28\\\\nvalue = [18, 10]\"] ;\\n1064 -> 1065 ;\\n1066 [label=\"gini = 0.469\\\\nsamples = 8\\\\nvalue = [3, 5]\"] ;\\n1065 -> 1066 ;\\n1067 [label=\"gini = 0.375\\\\nsamples = 20\\\\nvalue = [15, 5]\"] ;\\n1065 -> 1067 ;\\n1068 [label=\"gini = 0.0\\\\nsamples = 2\\\\nvalue = [0, 2]\"] ;\\n1064 -> 1068 ;\\n1069 [label=\"opinion_seas_sick_from_vacc <= 0.5\\\\ngini = 0.264\\\\nsamples = 32\\\\nvalue = [27, 5]\"] ;\\n1063 -> 1069 ;\\n1070 [label=\"opinion_h1n1_sick_from_vacc <= 0.5\\\\ngini = 0.408\\\\nsamples = 14\\\\nvalue = [10, 4]\"] ;\\n1069 -> 1070 ;\\n1071 [label=\"gini = 0.198\\\\nsamples = 9\\\\nvalue = [8, 1]\"] ;\\n1070 -> 1071 ;\\n1072 [label=\"gini = 0.48\\\\nsamples = 5\\\\nvalue = [2, 3]\"] ;\\n1070 -> 1072 ;\\n1073 [label=\"opinion_h1n1_vacc_effective <= 1.5\\\\ngini = 0.105\\\\nsamples = 18\\\\nvalue = [17, 1]\"] ;\\n1069 -> 1073 ;\\n1074 [label=\"gini = 0.5\\\\nsamples = 2\\\\nvalue = [1, 1]\"] ;\\n1073 -> 1074 ;\\n1075 [label=\"gini = 0.0\\\\nsamples = 16\\\\nvalue = [16, 0]\"] ;\\n1073 -> 1075 ;\\n1076 [label=\"gini = 0.0\\\\nsamples = 2\\\\nvalue = [0, 2]\"] ;\\n1062 -> 1076 ;\\n1077 [label=\"age_group <= 3.5\\\\ngini = 0.464\\\\nsamples = 656\\\\nvalue = [416, 240]\"] ;\\n1033 -> 1077 ;\\n1078 [label=\"race <= 0.5\\\\ngini = 0.421\\\\nsamples = 462\\\\nvalue = [323, 139]\"] ;\\n1077 -> 1078 ;\\n1079 [label=\"hhs_geo_region <= 6.5\\\\ngini = 0.195\\\\nsamples = 64\\\\nvalue = [57, 7]\"] ;\\n1078 -> 1079 ;\\n1080 [label=\"behavioral_antiviral_meds <= 0.5\\\\ngini = 0.07\\\\nsamples = 55\\\\nvalue = [53, 2]\"] ;\\n1079 -> 1080 ;\\n1081 [label=\"employment_occupation <= 3.5\\\\ngini = 0.038\\\\nsamples = 52\\\\nvalue = [51, 1]\"] ;\\n1080 -> 1081 ;\\n1082 [label=\"household_children <= 0.5\\\\ngini = 0.245\\\\nsamples = 7\\\\nvalue = [6, 1]\"] ;\\n1081 -> 1082 ;\\n1083 [label=\"gini = 0.0\\\\nsamples = 1\\\\nvalue = [0, 1]\"] ;\\n1082 -> 1083 ;\\n1084 [label=\"gini = 0.0\\\\nsamples = 6\\\\nvalue = [6, 0]\"] ;\\n1082 -> 1084 ;\\n1085 [label=\"gini = 0.0\\\\nsamples = 45\\\\nvalue = [45, 0]\"] ;\\n1081 -> 1085 ;\\n1086 [label=\"sex <= 0.5\\\\ngini = 0.444\\\\nsamples = 3\\\\nvalue = [2, 1]\"] ;\\n1080 -> 1086 ;\\n1087 [label=\"gini = 0.0\\\\nsamples = 2\\\\nvalue = [2, 0]\"] ;\\n1086 -> 1087 ;\\n1088 [label=\"gini = 0.0\\\\nsamples = 1\\\\nvalue = [0, 1]\"] ;\\n1086 -> 1088 ;\\n1089 [label=\"age_group <= 0.5\\\\ngini = 0.494\\\\nsamples = 9\\\\nvalue = [4, 5]\"] ;\\n1079 -> 1089 ;\\n1090 [label=\"gini = 0.0\\\\nsamples = 3\\\\nvalue = [0, 3]\"] ;\\n1089 -> 1090 ;\\n1091 [label=\"age_group <= 2.5\\\\ngini = 0.444\\\\nsamples = 6\\\\nvalue = [4, 2]\"] ;\\n1089 -> 1091 ;\\n1092 [label=\"gini = 0.0\\\\nsamples = 3\\\\nvalue = [3, 0]\"] ;\\n1091 -> 1092 ;\\n1093 [label=\"household_children <= 0.5\\\\ngini = 0.444\\\\nsamples = 3\\\\nvalue = [1, 2]\"] ;\\n1091 -> 1093 ;\\n1094 [label=\"gini = 0.0\\\\nsamples = 1\\\\nvalue = [1, 0]\"] ;\\n1093 -> 1094 ;\\n1095 [label=\"gini = 0.0\\\\nsamples = 2\\\\nvalue = [0, 2]\"] ;\\n1093 -> 1095 ;\\n1096 [label=\"opinion_h1n1_risk <= 0.5\\\\ngini = 0.443\\\\nsamples = 398\\\\nvalue = [266, 132]\"] ;\\n1078 -> 1096 ;\\n1097 [label=\"education <= 3.5\\\\ngini = 0.349\\\\nsamples = 142\\\\nvalue = [110, 32]\"] ;\\n1096 -> 1097 ;\\n1098 [label=\"behavioral_avoidance <= 0.5\\\\ngini = 0.337\\\\nsamples = 140\\\\nvalue = [110, 30]\"] ;\\n1097 -> 1098 ;\\n1099 [label=\"census_msa <= 1.5\\\\ngini = 0.444\\\\nsamples = 48\\\\nvalue = [32, 16]\"] ;\\n1098 -> 1099 ;\\n1100 [label=\"gini = 0.493\\\\nsamples = 34\\\\nvalue = [19, 15]\"] ;\\n1099 -> 1100 ;\\n1101 [label=\"gini = 0.133\\\\nsamples = 14\\\\nvalue = [13, 1]\"] ;\\n1099 -> 1101 ;\\n1102 [label=\"behavioral_wash_hands <= 0.5\\\\ngini = 0.258\\\\nsamples = 92\\\\nvalue = [78, 14]\"] ;\\n1098 -> 1102 ;\\n1103 [label=\"gini = 0.494\\\\nsamples = 9\\\\nvalue = [5, 4]\"] ;\\n1102 -> 1103 ;\\n1104 [label=\"gini = 0.212\\\\nsamples = 83\\\\nvalue = [73, 10]\"] ;\\n1102 -> 1104 ;\\n1105 [label=\"gini = 0.0\\\\nsamples = 2\\\\nvalue = [0, 2]\"] ;\\n1097 -> 1105 ;\\n1106 [label=\"chronic_med_condition <= 0.5\\\\ngini = 0.476\\\\nsamples = 256\\\\nvalue = [156, 100]\"] ;\\n1096 -> 1106 ;\\n1107 [label=\"employment_occupation <= 6.5\\\\ngini = 0.439\\\\nsamples = 169\\\\nvalue = [114, 55]\"] ;\\n1106 -> 1107 ;\\n1108 [label=\"household_children <= 1.5\\\\ngini = 0.485\\\\nsamples = 29\\\\nvalue = [12, 17]\"] ;\\n1107 -> 1108 ;\\n1109 [label=\"gini = 0.5\\\\nsamples = 24\\\\nvalue = [12, 12]\"] ;\\n1108 -> 1109 ;\\n1110 [label=\"gini = 0.0\\\\nsamples = 5\\\\nvalue = [0, 5]\"] ;\\n1108 -> 1110 ;\\n1111 [label=\"health_insurance <= 0.5\\\\ngini = 0.396\\\\nsamples = 140\\\\nvalue = [102, 38]\"] ;\\n1107 -> 1111 ;\\n1112 [label=\"gini = 0.0\\\\nsamples = 14\\\\nvalue = [14, 0]\"] ;\\n1111 -> 1112 ;\\n1113 [label=\"gini = 0.421\\\\nsamples = 126\\\\nvalue = [88, 38]\"] ;\\n1111 -> 1113 ;\\n1114 [label=\"household_children <= 0.5\\\\ngini = 0.499\\\\nsamples = 87\\\\nvalue = [42, 45]\"] ;\\n1106 -> 1114 ;\\n1115 [label=\"opinion_h1n1_vacc_effective <= 1.5\\\\ngini = 0.484\\\\nsamples = 68\\\\nvalue = [28, 40]\"] ;\\n1114 -> 1115 ;\\n1116 [label=\"gini = 0.0\\\\nsamples = 5\\\\nvalue = [5, 0]\"] ;\\n1115 -> 1116 ;\\n1117 [label=\"gini = 0.464\\\\nsamples = 63\\\\nvalue = [23, 40]\"] ;\\n1115 -> 1117 ;\\n1118 [label=\"employment_industry <= 11.5\\\\ngini = 0.388\\\\nsamples = 19\\\\nvalue = [14, 5]\"] ;\\n1114 -> 1118 ;\\n1119 [label=\"gini = 0.473\\\\nsamples = 13\\\\nvalue = [8, 5]\"] ;\\n1118 -> 1119 ;\\n1120 [label=\"gini = 0.0\\\\nsamples = 6\\\\nvalue = [6, 0]\"] ;\\n1118 -> 1120 ;\\n1121 [label=\"marital_status <= 0.5\\\\ngini = 0.499\\\\nsamples = 194\\\\nvalue = [93, 101]\"] ;\\n1077 -> 1121 ;\\n1122 [label=\"chronic_med_condition <= 0.5\\\\ngini = 0.476\\\\nsamples = 113\\\\nvalue = [44, 69]\"] ;\\n1121 -> 1122 ;\\n1123 [label=\"opinion_h1n1_sick_from_vacc <= 2.0\\\\ngini = 0.5\\\\nsamples = 60\\\\nvalue = [30, 30]\"] ;\\n1122 -> 1123 ;\\n1124 [label=\"opinion_seas_sick_from_vacc <= 0.5\\\\ngini = 0.492\\\\nsamples = 48\\\\nvalue = [27, 21]\"] ;\\n1123 -> 1124 ;\\n1125 [label=\"hhs_geo_region <= 7.5\\\\ngini = 0.486\\\\nsamples = 24\\\\nvalue = [10, 14]\"] ;\\n1124 -> 1125 ;\\n1126 [label=\"gini = 0.388\\\\nsamples = 19\\\\nvalue = [5, 14]\"] ;\\n1125 -> 1126 ;\\n1127 [label=\"gini = 0.0\\\\nsamples = 5\\\\nvalue = [5, 0]\"] ;\\n1125 -> 1127 ;\\n1128 [label=\"hhs_geo_region <= 0.5\\\\ngini = 0.413\\\\nsamples = 24\\\\nvalue = [17, 7]\"] ;\\n1124 -> 1128 ;\\n1129 [label=\"gini = 0.375\\\\nsamples = 4\\\\nvalue = [1, 3]\"] ;\\n1128 -> 1129 ;\\n1130 [label=\"gini = 0.32\\\\nsamples = 20\\\\nvalue = [16, 4]\"] ;\\n1128 -> 1130 ;\\n1131 [label=\"hhs_geo_region <= 2.5\\\\ngini = 0.375\\\\nsamples = 12\\\\nvalue = [3, 9]\"] ;\\n1123 -> 1131 ;\\n1132 [label=\"opinion_h1n1_sick_from_vacc <= 3.5\\\\ngini = 0.375\\\\nsamples = 4\\\\nvalue = [3, 1]\"] ;\\n1131 -> 1132 ;\\n1133 [label=\"gini = 0.0\\\\nsamples = 3\\\\nvalue = [3, 0]\"] ;\\n1132 -> 1133 ;\\n1134 [label=\"gini = 0.0\\\\nsamples = 1\\\\nvalue = [0, 1]\"] ;\\n1132 -> 1134 ;\\n1135 [label=\"gini = 0.0\\\\nsamples = 8\\\\nvalue = [0, 8]\"] ;\\n1131 -> 1135 ;\\n1136 [label=\"hhs_geo_region <= 5.5\\\\ngini = 0.389\\\\nsamples = 53\\\\nvalue = [14, 39]\"] ;\\n1122 -> 1136 ;\\n1137 [label=\"h1n1_knowledge <= 1.5\\\\ngini = 0.485\\\\nsamples = 29\\\\nvalue = [12, 17]\"] ;\\n1136 -> 1137 ;\\n1138 [label=\"behavioral_large_gatherings <= 0.5\\\\ngini = 0.375\\\\nsamples = 20\\\\nvalue = [5, 15]\"] ;\\n1137 -> 1138 ;\\n1139 [label=\"gini = 0.165\\\\nsamples = 11\\\\nvalue = [1, 10]\"] ;\\n1138 -> 1139 ;\\n1140 [label=\"gini = 0.494\\\\nsamples = 9\\\\nvalue = [4, 5]\"] ;\\n1138 -> 1140 ;\\n1141 [label=\"behavioral_avoidance <= 0.5\\\\ngini = 0.346\\\\nsamples = 9\\\\nvalue = [7, 2]\"] ;\\n1137 -> 1141 ;\\n1142 [label=\"gini = 0.444\\\\nsamples = 3\\\\nvalue = [1, 2]\"] ;\\n1141 -> 1142 ;\\n1143 [label=\"gini = 0.0\\\\nsamples = 6\\\\nvalue = [6, 0]\"] ;\\n1141 -> 1143 ;\\n1144 [label=\"behavioral_face_mask <= 0.5\\\\ngini = 0.153\\\\nsamples = 24\\\\nvalue = [2, 22]\"] ;\\n1136 -> 1144 ;\\n1145 [label=\"h1n1_concern <= 2.5\\\\ngini = 0.087\\\\nsamples = 22\\\\nvalue = [1, 21]\"] ;\\n1144 -> 1145 ;\\n1146 [label=\"gini = 0.0\\\\nsamples = 18\\\\nvalue = [0, 18]\"] ;\\n1145 -> 1146 ;\\n1147 [label=\"gini = 0.375\\\\nsamples = 4\\\\nvalue = [1, 3]\"] ;\\n1145 -> 1147 ;\\n1148 [label=\"opinion_h1n1_risk <= 1.5\\\\ngini = 0.5\\\\nsamples = 2\\\\nvalue = [1, 1]\"] ;\\n1144 -> 1148 ;\\n1149 [label=\"gini = 0.0\\\\nsamples = 1\\\\nvalue = [1, 0]\"] ;\\n1148 -> 1149 ;\\n1150 [label=\"gini = 0.0\\\\nsamples = 1\\\\nvalue = [0, 1]\"] ;\\n1148 -> 1150 ;\\n1151 [label=\"household_adults <= 0.5\\\\ngini = 0.478\\\\nsamples = 81\\\\nvalue = [49, 32]\"] ;\\n1121 -> 1151 ;\\n1152 [label=\"sex <= 0.5\\\\ngini = 0.496\\\\nsamples = 68\\\\nvalue = [37, 31]\"] ;\\n1151 -> 1152 ;\\n1153 [label=\"h1n1_concern <= 1.5\\\\ngini = 0.498\\\\nsamples = 49\\\\nvalue = [23, 26]\"] ;\\n1152 -> 1153 ;\\n1154 [label=\"hhs_geo_region <= 6.5\\\\ngini = 0.42\\\\nsamples = 20\\\\nvalue = [6, 14]\"] ;\\n1153 -> 1154 ;\\n1155 [label=\"gini = 0.231\\\\nsamples = 15\\\\nvalue = [2, 13]\"] ;\\n1154 -> 1155 ;\\n1156 [label=\"gini = 0.32\\\\nsamples = 5\\\\nvalue = [4, 1]\"] ;\\n1154 -> 1156 ;\\n1157 [label=\"hhs_geo_region <= 3.5\\\\ngini = 0.485\\\\nsamples = 29\\\\nvalue = [17, 12]\"] ;\\n1153 -> 1157 ;\\n1158 [label=\"gini = 0.298\\\\nsamples = 11\\\\nvalue = [9, 2]\"] ;\\n1157 -> 1158 ;\\n1159 [label=\"gini = 0.494\\\\nsamples = 18\\\\nvalue = [8, 10]\"] ;\\n1157 -> 1159 ;\\n1160 [label=\"h1n1_concern <= 2.5\\\\ngini = 0.388\\\\nsamples = 19\\\\nvalue = [14, 5]\"] ;\\n1152 -> 1160 ;\\n1161 [label=\"opinion_h1n1_vacc_effective <= 2.5\\\\ngini = 0.291\\\\nsamples = 17\\\\nvalue = [14, 3]\"] ;\\n1160 -> 1161 ;\\n1162 [label=\"gini = 0.5\\\\nsamples = 6\\\\nvalue = [3, 3]\"] ;\\n1161 -> 1162 ;\\n1163 [label=\"gini = 0.0\\\\nsamples = 11\\\\nvalue = [11, 0]\"] ;\\n1161 -> 1163 ;\\n1164 [label=\"gini = 0.0\\\\nsamples = 2\\\\nvalue = [0, 2]\"] ;\\n1160 -> 1164 ;\\n1165 [label=\"employment_occupation <= 4.5\\\\ngini = 0.142\\\\nsamples = 13\\\\nvalue = [12, 1]\"] ;\\n1151 -> 1165 ;\\n1166 [label=\"gini = 0.0\\\\nsamples = 1\\\\nvalue = [0, 1]\"] ;\\n1165 -> 1166 ;\\n1167 [label=\"gini = 0.0\\\\nsamples = 12\\\\nvalue = [12, 0]\"] ;\\n1165 -> 1167 ;\\n1168 [label=\"sex <= 0.5\\\\ngini = 0.493\\\\nsamples = 364\\\\nvalue = [161, 203]\"] ;\\n1032 -> 1168 ;\\n1169 [label=\"employment_industry <= 18.5\\\\ngini = 0.499\\\\nsamples = 223\\\\nvalue = [117, 106]\"] ;\\n1168 -> 1169 ;\\n1170 [label=\"opinion_h1n1_vacc_effective <= 2.5\\\\ngini = 0.495\\\\nsamples = 211\\\\nvalue = [116, 95]\"] ;\\n1169 -> 1170 ;\\n1171 [label=\"hhs_geo_region <= 1.5\\\\ngini = 0.417\\\\nsamples = 64\\\\nvalue = [45, 19]\"] ;\\n1170 -> 1171 ;\\n1172 [label=\"employment_industry <= 11.5\\\\ngini = 0.444\\\\nsamples = 12\\\\nvalue = [4, 8]\"] ;\\n1171 -> 1172 ;\\n1173 [label=\"rent_or_own <= 1.5\\\\ngini = 0.32\\\\nsamples = 10\\\\nvalue = [2, 8]\"] ;\\n1172 -> 1173 ;\\n1174 [label=\"opinion_h1n1_risk <= 0.5\\\\ngini = 0.198\\\\nsamples = 9\\\\nvalue = [1, 8]\"] ;\\n1173 -> 1174 ;\\n1175 [label=\"gini = 0.5\\\\nsamples = 2\\\\nvalue = [1, 1]\"] ;\\n1174 -> 1175 ;\\n1176 [label=\"gini = 0.0\\\\nsamples = 7\\\\nvalue = [0, 7]\"] ;\\n1174 -> 1176 ;\\n1177 [label=\"gini = 0.0\\\\nsamples = 1\\\\nvalue = [1, 0]\"] ;\\n1173 -> 1177 ;\\n1178 [label=\"gini = 0.0\\\\nsamples = 2\\\\nvalue = [2, 0]\"] ;\\n1172 -> 1178 ;\\n1179 [label=\"behavioral_antiviral_meds <= 0.5\\\\ngini = 0.334\\\\nsamples = 52\\\\nvalue = [41, 11]\"] ;\\n1171 -> 1179 ;\\n1180 [label=\"marital_status <= 0.5\\\\ngini = 0.295\\\\nsamples = 50\\\\nvalue = [41, 9]\"] ;\\n1179 -> 1180 ;\\n1181 [label=\"h1n1_concern <= 1.5\\\\ngini = 0.444\\\\nsamples = 24\\\\nvalue = [16, 8]\"] ;\\n1180 -> 1181 ;\\n1182 [label=\"gini = 0.0\\\\nsamples = 7\\\\nvalue = [7, 0]\"] ;\\n1181 -> 1182 ;\\n1183 [label=\"gini = 0.498\\\\nsamples = 17\\\\nvalue = [9, 8]\"] ;\\n1181 -> 1183 ;\\n1184 [label=\"behavioral_avoidance <= 1.5\\\\ngini = 0.074\\\\nsamples = 26\\\\nvalue = [25, 1]\"] ;\\n1180 -> 1184 ;\\n1185 [label=\"gini = 0.0\\\\nsamples = 24\\\\nvalue = [24, 0]\"] ;\\n1184 -> 1185 ;\\n1186 [label=\"gini = 0.5\\\\nsamples = 2\\\\nvalue = [1, 1]\"] ;\\n1184 -> 1186 ;\\n1187 [label=\"gini = 0.0\\\\nsamples = 2\\\\nvalue = [0, 2]\"] ;\\n1179 -> 1187 ;\\n1188 [label=\"age_group <= 2.5\\\\ngini = 0.499\\\\nsamples = 147\\\\nvalue = [71, 76]\"] ;\\n1170 -> 1188 ;\\n1189 [label=\"opinion_seas_sick_from_vacc <= 0.5\\\\ngini = 0.462\\\\nsamples = 69\\\\nvalue = [44, 25]\"] ;\\n1188 -> 1189 ;\\n1190 [label=\"household_children <= 1.5\\\\ngini = 0.497\\\\nsamples = 28\\\\nvalue = [13, 15]\"] ;\\n1189 -> 1190 ;\\n1191 [label=\"employment_industry <= 1.5\\\\ngini = 0.444\\\\nsamples = 18\\\\nvalue = [6, 12]\"] ;\\n1190 -> 1191 ;\\n1192 [label=\"gini = 0.0\\\\nsamples = 2\\\\nvalue = [2, 0]\"] ;\\n1191 -> 1192 ;\\n1193 [label=\"gini = 0.375\\\\nsamples = 16\\\\nvalue = [4, 12]\"] ;\\n1191 -> 1193 ;\\n1194 [label=\"behavioral_large_gatherings <= 0.5\\\\ngini = 0.42\\\\nsamples = 10\\\\nvalue = [7, 3]\"] ;\\n1190 -> 1194 ;\\n1195 [label=\"gini = 0.219\\\\nsamples = 8\\\\nvalue = [7, 1]\"] ;\\n1194 -> 1195 ;\\n1196 [label=\"gini = 0.0\\\\nsamples = 2\\\\nvalue = [0, 2]\"] ;\\n1194 -> 1196 ;\\n1197 [label=\"behavioral_avoidance <= 0.5\\\\ngini = 0.369\\\\nsamples = 41\\\\nvalue = [31, 10]\"] ;\\n1189 -> 1197 ;\\n1198 [label=\"h1n1_knowledge <= 1.5\\\\ngini = 0.48\\\\nsamples = 5\\\\nvalue = [2, 3]\"] ;\\n1197 -> 1198 ;\\n1199 [label=\"gini = 0.0\\\\nsamples = 3\\\\nvalue = [0, 3]\"] ;\\n1198 -> 1199 ;\\n1200 [label=\"gini = 0.0\\\\nsamples = 2\\\\nvalue = [2, 0]\"] ;\\n1198 -> 1200 ;\\n1201 [label=\"hhs_geo_region <= 6.5\\\\ngini = 0.313\\\\nsamples = 36\\\\nvalue = [29, 7]\"] ;\\n1197 -> 1201 ;\\n1202 [label=\"gini = 0.403\\\\nsamples = 25\\\\nvalue = [18, 7]\"] ;\\n1201 -> 1202 ;\\n1203 [label=\"gini = 0.0\\\\nsamples = 11\\\\nvalue = [11, 0]\"] ;\\n1201 -> 1203 ;\\n1204 [label=\"hhs_geo_region <= 5.5\\\\ngini = 0.453\\\\nsamples = 78\\\\nvalue = [27, 51]\"] ;\\n1188 -> 1204 ;\\n1205 [label=\"education <= 1.0\\\\ngini = 0.5\\\\nsamples = 41\\\\nvalue = [21, 20]\"] ;\\n1204 -> 1205 ;\\n1206 [label=\"household_adults <= 1.5\\\\ngini = 0.32\\\\nsamples = 10\\\\nvalue = [8, 2]\"] ;\\n1205 -> 1206 ;\\n1207 [label=\"gini = 0.198\\\\nsamples = 9\\\\nvalue = [8, 1]\"] ;\\n1206 -> 1207 ;\\n1208 [label=\"gini = 0.0\\\\nsamples = 1\\\\nvalue = [0, 1]\"] ;\\n1206 -> 1208 ;\\n1209 [label=\"opinion_h1n1_sick_from_vacc <= 2.0\\\\ngini = 0.487\\\\nsamples = 31\\\\nvalue = [13, 18]\"] ;\\n1205 -> 1209 ;\\n1210 [label=\"gini = 0.488\\\\nsamples = 19\\\\nvalue = [11, 8]\"] ;\\n1209 -> 1210 ;\\n1211 [label=\"gini = 0.278\\\\nsamples = 12\\\\nvalue = [2, 10]\"] ;\\n1209 -> 1211 ;\\n1212 [label=\"employment_industry <= 14.0\\\\ngini = 0.272\\\\nsamples = 37\\\\nvalue = [6, 31]\"] ;\\n1204 -> 1212 ;\\n1213 [label=\"behavioral_touch_face <= 0.5\\\\ngini = 0.239\\\\nsamples = 36\\\\nvalue = [5, 31]\"] ;\\n1212 -> 1213 ;\\n1214 [label=\"gini = 0.463\\\\nsamples = 11\\\\nvalue = [4, 7]\"] ;\\n1213 -> 1214 ;\\n1215 [label=\"gini = 0.077\\\\nsamples = 25\\\\nvalue = [1, 24]\"] ;\\n1213 -> 1215 ;\\n1216 [label=\"gini = 0.0\\\\nsamples = 1\\\\nvalue = [1, 0]\"] ;\\n1212 -> 1216 ;\\n1217 [label=\"h1n1_concern <= 1.5\\\\ngini = 0.153\\\\nsamples = 12\\\\nvalue = [1, 11]\"] ;\\n1169 -> 1217 ;\\n1218 [label=\"opinion_h1n1_sick_from_vacc <= 0.5\\\\ngini = 0.5\\\\nsamples = 2\\\\nvalue = [1, 1]\"] ;\\n1217 -> 1218 ;\\n1219 [label=\"gini = 0.0\\\\nsamples = 1\\\\nvalue = [1, 0]\"] ;\\n1218 -> 1219 ;\\n1220 [label=\"gini = 0.0\\\\nsamples = 1\\\\nvalue = [0, 1]\"] ;\\n1218 -> 1220 ;\\n1221 [label=\"gini = 0.0\\\\nsamples = 10\\\\nvalue = [0, 10]\"] ;\\n1217 -> 1221 ;\\n1222 [label=\"age_group <= 3.5\\\\ngini = 0.429\\\\nsamples = 141\\\\nvalue = [44, 97]\"] ;\\n1168 -> 1222 ;\\n1223 [label=\"income_poverty <= 1.5\\\\ngini = 0.469\\\\nsamples = 101\\\\nvalue = [38, 63]\"] ;\\n1222 -> 1223 ;\\n1224 [label=\"opinion_seas_vacc_effective <= 3.5\\\\ngini = 0.442\\\\nsamples = 82\\\\nvalue = [27, 55]\"] ;\\n1223 -> 1224 ;\\n1225 [label=\"age_group <= 0.5\\\\ngini = 0.483\\\\nsamples = 54\\\\nvalue = [22, 32]\"] ;\\n1224 -> 1225 ;\\n1226 [label=\"employment_industry <= 20.5\\\\ngini = 0.26\\\\nsamples = 13\\\\nvalue = [2, 11]\"] ;\\n1225 -> 1226 ;\\n1227 [label=\"employment_industry <= 5.5\\\\ngini = 0.153\\\\nsamples = 12\\\\nvalue = [1, 11]\"] ;\\n1226 -> 1227 ;\\n1228 [label=\"gini = 0.5\\\\nsamples = 2\\\\nvalue = [1, 1]\"] ;\\n1227 -> 1228 ;\\n1229 [label=\"gini = 0.0\\\\nsamples = 10\\\\nvalue = [0, 10]\"] ;\\n1227 -> 1229 ;\\n1230 [label=\"gini = 0.0\\\\nsamples = 1\\\\nvalue = [1, 0]\"] ;\\n1226 -> 1230 ;\\n1231 [label=\"employment_industry <= 18.5\\\\ngini = 0.5\\\\nsamples = 41\\\\nvalue = [20, 21]\"] ;\\n1225 -> 1231 ;\\n1232 [label=\"behavioral_large_gatherings <= 0.5\\\\ngini = 0.494\\\\nsamples = 38\\\\nvalue = [17, 21]\"] ;\\n1231 -> 1232 ;\\n1233 [label=\"gini = 0.444\\\\nsamples = 24\\\\nvalue = [8, 16]\"] ;\\n1232 -> 1233 ;\\n1234 [label=\"gini = 0.459\\\\nsamples = 14\\\\nvalue = [9, 5]\"] ;\\n1232 -> 1234 ;\\n1235 [label=\"gini = 0.0\\\\nsamples = 3\\\\nvalue = [3, 0]\"] ;\\n1231 -> 1235 ;\\n1236 [label=\"employment_industry <= 9.5\\\\ngini = 0.293\\\\nsamples = 28\\\\nvalue = [5, 23]\"] ;\\n1224 -> 1236 ;\\n1237 [label=\"education <= 2.5\\\\ngini = 0.48\\\\nsamples = 5\\\\nvalue = [3, 2]\"] ;\\n1236 -> 1237 ;\\n1238 [label=\"opinion_seas_sick_from_vacc <= 0.5\\\\ngini = 0.444\\\\nsamples = 3\\\\nvalue = [1, 2]\"] ;\\n1237 -> 1238 ;\\n1239 [label=\"gini = 0.0\\\\nsamples = 1\\\\nvalue = [1, 0]\"] ;\\n1238 -> 1239 ;\\n1240 [label=\"gini = 0.0\\\\nsamples = 2\\\\nvalue = [0, 2]\"] ;\\n1238 -> 1240 ;\\n1241 [label=\"gini = 0.0\\\\nsamples = 2\\\\nvalue = [2, 0]\"] ;\\n1237 -> 1241 ;\\n1242 [label=\"opinion_h1n1_vacc_effective <= 1.0\\\\ngini = 0.159\\\\nsamples = 23\\\\nvalue = [2, 21]\"] ;\\n1236 -> 1242 ;\\n1243 [label=\"gini = 0.0\\\\nsamples = 1\\\\nvalue = [1, 0]\"] ;\\n1242 -> 1243 ;\\n1244 [label=\"hhs_geo_region <= 8.5\\\\ngini = 0.087\\\\nsamples = 22\\\\nvalue = [1, 21]\"] ;\\n1242 -> 1244 ;\\n1245 [label=\"gini = 0.0\\\\nsamples = 20\\\\nvalue = [0, 20]\"] ;\\n1244 -> 1245 ;\\n1246 [label=\"gini = 0.5\\\\nsamples = 2\\\\nvalue = [1, 1]\"] ;\\n1244 -> 1246 ;\\n1247 [label=\"opinion_seas_vacc_effective <= 3.5\\\\ngini = 0.488\\\\nsamples = 19\\\\nvalue = [11, 8]\"] ;\\n1223 -> 1247 ;\\n1248 [label=\"age_group <= 0.5\\\\ngini = 0.49\\\\nsamples = 14\\\\nvalue = [6, 8]\"] ;\\n1247 -> 1248 ;\\n1249 [label=\"gini = 0.0\\\\nsamples = 3\\\\nvalue = [3, 0]\"] ;\\n1248 -> 1249 ;\\n1250 [label=\"h1n1_knowledge <= 0.5\\\\ngini = 0.397\\\\nsamples = 11\\\\nvalue = [3, 8]\"] ;\\n1248 -> 1250 ;\\n1251 [label=\"employment_status <= 0.5\\\\ngini = 0.375\\\\nsamples = 4\\\\nvalue = [3, 1]\"] ;\\n1250 -> 1251 ;\\n1252 [label=\"gini = 0.0\\\\nsamples = 1\\\\nvalue = [0, 1]\"] ;\\n1251 -> 1252 ;\\n1253 [label=\"gini = 0.0\\\\nsamples = 3\\\\nvalue = [3, 0]\"] ;\\n1251 -> 1253 ;\\n1254 [label=\"gini = 0.0\\\\nsamples = 7\\\\nvalue = [0, 7]\"] ;\\n1250 -> 1254 ;\\n1255 [label=\"gini = 0.0\\\\nsamples = 5\\\\nvalue = [5, 0]\"] ;\\n1247 -> 1255 ;\\n1256 [label=\"race <= 1.0\\\\ngini = 0.255\\\\nsamples = 40\\\\nvalue = [6, 34]\"] ;\\n1222 -> 1256 ;\\n1257 [label=\"opinion_seas_vacc_effective <= 3.5\\\\ngini = 0.444\\\\nsamples = 3\\\\nvalue = [2, 1]\"] ;\\n1256 -> 1257 ;\\n1258 [label=\"gini = 0.0\\\\nsamples = 1\\\\nvalue = [0, 1]\"] ;\\n1257 -> 1258 ;\\n1259 [label=\"gini = 0.0\\\\nsamples = 2\\\\nvalue = [2, 0]\"] ;\\n1257 -> 1259 ;\\n1260 [label=\"health_insurance <= 0.5\\\\ngini = 0.193\\\\nsamples = 37\\\\nvalue = [4, 33]\"] ;\\n1256 -> 1260 ;\\n1261 [label=\"gini = 0.0\\\\nsamples = 1\\\\nvalue = [1, 0]\"] ;\\n1260 -> 1261 ;\\n1262 [label=\"census_msa <= 0.5\\\\ngini = 0.153\\\\nsamples = 36\\\\nvalue = [3, 33]\"] ;\\n1260 -> 1262 ;\\n1263 [label=\"income_poverty <= 2.5\\\\ngini = 0.291\\\\nsamples = 17\\\\nvalue = [3, 14]\"] ;\\n1262 -> 1263 ;\\n1264 [label=\"opinion_seas_risk <= 3.5\\\\ngini = 0.219\\\\nsamples = 16\\\\nvalue = [2, 14]\"] ;\\n1263 -> 1264 ;\\n1265 [label=\"gini = 0.124\\\\nsamples = 15\\\\nvalue = [1, 14]\"] ;\\n1264 -> 1265 ;\\n1266 [label=\"gini = 0.0\\\\nsamples = 1\\\\nvalue = [1, 0]\"] ;\\n1264 -> 1266 ;\\n1267 [label=\"gini = 0.0\\\\nsamples = 1\\\\nvalue = [1, 0]\"] ;\\n1263 -> 1267 ;\\n1268 [label=\"gini = 0.0\\\\nsamples = 19\\\\nvalue = [0, 19]\"] ;\\n1262 -> 1268 ;\\n1269 [label=\"opinion_h1n1_risk <= 0.5\\\\ngini = 0.347\\\\nsamples = 681\\\\nvalue = [529, 152]\"] ;\\n1031 -> 1269 ;\\n1270 [label=\"chronic_med_condition <= 0.5\\\\ngini = 0.257\\\\nsamples = 225\\\\nvalue = [191, 34]\"] ;\\n1269 -> 1270 ;\\n1271 [label=\"opinion_seas_vacc_effective <= 3.5\\\\ngini = 0.174\\\\nsamples = 156\\\\nvalue = [141, 15]\"] ;\\n1270 -> 1271 ;\\n1272 [label=\"employment_occupation <= 21.5\\\\ngini = 0.118\\\\nsamples = 127\\\\nvalue = [119, 8]\"] ;\\n1271 -> 1272 ;\\n1273 [label=\"age_group <= 1.5\\\\ngini = 0.096\\\\nsamples = 119\\\\nvalue = [113, 6]\"] ;\\n1272 -> 1273 ;\\n1274 [label=\"gini = 0.0\\\\nsamples = 56\\\\nvalue = [56, 0]\"] ;\\n1273 -> 1274 ;\\n1275 [label=\"income_poverty <= 1.5\\\\ngini = 0.172\\\\nsamples = 63\\\\nvalue = [57, 6]\"] ;\\n1273 -> 1275 ;\\n1276 [label=\"household_children <= 0.5\\\\ngini = 0.087\\\\nsamples = 44\\\\nvalue = [42, 2]\"] ;\\n1275 -> 1276 ;\\n1277 [label=\"income_poverty <= 0.5\\\\ngini = 0.049\\\\nsamples = 40\\\\nvalue = [39, 1]\"] ;\\n1276 -> 1277 ;\\n1278 [label=\"gini = 0.0\\\\nsamples = 31\\\\nvalue = [31, 0]\"] ;\\n1277 -> 1278 ;\\n1279 [label=\"gini = 0.198\\\\nsamples = 9\\\\nvalue = [8, 1]\"] ;\\n1277 -> 1279 ;\\n1280 [label=\"behavioral_face_mask <= 0.5\\\\ngini = 0.375\\\\nsamples = 4\\\\nvalue = [3, 1]\"] ;\\n1276 -> 1280 ;\\n1281 [label=\"gini = 0.0\\\\nsamples = 3\\\\nvalue = [3, 0]\"] ;\\n1280 -> 1281 ;\\n1282 [label=\"gini = 0.0\\\\nsamples = 1\\\\nvalue = [0, 1]\"] ;\\n1280 -> 1282 ;\\n1283 [label=\"hhs_geo_region <= 2.0\\\\ngini = 0.332\\\\nsamples = 19\\\\nvalue = [15, 4]\"] ;\\n1275 -> 1283 ;\\n1284 [label=\"gini = 0.0\\\\nsamples = 1\\\\nvalue = [0, 1]\"] ;\\n1283 -> 1284 ;\\n1285 [label=\"marital_status <= 0.5\\\\ngini = 0.278\\\\nsamples = 18\\\\nvalue = [15, 3]\"] ;\\n1283 -> 1285 ;\\n1286 [label=\"gini = 0.49\\\\nsamples = 7\\\\nvalue = [4, 3]\"] ;\\n1285 -> 1286 ;\\n1287 [label=\"gini = 0.0\\\\nsamples = 11\\\\nvalue = [11, 0]\"] ;\\n1285 -> 1287 ;\\n1288 [label=\"h1n1_concern <= 0.5\\\\ngini = 0.375\\\\nsamples = 8\\\\nvalue = [6, 2]\"] ;\\n1272 -> 1288 ;\\n1289 [label=\"age_group <= 1.5\\\\ngini = 0.444\\\\nsamples = 3\\\\nvalue = [1, 2]\"] ;\\n1288 -> 1289 ;\\n1290 [label=\"gini = 0.0\\\\nsamples = 2\\\\nvalue = [0, 2]\"] ;\\n1289 -> 1290 ;\\n1291 [label=\"gini = 0.0\\\\nsamples = 1\\\\nvalue = [1, 0]\"] ;\\n1289 -> 1291 ;\\n1292 [label=\"gini = 0.0\\\\nsamples = 5\\\\nvalue = [5, 0]\"] ;\\n1288 -> 1292 ;\\n1293 [label=\"sex <= 0.5\\\\ngini = 0.366\\\\nsamples = 29\\\\nvalue = [22, 7]\"] ;\\n1271 -> 1293 ;\\n1294 [label=\"employment_industry <= 17.5\\\\ngini = 0.245\\\\nsamples = 21\\\\nvalue = [18, 3]\"] ;\\n1293 -> 1294 ;\\n1295 [label=\"hhs_geo_region <= 7.5\\\\ngini = 0.18\\\\nsamples = 20\\\\nvalue = [18, 2]\"] ;\\n1294 -> 1295 ;\\n1296 [label=\"gini = 0.0\\\\nsamples = 16\\\\nvalue = [16, 0]\"] ;\\n1295 -> 1296 ;\\n1297 [label=\"marital_status <= 0.5\\\\ngini = 0.5\\\\nsamples = 4\\\\nvalue = [2, 2]\"] ;\\n1295 -> 1297 ;\\n1298 [label=\"gini = 0.0\\\\nsamples = 2\\\\nvalue = [0, 2]\"] ;\\n1297 -> 1298 ;\\n1299 [label=\"gini = 0.0\\\\nsamples = 2\\\\nvalue = [2, 0]\"] ;\\n1297 -> 1299 ;\\n1300 [label=\"gini = 0.0\\\\nsamples = 1\\\\nvalue = [0, 1]\"] ;\\n1294 -> 1300 ;\\n1301 [label=\"opinion_seas_sick_from_vacc <= 0.5\\\\ngini = 0.5\\\\nsamples = 8\\\\nvalue = [4, 4]\"] ;\\n1293 -> 1301 ;\\n1302 [label=\"gini = 0.0\\\\nsamples = 3\\\\nvalue = [0, 3]\"] ;\\n1301 -> 1302 ;\\n1303 [label=\"hhs_geo_region <= 3.0\\\\ngini = 0.32\\\\nsamples = 5\\\\nvalue = [4, 1]\"] ;\\n1301 -> 1303 ;\\n1304 [label=\"gini = 0.0\\\\nsamples = 1\\\\nvalue = [0, 1]\"] ;\\n1303 -> 1304 ;\\n1305 [label=\"gini = 0.0\\\\nsamples = 4\\\\nvalue = [4, 0]\"] ;\\n1303 -> 1305 ;\\n1306 [label=\"doctor_recc_seasonal <= 0.5\\\\ngini = 0.399\\\\nsamples = 69\\\\nvalue = [50, 19]\"] ;\\n1270 -> 1306 ;\\n1307 [label=\"household_adults <= 0.5\\\\ngini = 0.494\\\\nsamples = 9\\\\nvalue = [4, 5]\"] ;\\n1306 -> 1307 ;\\n1308 [label=\"gini = 0.0\\\\nsamples = 5\\\\nvalue = [0, 5]\"] ;\\n1307 -> 1308 ;\\n1309 [label=\"gini = 0.0\\\\nsamples = 4\\\\nvalue = [4, 0]\"] ;\\n1307 -> 1309 ;\\n1310 [label=\"health_worker <= 0.5\\\\ngini = 0.358\\\\nsamples = 60\\\\nvalue = [46, 14]\"] ;\\n1306 -> 1310 ;\\n1311 [label=\"h1n1_concern <= 1.5\\\\ngini = 0.429\\\\nsamples = 45\\\\nvalue = [31, 14]\"] ;\\n1310 -> 1311 ;\\n1312 [label=\"opinion_seas_risk <= 0.5\\\\ngini = 0.49\\\\nsamples = 28\\\\nvalue = [16, 12]\"] ;\\n1311 -> 1312 ;\\n1313 [label=\"hhs_geo_region <= 8.5\\\\ngini = 0.305\\\\nsamples = 16\\\\nvalue = [13, 3]\"] ;\\n1312 -> 1313 ;\\n1314 [label=\"household_children <= 2.5\\\\ngini = 0.133\\\\nsamples = 14\\\\nvalue = [13, 1]\"] ;\\n1313 -> 1314 ;\\n1315 [label=\"gini = 0.0\\\\nsamples = 12\\\\nvalue = [12, 0]\"] ;\\n1314 -> 1315 ;\\n1316 [label=\"gini = 0.5\\\\nsamples = 2\\\\nvalue = [1, 1]\"] ;\\n1314 -> 1316 ;\\n1317 [label=\"gini = 0.0\\\\nsamples = 2\\\\nvalue = [0, 2]\"] ;\\n1313 -> 1317 ;\\n1318 [label=\"opinion_seas_risk <= 3.5\\\\ngini = 0.375\\\\nsamples = 12\\\\nvalue = [3, 9]\"] ;\\n1312 -> 1318 ;\\n1319 [label=\"race <= 1.0\\\\ngini = 0.198\\\\nsamples = 9\\\\nvalue = [1, 8]\"] ;\\n1318 -> 1319 ;\\n1320 [label=\"gini = 0.5\\\\nsamples = 2\\\\nvalue = [1, 1]\"] ;\\n1319 -> 1320 ;\\n1321 [label=\"gini = 0.0\\\\nsamples = 7\\\\nvalue = [0, 7]\"] ;\\n1319 -> 1321 ;\\n1322 [label=\"h1n1_concern <= 0.5\\\\ngini = 0.444\\\\nsamples = 3\\\\nvalue = [2, 1]\"] ;\\n1318 -> 1322 ;\\n1323 [label=\"gini = 0.0\\\\nsamples = 1\\\\nvalue = [0, 1]\"] ;\\n1322 -> 1323 ;\\n1324 [label=\"gini = 0.0\\\\nsamples = 2\\\\nvalue = [2, 0]\"] ;\\n1322 -> 1324 ;\\n1325 [label=\"employment_occupation <= 9.0\\\\ngini = 0.208\\\\nsamples = 17\\\\nvalue = [15, 2]\"] ;\\n1311 -> 1325 ;\\n1326 [label=\"gini = 0.0\\\\nsamples = 1\\\\nvalue = [0, 1]\"] ;\\n1325 -> 1326 ;\\n1327 [label=\"employment_industry <= 16.0\\\\ngini = 0.117\\\\nsamples = 16\\\\nvalue = [15, 1]\"] ;\\n1325 -> 1327 ;\\n1328 [label=\"gini = 0.0\\\\nsamples = 15\\\\nvalue = [15, 0]\"] ;\\n1327 -> 1328 ;\\n1329 [label=\"gini = 0.0\\\\nsamples = 1\\\\nvalue = [0, 1]\"] ;\\n1327 -> 1329 ;\\n1330 [label=\"gini = 0.0\\\\nsamples = 15\\\\nvalue = [15, 0]\"] ;\\n1310 -> 1330 ;\\n1331 [label=\"employment_occupation <= 19.5\\\\ngini = 0.384\\\\nsamples = 456\\\\nvalue = [338, 118]\"] ;\\n1269 -> 1331 ;\\n1332 [label=\"behavioral_avoidance <= 0.5\\\\ngini = 0.406\\\\nsamples = 402\\\\nvalue = [288, 114]\"] ;\\n1331 -> 1332 ;\\n1333 [label=\"behavioral_outside_home <= 0.5\\\\ngini = 0.481\\\\nsamples = 92\\\\nvalue = [55, 37]\"] ;\\n1332 -> 1333 ;\\n1334 [label=\"household_children <= 1.5\\\\ngini = 0.434\\\\nsamples = 69\\\\nvalue = [47, 22]\"] ;\\n1333 -> 1334 ;\\n1335 [label=\"employment_status <= 0.5\\\\ngini = 0.483\\\\nsamples = 54\\\\nvalue = [32, 22]\"] ;\\n1334 -> 1335 ;\\n1336 [label=\"opinion_seas_vacc_effective <= 1.5\\\\ngini = 0.42\\\\nsamples = 20\\\\nvalue = [6, 14]\"] ;\\n1335 -> 1336 ;\\n1337 [label=\"gini = 0.0\\\\nsamples = 3\\\\nvalue = [3, 0]\"] ;\\n1336 -> 1337 ;\\n1338 [label=\"employment_industry <= 19.0\\\\ngini = 0.291\\\\nsamples = 17\\\\nvalue = [3, 14]\"] ;\\n1336 -> 1338 ;\\n1339 [label=\"gini = 0.219\\\\nsamples = 16\\\\nvalue = [2, 14]\"] ;\\n1338 -> 1339 ;\\n1340 [label=\"gini = 0.0\\\\nsamples = 1\\\\nvalue = [1, 0]\"] ;\\n1338 -> 1340 ;\\n1341 [label=\"hhs_geo_region <= 6.5\\\\ngini = 0.36\\\\nsamples = 34\\\\nvalue = [26, 8]\"] ;\\n1335 -> 1341 ;\\n1342 [label=\"education <= 1.5\\\\ngini = 0.435\\\\nsamples = 25\\\\nvalue = [17, 8]\"] ;\\n1341 -> 1342 ;\\n1343 [label=\"gini = 0.0\\\\nsamples = 6\\\\nvalue = [6, 0]\"] ;\\n1342 -> 1343 ;\\n1344 [label=\"gini = 0.488\\\\nsamples = 19\\\\nvalue = [11, 8]\"] ;\\n1342 -> 1344 ;\\n1345 [label=\"gini = 0.0\\\\nsamples = 9\\\\nvalue = [9, 0]\"] ;\\n1341 -> 1345 ;\\n1346 [label=\"gini = 0.0\\\\nsamples = 15\\\\nvalue = [15, 0]\"] ;\\n1334 -> 1346 ;\\n1347 [label=\"marital_status <= 0.5\\\\ngini = 0.454\\\\nsamples = 23\\\\nvalue = [8, 15]\"] ;\\n1333 -> 1347 ;\\n1348 [label=\"opinion_seas_sick_from_vacc <= 2.0\\\\ngini = 0.444\\\\nsamples = 9\\\\nvalue = [6, 3]\"] ;\\n1347 -> 1348 ;\\n1349 [label=\"gini = 0.0\\\\nsamples = 4\\\\nvalue = [4, 0]\"] ;\\n1348 -> 1349 ;\\n1350 [label=\"sex <= 0.5\\\\ngini = 0.48\\\\nsamples = 5\\\\nvalue = [2, 3]\"] ;\\n1348 -> 1350 ;\\n1351 [label=\"hhs_geo_region <= 4.0\\\\ngini = 0.444\\\\nsamples = 3\\\\nvalue = [2, 1]\"] ;\\n1350 -> 1351 ;\\n1352 [label=\"gini = 0.0\\\\nsamples = 1\\\\nvalue = [0, 1]\"] ;\\n1351 -> 1352 ;\\n1353 [label=\"gini = 0.0\\\\nsamples = 2\\\\nvalue = [2, 0]\"] ;\\n1351 -> 1353 ;\\n1354 [label=\"gini = 0.0\\\\nsamples = 2\\\\nvalue = [0, 2]\"] ;\\n1350 -> 1354 ;\\n1355 [label=\"behavioral_antiviral_meds <= 1.0\\\\ngini = 0.245\\\\nsamples = 14\\\\nvalue = [2, 12]\"] ;\\n1347 -> 1355 ;\\n1356 [label=\"sex <= 0.5\\\\ngini = 0.142\\\\nsamples = 13\\\\nvalue = [1, 12]\"] ;\\n1355 -> 1356 ;\\n1357 [label=\"gini = 0.0\\\\nsamples = 10\\\\nvalue = [0, 10]\"] ;\\n1356 -> 1357 ;\\n1358 [label=\"opinion_h1n1_risk <= 1.5\\\\ngini = 0.444\\\\nsamples = 3\\\\nvalue = [1, 2]\"] ;\\n1356 -> 1358 ;\\n1359 [label=\"gini = 0.0\\\\nsamples = 2\\\\nvalue = [0, 2]\"] ;\\n1358 -> 1359 ;\\n1360 [label=\"gini = 0.0\\\\nsamples = 1\\\\nvalue = [1, 0]\"] ;\\n1358 -> 1360 ;\\n1361 [label=\"gini = 0.0\\\\nsamples = 1\\\\nvalue = [1, 0]\"] ;\\n1355 -> 1361 ;\\n1362 [label=\"opinion_h1n1_sick_from_vacc <= 0.5\\\\ngini = 0.373\\\\nsamples = 310\\\\nvalue = [233, 77]\"] ;\\n1332 -> 1362 ;\\n1363 [label=\"opinion_seas_sick_from_vacc <= 0.5\\\\ngini = 0.47\\\\nsamples = 69\\\\nvalue = [43, 26]\"] ;\\n1362 -> 1363 ;\\n1364 [label=\"employment_status <= 1.5\\\\ngini = 0.498\\\\nsamples = 53\\\\nvalue = [28, 25]\"] ;\\n1363 -> 1364 ;\\n1365 [label=\"education <= 1.5\\\\ngini = 0.474\\\\nsamples = 44\\\\nvalue = [27, 17]\"] ;\\n1364 -> 1365 ;\\n1366 [label=\"employment_occupation <= 13.5\\\\ngini = 0.278\\\\nsamples = 6\\\\nvalue = [1, 5]\"] ;\\n1365 -> 1366 ;\\n1367 [label=\"gini = 0.0\\\\nsamples = 5\\\\nvalue = [0, 5]\"] ;\\n1366 -> 1367 ;\\n1368 [label=\"gini = 0.0\\\\nsamples = 1\\\\nvalue = [1, 0]\"] ;\\n1366 -> 1368 ;\\n1369 [label=\"child_under_6_months <= 0.5\\\\ngini = 0.432\\\\nsamples = 38\\\\nvalue = [26, 12]\"] ;\\n1365 -> 1369 ;\\n1370 [label=\"gini = 0.375\\\\nsamples = 32\\\\nvalue = [24, 8]\"] ;\\n1369 -> 1370 ;\\n1371 [label=\"gini = 0.444\\\\nsamples = 6\\\\nvalue = [2, 4]\"] ;\\n1369 -> 1371 ;\\n1372 [label=\"h1n1_knowledge <= 0.5\\\\ngini = 0.198\\\\nsamples = 9\\\\nvalue = [1, 8]\"] ;\\n1364 -> 1372 ;\\n1373 [label=\"gini = 0.0\\\\nsamples = 1\\\\nvalue = [1, 0]\"] ;\\n1372 -> 1373 ;\\n1374 [label=\"gini = 0.0\\\\nsamples = 8\\\\nvalue = [0, 8]\"] ;\\n1372 -> 1374 ;\\n1375 [label=\"employment_industry <= 2.5\\\\ngini = 0.117\\\\nsamples = 16\\\\nvalue = [15, 1]\"] ;\\n1363 -> 1375 ;\\n1376 [label=\"gini = 0.0\\\\nsamples = 1\\\\nvalue = [0, 1]\"] ;\\n1375 -> 1376 ;\\n1377 [label=\"gini = 0.0\\\\nsamples = 15\\\\nvalue = [15, 0]\"] ;\\n1375 -> 1377 ;\\n1378 [label=\"chronic_med_condition <= 0.5\\\\ngini = 0.334\\\\nsamples = 241\\\\nvalue = [190, 51]\"] ;\\n1362 -> 1378 ;\\n1379 [label=\"employment_occupation <= 7.5\\\\ngini = 0.391\\\\nsamples = 124\\\\nvalue = [91, 33]\"] ;\\n1378 -> 1379 ;\\n1380 [label=\"opinion_seas_risk <= 0.5\\\\ngini = 0.204\\\\nsamples = 26\\\\nvalue = [23, 3]\"] ;\\n1379 -> 1380 ;\\n1381 [label=\"h1n1_knowledge <= 1.5\\\\ngini = 0.5\\\\nsamples = 4\\\\nvalue = [2, 2]\"] ;\\n1380 -> 1381 ;\\n1382 [label=\"gini = 0.0\\\\nsamples = 2\\\\nvalue = [2, 0]\"] ;\\n1381 -> 1382 ;\\n1383 [label=\"gini = 0.0\\\\nsamples = 2\\\\nvalue = [0, 2]\"] ;\\n1381 -> 1383 ;\\n1384 [label=\"hhs_geo_region <= 8.5\\\\ngini = 0.087\\\\nsamples = 22\\\\nvalue = [21, 1]\"] ;\\n1380 -> 1384 ;\\n1385 [label=\"gini = 0.0\\\\nsamples = 19\\\\nvalue = [19, 0]\"] ;\\n1384 -> 1385 ;\\n1386 [label=\"gini = 0.444\\\\nsamples = 3\\\\nvalue = [2, 1]\"] ;\\n1384 -> 1386 ;\\n1387 [label=\"age_group <= 3.5\\\\ngini = 0.425\\\\nsamples = 98\\\\nvalue = [68, 30]\"] ;\\n1379 -> 1387 ;\\n1388 [label=\"sex <= 0.5\\\\ngini = 0.395\\\\nsamples = 85\\\\nvalue = [62, 23]\"] ;\\n1387 -> 1388 ;\\n1389 [label=\"gini = 0.302\\\\nsamples = 54\\\\nvalue = [44, 10]\"] ;\\n1388 -> 1389 ;\\n1390 [label=\"gini = 0.487\\\\nsamples = 31\\\\nvalue = [18, 13]\"] ;\\n1388 -> 1390 ;\\n1391 [label=\"opinion_seas_sick_from_vacc <= 2.0\\\\ngini = 0.497\\\\nsamples = 13\\\\nvalue = [6, 7]\"] ;\\n1387 -> 1391 ;\\n1392 [label=\"gini = 0.444\\\\nsamples = 9\\\\nvalue = [6, 3]\"] ;\\n1391 -> 1392 ;\\n1393 [label=\"gini = 0.0\\\\nsamples = 4\\\\nvalue = [0, 4]\"] ;\\n1391 -> 1393 ;\\n1394 [label=\"opinion_h1n1_sick_from_vacc <= 1.5\\\\ngini = 0.26\\\\nsamples = 117\\\\nvalue = [99, 18]\"] ;\\n1378 -> 1394 ;\\n1395 [label=\"education <= 0.5\\\\ngini = 0.128\\\\nsamples = 58\\\\nvalue = [54, 4]\"] ;\\n1394 -> 1395 ;\\n1396 [label=\"behavioral_outside_home <= 0.5\\\\ngini = 0.375\\\\nsamples = 16\\\\nvalue = [12, 4]\"] ;\\n1395 -> 1396 ;\\n1397 [label=\"gini = 0.494\\\\nsamples = 9\\\\nvalue = [5, 4]\"] ;\\n1396 -> 1397 ;\\n1398 [label=\"gini = 0.0\\\\nsamples = 7\\\\nvalue = [7, 0]\"] ;\\n1396 -> 1398 ;\\n1399 [label=\"gini = 0.0\\\\nsamples = 42\\\\nvalue = [42, 0]\"] ;\\n1395 -> 1399 ;\\n1400 [label=\"opinion_seas_sick_from_vacc <= 0.5\\\\ngini = 0.362\\\\nsamples = 59\\\\nvalue = [45, 14]\"] ;\\n1394 -> 1400 ;\\n1401 [label=\"behavioral_face_mask <= 0.5\\\\ngini = 0.117\\\\nsamples = 16\\\\nvalue = [15, 1]\"] ;\\n1400 -> 1401 ;\\n1402 [label=\"gini = 0.0\\\\nsamples = 14\\\\nvalue = [14, 0]\"] ;\\n1401 -> 1402 ;\\n1403 [label=\"gini = 0.5\\\\nsamples = 2\\\\nvalue = [1, 1]\"] ;\\n1401 -> 1403 ;\\n1404 [label=\"opinion_seas_vacc_effective <= 1.5\\\\ngini = 0.422\\\\nsamples = 43\\\\nvalue = [30, 13]\"] ;\\n1400 -> 1404 ;\\n1405 [label=\"gini = 0.0\\\\nsamples = 7\\\\nvalue = [7, 0]\"] ;\\n1404 -> 1405 ;\\n1406 [label=\"gini = 0.461\\\\nsamples = 36\\\\nvalue = [23, 13]\"] ;\\n1404 -> 1406 ;\\n1407 [label=\"employment_industry <= 20.5\\\\ngini = 0.137\\\\nsamples = 54\\\\nvalue = [50, 4]\"] ;\\n1331 -> 1407 ;\\n1408 [label=\"age_group <= 3.5\\\\ngini = 0.107\\\\nsamples = 53\\\\nvalue = [50, 3]\"] ;\\n1407 -> 1408 ;\\n1409 [label=\"health_worker <= 0.5\\\\ngini = 0.042\\\\nsamples = 47\\\\nvalue = [46, 1]\"] ;\\n1408 -> 1409 ;\\n1410 [label=\"gini = 0.0\\\\nsamples = 43\\\\nvalue = [43, 0]\"] ;\\n1409 -> 1410 ;\\n1411 [label=\"employment_occupation <= 21.0\\\\ngini = 0.375\\\\nsamples = 4\\\\nvalue = [3, 1]\"] ;\\n1409 -> 1411 ;\\n1412 [label=\"gini = 0.0\\\\nsamples = 1\\\\nvalue = [0, 1]\"] ;\\n1411 -> 1412 ;\\n1413 [label=\"gini = 0.0\\\\nsamples = 3\\\\nvalue = [3, 0]\"] ;\\n1411 -> 1413 ;\\n1414 [label=\"marital_status <= 0.5\\\\ngini = 0.444\\\\nsamples = 6\\\\nvalue = [4, 2]\"] ;\\n1408 -> 1414 ;\\n1415 [label=\"gini = 0.0\\\\nsamples = 2\\\\nvalue = [0, 2]\"] ;\\n1414 -> 1415 ;\\n1416 [label=\"gini = 0.0\\\\nsamples = 4\\\\nvalue = [4, 0]\"] ;\\n1414 -> 1416 ;\\n1417 [label=\"gini = 0.0\\\\nsamples = 1\\\\nvalue = [0, 1]\"] ;\\n1407 -> 1417 ;\\n1418 [label=\"health_insurance <= 1.5\\\\ngini = 0.482\\\\nsamples = 854\\\\nvalue = [345, 509]\"] ;\\n1030 -> 1418 ;\\n1419 [label=\"age_group <= 3.5\\\\ngini = 0.432\\\\nsamples = 615\\\\nvalue = [194, 421]\"] ;\\n1418 -> 1419 ;\\n1420 [label=\"age_group <= 0.5\\\\ngini = 0.476\\\\nsamples = 404\\\\nvalue = [158, 246]\"] ;\\n1419 -> 1420 ;\\n1421 [label=\"employment_industry <= 16.5\\\\ngini = 0.497\\\\nsamples = 98\\\\nvalue = [53, 45]\"] ;\\n1420 -> 1421 ;\\n1422 [label=\"census_msa <= 0.5\\\\ngini = 0.499\\\\nsamples = 84\\\\nvalue = [40, 44]\"] ;\\n1421 -> 1422 ;\\n1423 [label=\"opinion_seas_sick_from_vacc <= 0.5\\\\ngini = 0.428\\\\nsamples = 29\\\\nvalue = [9, 20]\"] ;\\n1422 -> 1423 ;\\n1424 [label=\"hhs_geo_region <= 0.5\\\\ngini = 0.231\\\\nsamples = 15\\\\nvalue = [2, 13]\"] ;\\n1423 -> 1424 ;\\n1425 [label=\"gini = 0.0\\\\nsamples = 1\\\\nvalue = [1, 0]\"] ;\\n1424 -> 1425 ;\\n1426 [label=\"doctor_recc_seasonal <= 0.5\\\\ngini = 0.133\\\\nsamples = 14\\\\nvalue = [1, 13]\"] ;\\n1424 -> 1426 ;\\n1427 [label=\"marital_status <= 0.5\\\\ngini = 0.5\\\\nsamples = 2\\\\nvalue = [1, 1]\"] ;\\n1426 -> 1427 ;\\n1428 [label=\"gini = 0.0\\\\nsamples = 1\\\\nvalue = [0, 1]\"] ;\\n1427 -> 1428 ;\\n1429 [label=\"gini = 0.0\\\\nsamples = 1\\\\nvalue = [1, 0]\"] ;\\n1427 -> 1429 ;\\n1430 [label=\"gini = 0.0\\\\nsamples = 12\\\\nvalue = [0, 12]\"] ;\\n1426 -> 1430 ;\\n1431 [label=\"rent_or_own <= 0.5\\\\ngini = 0.5\\\\nsamples = 14\\\\nvalue = [7, 7]\"] ;\\n1423 -> 1431 ;\\n1432 [label=\"gini = 0.0\\\\nsamples = 4\\\\nvalue = [4, 0]\"] ;\\n1431 -> 1432 ;\\n1433 [label=\"behavioral_touch_face <= 0.5\\\\ngini = 0.42\\\\nsamples = 10\\\\nvalue = [3, 7]\"] ;\\n1431 -> 1433 ;\\n1434 [label=\"gini = 0.0\\\\nsamples = 2\\\\nvalue = [2, 0]\"] ;\\n1433 -> 1434 ;\\n1435 [label=\"opinion_seas_risk <= 3.5\\\\ngini = 0.219\\\\nsamples = 8\\\\nvalue = [1, 7]\"] ;\\n1433 -> 1435 ;\\n1436 [label=\"gini = 0.0\\\\nsamples = 7\\\\nvalue = [0, 7]\"] ;\\n1435 -> 1436 ;\\n1437 [label=\"gini = 0.0\\\\nsamples = 1\\\\nvalue = [1, 0]\"] ;\\n1435 -> 1437 ;\\n1438 [label=\"opinion_h1n1_sick_from_vacc <= 0.5\\\\ngini = 0.492\\\\nsamples = 55\\\\nvalue = [31, 24]\"] ;\\n1422 -> 1438 ;\\n1439 [label=\"employment_occupation <= 4.5\\\\ngini = 0.375\\\\nsamples = 20\\\\nvalue = [15, 5]\"] ;\\n1438 -> 1439 ;\\n1440 [label=\"opinion_seas_vacc_effective <= 4.5\\\\ngini = 0.375\\\\nsamples = 4\\\\nvalue = [1, 3]\"] ;\\n1439 -> 1440 ;\\n1441 [label=\"gini = 0.0\\\\nsamples = 3\\\\nvalue = [0, 3]\"] ;\\n1440 -> 1441 ;\\n1442 [label=\"gini = 0.0\\\\nsamples = 1\\\\nvalue = [1, 0]\"] ;\\n1440 -> 1442 ;\\n1443 [label=\"behavioral_outside_home <= 0.5\\\\ngini = 0.219\\\\nsamples = 16\\\\nvalue = [14, 2]\"] ;\\n1439 -> 1443 ;\\n1444 [label=\"h1n1_concern <= 0.5\\\\ngini = 0.124\\\\nsamples = 15\\\\nvalue = [14, 1]\"] ;\\n1443 -> 1444 ;\\n1445 [label=\"gini = 0.0\\\\nsamples = 1\\\\nvalue = [0, 1]\"] ;\\n1444 -> 1445 ;\\n1446 [label=\"gini = 0.0\\\\nsamples = 14\\\\nvalue = [14, 0]\"] ;\\n1444 -> 1446 ;\\n1447 [label=\"gini = 0.0\\\\nsamples = 1\\\\nvalue = [0, 1]\"] ;\\n1443 -> 1447 ;\\n1448 [label=\"child_under_6_months <= 0.5\\\\ngini = 0.496\\\\nsamples = 35\\\\nvalue = [16, 19]\"] ;\\n1438 -> 1448 ;\\n1449 [label=\"behavioral_avoidance <= 0.5\\\\ngini = 0.49\\\\nsamples = 28\\\\nvalue = [16, 12]\"] ;\\n1448 -> 1449 ;\\n1450 [label=\"gini = 0.0\\\\nsamples = 7\\\\nvalue = [7, 0]\"] ;\\n1449 -> 1450 ;\\n1451 [label=\"hhs_geo_region <= 0.5\\\\ngini = 0.49\\\\nsamples = 21\\\\nvalue = [9, 12]\"] ;\\n1449 -> 1451 ;\\n1452 [label=\"gini = 0.0\\\\nsamples = 4\\\\nvalue = [4, 0]\"] ;\\n1451 -> 1452 ;\\n1453 [label=\"gini = 0.415\\\\nsamples = 17\\\\nvalue = [5, 12]\"] ;\\n1451 -> 1453 ;\\n1454 [label=\"gini = 0.0\\\\nsamples = 7\\\\nvalue = [0, 7]\"] ;\\n1448 -> 1454 ;\\n1455 [label=\"hhs_geo_region <= 8.5\\\\ngini = 0.133\\\\nsamples = 14\\\\nvalue = [13, 1]\"] ;\\n1421 -> 1455 ;\\n1456 [label=\"gini = 0.0\\\\nsamples = 13\\\\nvalue = [13, 0]\"] ;\\n1455 -> 1456 ;\\n1457 [label=\"gini = 0.0\\\\nsamples = 1\\\\nvalue = [0, 1]\"] ;\\n1455 -> 1457 ;\\n1458 [label=\"race <= 1.5\\\\ngini = 0.451\\\\nsamples = 306\\\\nvalue = [105, 201]\"] ;\\n1420 -> 1458 ;\\n1459 [label=\"income_poverty <= 0.5\\\\ngini = 0.496\\\\nsamples = 46\\\\nvalue = [25, 21]\"] ;\\n1458 -> 1459 ;\\n1460 [label=\"household_adults <= 1.5\\\\ngini = 0.444\\\\nsamples = 21\\\\nvalue = [7, 14]\"] ;\\n1459 -> 1460 ;\\n1461 [label=\"opinion_h1n1_sick_from_vacc <= 3.5\\\\ngini = 0.346\\\\nsamples = 18\\\\nvalue = [4, 14]\"] ;\\n1460 -> 1461 ;\\n1462 [label=\"opinion_seas_vacc_effective <= 3.5\\\\ngini = 0.219\\\\nsamples = 16\\\\nvalue = [2, 14]\"] ;\\n1461 -> 1462 ;\\n1463 [label=\"employment_occupation <= 10.5\\\\ngini = 0.5\\\\nsamples = 4\\\\nvalue = [2, 2]\"] ;\\n1462 -> 1463 ;\\n1464 [label=\"gini = 0.0\\\\nsamples = 2\\\\nvalue = [0, 2]\"] ;\\n1463 -> 1464 ;\\n1465 [label=\"gini = 0.0\\\\nsamples = 2\\\\nvalue = [2, 0]\"] ;\\n1463 -> 1465 ;\\n1466 [label=\"gini = 0.0\\\\nsamples = 12\\\\nvalue = [0, 12]\"] ;\\n1462 -> 1466 ;\\n1467 [label=\"gini = 0.0\\\\nsamples = 2\\\\nvalue = [2, 0]\"] ;\\n1461 -> 1467 ;\\n1468 [label=\"gini = 0.0\\\\nsamples = 3\\\\nvalue = [3, 0]\"] ;\\n1460 -> 1468 ;\\n1469 [label=\"education <= 1.5\\\\ngini = 0.403\\\\nsamples = 25\\\\nvalue = [18, 7]\"] ;\\n1459 -> 1469 ;\\n1470 [label=\"education <= 0.5\\\\ngini = 0.496\\\\nsamples = 11\\\\nvalue = [5, 6]\"] ;\\n1469 -> 1470 ;\\n1471 [label=\"opinion_seas_vacc_effective <= 1.5\\\\ngini = 0.408\\\\nsamples = 7\\\\nvalue = [5, 2]\"] ;\\n1470 -> 1471 ;\\n1472 [label=\"gini = 0.0\\\\nsamples = 1\\\\nvalue = [0, 1]\"] ;\\n1471 -> 1472 ;\\n1473 [label=\"employment_industry <= 5.5\\\\ngini = 0.278\\\\nsamples = 6\\\\nvalue = [5, 1]\"] ;\\n1471 -> 1473 ;\\n1474 [label=\"gini = 0.0\\\\nsamples = 1\\\\nvalue = [0, 1]\"] ;\\n1473 -> 1474 ;\\n1475 [label=\"gini = 0.0\\\\nsamples = 5\\\\nvalue = [5, 0]\"] ;\\n1473 -> 1475 ;\\n1476 [label=\"gini = 0.0\\\\nsamples = 4\\\\nvalue = [0, 4]\"] ;\\n1470 -> 1476 ;\\n1477 [label=\"employment_occupation <= 0.5\\\\ngini = 0.133\\\\nsamples = 14\\\\nvalue = [13, 1]\"] ;\\n1469 -> 1477 ;\\n1478 [label=\"gini = 0.0\\\\nsamples = 1\\\\nvalue = [0, 1]\"] ;\\n1477 -> 1478 ;\\n1479 [label=\"gini = 0.0\\\\nsamples = 13\\\\nvalue = [13, 0]\"] ;\\n1477 -> 1479 ;\\n1480 [label=\"opinion_seas_risk <= 0.5\\\\ngini = 0.426\\\\nsamples = 260\\\\nvalue = [80, 180]\"] ;\\n1458 -> 1480 ;\\n1481 [label=\"employment_occupation <= 19.0\\\\ngini = 0.5\\\\nsamples = 43\\\\nvalue = [21, 22]\"] ;\\n1480 -> 1481 ;\\n1482 [label=\"household_adults <= 1.5\\\\ngini = 0.492\\\\nsamples = 39\\\\nvalue = [17, 22]\"] ;\\n1481 -> 1482 ;\\n1483 [label=\"hhs_geo_region <= 0.5\\\\ngini = 0.475\\\\nsamples = 36\\\\nvalue = [14, 22]\"] ;\\n1482 -> 1483 ;\\n1484 [label=\"gini = 0.0\\\\nsamples = 2\\\\nvalue = [2, 0]\"] ;\\n1483 -> 1484 ;\\n1485 [label=\"employment_industry <= 6.5\\\\ngini = 0.457\\\\nsamples = 34\\\\nvalue = [12, 22]\"] ;\\n1483 -> 1485 ;\\n1486 [label=\"gini = 0.26\\\\nsamples = 13\\\\nvalue = [2, 11]\"] ;\\n1485 -> 1486 ;\\n1487 [label=\"gini = 0.499\\\\nsamples = 21\\\\nvalue = [10, 11]\"] ;\\n1485 -> 1487 ;\\n1488 [label=\"gini = 0.0\\\\nsamples = 3\\\\nvalue = [3, 0]\"] ;\\n1482 -> 1488 ;\\n1489 [label=\"gini = 0.0\\\\nsamples = 4\\\\nvalue = [4, 0]\"] ;\\n1481 -> 1489 ;\\n1490 [label=\"employment_industry <= 18.5\\\\ngini = 0.396\\\\nsamples = 217\\\\nvalue = [59, 158]\"] ;\\n1480 -> 1490 ;\\n1491 [label=\"employment_occupation <= 4.5\\\\ngini = 0.367\\\\nsamples = 186\\\\nvalue = [45, 141]\"] ;\\n1490 -> 1491 ;\\n1492 [label=\"behavioral_outside_home <= 0.5\\\\ngini = 0.128\\\\nsamples = 29\\\\nvalue = [2, 27]\"] ;\\n1491 -> 1492 ;\\n1493 [label=\"employment_industry <= 3.0\\\\ngini = 0.071\\\\nsamples = 27\\\\nvalue = [1, 26]\"] ;\\n1492 -> 1493 ;\\n1494 [label=\"gini = 0.375\\\\nsamples = 4\\\\nvalue = [1, 3]\"] ;\\n1493 -> 1494 ;\\n1495 [label=\"gini = 0.0\\\\nsamples = 23\\\\nvalue = [0, 23]\"] ;\\n1493 -> 1495 ;\\n1496 [label=\"opinion_h1n1_sick_from_vacc <= 2.0\\\\ngini = 0.5\\\\nsamples = 2\\\\nvalue = [1, 1]\"] ;\\n1492 -> 1496 ;\\n1497 [label=\"gini = 0.0\\\\nsamples = 1\\\\nvalue = [1, 0]\"] ;\\n1496 -> 1497 ;\\n1498 [label=\"gini = 0.0\\\\nsamples = 1\\\\nvalue = [0, 1]\"] ;\\n1496 -> 1498 ;\\n1499 [label=\"hhs_geo_region <= 1.5\\\\ngini = 0.398\\\\nsamples = 157\\\\nvalue = [43, 114]\"] ;\\n1491 -> 1499 ;\\n1500 [label=\"opinion_seas_vacc_effective <= 3.5\\\\ngini = 0.24\\\\nsamples = 43\\\\nvalue = [6, 37]\"] ;\\n1499 -> 1500 ;\\n1501 [label=\"gini = 0.48\\\\nsamples = 10\\\\nvalue = [4, 6]\"] ;\\n1500 -> 1501 ;\\n1502 [label=\"gini = 0.114\\\\nsamples = 33\\\\nvalue = [2, 31]\"] ;\\n1500 -> 1502 ;\\n1503 [label=\"h1n1_knowledge <= 0.5\\\\ngini = 0.438\\\\nsamples = 114\\\\nvalue = [37, 77]\"] ;\\n1499 -> 1503 ;\\n1504 [label=\"gini = 0.444\\\\nsamples = 6\\\\nvalue = [4, 2]\"] ;\\n1503 -> 1504 ;\\n1505 [label=\"gini = 0.424\\\\nsamples = 108\\\\nvalue = [33, 75]\"] ;\\n1503 -> 1505 ;\\n1506 [label=\"chronic_med_condition <= 0.5\\\\ngini = 0.495\\\\nsamples = 31\\\\nvalue = [14, 17]\"] ;\\n1490 -> 1506 ;\\n1507 [label=\"doctor_recc_seasonal <= 0.5\\\\ngini = 0.491\\\\nsamples = 23\\\\nvalue = [13, 10]\"] ;\\n1506 -> 1507 ;\\n1508 [label=\"employment_industry <= 20.5\\\\ngini = 0.375\\\\nsamples = 8\\\\nvalue = [2, 6]\"] ;\\n1507 -> 1508 ;\\n1509 [label=\"gini = 0.0\\\\nsamples = 6\\\\nvalue = [0, 6]\"] ;\\n1508 -> 1509 ;\\n1510 [label=\"gini = 0.0\\\\nsamples = 2\\\\nvalue = [2, 0]\"] ;\\n1508 -> 1510 ;\\n1511 [label=\"behavioral_avoidance <= 0.5\\\\ngini = 0.391\\\\nsamples = 15\\\\nvalue = [11, 4]\"] ;\\n1507 -> 1511 ;\\n1512 [label=\"gini = 0.375\\\\nsamples = 4\\\\nvalue = [1, 3]\"] ;\\n1511 -> 1512 ;\\n1513 [label=\"gini = 0.165\\\\nsamples = 11\\\\nvalue = [10, 1]\"] ;\\n1511 -> 1513 ;\\n1514 [label=\"household_adults <= 1.5\\\\ngini = 0.219\\\\nsamples = 8\\\\nvalue = [1, 7]\"] ;\\n1506 -> 1514 ;\\n1515 [label=\"gini = 0.0\\\\nsamples = 6\\\\nvalue = [0, 6]\"] ;\\n1514 -> 1515 ;\\n1516 [label=\"household_children <= 1.0\\\\ngini = 0.5\\\\nsamples = 2\\\\nvalue = [1, 1]\"] ;\\n1514 -> 1516 ;\\n1517 [label=\"gini = 0.0\\\\nsamples = 1\\\\nvalue = [1, 0]\"] ;\\n1516 -> 1517 ;\\n1518 [label=\"gini = 0.0\\\\nsamples = 1\\\\nvalue = [0, 1]\"] ;\\n1516 -> 1518 ;\\n1519 [label=\"h1n1_knowledge <= 0.5\\\\ngini = 0.283\\\\nsamples = 211\\\\nvalue = [36, 175]\"] ;\\n1419 -> 1519 ;\\n1520 [label=\"hhs_geo_region <= 8.5\\\\ngini = 0.491\\\\nsamples = 23\\\\nvalue = [10, 13]\"] ;\\n1519 -> 1520 ;\\n1521 [label=\"behavioral_outside_home <= 0.5\\\\ngini = 0.455\\\\nsamples = 20\\\\nvalue = [7, 13]\"] ;\\n1520 -> 1521 ;\\n1522 [label=\"income_poverty <= 1.0\\\\ngini = 0.494\\\\nsamples = 9\\\\nvalue = [5, 4]\"] ;\\n1521 -> 1522 ;\\n1523 [label=\"hhs_geo_region <= 7.0\\\\ngini = 0.408\\\\nsamples = 7\\\\nvalue = [5, 2]\"] ;\\n1522 -> 1523 ;\\n1524 [label=\"gini = 0.0\\\\nsamples = 4\\\\nvalue = [4, 0]\"] ;\\n1523 -> 1524 ;\\n1525 [label=\"employment_status <= 0.5\\\\ngini = 0.444\\\\nsamples = 3\\\\nvalue = [1, 2]\"] ;\\n1523 -> 1525 ;\\n1526 [label=\"gini = 0.0\\\\nsamples = 1\\\\nvalue = [1, 0]\"] ;\\n1525 -> 1526 ;\\n1527 [label=\"gini = 0.0\\\\nsamples = 2\\\\nvalue = [0, 2]\"] ;\\n1525 -> 1527 ;\\n1528 [label=\"gini = 0.0\\\\nsamples = 2\\\\nvalue = [0, 2]\"] ;\\n1522 -> 1528 ;\\n1529 [label=\"opinion_h1n1_sick_from_vacc <= 0.5\\\\ngini = 0.298\\\\nsamples = 11\\\\nvalue = [2, 9]\"] ;\\n1521 -> 1529 ;\\n1530 [label=\"gini = 0.0\\\\nsamples = 8\\\\nvalue = [0, 8]\"] ;\\n1529 -> 1530 ;\\n1531 [label=\"opinion_h1n1_risk <= 0.5\\\\ngini = 0.444\\\\nsamples = 3\\\\nvalue = [2, 1]\"] ;\\n1529 -> 1531 ;\\n1532 [label=\"gini = 0.0\\\\nsamples = 2\\\\nvalue = [2, 0]\"] ;\\n1531 -> 1532 ;\\n1533 [label=\"gini = 0.0\\\\nsamples = 1\\\\nvalue = [0, 1]\"] ;\\n1531 -> 1533 ;\\n1534 [label=\"gini = 0.0\\\\nsamples = 3\\\\nvalue = [3, 0]\"] ;\\n1520 -> 1534 ;\\n1535 [label=\"household_children <= 1.5\\\\ngini = 0.238\\\\nsamples = 188\\\\nvalue = [26, 162]\"] ;\\n1519 -> 1535 ;\\n1536 [label=\"employment_industry <= 19.5\\\\ngini = 0.226\\\\nsamples = 185\\\\nvalue = [24, 161]\"] ;\\n1535 -> 1536 ;\\n1537 [label=\"marital_status <= 1.5\\\\ngini = 0.213\\\\nsamples = 182\\\\nvalue = [22, 160]\"] ;\\n1536 -> 1537 ;\\n1538 [label=\"opinion_seas_risk <= 1.5\\\\ngini = 0.205\\\\nsamples = 181\\\\nvalue = [21, 160]\"] ;\\n1537 -> 1538 ;\\n1539 [label=\"race <= 1.5\\\\ngini = 0.295\\\\nsamples = 89\\\\nvalue = [16, 73]\"] ;\\n1538 -> 1539 ;\\n1540 [label=\"education <= 0.5\\\\ngini = 0.444\\\\nsamples = 3\\\\nvalue = [2, 1]\"] ;\\n1539 -> 1540 ;\\n1541 [label=\"gini = 0.0\\\\nsamples = 1\\\\nvalue = [0, 1]\"] ;\\n1540 -> 1541 ;\\n1542 [label=\"gini = 0.0\\\\nsamples = 2\\\\nvalue = [2, 0]\"] ;\\n1540 -> 1542 ;\\n1543 [label=\"behavioral_avoidance <= 1.5\\\\ngini = 0.273\\\\nsamples = 86\\\\nvalue = [14, 72]\"] ;\\n1539 -> 1543 ;\\n1544 [label=\"gini = 0.259\\\\nsamples = 85\\\\nvalue = [13, 72]\"] ;\\n1543 -> 1544 ;\\n1545 [label=\"gini = 0.0\\\\nsamples = 1\\\\nvalue = [1, 0]\"] ;\\n1543 -> 1545 ;\\n1546 [label=\"marital_status <= 0.5\\\\ngini = 0.103\\\\nsamples = 92\\\\nvalue = [5, 87]\"] ;\\n1538 -> 1546 ;\\n1547 [label=\"doctor_recc_seasonal <= 0.5\\\\ngini = 0.19\\\\nsamples = 47\\\\nvalue = [5, 42]\"] ;\\n1546 -> 1547 ;\\n1548 [label=\"gini = 0.0\\\\nsamples = 1\\\\nvalue = [1, 0]\"] ;\\n1547 -> 1548 ;\\n1549 [label=\"gini = 0.159\\\\nsamples = 46\\\\nvalue = [4, 42]\"] ;\\n1547 -> 1549 ;\\n1550 [label=\"gini = 0.0\\\\nsamples = 45\\\\nvalue = [0, 45]\"] ;\\n1546 -> 1550 ;\\n1551 [label=\"gini = 0.0\\\\nsamples = 1\\\\nvalue = [1, 0]\"] ;\\n1537 -> 1551 ;\\n1552 [label=\"behavioral_face_mask <= 0.5\\\\ngini = 0.444\\\\nsamples = 3\\\\nvalue = [2, 1]\"] ;\\n1536 -> 1552 ;\\n1553 [label=\"gini = 0.0\\\\nsamples = 2\\\\nvalue = [2, 0]\"] ;\\n1552 -> 1553 ;\\n1554 [label=\"gini = 0.0\\\\nsamples = 1\\\\nvalue = [0, 1]\"] ;\\n1552 -> 1554 ;\\n1555 [label=\"opinion_seas_risk <= 2.0\\\\ngini = 0.444\\\\nsamples = 3\\\\nvalue = [2, 1]\"] ;\\n1535 -> 1555 ;\\n1556 [label=\"gini = 0.0\\\\nsamples = 2\\\\nvalue = [2, 0]\"] ;\\n1555 -> 1556 ;\\n1557 [label=\"gini = 0.0\\\\nsamples = 1\\\\nvalue = [0, 1]\"] ;\\n1555 -> 1557 ;\\n1558 [label=\"health_worker <= 0.5\\\\ngini = 0.465\\\\nsamples = 239\\\\nvalue = [151, 88]\"] ;\\n1418 -> 1558 ;\\n1559 [label=\"employment_occupation <= 8.5\\\\ngini = 0.431\\\\nsamples = 191\\\\nvalue = [131, 60]\"] ;\\n1558 -> 1559 ;\\n1560 [label=\"income_poverty <= 2.0\\\\ngini = 0.165\\\\nsamples = 22\\\\nvalue = [20, 2]\"] ;\\n1559 -> 1560 ;\\n1561 [label=\"doctor_recc_seasonal <= 0.5\\\\ngini = 0.091\\\\nsamples = 21\\\\nvalue = [20, 1]\"] ;\\n1560 -> 1561 ;\\n1562 [label=\"sex <= 0.5\\\\ngini = 0.444\\\\nsamples = 3\\\\nvalue = [2, 1]\"] ;\\n1561 -> 1562 ;\\n1563 [label=\"gini = 0.0\\\\nsamples = 2\\\\nvalue = [2, 0]\"] ;\\n1562 -> 1563 ;\\n1564 [label=\"gini = 0.0\\\\nsamples = 1\\\\nvalue = [0, 1]\"] ;\\n1562 -> 1564 ;\\n1565 [label=\"gini = 0.0\\\\nsamples = 18\\\\nvalue = [18, 0]\"] ;\\n1561 -> 1565 ;\\n1566 [label=\"gini = 0.0\\\\nsamples = 1\\\\nvalue = [0, 1]\"] ;\\n1560 -> 1566 ;\\n1567 [label=\"h1n1_concern <= 2.5\\\\ngini = 0.451\\\\nsamples = 169\\\\nvalue = [111, 58]\"] ;\\n1559 -> 1567 ;\\n1568 [label=\"behavioral_large_gatherings <= 0.5\\\\ngini = 0.487\\\\nsamples = 110\\\\nvalue = [64, 46]\"] ;\\n1567 -> 1568 ;\\n1569 [label=\"hhs_geo_region <= 1.5\\\\ngini = 0.498\\\\nsamples = 60\\\\nvalue = [28, 32]\"] ;\\n1568 -> 1569 ;\\n1570 [label=\"behavioral_wash_hands <= 0.5\\\\ngini = 0.305\\\\nsamples = 16\\\\nvalue = [3, 13]\"] ;\\n1569 -> 1570 ;\\n1571 [label=\"gini = 0.0\\\\nsamples = 2\\\\nvalue = [2, 0]\"] ;\\n1570 -> 1571 ;\\n1572 [label=\"census_msa <= 1.5\\\\ngini = 0.133\\\\nsamples = 14\\\\nvalue = [1, 13]\"] ;\\n1570 -> 1572 ;\\n1573 [label=\"gini = 0.0\\\\nsamples = 11\\\\nvalue = [0, 11]\"] ;\\n1572 -> 1573 ;\\n1574 [label=\"sex <= 0.5\\\\ngini = 0.444\\\\nsamples = 3\\\\nvalue = [1, 2]\"] ;\\n1572 -> 1574 ;\\n1575 [label=\"gini = 0.0\\\\nsamples = 2\\\\nvalue = [0, 2]\"] ;\\n1574 -> 1575 ;\\n1576 [label=\"gini = 0.0\\\\nsamples = 1\\\\nvalue = [1, 0]\"] ;\\n1574 -> 1576 ;\\n1577 [label=\"employment_industry <= 10.5\\\\ngini = 0.491\\\\nsamples = 44\\\\nvalue = [25, 19]\"] ;\\n1569 -> 1577 ;\\n1578 [label=\"behavioral_avoidance <= 0.5\\\\ngini = 0.444\\\\nsamples = 36\\\\nvalue = [24, 12]\"] ;\\n1577 -> 1578 ;\\n1579 [label=\"gini = 0.0\\\\nsamples = 8\\\\nvalue = [8, 0]\"] ;\\n1578 -> 1579 ;\\n1580 [label=\"household_children <= 1.5\\\\ngini = 0.49\\\\nsamples = 28\\\\nvalue = [16, 12]\"] ;\\n1578 -> 1580 ;\\n1581 [label=\"gini = 0.5\\\\nsamples = 24\\\\nvalue = [12, 12]\"] ;\\n1580 -> 1581 ;\\n1582 [label=\"gini = 0.0\\\\nsamples = 4\\\\nvalue = [4, 0]\"] ;\\n1580 -> 1582 ;\\n1583 [label=\"age_group <= 3.0\\\\ngini = 0.219\\\\nsamples = 8\\\\nvalue = [1, 7]\"] ;\\n1577 -> 1583 ;\\n1584 [label=\"gini = 0.0\\\\nsamples = 6\\\\nvalue = [0, 6]\"] ;\\n1583 -> 1584 ;\\n1585 [label=\"income_poverty <= 0.5\\\\ngini = 0.5\\\\nsamples = 2\\\\nvalue = [1, 1]\"] ;\\n1583 -> 1585 ;\\n1586 [label=\"gini = 0.0\\\\nsamples = 1\\\\nvalue = [0, 1]\"] ;\\n1585 -> 1586 ;\\n1587 [label=\"gini = 0.0\\\\nsamples = 1\\\\nvalue = [1, 0]\"] ;\\n1585 -> 1587 ;\\n1588 [label=\"race <= 0.5\\\\ngini = 0.403\\\\nsamples = 50\\\\nvalue = [36, 14]\"] ;\\n1568 -> 1588 ;\\n1589 [label=\"gini = 0.0\\\\nsamples = 2\\\\nvalue = [0, 2]\"] ;\\n1588 -> 1589 ;\\n1590 [label=\"opinion_seas_risk <= 0.5\\\\ngini = 0.375\\\\nsamples = 48\\\\nvalue = [36, 12]\"] ;\\n1588 -> 1590 ;\\n1591 [label=\"gini = 0.0\\\\nsamples = 9\\\\nvalue = [9, 0]\"] ;\\n1590 -> 1591 ;\\n1592 [label=\"income_poverty <= 1.5\\\\ngini = 0.426\\\\nsamples = 39\\\\nvalue = [27, 12]\"] ;\\n1590 -> 1592 ;\\n1593 [label=\"h1n1_concern <= 0.5\\\\ngini = 0.35\\\\nsamples = 31\\\\nvalue = [24, 7]\"] ;\\n1592 -> 1593 ;\\n1594 [label=\"gini = 0.0\\\\nsamples = 1\\\\nvalue = [0, 1]\"] ;\\n1593 -> 1594 ;\\n1595 [label=\"gini = 0.32\\\\nsamples = 30\\\\nvalue = [24, 6]\"] ;\\n1593 -> 1595 ;\\n1596 [label=\"hhs_geo_region <= 4.5\\\\ngini = 0.469\\\\nsamples = 8\\\\nvalue = [3, 5]\"] ;\\n1592 -> 1596 ;\\n1597 [label=\"gini = 0.375\\\\nsamples = 4\\\\nvalue = [3, 1]\"] ;\\n1596 -> 1597 ;\\n1598 [label=\"gini = 0.0\\\\nsamples = 4\\\\nvalue = [0, 4]\"] ;\\n1596 -> 1598 ;\\n1599 [label=\"household_adults <= 0.5\\\\ngini = 0.324\\\\nsamples = 59\\\\nvalue = [47, 12]\"] ;\\n1567 -> 1599 ;\\n1600 [label=\"opinion_h1n1_risk <= 1.5\\\\ngini = 0.465\\\\nsamples = 19\\\\nvalue = [12, 7]\"] ;\\n1599 -> 1600 ;\\n1601 [label=\"income_poverty <= 2.5\\\\ngini = 0.5\\\\nsamples = 14\\\\nvalue = [7, 7]\"] ;\\n1600 -> 1601 ;\\n1602 [label=\"behavioral_touch_face <= 0.5\\\\ngini = 0.463\\\\nsamples = 11\\\\nvalue = [7, 4]\"] ;\\n1601 -> 1602 ;\\n1603 [label=\"gini = 0.0\\\\nsamples = 2\\\\nvalue = [0, 2]\"] ;\\n1602 -> 1603 ;\\n1604 [label=\"age_group <= 2.0\\\\ngini = 0.346\\\\nsamples = 9\\\\nvalue = [7, 2]\"] ;\\n1602 -> 1604 ;\\n1605 [label=\"gini = 0.444\\\\nsamples = 3\\\\nvalue = [1, 2]\"] ;\\n1604 -> 1605 ;\\n1606 [label=\"gini = 0.0\\\\nsamples = 6\\\\nvalue = [6, 0]\"] ;\\n1604 -> 1606 ;\\n1607 [label=\"gini = 0.0\\\\nsamples = 3\\\\nvalue = [0, 3]\"] ;\\n1601 -> 1607 ;\\n1608 [label=\"gini = 0.0\\\\nsamples = 5\\\\nvalue = [5, 0]\"] ;\\n1600 -> 1608 ;\\n1609 [label=\"employment_occupation <= 21.0\\\\ngini = 0.219\\\\nsamples = 40\\\\nvalue = [35, 5]\"] ;\\n1599 -> 1609 ;\\n1610 [label=\"sex <= 0.5\\\\ngini = 0.184\\\\nsamples = 39\\\\nvalue = [35, 4]\"] ;\\n1609 -> 1610 ;\\n1611 [label=\"education <= 3.5\\\\ngini = 0.332\\\\nsamples = 19\\\\nvalue = [15, 4]\"] ;\\n1610 -> 1611 ;\\n1612 [label=\"behavioral_wash_hands <= 0.5\\\\ngini = 0.219\\\\nsamples = 16\\\\nvalue = [14, 2]\"] ;\\n1611 -> 1612 ;\\n1613 [label=\"gini = 0.5\\\\nsamples = 2\\\\nvalue = [1, 1]\"] ;\\n1612 -> 1613 ;\\n1614 [label=\"gini = 0.133\\\\nsamples = 14\\\\nvalue = [13, 1]\"] ;\\n1612 -> 1614 ;\\n1615 [label=\"household_children <= 2.5\\\\ngini = 0.444\\\\nsamples = 3\\\\nvalue = [1, 2]\"] ;\\n1611 -> 1615 ;\\n1616 [label=\"gini = 0.0\\\\nsamples = 2\\\\nvalue = [0, 2]\"] ;\\n1615 -> 1616 ;\\n1617 [label=\"gini = 0.0\\\\nsamples = 1\\\\nvalue = [1, 0]\"] ;\\n1615 -> 1617 ;\\n1618 [label=\"gini = 0.0\\\\nsamples = 20\\\\nvalue = [20, 0]\"] ;\\n1610 -> 1618 ;\\n1619 [label=\"gini = 0.0\\\\nsamples = 1\\\\nvalue = [0, 1]\"] ;\\n1609 -> 1619 ;\\n1620 [label=\"age_group <= 1.5\\\\ngini = 0.486\\\\nsamples = 48\\\\nvalue = [20, 28]\"] ;\\n1558 -> 1620 ;\\n1621 [label=\"opinion_seas_risk <= 0.5\\\\ngini = 0.432\\\\nsamples = 19\\\\nvalue = [13, 6]\"] ;\\n1620 -> 1621 ;\\n1622 [label=\"race <= 2.0\\\\ngini = 0.32\\\\nsamples = 5\\\\nvalue = [1, 4]\"] ;\\n1621 -> 1622 ;\\n1623 [label=\"gini = 0.0\\\\nsamples = 1\\\\nvalue = [1, 0]\"] ;\\n1622 -> 1623 ;\\n1624 [label=\"gini = 0.0\\\\nsamples = 4\\\\nvalue = [0, 4]\"] ;\\n1622 -> 1624 ;\\n1625 [label=\"opinion_h1n1_vacc_effective <= 4.5\\\\ngini = 0.245\\\\nsamples = 14\\\\nvalue = [12, 2]\"] ;\\n1621 -> 1625 ;\\n1626 [label=\"opinion_h1n1_sick_from_vacc <= 0.5\\\\ngini = 0.142\\\\nsamples = 13\\\\nvalue = [12, 1]\"] ;\\n1625 -> 1626 ;\\n1627 [label=\"hhs_geo_region <= 3.5\\\\ngini = 0.444\\\\nsamples = 3\\\\nvalue = [2, 1]\"] ;\\n1626 -> 1627 ;\\n1628 [label=\"gini = 0.0\\\\nsamples = 1\\\\nvalue = [0, 1]\"] ;\\n1627 -> 1628 ;\\n1629 [label=\"gini = 0.0\\\\nsamples = 2\\\\nvalue = [2, 0]\"] ;\\n1627 -> 1629 ;\\n1630 [label=\"gini = 0.0\\\\nsamples = 10\\\\nvalue = [10, 0]\"] ;\\n1626 -> 1630 ;\\n1631 [label=\"gini = 0.0\\\\nsamples = 1\\\\nvalue = [0, 1]\"] ;\\n1625 -> 1631 ;\\n1632 [label=\"h1n1_knowledge <= 0.5\\\\ngini = 0.366\\\\nsamples = 29\\\\nvalue = [7, 22]\"] ;\\n1620 -> 1632 ;\\n1633 [label=\"gini = 0.0\\\\nsamples = 3\\\\nvalue = [3, 0]\"] ;\\n1632 -> 1633 ;\\n1634 [label=\"doctor_recc_seasonal <= 0.5\\\\ngini = 0.26\\\\nsamples = 26\\\\nvalue = [4, 22]\"] ;\\n1632 -> 1634 ;\\n1635 [label=\"gini = 0.0\\\\nsamples = 1\\\\nvalue = [1, 0]\"] ;\\n1634 -> 1635 ;\\n1636 [label=\"employment_occupation <= 0.5\\\\ngini = 0.211\\\\nsamples = 25\\\\nvalue = [3, 22]\"] ;\\n1634 -> 1636 ;\\n1637 [label=\"gini = 0.0\\\\nsamples = 1\\\\nvalue = [1, 0]\"] ;\\n1636 -> 1637 ;\\n1638 [label=\"hhs_geo_region <= 3.5\\\\ngini = 0.153\\\\nsamples = 24\\\\nvalue = [2, 22]\"] ;\\n1636 -> 1638 ;\\n1639 [label=\"opinion_seas_risk <= 0.5\\\\ngini = 0.346\\\\nsamples = 9\\\\nvalue = [2, 7]\"] ;\\n1638 -> 1639 ;\\n1640 [label=\"gini = 0.0\\\\nsamples = 1\\\\nvalue = [1, 0]\"] ;\\n1639 -> 1640 ;\\n1641 [label=\"behavioral_touch_face <= 0.5\\\\ngini = 0.219\\\\nsamples = 8\\\\nvalue = [1, 7]\"] ;\\n1639 -> 1641 ;\\n1642 [label=\"gini = 0.0\\\\nsamples = 1\\\\nvalue = [1, 0]\"] ;\\n1641 -> 1642 ;\\n1643 [label=\"gini = 0.0\\\\nsamples = 7\\\\nvalue = [0, 7]\"] ;\\n1641 -> 1643 ;\\n1644 [label=\"gini = 0.0\\\\nsamples = 15\\\\nvalue = [0, 15]\"] ;\\n1638 -> 1644 ;\\n1645 [label=\"health_insurance <= 1.5\\\\ngini = 0.098\\\\nsamples = 1433\\\\nvalue = [1359, 74]\"] ;\\n1029 -> 1645 ;\\n1646 [label=\"opinion_seas_risk <= 1.5\\\\ngini = 0.309\\\\nsamples = 278\\\\nvalue = [225, 53]\"] ;\\n1645 -> 1646 ;\\n1647 [label=\"employment_occupation <= 22.5\\\\ngini = 0.232\\\\nsamples = 202\\\\nvalue = [175, 27]\"] ;\\n1646 -> 1647 ;\\n1648 [label=\"behavioral_antiviral_meds <= 1.5\\\\ngini = 0.225\\\\nsamples = 201\\\\nvalue = [175, 26]\"] ;\\n1647 -> 1648 ;\\n1649 [label=\"rent_or_own <= 0.5\\\\ngini = 0.219\\\\nsamples = 200\\\\nvalue = [175, 25]\"] ;\\n1648 -> 1649 ;\\n1650 [label=\"health_worker <= 0.5\\\\ngini = 0.267\\\\nsamples = 145\\\\nvalue = [122, 23]\"] ;\\n1649 -> 1650 ;\\n1651 [label=\"health_insurance <= 0.5\\\\ngini = 0.234\\\\nsamples = 133\\\\nvalue = [115, 18]\"] ;\\n1650 -> 1651 ;\\n1652 [label=\"employment_industry <= 18.0\\\\ngini = 0.459\\\\nsamples = 14\\\\nvalue = [9, 5]\"] ;\\n1651 -> 1652 ;\\n1653 [label=\"behavioral_avoidance <= 0.5\\\\ngini = 0.408\\\\nsamples = 7\\\\nvalue = [2, 5]\"] ;\\n1652 -> 1653 ;\\n1654 [label=\"gini = 0.0\\\\nsamples = 2\\\\nvalue = [2, 0]\"] ;\\n1653 -> 1654 ;\\n1655 [label=\"gini = 0.0\\\\nsamples = 5\\\\nvalue = [0, 5]\"] ;\\n1653 -> 1655 ;\\n1656 [label=\"gini = 0.0\\\\nsamples = 7\\\\nvalue = [7, 0]\"] ;\\n1652 -> 1656 ;\\n1657 [label=\"opinion_seas_risk <= 0.5\\\\ngini = 0.195\\\\nsamples = 119\\\\nvalue = [106, 13]\"] ;\\n1651 -> 1657 ;\\n1658 [label=\"h1n1_concern <= 2.5\\\\ngini = 0.042\\\\nsamples = 47\\\\nvalue = [46, 1]\"] ;\\n1657 -> 1658 ;\\n1659 [label=\"gini = 0.0\\\\nsamples = 43\\\\nvalue = [43, 0]\"] ;\\n1658 -> 1659 ;\\n1660 [label=\"behavioral_wash_hands <= 0.5\\\\ngini = 0.375\\\\nsamples = 4\\\\nvalue = [3, 1]\"] ;\\n1658 -> 1660 ;\\n1661 [label=\"gini = 0.0\\\\nsamples = 1\\\\nvalue = [0, 1]\"] ;\\n1660 -> 1661 ;\\n1662 [label=\"gini = 0.0\\\\nsamples = 3\\\\nvalue = [3, 0]\"] ;\\n1660 -> 1662 ;\\n1663 [label=\"employment_occupation <= 12.0\\\\ngini = 0.278\\\\nsamples = 72\\\\nvalue = [60, 12]\"] ;\\n1657 -> 1663 ;\\n1664 [label=\"opinion_h1n1_vacc_effective <= 3.5\\\\ngini = 0.337\\\\nsamples = 56\\\\nvalue = [44, 12]\"] ;\\n1663 -> 1664 ;\\n1665 [label=\"gini = 0.273\\\\nsamples = 49\\\\nvalue = [41, 8]\"] ;\\n1664 -> 1665 ;\\n1666 [label=\"gini = 0.49\\\\nsamples = 7\\\\nvalue = [3, 4]\"] ;\\n1664 -> 1666 ;\\n1667 [label=\"gini = 0.0\\\\nsamples = 16\\\\nvalue = [16, 0]\"] ;\\n1663 -> 1667 ;\\n1668 [label=\"income_poverty <= 0.5\\\\ngini = 0.486\\\\nsamples = 12\\\\nvalue = [7, 5]\"] ;\\n1650 -> 1668 ;\\n1669 [label=\"gini = 0.0\\\\nsamples = 5\\\\nvalue = [5, 0]\"] ;\\n1668 -> 1669 ;\\n1670 [label=\"opinion_h1n1_sick_from_vacc <= 0.5\\\\ngini = 0.408\\\\nsamples = 7\\\\nvalue = [2, 5]\"] ;\\n1668 -> 1670 ;\\n1671 [label=\"gini = 0.0\\\\nsamples = 2\\\\nvalue = [2, 0]\"] ;\\n1670 -> 1671 ;\\n1672 [label=\"gini = 0.0\\\\nsamples = 5\\\\nvalue = [0, 5]\"] ;\\n1670 -> 1672 ;\\n1673 [label=\"behavioral_antiviral_meds <= 0.5\\\\ngini = 0.07\\\\nsamples = 55\\\\nvalue = [53, 2]\"] ;\\n1649 -> 1673 ;\\n1674 [label=\"education <= 0.5\\\\ngini = 0.037\\\\nsamples = 53\\\\nvalue = [52, 1]\"] ;\\n1673 -> 1674 ;\\n1675 [label=\"hhs_geo_region <= 7.0\\\\ngini = 0.165\\\\nsamples = 11\\\\nvalue = [10, 1]\"] ;\\n1674 -> 1675 ;\\n1676 [label=\"gini = 0.0\\\\nsamples = 10\\\\nvalue = [10, 0]\"] ;\\n1675 -> 1676 ;\\n1677 [label=\"gini = 0.0\\\\nsamples = 1\\\\nvalue = [0, 1]\"] ;\\n1675 -> 1677 ;\\n1678 [label=\"gini = 0.0\\\\nsamples = 42\\\\nvalue = [42, 0]\"] ;\\n1674 -> 1678 ;\\n1679 [label=\"opinion_seas_risk <= 0.5\\\\ngini = 0.5\\\\nsamples = 2\\\\nvalue = [1, 1]\"] ;\\n1673 -> 1679 ;\\n1680 [label=\"gini = 0.0\\\\nsamples = 1\\\\nvalue = [1, 0]\"] ;\\n1679 -> 1680 ;\\n1681 [label=\"gini = 0.0\\\\nsamples = 1\\\\nvalue = [0, 1]\"] ;\\n1679 -> 1681 ;\\n1682 [label=\"gini = 0.0\\\\nsamples = 1\\\\nvalue = [0, 1]\"] ;\\n1648 -> 1682 ;\\n1683 [label=\"gini = 0.0\\\\nsamples = 1\\\\nvalue = [0, 1]\"] ;\\n1647 -> 1683 ;\\n1684 [label=\"opinion_h1n1_vacc_effective <= 3.5\\\\ngini = 0.45\\\\nsamples = 76\\\\nvalue = [50, 26]\"] ;\\n1646 -> 1684 ;\\n1685 [label=\"hhs_geo_region <= 4.5\\\\ngini = 0.391\\\\nsamples = 60\\\\nvalue = [44, 16]\"] ;\\n1684 -> 1685 ;\\n1686 [label=\"household_children <= 1.5\\\\ngini = 0.475\\\\nsamples = 31\\\\nvalue = [19, 12]\"] ;\\n1685 -> 1686 ;\\n1687 [label=\"employment_industry <= 0.5\\\\ngini = 0.436\\\\nsamples = 28\\\\nvalue = [19, 9]\"] ;\\n1686 -> 1687 ;\\n1688 [label=\"gini = 0.0\\\\nsamples = 2\\\\nvalue = [0, 2]\"] ;\\n1687 -> 1688 ;\\n1689 [label=\"race <= 2.5\\\\ngini = 0.393\\\\nsamples = 26\\\\nvalue = [19, 7]\"] ;\\n1687 -> 1689 ;\\n1690 [label=\"behavioral_face_mask <= 0.5\\\\ngini = 0.444\\\\nsamples = 6\\\\nvalue = [2, 4]\"] ;\\n1689 -> 1690 ;\\n1691 [label=\"education <= 0.5\\\\ngini = 0.444\\\\nsamples = 3\\\\nvalue = [2, 1]\"] ;\\n1690 -> 1691 ;\\n1692 [label=\"gini = 0.0\\\\nsamples = 1\\\\nvalue = [0, 1]\"] ;\\n1691 -> 1692 ;\\n1693 [label=\"gini = 0.0\\\\nsamples = 2\\\\nvalue = [2, 0]\"] ;\\n1691 -> 1693 ;\\n1694 [label=\"gini = 0.0\\\\nsamples = 3\\\\nvalue = [0, 3]\"] ;\\n1690 -> 1694 ;\\n1695 [label=\"opinion_h1n1_vacc_effective <= 2.5\\\\ngini = 0.255\\\\nsamples = 20\\\\nvalue = [17, 3]\"] ;\\n1689 -> 1695 ;\\n1696 [label=\"gini = 0.0\\\\nsamples = 13\\\\nvalue = [13, 0]\"] ;\\n1695 -> 1696 ;\\n1697 [label=\"behavioral_avoidance <= 0.5\\\\ngini = 0.49\\\\nsamples = 7\\\\nvalue = [4, 3]\"] ;\\n1695 -> 1697 ;\\n1698 [label=\"gini = 0.0\\\\nsamples = 2\\\\nvalue = [0, 2]\"] ;\\n1697 -> 1698 ;\\n1699 [label=\"hhs_geo_region <= 0.5\\\\ngini = 0.32\\\\nsamples = 5\\\\nvalue = [4, 1]\"] ;\\n1697 -> 1699 ;\\n1700 [label=\"gini = 0.0\\\\nsamples = 1\\\\nvalue = [0, 1]\"] ;\\n1699 -> 1700 ;\\n1701 [label=\"gini = 0.0\\\\nsamples = 4\\\\nvalue = [4, 0]\"] ;\\n1699 -> 1701 ;\\n1702 [label=\"gini = 0.0\\\\nsamples = 3\\\\nvalue = [0, 3]\"] ;\\n1686 -> 1702 ;\\n1703 [label=\"opinion_h1n1_sick_from_vacc <= 2.5\\\\ngini = 0.238\\\\nsamples = 29\\\\nvalue = [25, 4]\"] ;\\n1685 -> 1703 ;\\n1704 [label=\"gini = 0.0\\\\nsamples = 18\\\\nvalue = [18, 0]\"] ;\\n1703 -> 1704 ;\\n1705 [label=\"hhs_geo_region <= 8.5\\\\ngini = 0.463\\\\nsamples = 11\\\\nvalue = [7, 4]\"] ;\\n1703 -> 1705 ;\\n1706 [label=\"employment_status <= 2.0\\\\ngini = 0.219\\\\nsamples = 8\\\\nvalue = [7, 1]\"] ;\\n1705 -> 1706 ;\\n1707 [label=\"gini = 0.0\\\\nsamples = 7\\\\nvalue = [7, 0]\"] ;\\n1706 -> 1707 ;\\n1708 [label=\"gini = 0.0\\\\nsamples = 1\\\\nvalue = [0, 1]\"] ;\\n1706 -> 1708 ;\\n1709 [label=\"gini = 0.0\\\\nsamples = 3\\\\nvalue = [0, 3]\"] ;\\n1705 -> 1709 ;\\n1710 [label=\"household_adults <= 0.5\\\\ngini = 0.469\\\\nsamples = 16\\\\nvalue = [6, 10]\"] ;\\n1684 -> 1710 ;\\n1711 [label=\"gini = 0.0\\\\nsamples = 4\\\\nvalue = [0, 4]\"] ;\\n1710 -> 1711 ;\\n1712 [label=\"census_msa <= 0.5\\\\ngini = 0.5\\\\nsamples = 12\\\\nvalue = [6, 6]\"] ;\\n1710 -> 1712 ;\\n1713 [label=\"gini = 0.0\\\\nsamples = 2\\\\nvalue = [2, 0]\"] ;\\n1712 -> 1713 ;\\n1714 [label=\"income_poverty <= 0.5\\\\ngini = 0.48\\\\nsamples = 10\\\\nvalue = [4, 6]\"] ;\\n1712 -> 1714 ;\\n1715 [label=\"household_adults <= 1.5\\\\ngini = 0.375\\\\nsamples = 4\\\\nvalue = [3, 1]\"] ;\\n1714 -> 1715 ;\\n1716 [label=\"gini = 0.0\\\\nsamples = 3\\\\nvalue = [3, 0]\"] ;\\n1715 -> 1716 ;\\n1717 [label=\"gini = 0.0\\\\nsamples = 1\\\\nvalue = [0, 1]\"] ;\\n1715 -> 1717 ;\\n1718 [label=\"behavioral_avoidance <= 0.5\\\\ngini = 0.278\\\\nsamples = 6\\\\nvalue = [1, 5]\"] ;\\n1714 -> 1718 ;\\n1719 [label=\"age_group <= 1.0\\\\ngini = 0.5\\\\nsamples = 2\\\\nvalue = [1, 1]\"] ;\\n1718 -> 1719 ;\\n1720 [label=\"gini = 0.0\\\\nsamples = 1\\\\nvalue = [1, 0]\"] ;\\n1719 -> 1720 ;\\n1721 [label=\"gini = 0.0\\\\nsamples = 1\\\\nvalue = [0, 1]\"] ;\\n1719 -> 1721 ;\\n1722 [label=\"gini = 0.0\\\\nsamples = 4\\\\nvalue = [0, 4]\"] ;\\n1718 -> 1722 ;\\n1723 [label=\"behavioral_antiviral_meds <= 0.5\\\\ngini = 0.036\\\\nsamples = 1155\\\\nvalue = [1134, 21]\"] ;\\n1645 -> 1723 ;\\n1724 [label=\"behavioral_wash_hands <= 1.5\\\\ngini = 0.031\\\\nsamples = 1127\\\\nvalue = [1109, 18]\"] ;\\n1723 -> 1724 ;\\n1725 [label=\"behavioral_outside_home <= 0.5\\\\ngini = 0.03\\\\nsamples = 1124\\\\nvalue = [1107, 17]\"] ;\\n1724 -> 1725 ;\\n1726 [label=\"hhs_geo_region <= 8.5\\\\ngini = 0.013\\\\nsamples = 782\\\\nvalue = [777, 5]\"] ;\\n1725 -> 1726 ;\\n1727 [label=\"opinion_h1n1_sick_from_vacc <= 0.5\\\\ngini = 0.009\\\\nsamples = 688\\\\nvalue = [685, 3]\"] ;\\n1726 -> 1727 ;\\n1728 [label=\"employment_status <= 0.5\\\\ngini = 0.022\\\\nsamples = 268\\\\nvalue = [265, 3]\"] ;\\n1727 -> 1728 ;\\n1729 [label=\"gini = 0.0\\\\nsamples = 140\\\\nvalue = [140, 0]\"] ;\\n1728 -> 1729 ;\\n1730 [label=\"income_poverty <= 0.5\\\\ngini = 0.046\\\\nsamples = 128\\\\nvalue = [125, 3]\"] ;\\n1728 -> 1730 ;\\n1731 [label=\"child_under_6_months <= 0.5\\\\ngini = 0.097\\\\nsamples = 59\\\\nvalue = [56, 3]\"] ;\\n1730 -> 1731 ;\\n1732 [label=\"census_msa <= 1.5\\\\ngini = 0.069\\\\nsamples = 56\\\\nvalue = [54, 2]\"] ;\\n1731 -> 1732 ;\\n1733 [label=\"gini = 0.0\\\\nsamples = 37\\\\nvalue = [37, 0]\"] ;\\n1732 -> 1733 ;\\n1734 [label=\"gini = 0.188\\\\nsamples = 19\\\\nvalue = [17, 2]\"] ;\\n1732 -> 1734 ;\\n1735 [label=\"age_group <= 1.5\\\\ngini = 0.444\\\\nsamples = 3\\\\nvalue = [2, 1]\"] ;\\n1731 -> 1735 ;\\n1736 [label=\"gini = 0.0\\\\nsamples = 1\\\\nvalue = [0, 1]\"] ;\\n1735 -> 1736 ;\\n1737 [label=\"gini = 0.0\\\\nsamples = 2\\\\nvalue = [2, 0]\"] ;\\n1735 -> 1737 ;\\n1738 [label=\"gini = 0.0\\\\nsamples = 69\\\\nvalue = [69, 0]\"] ;\\n1730 -> 1738 ;\\n1739 [label=\"gini = 0.0\\\\nsamples = 420\\\\nvalue = [420, 0]\"] ;\\n1727 -> 1739 ;\\n1740 [label=\"employment_industry <= 18.0\\\\ngini = 0.042\\\\nsamples = 94\\\\nvalue = [92, 2]\"] ;\\n1726 -> 1740 ;\\n1741 [label=\"age_group <= 3.5\\\\ngini = 0.024\\\\nsamples = 83\\\\nvalue = [82, 1]\"] ;\\n1740 -> 1741 ;\\n1742 [label=\"gini = 0.0\\\\nsamples = 61\\\\nvalue = [61, 0]\"] ;\\n1741 -> 1742 ;\\n1743 [label=\"marital_status <= 0.5\\\\ngini = 0.087\\\\nsamples = 22\\\\nvalue = [21, 1]\"] ;\\n1741 -> 1743 ;\\n1744 [label=\"behavioral_touch_face <= 0.5\\\\ngini = 0.245\\\\nsamples = 7\\\\nvalue = [6, 1]\"] ;\\n1743 -> 1744 ;\\n1745 [label=\"gini = 0.0\\\\nsamples = 5\\\\nvalue = [5, 0]\"] ;\\n1744 -> 1745 ;\\n1746 [label=\"census_msa <= 0.5\\\\ngini = 0.5\\\\nsamples = 2\\\\nvalue = [1, 1]\"] ;\\n1744 -> 1746 ;\\n1747 [label=\"gini = 0.0\\\\nsamples = 1\\\\nvalue = [1, 0]\"] ;\\n1746 -> 1747 ;\\n1748 [label=\"gini = 0.0\\\\nsamples = 1\\\\nvalue = [0, 1]\"] ;\\n1746 -> 1748 ;\\n1749 [label=\"gini = 0.0\\\\nsamples = 15\\\\nvalue = [15, 0]\"] ;\\n1743 -> 1749 ;\\n1750 [label=\"chronic_med_condition <= 0.5\\\\ngini = 0.165\\\\nsamples = 11\\\\nvalue = [10, 1]\"] ;\\n1740 -> 1750 ;\\n1751 [label=\"gini = 0.0\\\\nsamples = 10\\\\nvalue = [10, 0]\"] ;\\n1750 -> 1751 ;\\n1752 [label=\"gini = 0.0\\\\nsamples = 1\\\\nvalue = [0, 1]\"] ;\\n1750 -> 1752 ;\\n1753 [label=\"education <= 1.5\\\\ngini = 0.068\\\\nsamples = 342\\\\nvalue = [330, 12]\"] ;\\n1725 -> 1753 ;\\n1754 [label=\"race <= 2.5\\\\ngini = 0.126\\\\nsamples = 133\\\\nvalue = [124, 9]\"] ;\\n1753 -> 1754 ;\\n1755 [label=\"hhs_geo_region <= 2.5\\\\ngini = 0.26\\\\nsamples = 39\\\\nvalue = [33, 6]\"] ;\\n1754 -> 1755 ;\\n1756 [label=\"education <= 0.5\\\\ngini = 0.444\\\\nsamples = 3\\\\nvalue = [1, 2]\"] ;\\n1755 -> 1756 ;\\n1757 [label=\"gini = 0.0\\\\nsamples = 1\\\\nvalue = [1, 0]\"] ;\\n1756 -> 1757 ;\\n1758 [label=\"gini = 0.0\\\\nsamples = 2\\\\nvalue = [0, 2]\"] ;\\n1756 -> 1758 ;\\n1759 [label=\"opinion_seas_vacc_effective <= 3.5\\\\ngini = 0.198\\\\nsamples = 36\\\\nvalue = [32, 4]\"] ;\\n1755 -> 1759 ;\\n1760 [label=\"gini = 0.0\\\\nsamples = 21\\\\nvalue = [21, 0]\"] ;\\n1759 -> 1760 ;\\n1761 [label=\"opinion_seas_sick_from_vacc <= 3.5\\\\ngini = 0.391\\\\nsamples = 15\\\\nvalue = [11, 4]\"] ;\\n1759 -> 1761 ;\\n1762 [label=\"opinion_h1n1_sick_from_vacc <= 3.5\\\\ngini = 0.26\\\\nsamples = 13\\\\nvalue = [11, 2]\"] ;\\n1761 -> 1762 ;\\n1763 [label=\"gini = 0.153\\\\nsamples = 12\\\\nvalue = [11, 1]\"] ;\\n1762 -> 1763 ;\\n1764 [label=\"gini = 0.0\\\\nsamples = 1\\\\nvalue = [0, 1]\"] ;\\n1762 -> 1764 ;\\n1765 [label=\"gini = 0.0\\\\nsamples = 2\\\\nvalue = [0, 2]\"] ;\\n1761 -> 1765 ;\\n1766 [label=\"opinion_h1n1_vacc_effective <= 3.5\\\\ngini = 0.062\\\\nsamples = 94\\\\nvalue = [91, 3]\"] ;\\n1754 -> 1766 ;\\n1767 [label=\"employment_occupation <= 19.5\\\\ngini = 0.025\\\\nsamples = 78\\\\nvalue = [77, 1]\"] ;\\n1766 -> 1767 ;\\n1768 [label=\"gini = 0.0\\\\nsamples = 69\\\\nvalue = [69, 0]\"] ;\\n1767 -> 1768 ;\\n1769 [label=\"h1n1_concern <= 1.5\\\\ngini = 0.198\\\\nsamples = 9\\\\nvalue = [8, 1]\"] ;\\n1767 -> 1769 ;\\n1770 [label=\"gini = 0.0\\\\nsamples = 1\\\\nvalue = [0, 1]\"] ;\\n1769 -> 1770 ;\\n1771 [label=\"gini = 0.0\\\\nsamples = 8\\\\nvalue = [8, 0]\"] ;\\n1769 -> 1771 ;\\n1772 [label=\"income_poverty <= 2.5\\\\ngini = 0.219\\\\nsamples = 16\\\\nvalue = [14, 2]\"] ;\\n1766 -> 1772 ;\\n1773 [label=\"gini = 0.0\\\\nsamples = 13\\\\nvalue = [13, 0]\"] ;\\n1772 -> 1773 ;\\n1774 [label=\"census_msa <= 1.0\\\\ngini = 0.444\\\\nsamples = 3\\\\nvalue = [1, 2]\"] ;\\n1772 -> 1774 ;\\n1775 [label=\"gini = 0.0\\\\nsamples = 2\\\\nvalue = [0, 2]\"] ;\\n1774 -> 1775 ;\\n1776 [label=\"gini = 0.0\\\\nsamples = 1\\\\nvalue = [1, 0]\"] ;\\n1774 -> 1776 ;\\n1777 [label=\"opinion_seas_risk <= 4.5\\\\ngini = 0.028\\\\nsamples = 209\\\\nvalue = [206, 3]\"] ;\\n1753 -> 1777 ;\\n1778 [label=\"behavioral_face_mask <= 0.5\\\\ngini = 0.019\\\\nsamples = 206\\\\nvalue = [204, 2]\"] ;\\n1777 -> 1778 ;\\n1779 [label=\"gini = 0.0\\\\nsamples = 193\\\\nvalue = [193, 0]\"] ;\\n1778 -> 1779 ;\\n1780 [label=\"hhs_geo_region <= 2.0\\\\ngini = 0.26\\\\nsamples = 13\\\\nvalue = [11, 2]\"] ;\\n1778 -> 1780 ;\\n1781 [label=\"gini = 0.0\\\\nsamples = 1\\\\nvalue = [0, 1]\"] ;\\n1780 -> 1781 ;\\n1782 [label=\"opinion_h1n1_vacc_effective <= 3.5\\\\ngini = 0.153\\\\nsamples = 12\\\\nvalue = [11, 1]\"] ;\\n1780 -> 1782 ;\\n1783 [label=\"gini = 0.0\\\\nsamples = 8\\\\nvalue = [8, 0]\"] ;\\n1782 -> 1783 ;\\n1784 [label=\"hhs_geo_region <= 6.0\\\\ngini = 0.375\\\\nsamples = 4\\\\nvalue = [3, 1]\"] ;\\n1782 -> 1784 ;\\n1785 [label=\"gini = 0.0\\\\nsamples = 1\\\\nvalue = [0, 1]\"] ;\\n1784 -> 1785 ;\\n1786 [label=\"gini = 0.0\\\\nsamples = 3\\\\nvalue = [3, 0]\"] ;\\n1784 -> 1786 ;\\n1787 [label=\"hhs_geo_region <= 4.0\\\\ngini = 0.444\\\\nsamples = 3\\\\nvalue = [2, 1]\"] ;\\n1777 -> 1787 ;\\n1788 [label=\"gini = 0.0\\\\nsamples = 1\\\\nvalue = [0, 1]\"] ;\\n1787 -> 1788 ;\\n1789 [label=\"gini = 0.0\\\\nsamples = 2\\\\nvalue = [2, 0]\"] ;\\n1787 -> 1789 ;\\n1790 [label=\"opinion_h1n1_sick_from_vacc <= 1.5\\\\ngini = 0.444\\\\nsamples = 3\\\\nvalue = [2, 1]\"] ;\\n1724 -> 1790 ;\\n1791 [label=\"gini = 0.0\\\\nsamples = 2\\\\nvalue = [2, 0]\"] ;\\n1790 -> 1791 ;\\n1792 [label=\"gini = 0.0\\\\nsamples = 1\\\\nvalue = [0, 1]\"] ;\\n1790 -> 1792 ;\\n1793 [label=\"employment_occupation <= 3.5\\\\ngini = 0.191\\\\nsamples = 28\\\\nvalue = [25, 3]\"] ;\\n1723 -> 1793 ;\\n1794 [label=\"gini = 0.0\\\\nsamples = 1\\\\nvalue = [0, 1]\"] ;\\n1793 -> 1794 ;\\n1795 [label=\"opinion_seas_vacc_effective <= 0.5\\\\ngini = 0.137\\\\nsamples = 27\\\\nvalue = [25, 2]\"] ;\\n1793 -> 1795 ;\\n1796 [label=\"h1n1_knowledge <= 0.5\\\\ngini = 0.5\\\\nsamples = 2\\\\nvalue = [1, 1]\"] ;\\n1795 -> 1796 ;\\n1797 [label=\"gini = 0.0\\\\nsamples = 1\\\\nvalue = [0, 1]\"] ;\\n1796 -> 1797 ;\\n1798 [label=\"gini = 0.0\\\\nsamples = 1\\\\nvalue = [1, 0]\"] ;\\n1796 -> 1798 ;\\n1799 [label=\"employment_industry <= 0.5\\\\ngini = 0.077\\\\nsamples = 25\\\\nvalue = [24, 1]\"] ;\\n1795 -> 1799 ;\\n1800 [label=\"household_children <= 1.5\\\\ngini = 0.444\\\\nsamples = 3\\\\nvalue = [2, 1]\"] ;\\n1799 -> 1800 ;\\n1801 [label=\"gini = 0.0\\\\nsamples = 1\\\\nvalue = [0, 1]\"] ;\\n1800 -> 1801 ;\\n1802 [label=\"gini = 0.0\\\\nsamples = 2\\\\nvalue = [2, 0]\"] ;\\n1800 -> 1802 ;\\n1803 [label=\"gini = 0.0\\\\nsamples = 22\\\\nvalue = [22, 0]\"] ;\\n1799 -> 1803 ;\\n1804 [label=\"health_insurance <= 1.5\\\\ngini = 0.484\\\\nsamples = 7532\\\\nvalue = [4437, 3095]\"] ;\\n0 -> 1804 [labeldistance=2.5, labelangle=-45, headlabel=\"False\"] ;\\n1805 [label=\"doctor_recc_h1n1 <= 0.5\\\\ngini = 0.481\\\\nsamples = 3795\\\\nvalue = [1532, 2263]\"] ;\\n1804 -> 1805 ;\\n1806 [label=\"health_worker <= 0.5\\\\ngini = 0.494\\\\nsamples = 2109\\\\nvalue = [1172, 937]\"] ;\\n1805 -> 1806 ;\\n1807 [label=\"opinion_h1n1_vacc_effective <= 3.5\\\\ngini = 0.473\\\\nsamples = 1757\\\\nvalue = [1083, 674]\"] ;\\n1806 -> 1807 ;\\n1808 [label=\"health_insurance <= 0.5\\\\ngini = 0.407\\\\nsamples = 976\\\\nvalue = [698, 278]\"] ;\\n1807 -> 1808 ;\\n1809 [label=\"hhs_geo_region <= 6.5\\\\ngini = 0.174\\\\nsamples = 166\\\\nvalue = [150, 16]\"] ;\\n1808 -> 1809 ;\\n1810 [label=\"opinion_seas_vacc_effective <= 3.5\\\\ngini = 0.082\\\\nsamples = 116\\\\nvalue = [111, 5]\"] ;\\n1809 -> 1810 ;\\n1811 [label=\"behavioral_avoidance <= 0.5\\\\ngini = 0.024\\\\nsamples = 83\\\\nvalue = [82, 1]\"] ;\\n1810 -> 1811 ;\\n1812 [label=\"employment_status <= 1.5\\\\ngini = 0.133\\\\nsamples = 14\\\\nvalue = [13, 1]\"] ;\\n1811 -> 1812 ;\\n1813 [label=\"gini = 0.0\\\\nsamples = 13\\\\nvalue = [13, 0]\"] ;\\n1812 -> 1813 ;\\n1814 [label=\"gini = 0.0\\\\nsamples = 1\\\\nvalue = [0, 1]\"] ;\\n1812 -> 1814 ;\\n1815 [label=\"gini = 0.0\\\\nsamples = 69\\\\nvalue = [69, 0]\"] ;\\n1811 -> 1815 ;\\n1816 [label=\"h1n1_knowledge <= 1.5\\\\ngini = 0.213\\\\nsamples = 33\\\\nvalue = [29, 4]\"] ;\\n1810 -> 1816 ;\\n1817 [label=\"race <= 0.5\\\\ngini = 0.128\\\\nsamples = 29\\\\nvalue = [27, 2]\"] ;\\n1816 -> 1817 ;\\n1818 [label=\"household_children <= 0.5\\\\ngini = 0.5\\\\nsamples = 2\\\\nvalue = [1, 1]\"] ;\\n1817 -> 1818 ;\\n1819 [label=\"gini = 0.0\\\\nsamples = 1\\\\nvalue = [1, 0]\"] ;\\n1818 -> 1819 ;\\n1820 [label=\"gini = 0.0\\\\nsamples = 1\\\\nvalue = [0, 1]\"] ;\\n1818 -> 1820 ;\\n1821 [label=\"opinion_seas_risk <= 1.5\\\\ngini = 0.071\\\\nsamples = 27\\\\nvalue = [26, 1]\"] ;\\n1817 -> 1821 ;\\n1822 [label=\"education <= 1.5\\\\ngini = 0.375\\\\nsamples = 4\\\\nvalue = [3, 1]\"] ;\\n1821 -> 1822 ;\\n1823 [label=\"gini = 0.0\\\\nsamples = 3\\\\nvalue = [3, 0]\"] ;\\n1822 -> 1823 ;\\n1824 [label=\"gini = 0.0\\\\nsamples = 1\\\\nvalue = [0, 1]\"] ;\\n1822 -> 1824 ;\\n1825 [label=\"gini = 0.0\\\\nsamples = 23\\\\nvalue = [23, 0]\"] ;\\n1821 -> 1825 ;\\n1826 [label=\"opinion_seas_risk <= 3.5\\\\ngini = 0.5\\\\nsamples = 4\\\\nvalue = [2, 2]\"] ;\\n1816 -> 1826 ;\\n1827 [label=\"gini = 0.0\\\\nsamples = 2\\\\nvalue = [2, 0]\"] ;\\n1826 -> 1827 ;\\n1828 [label=\"gini = 0.0\\\\nsamples = 2\\\\nvalue = [0, 2]\"] ;\\n1826 -> 1828 ;\\n1829 [label=\"census_msa <= 1.5\\\\ngini = 0.343\\\\nsamples = 50\\\\nvalue = [39, 11]\"] ;\\n1809 -> 1829 ;\\n1830 [label=\"employment_occupation <= 21.5\\\\ngini = 0.208\\\\nsamples = 34\\\\nvalue = [30, 4]\"] ;\\n1829 -> 1830 ;\\n1831 [label=\"marital_status <= 0.5\\\\ngini = 0.17\\\\nsamples = 32\\\\nvalue = [29, 3]\"] ;\\n1830 -> 1831 ;\\n1832 [label=\"household_children <= 1.5\\\\ngini = 0.32\\\\nsamples = 10\\\\nvalue = [8, 2]\"] ;\\n1831 -> 1832 ;\\n1833 [label=\"behavioral_outside_home <= 0.5\\\\ngini = 0.198\\\\nsamples = 9\\\\nvalue = [8, 1]\"] ;\\n1832 -> 1833 ;\\n1834 [label=\"hhs_geo_region <= 8.0\\\\ngini = 0.444\\\\nsamples = 3\\\\nvalue = [2, 1]\"] ;\\n1833 -> 1834 ;\\n1835 [label=\"gini = 0.0\\\\nsamples = 1\\\\nvalue = [0, 1]\"] ;\\n1834 -> 1835 ;\\n1836 [label=\"gini = 0.0\\\\nsamples = 2\\\\nvalue = [2, 0]\"] ;\\n1834 -> 1836 ;\\n1837 [label=\"gini = 0.0\\\\nsamples = 6\\\\nvalue = [6, 0]\"] ;\\n1833 -> 1837 ;\\n1838 [label=\"gini = 0.0\\\\nsamples = 1\\\\nvalue = [0, 1]\"] ;\\n1832 -> 1838 ;\\n1839 [label=\"age_group <= 1.5\\\\ngini = 0.087\\\\nsamples = 22\\\\nvalue = [21, 1]\"] ;\\n1831 -> 1839 ;\\n1840 [label=\"gini = 0.0\\\\nsamples = 16\\\\nvalue = [16, 0]\"] ;\\n1839 -> 1840 ;\\n1841 [label=\"hhs_geo_region <= 7.5\\\\ngini = 0.278\\\\nsamples = 6\\\\nvalue = [5, 1]\"] ;\\n1839 -> 1841 ;\\n1842 [label=\"employment_status <= 2.0\\\\ngini = 0.5\\\\nsamples = 2\\\\nvalue = [1, 1]\"] ;\\n1841 -> 1842 ;\\n1843 [label=\"gini = 0.0\\\\nsamples = 1\\\\nvalue = [0, 1]\"] ;\\n1842 -> 1843 ;\\n1844 [label=\"gini = 0.0\\\\nsamples = 1\\\\nvalue = [1, 0]\"] ;\\n1842 -> 1844 ;\\n1845 [label=\"gini = 0.0\\\\nsamples = 4\\\\nvalue = [4, 0]\"] ;\\n1841 -> 1845 ;\\n1846 [label=\"behavioral_touch_face <= 0.5\\\\ngini = 0.5\\\\nsamples = 2\\\\nvalue = [1, 1]\"] ;\\n1830 -> 1846 ;\\n1847 [label=\"gini = 0.0\\\\nsamples = 1\\\\nvalue = [1, 0]\"] ;\\n1846 -> 1847 ;\\n1848 [label=\"gini = 0.0\\\\nsamples = 1\\\\nvalue = [0, 1]\"] ;\\n1846 -> 1848 ;\\n1849 [label=\"employment_industry <= 8.5\\\\ngini = 0.492\\\\nsamples = 16\\\\nvalue = [9, 7]\"] ;\\n1829 -> 1849 ;\\n1850 [label=\"gini = 0.0\\\\nsamples = 6\\\\nvalue = [6, 0]\"] ;\\n1849 -> 1850 ;\\n1851 [label=\"behavioral_wash_hands <= 0.5\\\\ngini = 0.42\\\\nsamples = 10\\\\nvalue = [3, 7]\"] ;\\n1849 -> 1851 ;\\n1852 [label=\"behavioral_antiviral_meds <= 1.5\\\\ngini = 0.444\\\\nsamples = 3\\\\nvalue = [2, 1]\"] ;\\n1851 -> 1852 ;\\n1853 [label=\"gini = 0.0\\\\nsamples = 2\\\\nvalue = [2, 0]\"] ;\\n1852 -> 1853 ;\\n1854 [label=\"gini = 0.0\\\\nsamples = 1\\\\nvalue = [0, 1]\"] ;\\n1852 -> 1854 ;\\n1855 [label=\"employment_occupation <= 15.5\\\\ngini = 0.245\\\\nsamples = 7\\\\nvalue = [1, 6]\"] ;\\n1851 -> 1855 ;\\n1856 [label=\"gini = 0.0\\\\nsamples = 6\\\\nvalue = [0, 6]\"] ;\\n1855 -> 1856 ;\\n1857 [label=\"gini = 0.0\\\\nsamples = 1\\\\nvalue = [1, 0]\"] ;\\n1855 -> 1857 ;\\n1858 [label=\"employment_occupation <= 9.5\\\\ngini = 0.438\\\\nsamples = 810\\\\nvalue = [548, 262]\"] ;\\n1808 -> 1858 ;\\n1859 [label=\"employment_industry <= 5.5\\\\ngini = 0.5\\\\nsamples = 154\\\\nvalue = [79, 75]\"] ;\\n1858 -> 1859 ;\\n1860 [label=\"behavioral_wash_hands <= 0.5\\\\ngini = 0.466\\\\nsamples = 54\\\\nvalue = [20, 34]\"] ;\\n1859 -> 1860 ;\\n1861 [label=\"child_under_6_months <= 0.5\\\\ngini = 0.219\\\\nsamples = 8\\\\nvalue = [7, 1]\"] ;\\n1860 -> 1861 ;\\n1862 [label=\"gini = 0.0\\\\nsamples = 7\\\\nvalue = [7, 0]\"] ;\\n1861 -> 1862 ;\\n1863 [label=\"gini = 0.0\\\\nsamples = 1\\\\nvalue = [0, 1]\"] ;\\n1861 -> 1863 ;\\n1864 [label=\"hhs_geo_region <= 8.5\\\\ngini = 0.405\\\\nsamples = 46\\\\nvalue = [13, 33]\"] ;\\n1860 -> 1864 ;\\n1865 [label=\"employment_occupation <= 6.0\\\\ngini = 0.357\\\\nsamples = 43\\\\nvalue = [10, 33]\"] ;\\n1864 -> 1865 ;\\n1866 [label=\"sex <= 0.5\\\\ngini = 0.422\\\\nsamples = 33\\\\nvalue = [10, 23]\"] ;\\n1865 -> 1866 ;\\n1867 [label=\"employment_industry <= 3.0\\\\ngini = 0.496\\\\nsamples = 11\\\\nvalue = [6, 5]\"] ;\\n1866 -> 1867 ;\\n1868 [label=\"gini = 0.0\\\\nsamples = 5\\\\nvalue = [5, 0]\"] ;\\n1867 -> 1868 ;\\n1869 [label=\"gini = 0.278\\\\nsamples = 6\\\\nvalue = [1, 5]\"] ;\\n1867 -> 1869 ;\\n1870 [label=\"doctor_recc_seasonal <= 0.5\\\\ngini = 0.298\\\\nsamples = 22\\\\nvalue = [4, 18]\"] ;\\n1866 -> 1870 ;\\n1871 [label=\"gini = 0.188\\\\nsamples = 19\\\\nvalue = [2, 17]\"] ;\\n1870 -> 1871 ;\\n1872 [label=\"gini = 0.444\\\\nsamples = 3\\\\nvalue = [2, 1]\"] ;\\n1870 -> 1872 ;\\n1873 [label=\"gini = 0.0\\\\nsamples = 10\\\\nvalue = [0, 10]\"] ;\\n1865 -> 1873 ;\\n1874 [label=\"gini = 0.0\\\\nsamples = 3\\\\nvalue = [3, 0]\"] ;\\n1864 -> 1874 ;\\n1875 [label=\"age_group <= 2.5\\\\ngini = 0.484\\\\nsamples = 100\\\\nvalue = [59, 41]\"] ;\\n1859 -> 1875 ;\\n1876 [label=\"household_children <= 1.5\\\\ngini = 0.462\\\\nsamples = 80\\\\nvalue = [51, 29]\"] ;\\n1875 -> 1876 ;\\n1877 [label=\"opinion_h1n1_sick_from_vacc <= 2.0\\\\ngini = 0.389\\\\nsamples = 53\\\\nvalue = [39, 14]\"] ;\\n1876 -> 1877 ;\\n1878 [label=\"child_under_6_months <= 0.5\\\\ngini = 0.198\\\\nsamples = 27\\\\nvalue = [24, 3]\"] ;\\n1877 -> 1878 ;\\n1879 [label=\"employment_occupation <= 8.0\\\\ngini = 0.142\\\\nsamples = 26\\\\nvalue = [24, 2]\"] ;\\n1878 -> 1879 ;\\n1880 [label=\"gini = 0.083\\\\nsamples = 23\\\\nvalue = [22, 1]\"] ;\\n1879 -> 1880 ;\\n1881 [label=\"gini = 0.444\\\\nsamples = 3\\\\nvalue = [2, 1]\"] ;\\n1879 -> 1881 ;\\n1882 [label=\"gini = 0.0\\\\nsamples = 1\\\\nvalue = [0, 1]\"] ;\\n1878 -> 1882 ;\\n1883 [label=\"opinion_seas_sick_from_vacc <= 0.5\\\\ngini = 0.488\\\\nsamples = 26\\\\nvalue = [15, 11]\"] ;\\n1877 -> 1883 ;\\n1884 [label=\"gini = 0.0\\\\nsamples = 4\\\\nvalue = [0, 4]\"] ;\\n1883 -> 1884 ;\\n1885 [label=\"chronic_med_condition <= 0.5\\\\ngini = 0.434\\\\nsamples = 22\\\\nvalue = [15, 7]\"] ;\\n1883 -> 1885 ;\\n1886 [label=\"gini = 0.32\\\\nsamples = 15\\\\nvalue = [12, 3]\"] ;\\n1885 -> 1886 ;\\n1887 [label=\"gini = 0.49\\\\nsamples = 7\\\\nvalue = [3, 4]\"] ;\\n1885 -> 1887 ;\\n1888 [label=\"h1n1_knowledge <= 1.5\\\\ngini = 0.494\\\\nsamples = 27\\\\nvalue = [12, 15]\"] ;\\n1876 -> 1888 ;\\n1889 [label=\"chronic_med_condition <= 0.5\\\\ngini = 0.48\\\\nsamples = 15\\\\nvalue = [9, 6]\"] ;\\n1888 -> 1889 ;\\n1890 [label=\"opinion_seas_risk <= 0.5\\\\ngini = 0.426\\\\nsamples = 13\\\\nvalue = [9, 4]\"] ;\\n1889 -> 1890 ;\\n1891 [label=\"gini = 0.0\\\\nsamples = 1\\\\nvalue = [0, 1]\"] ;\\n1890 -> 1891 ;\\n1892 [label=\"gini = 0.375\\\\nsamples = 12\\\\nvalue = [9, 3]\"] ;\\n1890 -> 1892 ;\\n1893 [label=\"gini = 0.0\\\\nsamples = 2\\\\nvalue = [0, 2]\"] ;\\n1889 -> 1893 ;\\n1894 [label=\"employment_industry <= 14.5\\\\ngini = 0.375\\\\nsamples = 12\\\\nvalue = [3, 9]\"] ;\\n1888 -> 1894 ;\\n1895 [label=\"gini = 0.0\\\\nsamples = 6\\\\nvalue = [0, 6]\"] ;\\n1894 -> 1895 ;\\n1896 [label=\"hhs_geo_region <= 2.5\\\\ngini = 0.5\\\\nsamples = 6\\\\nvalue = [3, 3]\"] ;\\n1894 -> 1896 ;\\n1897 [label=\"gini = 0.0\\\\nsamples = 2\\\\nvalue = [0, 2]\"] ;\\n1896 -> 1897 ;\\n1898 [label=\"gini = 0.375\\\\nsamples = 4\\\\nvalue = [3, 1]\"] ;\\n1896 -> 1898 ;\\n1899 [label=\"marital_status <= 0.5\\\\ngini = 0.48\\\\nsamples = 20\\\\nvalue = [8, 12]\"] ;\\n1875 -> 1899 ;\\n1900 [label=\"race <= 2.5\\\\ngini = 0.5\\\\nsamples = 16\\\\nvalue = [8, 8]\"] ;\\n1899 -> 1900 ;\\n1901 [label=\"gini = 0.0\\\\nsamples = 3\\\\nvalue = [0, 3]\"] ;\\n1900 -> 1901 ;\\n1902 [label=\"opinion_seas_sick_from_vacc <= 0.5\\\\ngini = 0.473\\\\nsamples = 13\\\\nvalue = [8, 5]\"] ;\\n1900 -> 1902 ;\\n1903 [label=\"gini = 0.0\\\\nsamples = 2\\\\nvalue = [0, 2]\"] ;\\n1902 -> 1903 ;\\n1904 [label=\"behavioral_touch_face <= 0.5\\\\ngini = 0.397\\\\nsamples = 11\\\\nvalue = [8, 3]\"] ;\\n1902 -> 1904 ;\\n1905 [label=\"gini = 0.444\\\\nsamples = 3\\\\nvalue = [1, 2]\"] ;\\n1904 -> 1905 ;\\n1906 [label=\"gini = 0.219\\\\nsamples = 8\\\\nvalue = [7, 1]\"] ;\\n1904 -> 1906 ;\\n1907 [label=\"gini = 0.0\\\\nsamples = 4\\\\nvalue = [0, 4]\"] ;\\n1899 -> 1907 ;\\n1908 [label=\"opinion_h1n1_risk <= 3.5\\\\ngini = 0.408\\\\nsamples = 656\\\\nvalue = [469, 187]\"] ;\\n1858 -> 1908 ;\\n1909 [label=\"hhs_geo_region <= 1.5\\\\ngini = 0.388\\\\nsamples = 566\\\\nvalue = [417, 149]\"] ;\\n1908 -> 1909 ;\\n1910 [label=\"behavioral_face_mask <= 0.5\\\\ngini = 0.468\\\\nsamples = 102\\\\nvalue = [64, 38]\"] ;\\n1909 -> 1910 ;\\n1911 [label=\"opinion_seas_vacc_effective <= 2.5\\\\ngini = 0.451\\\\nsamples = 96\\\\nvalue = [63, 33]\"] ;\\n1910 -> 1911 ;\\n1912 [label=\"gini = 0.0\\\\nsamples = 11\\\\nvalue = [11, 0]\"] ;\\n1911 -> 1912 ;\\n1913 [label=\"income_poverty <= 2.5\\\\ngini = 0.475\\\\nsamples = 85\\\\nvalue = [52, 33]\"] ;\\n1911 -> 1913 ;\\n1914 [label=\"opinion_seas_sick_from_vacc <= 3.5\\\\ngini = 0.49\\\\nsamples = 77\\\\nvalue = [44, 33]\"] ;\\n1913 -> 1914 ;\\n1915 [label=\"gini = 0.476\\\\nsamples = 69\\\\nvalue = [42, 27]\"] ;\\n1914 -> 1915 ;\\n1916 [label=\"gini = 0.375\\\\nsamples = 8\\\\nvalue = [2, 6]\"] ;\\n1914 -> 1916 ;\\n1917 [label=\"gini = 0.0\\\\nsamples = 8\\\\nvalue = [8, 0]\"] ;\\n1913 -> 1917 ;\\n1918 [label=\"age_group <= 3.0\\\\ngini = 0.278\\\\nsamples = 6\\\\nvalue = [1, 5]\"] ;\\n1910 -> 1918 ;\\n1919 [label=\"gini = 0.0\\\\nsamples = 5\\\\nvalue = [0, 5]\"] ;\\n1918 -> 1919 ;\\n1920 [label=\"gini = 0.0\\\\nsamples = 1\\\\nvalue = [1, 0]\"] ;\\n1918 -> 1920 ;\\n1921 [label=\"sex <= 0.5\\\\ngini = 0.364\\\\nsamples = 464\\\\nvalue = [353, 111]\"] ;\\n1909 -> 1921 ;\\n1922 [label=\"hhs_geo_region <= 8.5\\\\ngini = 0.317\\\\nsamples = 283\\\\nvalue = [227, 56]\"] ;\\n1921 -> 1922 ;\\n1923 [label=\"employment_industry <= 5.0\\\\ngini = 0.281\\\\nsamples = 243\\\\nvalue = [202, 41]\"] ;\\n1922 -> 1923 ;\\n1924 [label=\"age_group <= 0.5\\\\ngini = 0.496\\\\nsamples = 22\\\\nvalue = [12, 10]\"] ;\\n1923 -> 1924 ;\\n1925 [label=\"gini = 0.0\\\\nsamples = 6\\\\nvalue = [6, 0]\"] ;\\n1924 -> 1925 ;\\n1926 [label=\"gini = 0.469\\\\nsamples = 16\\\\nvalue = [6, 10]\"] ;\\n1924 -> 1926 ;\\n1927 [label=\"census_msa <= 1.5\\\\ngini = 0.241\\\\nsamples = 221\\\\nvalue = [190, 31]\"] ;\\n1923 -> 1927 ;\\n1928 [label=\"gini = 0.178\\\\nsamples = 162\\\\nvalue = [146, 16]\"] ;\\n1927 -> 1928 ;\\n1929 [label=\"gini = 0.379\\\\nsamples = 59\\\\nvalue = [44, 15]\"] ;\\n1927 -> 1929 ;\\n1930 [label=\"child_under_6_months <= 0.5\\\\ngini = 0.469\\\\nsamples = 40\\\\nvalue = [25, 15]\"] ;\\n1922 -> 1930 ;\\n1931 [label=\"opinion_h1n1_sick_from_vacc <= 0.5\\\\ngini = 0.438\\\\nsamples = 37\\\\nvalue = [25, 12]\"] ;\\n1930 -> 1931 ;\\n1932 [label=\"gini = 0.469\\\\nsamples = 8\\\\nvalue = [3, 5]\"] ;\\n1931 -> 1932 ;\\n1933 [label=\"gini = 0.366\\\\nsamples = 29\\\\nvalue = [22, 7]\"] ;\\n1931 -> 1933 ;\\n1934 [label=\"gini = 0.0\\\\nsamples = 3\\\\nvalue = [0, 3]\"] ;\\n1930 -> 1934 ;\\n1935 [label=\"employment_industry <= 3.5\\\\ngini = 0.423\\\\nsamples = 181\\\\nvalue = [126, 55]\"] ;\\n1921 -> 1935 ;\\n1936 [label=\"census_msa <= 1.5\\\\ngini = 0.1\\\\nsamples = 19\\\\nvalue = [18, 1]\"] ;\\n1935 -> 1936 ;\\n1937 [label=\"gini = 0.0\\\\nsamples = 17\\\\nvalue = [17, 0]\"] ;\\n1936 -> 1937 ;\\n1938 [label=\"income_poverty <= 2.0\\\\ngini = 0.5\\\\nsamples = 2\\\\nvalue = [1, 1]\"] ;\\n1936 -> 1938 ;\\n1939 [label=\"gini = 0.0\\\\nsamples = 1\\\\nvalue = [0, 1]\"] ;\\n1938 -> 1939 ;\\n1940 [label=\"gini = 0.0\\\\nsamples = 1\\\\nvalue = [1, 0]\"] ;\\n1938 -> 1940 ;\\n1941 [label=\"doctor_recc_seasonal <= 0.5\\\\ngini = 0.444\\\\nsamples = 162\\\\nvalue = [108, 54]\"] ;\\n1935 -> 1941 ;\\n1942 [label=\"employment_occupation <= 20.5\\\\ngini = 0.472\\\\nsamples = 118\\\\nvalue = [73, 45]\"] ;\\n1941 -> 1942 ;\\n1943 [label=\"gini = 0.484\\\\nsamples = 107\\\\nvalue = [63, 44]\"] ;\\n1942 -> 1943 ;\\n1944 [label=\"gini = 0.165\\\\nsamples = 11\\\\nvalue = [10, 1]\"] ;\\n1942 -> 1944 ;\\n1945 [label=\"behavioral_face_mask <= 0.5\\\\ngini = 0.325\\\\nsamples = 44\\\\nvalue = [35, 9]\"] ;\\n1941 -> 1945 ;\\n1946 [label=\"gini = 0.255\\\\nsamples = 40\\\\nvalue = [34, 6]\"] ;\\n1945 -> 1946 ;\\n1947 [label=\"gini = 0.375\\\\nsamples = 4\\\\nvalue = [1, 3]\"] ;\\n1945 -> 1947 ;\\n1948 [label=\"opinion_h1n1_vacc_effective <= 2.5\\\\ngini = 0.488\\\\nsamples = 90\\\\nvalue = [52, 38]\"] ;\\n1908 -> 1948 ;\\n1949 [label=\"employment_occupation <= 18.5\\\\ngini = 0.234\\\\nsamples = 37\\\\nvalue = [32, 5]\"] ;\\n1948 -> 1949 ;\\n1950 [label=\"behavioral_wash_hands <= 0.5\\\\ngini = 0.161\\\\nsamples = 34\\\\nvalue = [31, 3]\"] ;\\n1949 -> 1950 ;\\n1951 [label=\"hhs_geo_region <= 6.5\\\\ngini = 0.444\\\\nsamples = 6\\\\nvalue = [4, 2]\"] ;\\n1950 -> 1951 ;\\n1952 [label=\"gini = 0.0\\\\nsamples = 3\\\\nvalue = [3, 0]\"] ;\\n1951 -> 1952 ;\\n1953 [label=\"opinion_h1n1_sick_from_vacc <= 1.5\\\\ngini = 0.444\\\\nsamples = 3\\\\nvalue = [1, 2]\"] ;\\n1951 -> 1953 ;\\n1954 [label=\"gini = 0.0\\\\nsamples = 1\\\\nvalue = [1, 0]\"] ;\\n1953 -> 1954 ;\\n1955 [label=\"gini = 0.0\\\\nsamples = 2\\\\nvalue = [0, 2]\"] ;\\n1953 -> 1955 ;\\n1956 [label=\"opinion_seas_risk <= 4.5\\\\ngini = 0.069\\\\nsamples = 28\\\\nvalue = [27, 1]\"] ;\\n1950 -> 1956 ;\\n1957 [label=\"gini = 0.0\\\\nsamples = 27\\\\nvalue = [27, 0]\"] ;\\n1956 -> 1957 ;\\n1958 [label=\"gini = 0.0\\\\nsamples = 1\\\\nvalue = [0, 1]\"] ;\\n1956 -> 1958 ;\\n1959 [label=\"opinion_seas_risk <= 1.5\\\\ngini = 0.444\\\\nsamples = 3\\\\nvalue = [1, 2]\"] ;\\n1949 -> 1959 ;\\n1960 [label=\"gini = 0.0\\\\nsamples = 1\\\\nvalue = [1, 0]\"] ;\\n1959 -> 1960 ;\\n1961 [label=\"gini = 0.0\\\\nsamples = 2\\\\nvalue = [0, 2]\"] ;\\n1959 -> 1961 ;\\n1962 [label=\"sex <= 0.5\\\\ngini = 0.47\\\\nsamples = 53\\\\nvalue = [20, 33]\"] ;\\n1948 -> 1962 ;\\n1963 [label=\"income_poverty <= 2.5\\\\ngini = 0.405\\\\nsamples = 39\\\\nvalue = [11, 28]\"] ;\\n1962 -> 1963 ;\\n1964 [label=\"opinion_seas_risk <= 4.5\\\\ngini = 0.36\\\\nsamples = 34\\\\nvalue = [8, 26]\"] ;\\n1963 -> 1964 ;\\n1965 [label=\"opinion_seas_vacc_effective <= 0.5\\\\ngini = 0.334\\\\nsamples = 33\\\\nvalue = [7, 26]\"] ;\\n1964 -> 1965 ;\\n1966 [label=\"gini = 0.0\\\\nsamples = 1\\\\nvalue = [1, 0]\"] ;\\n1965 -> 1966 ;\\n1967 [label=\"gini = 0.305\\\\nsamples = 32\\\\nvalue = [6, 26]\"] ;\\n1965 -> 1967 ;\\n1968 [label=\"gini = 0.0\\\\nsamples = 1\\\\nvalue = [1, 0]\"] ;\\n1964 -> 1968 ;\\n1969 [label=\"household_children <= 1.5\\\\ngini = 0.48\\\\nsamples = 5\\\\nvalue = [3, 2]\"] ;\\n1963 -> 1969 ;\\n1970 [label=\"gini = 0.0\\\\nsamples = 3\\\\nvalue = [3, 0]\"] ;\\n1969 -> 1970 ;\\n1971 [label=\"gini = 0.0\\\\nsamples = 2\\\\nvalue = [0, 2]\"] ;\\n1969 -> 1971 ;\\n1972 [label=\"opinion_seas_vacc_effective <= 3.5\\\\ngini = 0.459\\\\nsamples = 14\\\\nvalue = [9, 5]\"] ;\\n1962 -> 1972 ;\\n1973 [label=\"behavioral_face_mask <= 0.5\\\\ngini = 0.219\\\\nsamples = 8\\\\nvalue = [7, 1]\"] ;\\n1972 -> 1973 ;\\n1974 [label=\"gini = 0.0\\\\nsamples = 7\\\\nvalue = [7, 0]\"] ;\\n1973 -> 1974 ;\\n1975 [label=\"gini = 0.0\\\\nsamples = 1\\\\nvalue = [0, 1]\"] ;\\n1973 -> 1975 ;\\n1976 [label=\"chronic_med_condition <= 0.5\\\\ngini = 0.444\\\\nsamples = 6\\\\nvalue = [2, 4]\"] ;\\n1972 -> 1976 ;\\n1977 [label=\"gini = 0.0\\\\nsamples = 4\\\\nvalue = [0, 4]\"] ;\\n1976 -> 1977 ;\\n1978 [label=\"gini = 0.0\\\\nsamples = 2\\\\nvalue = [2, 0]\"] ;\\n1976 -> 1978 ;\\n1979 [label=\"race <= 1.5\\\\ngini = 0.5\\\\nsamples = 781\\\\nvalue = [385, 396]\"] ;\\n1807 -> 1979 ;\\n1980 [label=\"health_insurance <= 0.5\\\\ngini = 0.385\\\\nsamples = 177\\\\nvalue = [131, 46]\"] ;\\n1979 -> 1980 ;\\n1981 [label=\"behavioral_touch_face <= 1.5\\\\ngini = 0.192\\\\nsamples = 65\\\\nvalue = [58, 7]\"] ;\\n1980 -> 1981 ;\\n1982 [label=\"rent_or_own <= 1.5\\\\ngini = 0.17\\\\nsamples = 64\\\\nvalue = [58, 6]\"] ;\\n1981 -> 1982 ;\\n1983 [label=\"employment_status <= 0.5\\\\ngini = 0.146\\\\nsamples = 63\\\\nvalue = [58, 5]\"] ;\\n1982 -> 1983 ;\\n1984 [label=\"gini = 0.0\\\\nsamples = 35\\\\nvalue = [35, 0]\"] ;\\n1983 -> 1984 ;\\n1985 [label=\"income_poverty <= 1.0\\\\ngini = 0.293\\\\nsamples = 28\\\\nvalue = [23, 5]\"] ;\\n1983 -> 1985 ;\\n1986 [label=\"chronic_med_condition <= 0.5\\\\ngini = 0.49\\\\nsamples = 7\\\\nvalue = [4, 3]\"] ;\\n1985 -> 1986 ;\\n1987 [label=\"behavioral_face_mask <= 0.5\\\\ngini = 0.375\\\\nsamples = 4\\\\nvalue = [1, 3]\"] ;\\n1986 -> 1987 ;\\n1988 [label=\"gini = 0.0\\\\nsamples = 3\\\\nvalue = [0, 3]\"] ;\\n1987 -> 1988 ;\\n1989 [label=\"gini = 0.0\\\\nsamples = 1\\\\nvalue = [1, 0]\"] ;\\n1987 -> 1989 ;\\n1990 [label=\"gini = 0.0\\\\nsamples = 3\\\\nvalue = [3, 0]\"] ;\\n1986 -> 1990 ;\\n1991 [label=\"household_children <= 2.5\\\\ngini = 0.172\\\\nsamples = 21\\\\nvalue = [19, 2]\"] ;\\n1985 -> 1991 ;\\n1992 [label=\"gini = 0.0\\\\nsamples = 14\\\\nvalue = [14, 0]\"] ;\\n1991 -> 1992 ;\\n1993 [label=\"rent_or_own <= 0.5\\\\ngini = 0.408\\\\nsamples = 7\\\\nvalue = [5, 2]\"] ;\\n1991 -> 1993 ;\\n1994 [label=\"gini = 0.0\\\\nsamples = 4\\\\nvalue = [4, 0]\"] ;\\n1993 -> 1994 ;\\n1995 [label=\"gini = 0.444\\\\nsamples = 3\\\\nvalue = [1, 2]\"] ;\\n1993 -> 1995 ;\\n1996 [label=\"gini = 0.0\\\\nsamples = 1\\\\nvalue = [0, 1]\"] ;\\n1982 -> 1996 ;\\n1997 [label=\"gini = 0.0\\\\nsamples = 1\\\\nvalue = [0, 1]\"] ;\\n1981 -> 1997 ;\\n1998 [label=\"h1n1_concern <= 2.5\\\\ngini = 0.454\\\\nsamples = 112\\\\nvalue = [73, 39]\"] ;\\n1980 -> 1998 ;\\n1999 [label=\"marital_status <= 0.5\\\\ngini = 0.5\\\\nsamples = 51\\\\nvalue = [25, 26]\"] ;\\n1998 -> 1999 ;\\n2000 [label=\"employment_industry <= 16.0\\\\ngini = 0.397\\\\nsamples = 22\\\\nvalue = [6, 16]\"] ;\\n1999 -> 2000 ;\\n2001 [label=\"hhs_geo_region <= 2.5\\\\ngini = 0.198\\\\nsamples = 18\\\\nvalue = [2, 16]\"] ;\\n2000 -> 2001 ;\\n2002 [label=\"gini = 0.0\\\\nsamples = 1\\\\nvalue = [1, 0]\"] ;\\n2001 -> 2002 ;\\n2003 [label=\"opinion_seas_risk <= 2.0\\\\ngini = 0.111\\\\nsamples = 17\\\\nvalue = [1, 16]\"] ;\\n2001 -> 2003 ;\\n2004 [label=\"opinion_seas_vacc_effective <= 3.5\\\\ngini = 0.32\\\\nsamples = 5\\\\nvalue = [1, 4]\"] ;\\n2003 -> 2004 ;\\n2005 [label=\"gini = 0.0\\\\nsamples = 1\\\\nvalue = [1, 0]\"] ;\\n2004 -> 2005 ;\\n2006 [label=\"gini = 0.0\\\\nsamples = 4\\\\nvalue = [0, 4]\"] ;\\n2004 -> 2006 ;\\n2007 [label=\"gini = 0.0\\\\nsamples = 12\\\\nvalue = [0, 12]\"] ;\\n2003 -> 2007 ;\\n2008 [label=\"gini = 0.0\\\\nsamples = 4\\\\nvalue = [4, 0]\"] ;\\n2000 -> 2008 ;\\n2009 [label=\"employment_industry <= 14.0\\\\ngini = 0.452\\\\nsamples = 29\\\\nvalue = [19, 10]\"] ;\\n1999 -> 2009 ;\\n2010 [label=\"income_poverty <= 1.5\\\\ngini = 0.32\\\\nsamples = 20\\\\nvalue = [16, 4]\"] ;\\n2009 -> 2010 ;\\n2011 [label=\"age_group <= 3.5\\\\ngini = 0.48\\\\nsamples = 10\\\\nvalue = [6, 4]\"] ;\\n2010 -> 2011 ;\\n2012 [label=\"employment_industry <= 8.5\\\\ngini = 0.49\\\\nsamples = 7\\\\nvalue = [3, 4]\"] ;\\n2011 -> 2012 ;\\n2013 [label=\"gini = 0.375\\\\nsamples = 4\\\\nvalue = [3, 1]\"] ;\\n2012 -> 2013 ;\\n2014 [label=\"gini = 0.0\\\\nsamples = 3\\\\nvalue = [0, 3]\"] ;\\n2012 -> 2014 ;\\n2015 [label=\"gini = 0.0\\\\nsamples = 3\\\\nvalue = [3, 0]\"] ;\\n2011 -> 2015 ;\\n2016 [label=\"gini = 0.0\\\\nsamples = 10\\\\nvalue = [10, 0]\"] ;\\n2010 -> 2016 ;\\n2017 [label=\"behavioral_large_gatherings <= 0.5\\\\ngini = 0.444\\\\nsamples = 9\\\\nvalue = [3, 6]\"] ;\\n2009 -> 2017 ;\\n2018 [label=\"gini = 0.0\\\\nsamples = 5\\\\nvalue = [0, 5]\"] ;\\n2017 -> 2018 ;\\n2019 [label=\"age_group <= 2.5\\\\ngini = 0.375\\\\nsamples = 4\\\\nvalue = [3, 1]\"] ;\\n2017 -> 2019 ;\\n2020 [label=\"gini = 0.0\\\\nsamples = 3\\\\nvalue = [3, 0]\"] ;\\n2019 -> 2020 ;\\n2021 [label=\"gini = 0.0\\\\nsamples = 1\\\\nvalue = [0, 1]\"] ;\\n2019 -> 2021 ;\\n2022 [label=\"employment_occupation <= 20.5\\\\ngini = 0.335\\\\nsamples = 61\\\\nvalue = [48, 13]\"] ;\\n1998 -> 2022 ;\\n2023 [label=\"behavioral_face_mask <= 1.5\\\\ngini = 0.27\\\\nsamples = 56\\\\nvalue = [47, 9]\"] ;\\n2022 -> 2023 ;\\n2024 [label=\"employment_occupation <= 0.5\\\\ngini = 0.249\\\\nsamples = 55\\\\nvalue = [47, 8]\"] ;\\n2023 -> 2024 ;\\n2025 [label=\"gini = 0.0\\\\nsamples = 1\\\\nvalue = [0, 1]\"] ;\\n2024 -> 2025 ;\\n2026 [label=\"employment_status <= 1.5\\\\ngini = 0.226\\\\nsamples = 54\\\\nvalue = [47, 7]\"] ;\\n2024 -> 2026 ;\\n2027 [label=\"opinion_h1n1_sick_from_vacc <= 3.5\\\\ngini = 0.162\\\\nsamples = 45\\\\nvalue = [41, 4]\"] ;\\n2026 -> 2027 ;\\n2028 [label=\"gini = 0.0\\\\nsamples = 30\\\\nvalue = [30, 0]\"] ;\\n2027 -> 2028 ;\\n2029 [label=\"gini = 0.391\\\\nsamples = 15\\\\nvalue = [11, 4]\"] ;\\n2027 -> 2029 ;\\n2030 [label=\"hhs_geo_region <= 5.5\\\\ngini = 0.444\\\\nsamples = 9\\\\nvalue = [6, 3]\"] ;\\n2026 -> 2030 ;\\n2031 [label=\"gini = 0.0\\\\nsamples = 5\\\\nvalue = [5, 0]\"] ;\\n2030 -> 2031 ;\\n2032 [label=\"gini = 0.375\\\\nsamples = 4\\\\nvalue = [1, 3]\"] ;\\n2030 -> 2032 ;\\n2033 [label=\"gini = 0.0\\\\nsamples = 1\\\\nvalue = [0, 1]\"] ;\\n2023 -> 2033 ;\\n2034 [label=\"census_msa <= 1.5\\\\ngini = 0.32\\\\nsamples = 5\\\\nvalue = [1, 4]\"] ;\\n2022 -> 2034 ;\\n2035 [label=\"gini = 0.0\\\\nsamples = 4\\\\nvalue = [0, 4]\"] ;\\n2034 -> 2035 ;\\n2036 [label=\"gini = 0.0\\\\nsamples = 1\\\\nvalue = [1, 0]\"] ;\\n2034 -> 2036 ;\\n2037 [label=\"doctor_recc_seasonal <= 0.5\\\\ngini = 0.487\\\\nsamples = 604\\\\nvalue = [254, 350]\"] ;\\n1979 -> 2037 ;\\n2038 [label=\"health_insurance <= 0.5\\\\ngini = 0.466\\\\nsamples = 489\\\\nvalue = [181, 308]\"] ;\\n2037 -> 2038 ;\\n2039 [label=\"h1n1_concern <= 0.5\\\\ngini = 0.444\\\\nsamples = 45\\\\nvalue = [30, 15]\"] ;\\n2038 -> 2039 ;\\n2040 [label=\"gini = 0.0\\\\nsamples = 5\\\\nvalue = [0, 5]\"] ;\\n2039 -> 2040 ;\\n2041 [label=\"employment_industry <= 12.0\\\\ngini = 0.375\\\\nsamples = 40\\\\nvalue = [30, 10]\"] ;\\n2039 -> 2041 ;\\n2042 [label=\"opinion_seas_risk <= 3.5\\\\ngini = 0.211\\\\nsamples = 25\\\\nvalue = [22, 3]\"] ;\\n2041 -> 2042 ;\\n2043 [label=\"h1n1_knowledge <= 0.5\\\\ngini = 0.091\\\\nsamples = 21\\\\nvalue = [20, 1]\"] ;\\n2042 -> 2043 ;\\n2044 [label=\"income_poverty <= 1.0\\\\ngini = 0.5\\\\nsamples = 2\\\\nvalue = [1, 1]\"] ;\\n2043 -> 2044 ;\\n2045 [label=\"gini = 0.0\\\\nsamples = 1\\\\nvalue = [1, 0]\"] ;\\n2044 -> 2045 ;\\n2046 [label=\"gini = 0.0\\\\nsamples = 1\\\\nvalue = [0, 1]\"] ;\\n2044 -> 2046 ;\\n2047 [label=\"gini = 0.0\\\\nsamples = 19\\\\nvalue = [19, 0]\"] ;\\n2043 -> 2047 ;\\n2048 [label=\"age_group <= 1.5\\\\ngini = 0.5\\\\nsamples = 4\\\\nvalue = [2, 2]\"] ;\\n2042 -> 2048 ;\\n2049 [label=\"gini = 0.0\\\\nsamples = 2\\\\nvalue = [2, 0]\"] ;\\n2048 -> 2049 ;\\n2050 [label=\"gini = 0.0\\\\nsamples = 2\\\\nvalue = [0, 2]\"] ;\\n2048 -> 2050 ;\\n2051 [label=\"hhs_geo_region <= 7.0\\\\ngini = 0.498\\\\nsamples = 15\\\\nvalue = [8, 7]\"] ;\\n2041 -> 2051 ;\\n2052 [label=\"opinion_seas_risk <= 2.0\\\\ngini = 0.375\\\\nsamples = 8\\\\nvalue = [6, 2]\"] ;\\n2051 -> 2052 ;\\n2053 [label=\"rent_or_own <= 0.5\\\\ngini = 0.444\\\\nsamples = 3\\\\nvalue = [1, 2]\"] ;\\n2052 -> 2053 ;\\n2054 [label=\"gini = 0.0\\\\nsamples = 2\\\\nvalue = [0, 2]\"] ;\\n2053 -> 2054 ;\\n2055 [label=\"gini = 0.0\\\\nsamples = 1\\\\nvalue = [1, 0]\"] ;\\n2053 -> 2055 ;\\n2056 [label=\"gini = 0.0\\\\nsamples = 5\\\\nvalue = [5, 0]\"] ;\\n2052 -> 2056 ;\\n2057 [label=\"opinion_h1n1_sick_from_vacc <= 1.5\\\\ngini = 0.408\\\\nsamples = 7\\\\nvalue = [2, 5]\"] ;\\n2051 -> 2057 ;\\n2058 [label=\"gini = 0.0\\\\nsamples = 2\\\\nvalue = [2, 0]\"] ;\\n2057 -> 2058 ;\\n2059 [label=\"gini = 0.0\\\\nsamples = 5\\\\nvalue = [0, 5]\"] ;\\n2057 -> 2059 ;\\n2060 [label=\"opinion_seas_vacc_effective <= 3.5\\\\ngini = 0.449\\\\nsamples = 444\\\\nvalue = [151, 293]\"] ;\\n2038 -> 2060 ;\\n2061 [label=\"employment_occupation <= 21.5\\\\ngini = 0.5\\\\nsamples = 120\\\\nvalue = [59, 61]\"] ;\\n2060 -> 2061 ;\\n2062 [label=\"household_children <= 2.5\\\\ngini = 0.496\\\\nsamples = 105\\\\nvalue = [57, 48]\"] ;\\n2061 -> 2062 ;\\n2063 [label=\"employment_industry <= 0.5\\\\ngini = 0.499\\\\nsamples = 89\\\\nvalue = [43, 46]\"] ;\\n2062 -> 2063 ;\\n2064 [label=\"employment_occupation <= 1.0\\\\ngini = 0.198\\\\nsamples = 9\\\\nvalue = [1, 8]\"] ;\\n2063 -> 2064 ;\\n2065 [label=\"gini = 0.0\\\\nsamples = 1\\\\nvalue = [1, 0]\"] ;\\n2064 -> 2065 ;\\n2066 [label=\"gini = 0.0\\\\nsamples = 8\\\\nvalue = [0, 8]\"] ;\\n2064 -> 2066 ;\\n2067 [label=\"opinion_h1n1_risk <= 3.5\\\\ngini = 0.499\\\\nsamples = 80\\\\nvalue = [42, 38]\"] ;\\n2063 -> 2067 ;\\n2068 [label=\"gini = 0.487\\\\nsamples = 67\\\\nvalue = [39, 28]\"] ;\\n2067 -> 2068 ;\\n2069 [label=\"gini = 0.355\\\\nsamples = 13\\\\nvalue = [3, 10]\"] ;\\n2067 -> 2069 ;\\n2070 [label=\"hhs_geo_region <= 5.5\\\\ngini = 0.219\\\\nsamples = 16\\\\nvalue = [14, 2]\"] ;\\n2062 -> 2070 ;\\n2071 [label=\"employment_occupation <= 8.0\\\\ngini = 0.444\\\\nsamples = 6\\\\nvalue = [4, 2]\"] ;\\n2070 -> 2071 ;\\n2072 [label=\"gini = 0.0\\\\nsamples = 3\\\\nvalue = [3, 0]\"] ;\\n2071 -> 2072 ;\\n2073 [label=\"gini = 0.444\\\\nsamples = 3\\\\nvalue = [1, 2]\"] ;\\n2071 -> 2073 ;\\n2074 [label=\"gini = 0.0\\\\nsamples = 10\\\\nvalue = [10, 0]\"] ;\\n2070 -> 2074 ;\\n2075 [label=\"education <= 1.0\\\\ngini = 0.231\\\\nsamples = 15\\\\nvalue = [2, 13]\"] ;\\n2061 -> 2075 ;\\n2076 [label=\"gini = 0.0\\\\nsamples = 1\\\\nvalue = [1, 0]\"] ;\\n2075 -> 2076 ;\\n2077 [label=\"h1n1_concern <= 0.5\\\\ngini = 0.133\\\\nsamples = 14\\\\nvalue = [1, 13]\"] ;\\n2075 -> 2077 ;\\n2078 [label=\"h1n1_knowledge <= 2.0\\\\ngini = 0.5\\\\nsamples = 2\\\\nvalue = [1, 1]\"] ;\\n2077 -> 2078 ;\\n2079 [label=\"gini = 0.0\\\\nsamples = 1\\\\nvalue = [1, 0]\"] ;\\n2078 -> 2079 ;\\n2080 [label=\"gini = 0.0\\\\nsamples = 1\\\\nvalue = [0, 1]\"] ;\\n2078 -> 2080 ;\\n2081 [label=\"gini = 0.0\\\\nsamples = 12\\\\nvalue = [0, 12]\"] ;\\n2077 -> 2081 ;\\n2082 [label=\"h1n1_knowledge <= 1.5\\\\ngini = 0.407\\\\nsamples = 324\\\\nvalue = [92, 232]\"] ;\\n2060 -> 2082 ;\\n2083 [label=\"opinion_seas_sick_from_vacc <= 0.5\\\\ngini = 0.46\\\\nsamples = 187\\\\nvalue = [67, 120]\"] ;\\n2082 -> 2083 ;\\n2084 [label=\"chronic_med_condition <= 0.5\\\\ngini = 0.368\\\\nsamples = 74\\\\nvalue = [18, 56]\"] ;\\n2083 -> 2084 ;\\n2085 [label=\"age_group <= 3.5\\\\ngini = 0.431\\\\nsamples = 51\\\\nvalue = [16, 35]\"] ;\\n2084 -> 2085 ;\\n2086 [label=\"gini = 0.361\\\\nsamples = 38\\\\nvalue = [9, 29]\"] ;\\n2085 -> 2086 ;\\n2087 [label=\"gini = 0.497\\\\nsamples = 13\\\\nvalue = [7, 6]\"] ;\\n2085 -> 2087 ;\\n2088 [label=\"employment_status <= 1.5\\\\ngini = 0.159\\\\nsamples = 23\\\\nvalue = [2, 21]\"] ;\\n2084 -> 2088 ;\\n2089 [label=\"gini = 0.087\\\\nsamples = 22\\\\nvalue = [1, 21]\"] ;\\n2088 -> 2089 ;\\n2090 [label=\"gini = 0.0\\\\nsamples = 1\\\\nvalue = [1, 0]\"] ;\\n2088 -> 2090 ;\\n2091 [label=\"employment_industry <= 5.5\\\\ngini = 0.491\\\\nsamples = 113\\\\nvalue = [49, 64]\"] ;\\n2083 -> 2091 ;\\n2092 [label=\"chronic_med_condition <= 0.5\\\\ngini = 0.142\\\\nsamples = 13\\\\nvalue = [1, 12]\"] ;\\n2091 -> 2092 ;\\n2093 [label=\"gini = 0.0\\\\nsamples = 12\\\\nvalue = [0, 12]\"] ;\\n2092 -> 2093 ;\\n2094 [label=\"gini = 0.0\\\\nsamples = 1\\\\nvalue = [1, 0]\"] ;\\n2092 -> 2094 ;\\n2095 [label=\"age_group <= 1.5\\\\ngini = 0.499\\\\nsamples = 100\\\\nvalue = [48, 52]\"] ;\\n2091 -> 2095 ;\\n2096 [label=\"gini = 0.413\\\\nsamples = 24\\\\nvalue = [17, 7]\"] ;\\n2095 -> 2096 ;\\n2097 [label=\"gini = 0.483\\\\nsamples = 76\\\\nvalue = [31, 45]\"] ;\\n2095 -> 2097 ;\\n2098 [label=\"household_adults <= 2.5\\\\ngini = 0.298\\\\nsamples = 137\\\\nvalue = [25, 112]\"] ;\\n2082 -> 2098 ;\\n2099 [label=\"employment_occupation <= 22.5\\\\ngini = 0.26\\\\nsamples = 130\\\\nvalue = [20, 110]\"] ;\\n2098 -> 2099 ;\\n2100 [label=\"opinion_seas_risk <= 0.5\\\\ngini = 0.242\\\\nsamples = 128\\\\nvalue = [18, 110]\"] ;\\n2099 -> 2100 ;\\n2101 [label=\"gini = 0.0\\\\nsamples = 2\\\\nvalue = [2, 0]\"] ;\\n2100 -> 2101 ;\\n2102 [label=\"gini = 0.222\\\\nsamples = 126\\\\nvalue = [16, 110]\"] ;\\n2100 -> 2102 ;\\n2103 [label=\"gini = 0.0\\\\nsamples = 2\\\\nvalue = [2, 0]\"] ;\\n2099 -> 2103 ;\\n2104 [label=\"education <= 2.5\\\\ngini = 0.408\\\\nsamples = 7\\\\nvalue = [5, 2]\"] ;\\n2098 -> 2104 ;\\n2105 [label=\"gini = 0.0\\\\nsamples = 5\\\\nvalue = [5, 0]\"] ;\\n2104 -> 2105 ;\\n2106 [label=\"gini = 0.0\\\\nsamples = 2\\\\nvalue = [0, 2]\"] ;\\n2104 -> 2106 ;\\n2107 [label=\"opinion_seas_vacc_effective <= 3.5\\\\ngini = 0.464\\\\nsamples = 115\\\\nvalue = [73, 42]\"] ;\\n2037 -> 2107 ;\\n2108 [label=\"employment_occupation <= 20.5\\\\ngini = 0.305\\\\nsamples = 32\\\\nvalue = [26, 6]\"] ;\\n2107 -> 2108 ;\\n2109 [label=\"age_group <= 1.5\\\\ngini = 0.271\\\\nsamples = 31\\\\nvalue = [26, 5]\"] ;\\n2108 -> 2109 ;\\n2110 [label=\"behavioral_antiviral_meds <= 0.5\\\\ngini = 0.48\\\\nsamples = 10\\\\nvalue = [6, 4]\"] ;\\n2109 -> 2110 ;\\n2111 [label=\"education <= 2.5\\\\ngini = 0.444\\\\nsamples = 6\\\\nvalue = [2, 4]\"] ;\\n2110 -> 2111 ;\\n2112 [label=\"gini = 0.0\\\\nsamples = 4\\\\nvalue = [0, 4]\"] ;\\n2111 -> 2112 ;\\n2113 [label=\"gini = 0.0\\\\nsamples = 2\\\\nvalue = [2, 0]\"] ;\\n2111 -> 2113 ;\\n2114 [label=\"gini = 0.0\\\\nsamples = 4\\\\nvalue = [4, 0]\"] ;\\n2110 -> 2114 ;\\n2115 [label=\"education <= 0.5\\\\ngini = 0.091\\\\nsamples = 21\\\\nvalue = [20, 1]\"] ;\\n2109 -> 2115 ;\\n2116 [label=\"behavioral_antiviral_meds <= 0.5\\\\ngini = 0.375\\\\nsamples = 4\\\\nvalue = [3, 1]\"] ;\\n2115 -> 2116 ;\\n2117 [label=\"gini = 0.0\\\\nsamples = 3\\\\nvalue = [3, 0]\"] ;\\n2116 -> 2117 ;\\n2118 [label=\"gini = 0.0\\\\nsamples = 1\\\\nvalue = [0, 1]\"] ;\\n2116 -> 2118 ;\\n2119 [label=\"gini = 0.0\\\\nsamples = 17\\\\nvalue = [17, 0]\"] ;\\n2115 -> 2119 ;\\n2120 [label=\"gini = 0.0\\\\nsamples = 1\\\\nvalue = [0, 1]\"] ;\\n2108 -> 2120 ;\\n2121 [label=\"census_msa <= 0.5\\\\ngini = 0.491\\\\nsamples = 83\\\\nvalue = [47, 36]\"] ;\\n2107 -> 2121 ;\\n2122 [label=\"h1n1_knowledge <= 0.5\\\\ngini = 0.382\\\\nsamples = 35\\\\nvalue = [26, 9]\"] ;\\n2121 -> 2122 ;\\n2123 [label=\"income_poverty <= 0.5\\\\ngini = 0.444\\\\nsamples = 6\\\\nvalue = [2, 4]\"] ;\\n2122 -> 2123 ;\\n2124 [label=\"marital_status <= 0.5\\\\ngini = 0.444\\\\nsamples = 3\\\\nvalue = [2, 1]\"] ;\\n2123 -> 2124 ;\\n2125 [label=\"gini = 0.0\\\\nsamples = 1\\\\nvalue = [0, 1]\"] ;\\n2124 -> 2125 ;\\n2126 [label=\"gini = 0.0\\\\nsamples = 2\\\\nvalue = [2, 0]\"] ;\\n2124 -> 2126 ;\\n2127 [label=\"gini = 0.0\\\\nsamples = 3\\\\nvalue = [0, 3]\"] ;\\n2123 -> 2127 ;\\n2128 [label=\"child_under_6_months <= 0.5\\\\ngini = 0.285\\\\nsamples = 29\\\\nvalue = [24, 5]\"] ;\\n2122 -> 2128 ;\\n2129 [label=\"marital_status <= 1.5\\\\ngini = 0.204\\\\nsamples = 26\\\\nvalue = [23, 3]\"] ;\\n2128 -> 2129 ;\\n2130 [label=\"employment_occupation <= 0.5\\\\ngini = 0.147\\\\nsamples = 25\\\\nvalue = [23, 2]\"] ;\\n2129 -> 2130 ;\\n2131 [label=\"gini = 0.5\\\\nsamples = 2\\\\nvalue = [1, 1]\"] ;\\n2130 -> 2131 ;\\n2132 [label=\"gini = 0.083\\\\nsamples = 23\\\\nvalue = [22, 1]\"] ;\\n2130 -> 2132 ;\\n2133 [label=\"gini = 0.0\\\\nsamples = 1\\\\nvalue = [0, 1]\"] ;\\n2129 -> 2133 ;\\n2134 [label=\"employment_occupation <= 11.5\\\\ngini = 0.444\\\\nsamples = 3\\\\nvalue = [1, 2]\"] ;\\n2128 -> 2134 ;\\n2135 [label=\"gini = 0.0\\\\nsamples = 1\\\\nvalue = [1, 0]\"] ;\\n2134 -> 2135 ;\\n2136 [label=\"gini = 0.0\\\\nsamples = 2\\\\nvalue = [0, 2]\"] ;\\n2134 -> 2136 ;\\n2137 [label=\"behavioral_face_mask <= 0.5\\\\ngini = 0.492\\\\nsamples = 48\\\\nvalue = [21, 27]\"] ;\\n2121 -> 2137 ;\\n2138 [label=\"household_adults <= 0.5\\\\ngini = 0.5\\\\nsamples = 41\\\\nvalue = [21, 20]\"] ;\\n2137 -> 2138 ;\\n2139 [label=\"opinion_seas_sick_from_vacc <= 3.5\\\\ngini = 0.444\\\\nsamples = 18\\\\nvalue = [6, 12]\"] ;\\n2138 -> 2139 ;\\n2140 [label=\"education <= 2.5\\\\ngini = 0.375\\\\nsamples = 16\\\\nvalue = [4, 12]\"] ;\\n2139 -> 2140 ;\\n2141 [label=\"gini = 0.48\\\\nsamples = 10\\\\nvalue = [4, 6]\"] ;\\n2140 -> 2141 ;\\n2142 [label=\"gini = 0.0\\\\nsamples = 6\\\\nvalue = [0, 6]\"] ;\\n2140 -> 2142 ;\\n2143 [label=\"gini = 0.0\\\\nsamples = 2\\\\nvalue = [2, 0]\"] ;\\n2139 -> 2143 ;\\n2144 [label=\"hhs_geo_region <= 0.5\\\\ngini = 0.454\\\\nsamples = 23\\\\nvalue = [15, 8]\"] ;\\n2138 -> 2144 ;\\n2145 [label=\"gini = 0.0\\\\nsamples = 2\\\\nvalue = [0, 2]\"] ;\\n2144 -> 2145 ;\\n2146 [label=\"opinion_seas_sick_from_vacc <= 3.5\\\\ngini = 0.408\\\\nsamples = 21\\\\nvalue = [15, 6]\"] ;\\n2144 -> 2146 ;\\n2147 [label=\"gini = 0.332\\\\nsamples = 19\\\\nvalue = [15, 4]\"] ;\\n2146 -> 2147 ;\\n2148 [label=\"gini = 0.0\\\\nsamples = 2\\\\nvalue = [0, 2]\"] ;\\n2146 -> 2148 ;\\n2149 [label=\"gini = 0.0\\\\nsamples = 7\\\\nvalue = [0, 7]\"] ;\\n2137 -> 2149 ;\\n2150 [label=\"opinion_seas_vacc_effective <= 3.5\\\\ngini = 0.378\\\\nsamples = 352\\\\nvalue = [89, 263]\"] ;\\n1806 -> 2150 ;\\n2151 [label=\"employment_occupation <= 5.5\\\\ngini = 0.482\\\\nsamples = 153\\\\nvalue = [62, 91]\"] ;\\n2150 -> 2151 ;\\n2152 [label=\"household_children <= 0.5\\\\ngini = 0.401\\\\nsamples = 83\\\\nvalue = [23, 60]\"] ;\\n2151 -> 2152 ;\\n2153 [label=\"opinion_seas_vacc_effective <= 0.5\\\\ngini = 0.25\\\\nsamples = 41\\\\nvalue = [6, 35]\"] ;\\n2152 -> 2153 ;\\n2154 [label=\"gini = 0.0\\\\nsamples = 1\\\\nvalue = [1, 0]\"] ;\\n2153 -> 2154 ;\\n2155 [label=\"hhs_geo_region <= 0.5\\\\ngini = 0.219\\\\nsamples = 40\\\\nvalue = [5, 35]\"] ;\\n2153 -> 2155 ;\\n2156 [label=\"gini = 0.0\\\\nsamples = 1\\\\nvalue = [1, 0]\"] ;\\n2155 -> 2156 ;\\n2157 [label=\"opinion_h1n1_risk <= 4.5\\\\ngini = 0.184\\\\nsamples = 39\\\\nvalue = [4, 35]\"] ;\\n2155 -> 2157 ;\\n2158 [label=\"chronic_med_condition <= 0.5\\\\ngini = 0.145\\\\nsamples = 38\\\\nvalue = [3, 35]\"] ;\\n2157 -> 2158 ;\\n2159 [label=\"gini = 0.0\\\\nsamples = 26\\\\nvalue = [0, 26]\"] ;\\n2158 -> 2159 ;\\n2160 [label=\"income_poverty <= 2.5\\\\ngini = 0.375\\\\nsamples = 12\\\\nvalue = [3, 9]\"] ;\\n2158 -> 2160 ;\\n2161 [label=\"behavioral_wash_hands <= 0.5\\\\ngini = 0.298\\\\nsamples = 11\\\\nvalue = [2, 9]\"] ;\\n2160 -> 2161 ;\\n2162 [label=\"gini = 0.0\\\\nsamples = 1\\\\nvalue = [1, 0]\"] ;\\n2161 -> 2162 ;\\n2163 [label=\"gini = 0.18\\\\nsamples = 10\\\\nvalue = [1, 9]\"] ;\\n2161 -> 2163 ;\\n2164 [label=\"gini = 0.0\\\\nsamples = 1\\\\nvalue = [1, 0]\"] ;\\n2160 -> 2164 ;\\n2165 [label=\"gini = 0.0\\\\nsamples = 1\\\\nvalue = [1, 0]\"] ;\\n2157 -> 2165 ;\\n2166 [label=\"opinion_seas_risk <= 3.5\\\\ngini = 0.482\\\\nsamples = 42\\\\nvalue = [17, 25]\"] ;\\n2152 -> 2166 ;\\n2167 [label=\"hhs_geo_region <= 4.5\\\\ngini = 0.5\\\\nsamples = 32\\\\nvalue = [16, 16]\"] ;\\n2166 -> 2167 ;\\n2168 [label=\"age_group <= 3.0\\\\ngini = 0.298\\\\nsamples = 11\\\\nvalue = [9, 2]\"] ;\\n2167 -> 2168 ;\\n2169 [label=\"income_poverty <= 2.0\\\\ngini = 0.18\\\\nsamples = 10\\\\nvalue = [9, 1]\"] ;\\n2168 -> 2169 ;\\n2170 [label=\"gini = 0.0\\\\nsamples = 9\\\\nvalue = [9, 0]\"] ;\\n2169 -> 2170 ;\\n2171 [label=\"gini = 0.0\\\\nsamples = 1\\\\nvalue = [0, 1]\"] ;\\n2169 -> 2171 ;\\n2172 [label=\"gini = 0.0\\\\nsamples = 1\\\\nvalue = [0, 1]\"] ;\\n2168 -> 2172 ;\\n2173 [label=\"opinion_seas_sick_from_vacc <= 3.5\\\\ngini = 0.444\\\\nsamples = 21\\\\nvalue = [7, 14]\"] ;\\n2167 -> 2173 ;\\n2174 [label=\"doctor_recc_seasonal <= 0.5\\\\ngini = 0.388\\\\nsamples = 19\\\\nvalue = [5, 14]\"] ;\\n2173 -> 2174 ;\\n2175 [label=\"rent_or_own <= 0.5\\\\ngini = 0.291\\\\nsamples = 17\\\\nvalue = [3, 14]\"] ;\\n2174 -> 2175 ;\\n2176 [label=\"h1n1_knowledge <= 1.5\\\\ngini = 0.133\\\\nsamples = 14\\\\nvalue = [1, 13]\"] ;\\n2175 -> 2176 ;\\n2177 [label=\"gini = 0.444\\\\nsamples = 3\\\\nvalue = [1, 2]\"] ;\\n2176 -> 2177 ;\\n2178 [label=\"gini = 0.0\\\\nsamples = 11\\\\nvalue = [0, 11]\"] ;\\n2176 -> 2178 ;\\n2179 [label=\"h1n1_concern <= 0.5\\\\ngini = 0.444\\\\nsamples = 3\\\\nvalue = [2, 1]\"] ;\\n2175 -> 2179 ;\\n2180 [label=\"gini = 0.0\\\\nsamples = 1\\\\nvalue = [0, 1]\"] ;\\n2179 -> 2180 ;\\n2181 [label=\"gini = 0.0\\\\nsamples = 2\\\\nvalue = [2, 0]\"] ;\\n2179 -> 2181 ;\\n2182 [label=\"gini = 0.0\\\\nsamples = 2\\\\nvalue = [2, 0]\"] ;\\n2174 -> 2182 ;\\n2183 [label=\"gini = 0.0\\\\nsamples = 2\\\\nvalue = [2, 0]\"] ;\\n2173 -> 2183 ;\\n2184 [label=\"hhs_geo_region <= 5.5\\\\ngini = 0.18\\\\nsamples = 10\\\\nvalue = [1, 9]\"] ;\\n2166 -> 2184 ;\\n2185 [label=\"gini = 0.0\\\\nsamples = 8\\\\nvalue = [0, 8]\"] ;\\n2184 -> 2185 ;\\n2186 [label=\"education <= 1.0\\\\ngini = 0.5\\\\nsamples = 2\\\\nvalue = [1, 1]\"] ;\\n2184 -> 2186 ;\\n2187 [label=\"gini = 0.0\\\\nsamples = 1\\\\nvalue = [0, 1]\"] ;\\n2186 -> 2187 ;\\n2188 [label=\"gini = 0.0\\\\nsamples = 1\\\\nvalue = [1, 0]\"] ;\\n2186 -> 2188 ;\\n2189 [label=\"opinion_seas_risk <= 1.5\\\\ngini = 0.493\\\\nsamples = 70\\\\nvalue = [39, 31]\"] ;\\n2151 -> 2189 ;\\n2190 [label=\"doctor_recc_seasonal <= 0.5\\\\ngini = 0.32\\\\nsamples = 10\\\\nvalue = [2, 8]\"] ;\\n2189 -> 2190 ;\\n2191 [label=\"behavioral_touch_face <= 1.5\\\\ngini = 0.198\\\\nsamples = 9\\\\nvalue = [1, 8]\"] ;\\n2190 -> 2191 ;\\n2192 [label=\"gini = 0.0\\\\nsamples = 8\\\\nvalue = [0, 8]\"] ;\\n2191 -> 2192 ;\\n2193 [label=\"gini = 0.0\\\\nsamples = 1\\\\nvalue = [1, 0]\"] ;\\n2191 -> 2193 ;\\n2194 [label=\"gini = 0.0\\\\nsamples = 1\\\\nvalue = [1, 0]\"] ;\\n2190 -> 2194 ;\\n2195 [label=\"health_insurance <= 0.5\\\\ngini = 0.473\\\\nsamples = 60\\\\nvalue = [37, 23]\"] ;\\n2189 -> 2195 ;\\n2196 [label=\"behavioral_face_mask <= 0.5\\\\ngini = 0.245\\\\nsamples = 14\\\\nvalue = [12, 2]\"] ;\\n2195 -> 2196 ;\\n2197 [label=\"employment_status <= 0.5\\\\ngini = 0.142\\\\nsamples = 13\\\\nvalue = [12, 1]\"] ;\\n2196 -> 2197 ;\\n2198 [label=\"gini = 0.0\\\\nsamples = 10\\\\nvalue = [10, 0]\"] ;\\n2197 -> 2198 ;\\n2199 [label=\"opinion_seas_risk <= 3.5\\\\ngini = 0.444\\\\nsamples = 3\\\\nvalue = [2, 1]\"] ;\\n2197 -> 2199 ;\\n2200 [label=\"gini = 0.0\\\\nsamples = 1\\\\nvalue = [0, 1]\"] ;\\n2199 -> 2200 ;\\n2201 [label=\"gini = 0.0\\\\nsamples = 2\\\\nvalue = [2, 0]\"] ;\\n2199 -> 2201 ;\\n2202 [label=\"gini = 0.0\\\\nsamples = 1\\\\nvalue = [0, 1]\"] ;\\n2196 -> 2202 ;\\n2203 [label=\"census_msa <= 1.5\\\\ngini = 0.496\\\\nsamples = 46\\\\nvalue = [25, 21]\"] ;\\n2195 -> 2203 ;\\n2204 [label=\"income_poverty <= 2.5\\\\ngini = 0.467\\\\nsamples = 35\\\\nvalue = [22, 13]\"] ;\\n2203 -> 2204 ;\\n2205 [label=\"household_children <= 0.5\\\\ngini = 0.43\\\\nsamples = 32\\\\nvalue = [22, 10]\"] ;\\n2204 -> 2205 ;\\n2206 [label=\"employment_occupation <= 15.5\\\\ngini = 0.495\\\\nsamples = 20\\\\nvalue = [11, 9]\"] ;\\n2205 -> 2206 ;\\n2207 [label=\"behavioral_outside_home <= 0.5\\\\ngini = 0.457\\\\nsamples = 17\\\\nvalue = [11, 6]\"] ;\\n2206 -> 2207 ;\\n2208 [label=\"gini = 0.496\\\\nsamples = 11\\\\nvalue = [5, 6]\"] ;\\n2207 -> 2208 ;\\n2209 [label=\"gini = 0.0\\\\nsamples = 6\\\\nvalue = [6, 0]\"] ;\\n2207 -> 2209 ;\\n2210 [label=\"gini = 0.0\\\\nsamples = 3\\\\nvalue = [0, 3]\"] ;\\n2206 -> 2210 ;\\n2211 [label=\"employment_occupation <= 21.5\\\\ngini = 0.153\\\\nsamples = 12\\\\nvalue = [11, 1]\"] ;\\n2205 -> 2211 ;\\n2212 [label=\"gini = 0.0\\\\nsamples = 10\\\\nvalue = [10, 0]\"] ;\\n2211 -> 2212 ;\\n2213 [label=\"race <= 2.0\\\\ngini = 0.5\\\\nsamples = 2\\\\nvalue = [1, 1]\"] ;\\n2211 -> 2213 ;\\n2214 [label=\"gini = 0.0\\\\nsamples = 1\\\\nvalue = [0, 1]\"] ;\\n2213 -> 2214 ;\\n2215 [label=\"gini = 0.0\\\\nsamples = 1\\\\nvalue = [1, 0]\"] ;\\n2213 -> 2215 ;\\n2216 [label=\"gini = 0.0\\\\nsamples = 3\\\\nvalue = [0, 3]\"] ;\\n2204 -> 2216 ;\\n2217 [label=\"age_group <= 2.5\\\\ngini = 0.397\\\\nsamples = 11\\\\nvalue = [3, 8]\"] ;\\n2203 -> 2217 ;\\n2218 [label=\"gini = 0.0\\\\nsamples = 6\\\\nvalue = [0, 6]\"] ;\\n2217 -> 2218 ;\\n2219 [label=\"education <= 1.5\\\\ngini = 0.48\\\\nsamples = 5\\\\nvalue = [3, 2]\"] ;\\n2217 -> 2219 ;\\n2220 [label=\"gini = 0.0\\\\nsamples = 3\\\\nvalue = [3, 0]\"] ;\\n2219 -> 2220 ;\\n2221 [label=\"gini = 0.0\\\\nsamples = 2\\\\nvalue = [0, 2]\"] ;\\n2219 -> 2221 ;\\n2222 [label=\"race <= 0.5\\\\ngini = 0.235\\\\nsamples = 199\\\\nvalue = [27, 172]\"] ;\\n2150 -> 2222 ;\\n2223 [label=\"behavioral_avoidance <= 0.5\\\\ngini = 0.486\\\\nsamples = 12\\\\nvalue = [5, 7]\"] ;\\n2222 -> 2223 ;\\n2224 [label=\"gini = 0.0\\\\nsamples = 3\\\\nvalue = [3, 0]\"] ;\\n2223 -> 2224 ;\\n2225 [label=\"opinion_seas_risk <= 0.5\\\\ngini = 0.346\\\\nsamples = 9\\\\nvalue = [2, 7]\"] ;\\n2223 -> 2225 ;\\n2226 [label=\"employment_occupation <= 8.0\\\\ngini = 0.444\\\\nsamples = 3\\\\nvalue = [2, 1]\"] ;\\n2225 -> 2226 ;\\n2227 [label=\"gini = 0.0\\\\nsamples = 2\\\\nvalue = [2, 0]\"] ;\\n2226 -> 2227 ;\\n2228 [label=\"gini = 0.0\\\\nsamples = 1\\\\nvalue = [0, 1]\"] ;\\n2226 -> 2228 ;\\n2229 [label=\"gini = 0.0\\\\nsamples = 6\\\\nvalue = [0, 6]\"] ;\\n2225 -> 2229 ;\\n2230 [label=\"opinion_h1n1_vacc_effective <= 3.5\\\\ngini = 0.208\\\\nsamples = 187\\\\nvalue = [22, 165]\"] ;\\n2222 -> 2230 ;\\n2231 [label=\"hhs_geo_region <= 8.5\\\\ngini = 0.359\\\\nsamples = 47\\\\nvalue = [11, 36]\"] ;\\n2230 -> 2231 ;\\n2232 [label=\"h1n1_concern <= 3.5\\\\ngini = 0.283\\\\nsamples = 41\\\\nvalue = [7, 34]\"] ;\\n2231 -> 2232 ;\\n2233 [label=\"age_group <= 1.5\\\\ngini = 0.255\\\\nsamples = 40\\\\nvalue = [6, 34]\"] ;\\n2232 -> 2233 ;\\n2234 [label=\"h1n1_concern <= 2.5\\\\ngini = 0.391\\\\nsamples = 15\\\\nvalue = [4, 11]\"] ;\\n2233 -> 2234 ;\\n2235 [label=\"opinion_h1n1_vacc_effective <= 2.0\\\\ngini = 0.278\\\\nsamples = 12\\\\nvalue = [2, 10]\"] ;\\n2234 -> 2235 ;\\n2236 [label=\"gini = 0.0\\\\nsamples = 1\\\\nvalue = [1, 0]\"] ;\\n2235 -> 2236 ;\\n2237 [label=\"hhs_geo_region <= 0.5\\\\ngini = 0.165\\\\nsamples = 11\\\\nvalue = [1, 10]\"] ;\\n2235 -> 2237 ;\\n2238 [label=\"gini = 0.5\\\\nsamples = 2\\\\nvalue = [1, 1]\"] ;\\n2237 -> 2238 ;\\n2239 [label=\"gini = 0.0\\\\nsamples = 9\\\\nvalue = [0, 9]\"] ;\\n2237 -> 2239 ;\\n2240 [label=\"opinion_seas_risk <= 3.5\\\\ngini = 0.444\\\\nsamples = 3\\\\nvalue = [2, 1]\"] ;\\n2234 -> 2240 ;\\n2241 [label=\"gini = 0.0\\\\nsamples = 2\\\\nvalue = [2, 0]\"] ;\\n2240 -> 2241 ;\\n2242 [label=\"gini = 0.0\\\\nsamples = 1\\\\nvalue = [0, 1]\"] ;\\n2240 -> 2242 ;\\n2243 [label=\"employment_industry <= 11.5\\\\ngini = 0.147\\\\nsamples = 25\\\\nvalue = [2, 23]\"] ;\\n2233 -> 2243 ;\\n2244 [label=\"education <= 2.5\\\\ngini = 0.08\\\\nsamples = 24\\\\nvalue = [1, 23]\"] ;\\n2243 -> 2244 ;\\n2245 [label=\"gini = 0.0\\\\nsamples = 16\\\\nvalue = [0, 16]\"] ;\\n2244 -> 2245 ;\\n2246 [label=\"income_poverty <= 0.5\\\\ngini = 0.219\\\\nsamples = 8\\\\nvalue = [1, 7]\"] ;\\n2244 -> 2246 ;\\n2247 [label=\"gini = 0.0\\\\nsamples = 6\\\\nvalue = [0, 6]\"] ;\\n2246 -> 2247 ;\\n2248 [label=\"gini = 0.5\\\\nsamples = 2\\\\nvalue = [1, 1]\"] ;\\n2246 -> 2248 ;\\n2249 [label=\"gini = 0.0\\\\nsamples = 1\\\\nvalue = [1, 0]\"] ;\\n2243 -> 2249 ;\\n2250 [label=\"gini = 0.0\\\\nsamples = 1\\\\nvalue = [1, 0]\"] ;\\n2232 -> 2250 ;\\n2251 [label=\"h1n1_concern <= 2.5\\\\ngini = 0.444\\\\nsamples = 6\\\\nvalue = [4, 2]\"] ;\\n2231 -> 2251 ;\\n2252 [label=\"chronic_med_condition <= 0.5\\\\ngini = 0.32\\\\nsamples = 5\\\\nvalue = [4, 1]\"] ;\\n2251 -> 2252 ;\\n2253 [label=\"gini = 0.0\\\\nsamples = 4\\\\nvalue = [4, 0]\"] ;\\n2252 -> 2253 ;\\n2254 [label=\"gini = 0.0\\\\nsamples = 1\\\\nvalue = [0, 1]\"] ;\\n2252 -> 2254 ;\\n2255 [label=\"gini = 0.0\\\\nsamples = 1\\\\nvalue = [0, 1]\"] ;\\n2251 -> 2255 ;\\n2256 [label=\"opinion_seas_sick_from_vacc <= 3.5\\\\ngini = 0.145\\\\nsamples = 140\\\\nvalue = [11, 129]\"] ;\\n2230 -> 2256 ;\\n2257 [label=\"employment_industry <= 2.0\\\\ngini = 0.101\\\\nsamples = 131\\\\nvalue = [7, 124]\"] ;\\n2256 -> 2257 ;\\n2258 [label=\"child_under_6_months <= 0.5\\\\ngini = 0.5\\\\nsamples = 2\\\\nvalue = [1, 1]\"] ;\\n2257 -> 2258 ;\\n2259 [label=\"gini = 0.0\\\\nsamples = 1\\\\nvalue = [1, 0]\"] ;\\n2258 -> 2259 ;\\n2260 [label=\"gini = 0.0\\\\nsamples = 1\\\\nvalue = [0, 1]\"] ;\\n2258 -> 2260 ;\\n2261 [label=\"doctor_recc_seasonal <= 0.5\\\\ngini = 0.089\\\\nsamples = 129\\\\nvalue = [6, 123]\"] ;\\n2257 -> 2261 ;\\n2262 [label=\"child_under_6_months <= 0.5\\\\ngini = 0.064\\\\nsamples = 120\\\\nvalue = [4, 116]\"] ;\\n2261 -> 2262 ;\\n2263 [label=\"household_children <= 2.5\\\\ngini = 0.038\\\\nsamples = 102\\\\nvalue = [2, 100]\"] ;\\n2262 -> 2263 ;\\n2264 [label=\"age_group <= 3.5\\\\ngini = 0.021\\\\nsamples = 96\\\\nvalue = [1, 95]\"] ;\\n2263 -> 2264 ;\\n2265 [label=\"gini = 0.0\\\\nsamples = 89\\\\nvalue = [0, 89]\"] ;\\n2264 -> 2265 ;\\n2266 [label=\"gini = 0.245\\\\nsamples = 7\\\\nvalue = [1, 6]\"] ;\\n2264 -> 2266 ;\\n2267 [label=\"opinion_seas_risk <= 2.0\\\\ngini = 0.278\\\\nsamples = 6\\\\nvalue = [1, 5]\"] ;\\n2263 -> 2267 ;\\n2268 [label=\"gini = 0.0\\\\nsamples = 1\\\\nvalue = [1, 0]\"] ;\\n2267 -> 2268 ;\\n2269 [label=\"gini = 0.0\\\\nsamples = 5\\\\nvalue = [0, 5]\"] ;\\n2267 -> 2269 ;\\n2270 [label=\"behavioral_wash_hands <= 0.5\\\\ngini = 0.198\\\\nsamples = 18\\\\nvalue = [2, 16]\"] ;\\n2262 -> 2270 ;\\n2271 [label=\"behavioral_touch_face <= 0.5\\\\ngini = 0.444\\\\nsamples = 3\\\\nvalue = [1, 2]\"] ;\\n2270 -> 2271 ;\\n2272 [label=\"gini = 0.0\\\\nsamples = 1\\\\nvalue = [1, 0]\"] ;\\n2271 -> 2272 ;\\n2273 [label=\"gini = 0.0\\\\nsamples = 2\\\\nvalue = [0, 2]\"] ;\\n2271 -> 2273 ;\\n2274 [label=\"opinion_h1n1_sick_from_vacc <= 2.0\\\\ngini = 0.124\\\\nsamples = 15\\\\nvalue = [1, 14]\"] ;\\n2270 -> 2274 ;\\n2275 [label=\"gini = 0.0\\\\nsamples = 11\\\\nvalue = [0, 11]\"] ;\\n2274 -> 2275 ;\\n2276 [label=\"gini = 0.375\\\\nsamples = 4\\\\nvalue = [1, 3]\"] ;\\n2274 -> 2276 ;\\n2277 [label=\"sex <= 0.5\\\\ngini = 0.346\\\\nsamples = 9\\\\nvalue = [2, 7]\"] ;\\n2261 -> 2277 ;\\n2278 [label=\"gini = 0.0\\\\nsamples = 7\\\\nvalue = [0, 7]\"] ;\\n2277 -> 2278 ;\\n2279 [label=\"gini = 0.0\\\\nsamples = 2\\\\nvalue = [2, 0]\"] ;\\n2277 -> 2279 ;\\n2280 [label=\"employment_occupation <= 4.0\\\\ngini = 0.494\\\\nsamples = 9\\\\nvalue = [4, 5]\"] ;\\n2256 -> 2280 ;\\n2281 [label=\"opinion_h1n1_risk <= 3.5\\\\ngini = 0.444\\\\nsamples = 6\\\\nvalue = [4, 2]\"] ;\\n2280 -> 2281 ;\\n2282 [label=\"gini = 0.0\\\\nsamples = 3\\\\nvalue = [3, 0]\"] ;\\n2281 -> 2282 ;\\n2283 [label=\"marital_status <= 0.5\\\\ngini = 0.444\\\\nsamples = 3\\\\nvalue = [1, 2]\"] ;\\n2281 -> 2283 ;\\n2284 [label=\"gini = 0.0\\\\nsamples = 1\\\\nvalue = [1, 0]\"] ;\\n2283 -> 2284 ;\\n2285 [label=\"gini = 0.0\\\\nsamples = 2\\\\nvalue = [0, 2]\"] ;\\n2283 -> 2285 ;\\n2286 [label=\"gini = 0.0\\\\nsamples = 3\\\\nvalue = [0, 3]\"] ;\\n2280 -> 2286 ;\\n2287 [label=\"opinion_h1n1_vacc_effective <= 3.5\\\\ngini = 0.336\\\\nsamples = 1686\\\\nvalue = [360, 1326]\"] ;\\n1805 -> 2287 ;\\n2288 [label=\"doctor_recc_seasonal <= 1.5\\\\ngini = 0.428\\\\nsamples = 680\\\\nvalue = [211, 469]\"] ;\\n2287 -> 2288 ;\\n2289 [label=\"h1n1_knowledge <= 1.5\\\\ngini = 0.41\\\\nsamples = 636\\\\nvalue = [183, 453]\"] ;\\n2288 -> 2289 ;\\n2290 [label=\"age_group <= 1.5\\\\ngini = 0.457\\\\nsamples = 346\\\\nvalue = [122, 224]\"] ;\\n2289 -> 2290 ;\\n2291 [label=\"household_adults <= 2.5\\\\ngini = 0.498\\\\nsamples = 127\\\\nvalue = [60, 67]\"] ;\\n2290 -> 2291 ;\\n2292 [label=\"employment_occupation <= 21.5\\\\ngini = 0.491\\\\nsamples = 115\\\\nvalue = [50, 65]\"] ;\\n2291 -> 2292 ;\\n2293 [label=\"opinion_seas_vacc_effective <= 3.5\\\\ngini = 0.497\\\\nsamples = 108\\\\nvalue = [50, 58]\"] ;\\n2292 -> 2293 ;\\n2294 [label=\"opinion_h1n1_sick_from_vacc <= 0.5\\\\ngini = 0.499\\\\nsamples = 81\\\\nvalue = [42, 39]\"] ;\\n2293 -> 2294 ;\\n2295 [label=\"employment_industry <= 4.5\\\\ngini = 0.355\\\\nsamples = 13\\\\nvalue = [3, 10]\"] ;\\n2294 -> 2295 ;\\n2296 [label=\"employment_industry <= 2.0\\\\ngini = 0.444\\\\nsamples = 3\\\\nvalue = [2, 1]\"] ;\\n2295 -> 2296 ;\\n2297 [label=\"gini = 0.0\\\\nsamples = 1\\\\nvalue = [0, 1]\"] ;\\n2296 -> 2297 ;\\n2298 [label=\"gini = 0.0\\\\nsamples = 2\\\\nvalue = [2, 0]\"] ;\\n2296 -> 2298 ;\\n2299 [label=\"opinion_seas_sick_from_vacc <= 2.5\\\\ngini = 0.18\\\\nsamples = 10\\\\nvalue = [1, 9]\"] ;\\n2295 -> 2299 ;\\n2300 [label=\"gini = 0.0\\\\nsamples = 9\\\\nvalue = [0, 9]\"] ;\\n2299 -> 2300 ;\\n2301 [label=\"gini = 0.0\\\\nsamples = 1\\\\nvalue = [1, 0]\"] ;\\n2299 -> 2301 ;\\n2302 [label=\"opinion_h1n1_vacc_effective <= 2.5\\\\ngini = 0.489\\\\nsamples = 68\\\\nvalue = [39, 29]\"] ;\\n2294 -> 2302 ;\\n2303 [label=\"h1n1_knowledge <= 0.5\\\\ngini = 0.165\\\\nsamples = 11\\\\nvalue = [10, 1]\"] ;\\n2302 -> 2303 ;\\n2304 [label=\"gini = 0.0\\\\nsamples = 1\\\\nvalue = [0, 1]\"] ;\\n2303 -> 2304 ;\\n2305 [label=\"gini = 0.0\\\\nsamples = 10\\\\nvalue = [10, 0]\"] ;\\n2303 -> 2305 ;\\n2306 [label=\"employment_occupation <= 1.0\\\\ngini = 0.5\\\\nsamples = 57\\\\nvalue = [29, 28]\"] ;\\n2302 -> 2306 ;\\n2307 [label=\"gini = 0.0\\\\nsamples = 3\\\\nvalue = [0, 3]\"] ;\\n2306 -> 2307 ;\\n2308 [label=\"gini = 0.497\\\\nsamples = 54\\\\nvalue = [29, 25]\"] ;\\n2306 -> 2308 ;\\n2309 [label=\"behavioral_wash_hands <= 0.5\\\\ngini = 0.417\\\\nsamples = 27\\\\nvalue = [8, 19]\"] ;\\n2293 -> 2309 ;\\n2310 [label=\"gini = 0.0\\\\nsamples = 2\\\\nvalue = [2, 0]\"] ;\\n2309 -> 2310 ;\\n2311 [label=\"chronic_med_condition <= 0.5\\\\ngini = 0.365\\\\nsamples = 25\\\\nvalue = [6, 19]\"] ;\\n2309 -> 2311 ;\\n2312 [label=\"h1n1_knowledge <= 0.5\\\\ngini = 0.255\\\\nsamples = 20\\\\nvalue = [3, 17]\"] ;\\n2311 -> 2312 ;\\n2313 [label=\"gini = 0.0\\\\nsamples = 1\\\\nvalue = [1, 0]\"] ;\\n2312 -> 2313 ;\\n2314 [label=\"gini = 0.188\\\\nsamples = 19\\\\nvalue = [2, 17]\"] ;\\n2312 -> 2314 ;\\n2315 [label=\"hhs_geo_region <= 5.0\\\\ngini = 0.48\\\\nsamples = 5\\\\nvalue = [3, 2]\"] ;\\n2311 -> 2315 ;\\n2316 [label=\"gini = 0.444\\\\nsamples = 3\\\\nvalue = [1, 2]\"] ;\\n2315 -> 2316 ;\\n2317 [label=\"gini = 0.0\\\\nsamples = 2\\\\nvalue = [2, 0]\"] ;\\n2315 -> 2317 ;\\n2318 [label=\"gini = 0.0\\\\nsamples = 7\\\\nvalue = [0, 7]\"] ;\\n2292 -> 2318 ;\\n2319 [label=\"h1n1_concern <= 2.5\\\\ngini = 0.278\\\\nsamples = 12\\\\nvalue = [10, 2]\"] ;\\n2291 -> 2319 ;\\n2320 [label=\"gini = 0.0\\\\nsamples = 9\\\\nvalue = [9, 0]\"] ;\\n2319 -> 2320 ;\\n2321 [label=\"opinion_seas_vacc_effective <= 3.5\\\\ngini = 0.444\\\\nsamples = 3\\\\nvalue = [1, 2]\"] ;\\n2319 -> 2321 ;\\n2322 [label=\"gini = 0.0\\\\nsamples = 1\\\\nvalue = [1, 0]\"] ;\\n2321 -> 2322 ;\\n2323 [label=\"gini = 0.0\\\\nsamples = 2\\\\nvalue = [0, 2]\"] ;\\n2321 -> 2323 ;\\n2324 [label=\"opinion_h1n1_vacc_effective <= 1.5\\\\ngini = 0.406\\\\nsamples = 219\\\\nvalue = [62, 157]\"] ;\\n2290 -> 2324 ;\\n2325 [label=\"h1n1_knowledge <= 0.5\\\\ngini = 0.346\\\\nsamples = 9\\\\nvalue = [7, 2]\"] ;\\n2324 -> 2325 ;\\n2326 [label=\"education <= 3.5\\\\ngini = 0.444\\\\nsamples = 3\\\\nvalue = [1, 2]\"] ;\\n2325 -> 2326 ;\\n2327 [label=\"gini = 0.0\\\\nsamples = 2\\\\nvalue = [0, 2]\"] ;\\n2326 -> 2327 ;\\n2328 [label=\"gini = 0.0\\\\nsamples = 1\\\\nvalue = [1, 0]\"] ;\\n2326 -> 2328 ;\\n2329 [label=\"gini = 0.0\\\\nsamples = 6\\\\nvalue = [6, 0]\"] ;\\n2325 -> 2329 ;\\n2330 [label=\"opinion_h1n1_risk <= 4.5\\\\ngini = 0.387\\\\nsamples = 210\\\\nvalue = [55, 155]\"] ;\\n2324 -> 2330 ;\\n2331 [label=\"household_children <= 2.5\\\\ngini = 0.376\\\\nsamples = 207\\\\nvalue = [52, 155]\"] ;\\n2330 -> 2331 ;\\n2332 [label=\"household_adults <= 0.5\\\\ngini = 0.366\\\\nsamples = 203\\\\nvalue = [49, 154]\"] ;\\n2331 -> 2332 ;\\n2333 [label=\"household_children <= 0.5\\\\ngini = 0.441\\\\nsamples = 73\\\\nvalue = [24, 49]\"] ;\\n2332 -> 2333 ;\\n2334 [label=\"h1n1_concern <= 1.5\\\\ngini = 0.415\\\\nsamples = 68\\\\nvalue = [20, 48]\"] ;\\n2333 -> 2334 ;\\n2335 [label=\"gini = 0.198\\\\nsamples = 18\\\\nvalue = [2, 16]\"] ;\\n2334 -> 2335 ;\\n2336 [label=\"gini = 0.461\\\\nsamples = 50\\\\nvalue = [18, 32]\"] ;\\n2334 -> 2336 ;\\n2337 [label=\"health_worker <= 0.5\\\\ngini = 0.32\\\\nsamples = 5\\\\nvalue = [4, 1]\"] ;\\n2333 -> 2337 ;\\n2338 [label=\"gini = 0.0\\\\nsamples = 4\\\\nvalue = [4, 0]\"] ;\\n2337 -> 2338 ;\\n2339 [label=\"gini = 0.0\\\\nsamples = 1\\\\nvalue = [0, 1]\"] ;\\n2337 -> 2339 ;\\n2340 [label=\"employment_industry <= 16.0\\\\ngini = 0.311\\\\nsamples = 130\\\\nvalue = [25, 105]\"] ;\\n2332 -> 2340 ;\\n2341 [label=\"employment_industry <= 12.0\\\\ngini = 0.36\\\\nsamples = 102\\\\nvalue = [24, 78]\"] ;\\n2340 -> 2341 ;\\n2342 [label=\"gini = 0.306\\\\nsamples = 90\\\\nvalue = [17, 73]\"] ;\\n2341 -> 2342 ;\\n2343 [label=\"gini = 0.486\\\\nsamples = 12\\\\nvalue = [7, 5]\"] ;\\n2341 -> 2343 ;\\n2344 [label=\"hhs_geo_region <= 8.5\\\\ngini = 0.069\\\\nsamples = 28\\\\nvalue = [1, 27]\"] ;\\n2340 -> 2344 ;\\n2345 [label=\"gini = 0.0\\\\nsamples = 25\\\\nvalue = [0, 25]\"] ;\\n2344 -> 2345 ;\\n2346 [label=\"gini = 0.444\\\\nsamples = 3\\\\nvalue = [1, 2]\"] ;\\n2344 -> 2346 ;\\n2347 [label=\"doctor_recc_seasonal <= 0.5\\\\ngini = 0.375\\\\nsamples = 4\\\\nvalue = [3, 1]\"] ;\\n2331 -> 2347 ;\\n2348 [label=\"gini = 0.0\\\\nsamples = 1\\\\nvalue = [0, 1]\"] ;\\n2347 -> 2348 ;\\n2349 [label=\"gini = 0.0\\\\nsamples = 3\\\\nvalue = [3, 0]\"] ;\\n2347 -> 2349 ;\\n2350 [label=\"gini = 0.0\\\\nsamples = 3\\\\nvalue = [3, 0]\"] ;\\n2330 -> 2350 ;\\n2351 [label=\"opinion_seas_vacc_effective <= 1.5\\\\ngini = 0.332\\\\nsamples = 290\\\\nvalue = [61, 229]\"] ;\\n2289 -> 2351 ;\\n2352 [label=\"employment_occupation <= 11.5\\\\ngini = 0.43\\\\nsamples = 16\\\\nvalue = [11, 5]\"] ;\\n2351 -> 2352 ;\\n2353 [label=\"opinion_seas_sick_from_vacc <= 0.5\\\\ngini = 0.496\\\\nsamples = 11\\\\nvalue = [6, 5]\"] ;\\n2352 -> 2353 ;\\n2354 [label=\"gini = 0.0\\\\nsamples = 2\\\\nvalue = [0, 2]\"] ;\\n2353 -> 2354 ;\\n2355 [label=\"chronic_med_condition <= 0.5\\\\ngini = 0.444\\\\nsamples = 9\\\\nvalue = [6, 3]\"] ;\\n2353 -> 2355 ;\\n2356 [label=\"gini = 0.0\\\\nsamples = 5\\\\nvalue = [5, 0]\"] ;\\n2355 -> 2356 ;\\n2357 [label=\"hhs_geo_region <= 1.5\\\\ngini = 0.375\\\\nsamples = 4\\\\nvalue = [1, 3]\"] ;\\n2355 -> 2357 ;\\n2358 [label=\"gini = 0.0\\\\nsamples = 1\\\\nvalue = [1, 0]\"] ;\\n2357 -> 2358 ;\\n2359 [label=\"gini = 0.0\\\\nsamples = 3\\\\nvalue = [0, 3]\"] ;\\n2357 -> 2359 ;\\n2360 [label=\"gini = 0.0\\\\nsamples = 5\\\\nvalue = [5, 0]\"] ;\\n2352 -> 2360 ;\\n2361 [label=\"health_insurance <= 0.5\\\\ngini = 0.298\\\\nsamples = 274\\\\nvalue = [50, 224]\"] ;\\n2351 -> 2361 ;\\n2362 [label=\"opinion_seas_sick_from_vacc <= 2.0\\\\ngini = 0.497\\\\nsamples = 13\\\\nvalue = [6, 7]\"] ;\\n2361 -> 2362 ;\\n2363 [label=\"opinion_h1n1_sick_from_vacc <= 0.5\\\\ngini = 0.278\\\\nsamples = 6\\\\nvalue = [1, 5]\"] ;\\n2362 -> 2363 ;\\n2364 [label=\"gini = 0.0\\\\nsamples = 1\\\\nvalue = [1, 0]\"] ;\\n2363 -> 2364 ;\\n2365 [label=\"gini = 0.0\\\\nsamples = 5\\\\nvalue = [0, 5]\"] ;\\n2363 -> 2365 ;\\n2366 [label=\"health_worker <= 0.5\\\\ngini = 0.408\\\\nsamples = 7\\\\nvalue = [5, 2]\"] ;\\n2362 -> 2366 ;\\n2367 [label=\"gini = 0.0\\\\nsamples = 5\\\\nvalue = [5, 0]\"] ;\\n2366 -> 2367 ;\\n2368 [label=\"gini = 0.0\\\\nsamples = 2\\\\nvalue = [0, 2]\"] ;\\n2366 -> 2368 ;\\n2369 [label=\"opinion_seas_risk <= 1.5\\\\ngini = 0.28\\\\nsamples = 261\\\\nvalue = [44, 217]\"] ;\\n2361 -> 2369 ;\\n2370 [label=\"household_children <= 0.5\\\\ngini = 0.436\\\\nsamples = 28\\\\nvalue = [9, 19]\"] ;\\n2369 -> 2370 ;\\n2371 [label=\"opinion_h1n1_sick_from_vacc <= 3.5\\\\ngini = 0.266\\\\nsamples = 19\\\\nvalue = [3, 16]\"] ;\\n2370 -> 2371 ;\\n2372 [label=\"age_group <= 3.5\\\\ngini = 0.117\\\\nsamples = 16\\\\nvalue = [1, 15]\"] ;\\n2371 -> 2372 ;\\n2373 [label=\"gini = 0.0\\\\nsamples = 13\\\\nvalue = [0, 13]\"] ;\\n2372 -> 2373 ;\\n2374 [label=\"household_adults <= 1.5\\\\ngini = 0.444\\\\nsamples = 3\\\\nvalue = [1, 2]\"] ;\\n2372 -> 2374 ;\\n2375 [label=\"gini = 0.0\\\\nsamples = 2\\\\nvalue = [0, 2]\"] ;\\n2374 -> 2375 ;\\n2376 [label=\"gini = 0.0\\\\nsamples = 1\\\\nvalue = [1, 0]\"] ;\\n2374 -> 2376 ;\\n2377 [label=\"doctor_recc_seasonal <= 0.5\\\\ngini = 0.444\\\\nsamples = 3\\\\nvalue = [2, 1]\"] ;\\n2371 -> 2377 ;\\n2378 [label=\"gini = 0.0\\\\nsamples = 1\\\\nvalue = [0, 1]\"] ;\\n2377 -> 2378 ;\\n2379 [label=\"gini = 0.0\\\\nsamples = 2\\\\nvalue = [2, 0]\"] ;\\n2377 -> 2379 ;\\n2380 [label=\"behavioral_touch_face <= 0.5\\\\ngini = 0.444\\\\nsamples = 9\\\\nvalue = [6, 3]\"] ;\\n2370 -> 2380 ;\\n2381 [label=\"gini = 0.0\\\\nsamples = 4\\\\nvalue = [4, 0]\"] ;\\n2380 -> 2381 ;\\n2382 [label=\"age_group <= 0.5\\\\ngini = 0.48\\\\nsamples = 5\\\\nvalue = [2, 3]\"] ;\\n2380 -> 2382 ;\\n2383 [label=\"gini = 0.0\\\\nsamples = 2\\\\nvalue = [2, 0]\"] ;\\n2382 -> 2383 ;\\n2384 [label=\"gini = 0.0\\\\nsamples = 3\\\\nvalue = [0, 3]\"] ;\\n2382 -> 2384 ;\\n2385 [label=\"behavioral_face_mask <= 0.5\\\\ngini = 0.255\\\\nsamples = 233\\\\nvalue = [35, 198]\"] ;\\n2369 -> 2385 ;\\n2386 [label=\"hhs_geo_region <= 1.5\\\\ngini = 0.229\\\\nsamples = 205\\\\nvalue = [27, 178]\"] ;\\n2385 -> 2386 ;\\n2387 [label=\"opinion_seas_risk <= 3.5\\\\ngini = 0.32\\\\nsamples = 50\\\\nvalue = [10, 40]\"] ;\\n2386 -> 2387 ;\\n2388 [label=\"household_children <= 2.5\\\\ngini = 0.415\\\\nsamples = 34\\\\nvalue = [10, 24]\"] ;\\n2387 -> 2388 ;\\n2389 [label=\"gini = 0.358\\\\nsamples = 30\\\\nvalue = [7, 23]\"] ;\\n2388 -> 2389 ;\\n2390 [label=\"gini = 0.375\\\\nsamples = 4\\\\nvalue = [3, 1]\"] ;\\n2388 -> 2390 ;\\n2391 [label=\"gini = 0.0\\\\nsamples = 16\\\\nvalue = [0, 16]\"] ;\\n2387 -> 2391 ;\\n2392 [label=\"employment_industry <= 7.5\\\\ngini = 0.195\\\\nsamples = 155\\\\nvalue = [17, 138]\"] ;\\n2386 -> 2392 ;\\n2393 [label=\"census_msa <= 0.5\\\\ngini = 0.087\\\\nsamples = 66\\\\nvalue = [3, 63]\"] ;\\n2392 -> 2393 ;\\n2394 [label=\"gini = 0.18\\\\nsamples = 30\\\\nvalue = [3, 27]\"] ;\\n2393 -> 2394 ;\\n2395 [label=\"gini = 0.0\\\\nsamples = 36\\\\nvalue = [0, 36]\"] ;\\n2393 -> 2395 ;\\n2396 [label=\"opinion_h1n1_sick_from_vacc <= 3.5\\\\ngini = 0.265\\\\nsamples = 89\\\\nvalue = [14, 75]\"] ;\\n2392 -> 2396 ;\\n2397 [label=\"gini = 0.219\\\\nsamples = 72\\\\nvalue = [9, 63]\"] ;\\n2396 -> 2397 ;\\n2398 [label=\"gini = 0.415\\\\nsamples = 17\\\\nvalue = [5, 12]\"] ;\\n2396 -> 2398 ;\\n2399 [label=\"age_group <= 3.5\\\\ngini = 0.408\\\\nsamples = 28\\\\nvalue = [8, 20]\"] ;\\n2385 -> 2399 ;\\n2400 [label=\"h1n1_concern <= 2.5\\\\ngini = 0.287\\\\nsamples = 23\\\\nvalue = [4, 19]\"] ;\\n2399 -> 2400 ;\\n2401 [label=\"opinion_seas_risk <= 3.5\\\\ngini = 0.463\\\\nsamples = 11\\\\nvalue = [4, 7]\"] ;\\n2400 -> 2401 ;\\n2402 [label=\"gini = 0.5\\\\nsamples = 8\\\\nvalue = [4, 4]\"] ;\\n2401 -> 2402 ;\\n2403 [label=\"gini = 0.0\\\\nsamples = 3\\\\nvalue = [0, 3]\"] ;\\n2401 -> 2403 ;\\n2404 [label=\"gini = 0.0\\\\nsamples = 12\\\\nvalue = [0, 12]\"] ;\\n2400 -> 2404 ;\\n2405 [label=\"behavioral_large_gatherings <= 0.5\\\\ngini = 0.32\\\\nsamples = 5\\\\nvalue = [4, 1]\"] ;\\n2399 -> 2405 ;\\n2406 [label=\"gini = 0.0\\\\nsamples = 1\\\\nvalue = [0, 1]\"] ;\\n2405 -> 2406 ;\\n2407 [label=\"gini = 0.0\\\\nsamples = 4\\\\nvalue = [4, 0]\"] ;\\n2405 -> 2407 ;\\n2408 [label=\"age_group <= 3.5\\\\ngini = 0.463\\\\nsamples = 44\\\\nvalue = [28, 16]\"] ;\\n2288 -> 2408 ;\\n2409 [label=\"hhs_geo_region <= 7.5\\\\ngini = 0.366\\\\nsamples = 29\\\\nvalue = [22, 7]\"] ;\\n2408 -> 2409 ;\\n2410 [label=\"employment_status <= 2.5\\\\ngini = 0.18\\\\nsamples = 20\\\\nvalue = [18, 2]\"] ;\\n2409 -> 2410 ;\\n2411 [label=\"health_worker <= 0.5\\\\ngini = 0.1\\\\nsamples = 19\\\\nvalue = [18, 1]\"] ;\\n2410 -> 2411 ;\\n2412 [label=\"gini = 0.0\\\\nsamples = 17\\\\nvalue = [17, 0]\"] ;\\n2411 -> 2412 ;\\n2413 [label=\"education <= 2.5\\\\ngini = 0.5\\\\nsamples = 2\\\\nvalue = [1, 1]\"] ;\\n2411 -> 2413 ;\\n2414 [label=\"gini = 0.0\\\\nsamples = 1\\\\nvalue = [0, 1]\"] ;\\n2413 -> 2414 ;\\n2415 [label=\"gini = 0.0\\\\nsamples = 1\\\\nvalue = [1, 0]\"] ;\\n2413 -> 2415 ;\\n2416 [label=\"gini = 0.0\\\\nsamples = 1\\\\nvalue = [0, 1]\"] ;\\n2410 -> 2416 ;\\n2417 [label=\"household_adults <= 0.5\\\\ngini = 0.494\\\\nsamples = 9\\\\nvalue = [4, 5]\"] ;\\n2409 -> 2417 ;\\n2418 [label=\"gini = 0.0\\\\nsamples = 3\\\\nvalue = [0, 3]\"] ;\\n2417 -> 2418 ;\\n2419 [label=\"age_group <= 1.5\\\\ngini = 0.444\\\\nsamples = 6\\\\nvalue = [4, 2]\"] ;\\n2417 -> 2419 ;\\n2420 [label=\"age_group <= 0.5\\\\ngini = 0.444\\\\nsamples = 3\\\\nvalue = [1, 2]\"] ;\\n2419 -> 2420 ;\\n2421 [label=\"gini = 0.0\\\\nsamples = 1\\\\nvalue = [1, 0]\"] ;\\n2420 -> 2421 ;\\n2422 [label=\"gini = 0.0\\\\nsamples = 2\\\\nvalue = [0, 2]\"] ;\\n2420 -> 2422 ;\\n2423 [label=\"gini = 0.0\\\\nsamples = 3\\\\nvalue = [3, 0]\"] ;\\n2419 -> 2423 ;\\n2424 [label=\"hhs_geo_region <= 4.5\\\\ngini = 0.48\\\\nsamples = 15\\\\nvalue = [6, 9]\"] ;\\n2408 -> 2424 ;\\n2425 [label=\"behavioral_touch_face <= 0.5\\\\ngini = 0.408\\\\nsamples = 7\\\\nvalue = [5, 2]\"] ;\\n2424 -> 2425 ;\\n2426 [label=\"gini = 0.0\\\\nsamples = 4\\\\nvalue = [4, 0]\"] ;\\n2425 -> 2426 ;\\n2427 [label=\"opinion_h1n1_risk <= 3.5\\\\ngini = 0.444\\\\nsamples = 3\\\\nvalue = [1, 2]\"] ;\\n2425 -> 2427 ;\\n2428 [label=\"gini = 0.0\\\\nsamples = 2\\\\nvalue = [0, 2]\"] ;\\n2427 -> 2428 ;\\n2429 [label=\"gini = 0.0\\\\nsamples = 1\\\\nvalue = [1, 0]\"] ;\\n2427 -> 2429 ;\\n2430 [label=\"employment_industry <= 14.5\\\\ngini = 0.219\\\\nsamples = 8\\\\nvalue = [1, 7]\"] ;\\n2424 -> 2430 ;\\n2431 [label=\"gini = 0.0\\\\nsamples = 7\\\\nvalue = [0, 7]\"] ;\\n2430 -> 2431 ;\\n2432 [label=\"gini = 0.0\\\\nsamples = 1\\\\nvalue = [1, 0]\"] ;\\n2430 -> 2432 ;\\n2433 [label=\"race <= 1.5\\\\ngini = 0.252\\\\nsamples = 1006\\\\nvalue = [149, 857]\"] ;\\n2287 -> 2433 ;\\n2434 [label=\"chronic_med_condition <= 0.5\\\\ngini = 0.449\\\\nsamples = 135\\\\nvalue = [46, 89]\"] ;\\n2433 -> 2434 ;\\n2435 [label=\"income_poverty <= 1.5\\\\ngini = 0.493\\\\nsamples = 77\\\\nvalue = [34, 43]\"] ;\\n2434 -> 2435 ;\\n2436 [label=\"behavioral_wash_hands <= 0.5\\\\ngini = 0.422\\\\nsamples = 43\\\\nvalue = [13, 30]\"] ;\\n2435 -> 2436 ;\\n2437 [label=\"gini = 0.0\\\\nsamples = 3\\\\nvalue = [3, 0]\"] ;\\n2436 -> 2437 ;\\n2438 [label=\"household_children <= 0.5\\\\ngini = 0.375\\\\nsamples = 40\\\\nvalue = [10, 30]\"] ;\\n2436 -> 2438 ;\\n2439 [label=\"age_group <= 3.5\\\\ngini = 0.472\\\\nsamples = 21\\\\nvalue = [8, 13]\"] ;\\n2438 -> 2439 ;\\n2440 [label=\"education <= 0.5\\\\ngini = 0.49\\\\nsamples = 14\\\\nvalue = [8, 6]\"] ;\\n2439 -> 2440 ;\\n2441 [label=\"gini = 0.0\\\\nsamples = 3\\\\nvalue = [0, 3]\"] ;\\n2440 -> 2441 ;\\n2442 [label=\"marital_status <= 0.5\\\\ngini = 0.397\\\\nsamples = 11\\\\nvalue = [8, 3]\"] ;\\n2440 -> 2442 ;\\n2443 [label=\"gini = 0.0\\\\nsamples = 5\\\\nvalue = [5, 0]\"] ;\\n2442 -> 2443 ;\\n2444 [label=\"hhs_geo_region <= 3.5\\\\ngini = 0.5\\\\nsamples = 6\\\\nvalue = [3, 3]\"] ;\\n2442 -> 2444 ;\\n2445 [label=\"gini = 0.0\\\\nsamples = 2\\\\nvalue = [2, 0]\"] ;\\n2444 -> 2445 ;\\n2446 [label=\"gini = 0.375\\\\nsamples = 4\\\\nvalue = [1, 3]\"] ;\\n2444 -> 2446 ;\\n2447 [label=\"gini = 0.0\\\\nsamples = 7\\\\nvalue = [0, 7]\"] ;\\n2439 -> 2447 ;\\n2448 [label=\"opinion_seas_vacc_effective <= 3.5\\\\ngini = 0.188\\\\nsamples = 19\\\\nvalue = [2, 17]\"] ;\\n2438 -> 2448 ;\\n2449 [label=\"behavioral_outside_home <= 0.5\\\\ngini = 0.444\\\\nsamples = 6\\\\nvalue = [2, 4]\"] ;\\n2448 -> 2449 ;\\n2450 [label=\"gini = 0.0\\\\nsamples = 2\\\\nvalue = [2, 0]\"] ;\\n2449 -> 2450 ;\\n2451 [label=\"gini = 0.0\\\\nsamples = 4\\\\nvalue = [0, 4]\"] ;\\n2449 -> 2451 ;\\n2452 [label=\"gini = 0.0\\\\nsamples = 13\\\\nvalue = [0, 13]\"] ;\\n2448 -> 2452 ;\\n2453 [label=\"behavioral_avoidance <= 0.5\\\\ngini = 0.472\\\\nsamples = 34\\\\nvalue = [21, 13]\"] ;\\n2435 -> 2453 ;\\n2454 [label=\"gini = 0.0\\\\nsamples = 6\\\\nvalue = [6, 0]\"] ;\\n2453 -> 2454 ;\\n2455 [label=\"employment_industry <= 16.5\\\\ngini = 0.497\\\\nsamples = 28\\\\nvalue = [15, 13]\"] ;\\n2453 -> 2455 ;\\n2456 [label=\"doctor_recc_seasonal <= 0.5\\\\ngini = 0.469\\\\nsamples = 24\\\\nvalue = [15, 9]\"] ;\\n2455 -> 2456 ;\\n2457 [label=\"hhs_geo_region <= 0.5\\\\ngini = 0.198\\\\nsamples = 9\\\\nvalue = [8, 1]\"] ;\\n2456 -> 2457 ;\\n2458 [label=\"household_children <= 2.5\\\\ngini = 0.5\\\\nsamples = 2\\\\nvalue = [1, 1]\"] ;\\n2457 -> 2458 ;\\n2459 [label=\"gini = 0.0\\\\nsamples = 1\\\\nvalue = [1, 0]\"] ;\\n2458 -> 2459 ;\\n2460 [label=\"gini = 0.0\\\\nsamples = 1\\\\nvalue = [0, 1]\"] ;\\n2458 -> 2460 ;\\n2461 [label=\"gini = 0.0\\\\nsamples = 7\\\\nvalue = [7, 0]\"] ;\\n2457 -> 2461 ;\\n2462 [label=\"employment_status <= 0.5\\\\ngini = 0.498\\\\nsamples = 15\\\\nvalue = [7, 8]\"] ;\\n2456 -> 2462 ;\\n2463 [label=\"gini = 0.0\\\\nsamples = 5\\\\nvalue = [0, 5]\"] ;\\n2462 -> 2463 ;\\n2464 [label=\"opinion_seas_risk <= 2.0\\\\ngini = 0.42\\\\nsamples = 10\\\\nvalue = [7, 3]\"] ;\\n2462 -> 2464 ;\\n2465 [label=\"gini = 0.0\\\\nsamples = 2\\\\nvalue = [0, 2]\"] ;\\n2464 -> 2465 ;\\n2466 [label=\"household_adults <= 0.5\\\\ngini = 0.219\\\\nsamples = 8\\\\nvalue = [7, 1]\"] ;\\n2464 -> 2466 ;\\n2467 [label=\"gini = 0.5\\\\nsamples = 2\\\\nvalue = [1, 1]\"] ;\\n2466 -> 2467 ;\\n2468 [label=\"gini = 0.0\\\\nsamples = 6\\\\nvalue = [6, 0]\"] ;\\n2466 -> 2468 ;\\n2469 [label=\"gini = 0.0\\\\nsamples = 4\\\\nvalue = [0, 4]\"] ;\\n2455 -> 2469 ;\\n2470 [label=\"opinion_h1n1_risk <= 3.5\\\\ngini = 0.328\\\\nsamples = 58\\\\nvalue = [12, 46]\"] ;\\n2434 -> 2470 ;\\n2471 [label=\"employment_industry <= 19.5\\\\ngini = 0.452\\\\nsamples = 29\\\\nvalue = [10, 19]\"] ;\\n2470 -> 2471 ;\\n2472 [label=\"employment_status <= 1.5\\\\ngini = 0.417\\\\nsamples = 27\\\\nvalue = [8, 19]\"] ;\\n2471 -> 2472 ;\\n2473 [label=\"behavioral_face_mask <= 0.5\\\\ngini = 0.34\\\\nsamples = 23\\\\nvalue = [5, 18]\"] ;\\n2472 -> 2473 ;\\n2474 [label=\"behavioral_large_gatherings <= 1.5\\\\ngini = 0.188\\\\nsamples = 19\\\\nvalue = [2, 17]\"] ;\\n2473 -> 2474 ;\\n2475 [label=\"employment_occupation <= 18.0\\\\ngini = 0.105\\\\nsamples = 18\\\\nvalue = [1, 17]\"] ;\\n2474 -> 2475 ;\\n2476 [label=\"gini = 0.0\\\\nsamples = 17\\\\nvalue = [0, 17]\"] ;\\n2475 -> 2476 ;\\n2477 [label=\"gini = 0.0\\\\nsamples = 1\\\\nvalue = [1, 0]\"] ;\\n2475 -> 2477 ;\\n2478 [label=\"gini = 0.0\\\\nsamples = 1\\\\nvalue = [1, 0]\"] ;\\n2474 -> 2478 ;\\n2479 [label=\"race <= 0.5\\\\ngini = 0.375\\\\nsamples = 4\\\\nvalue = [3, 1]\"] ;\\n2473 -> 2479 ;\\n2480 [label=\"gini = 0.0\\\\nsamples = 3\\\\nvalue = [3, 0]\"] ;\\n2479 -> 2480 ;\\n2481 [label=\"gini = 0.0\\\\nsamples = 1\\\\nvalue = [0, 1]\"] ;\\n2479 -> 2481 ;\\n2482 [label=\"behavioral_face_mask <= 0.5\\\\ngini = 0.375\\\\nsamples = 4\\\\nvalue = [3, 1]\"] ;\\n2472 -> 2482 ;\\n2483 [label=\"gini = 0.0\\\\nsamples = 3\\\\nvalue = [3, 0]\"] ;\\n2482 -> 2483 ;\\n2484 [label=\"gini = 0.0\\\\nsamples = 1\\\\nvalue = [0, 1]\"] ;\\n2482 -> 2484 ;\\n2485 [label=\"gini = 0.0\\\\nsamples = 2\\\\nvalue = [2, 0]\"] ;\\n2471 -> 2485 ;\\n2486 [label=\"health_insurance <= 0.5\\\\ngini = 0.128\\\\nsamples = 29\\\\nvalue = [2, 27]\"] ;\\n2470 -> 2486 ;\\n2487 [label=\"age_group <= 1.5\\\\ngini = 0.444\\\\nsamples = 6\\\\nvalue = [2, 4]\"] ;\\n2486 -> 2487 ;\\n2488 [label=\"gini = 0.0\\\\nsamples = 2\\\\nvalue = [2, 0]\"] ;\\n2487 -> 2488 ;\\n2489 [label=\"gini = 0.0\\\\nsamples = 4\\\\nvalue = [0, 4]\"] ;\\n2487 -> 2489 ;\\n2490 [label=\"gini = 0.0\\\\nsamples = 23\\\\nvalue = [0, 23]\"] ;\\n2486 -> 2490 ;\\n2491 [label=\"h1n1_knowledge <= 0.5\\\\ngini = 0.209\\\\nsamples = 871\\\\nvalue = [103, 768]\"] ;\\n2433 -> 2491 ;\\n2492 [label=\"h1n1_concern <= 1.5\\\\ngini = 0.401\\\\nsamples = 36\\\\nvalue = [10, 26]\"] ;\\n2491 -> 2492 ;\\n2493 [label=\"gini = 0.0\\\\nsamples = 9\\\\nvalue = [0, 9]\"] ;\\n2492 -> 2493 ;\\n2494 [label=\"opinion_seas_vacc_effective <= 3.5\\\\ngini = 0.466\\\\nsamples = 27\\\\nvalue = [10, 17]\"] ;\\n2492 -> 2494 ;\\n2495 [label=\"income_poverty <= 2.5\\\\ngini = 0.198\\\\nsamples = 9\\\\nvalue = [1, 8]\"] ;\\n2494 -> 2495 ;\\n2496 [label=\"gini = 0.0\\\\nsamples = 8\\\\nvalue = [0, 8]\"] ;\\n2495 -> 2496 ;\\n2497 [label=\"gini = 0.0\\\\nsamples = 1\\\\nvalue = [1, 0]\"] ;\\n2495 -> 2497 ;\\n2498 [label=\"race <= 2.5\\\\ngini = 0.5\\\\nsamples = 18\\\\nvalue = [9, 9]\"] ;\\n2494 -> 2498 ;\\n2499 [label=\"gini = 0.0\\\\nsamples = 4\\\\nvalue = [0, 4]\"] ;\\n2498 -> 2499 ;\\n2500 [label=\"census_msa <= 1.5\\\\ngini = 0.459\\\\nsamples = 14\\\\nvalue = [9, 5]\"] ;\\n2498 -> 2500 ;\\n2501 [label=\"opinion_h1n1_sick_from_vacc <= 0.5\\\\ngini = 0.346\\\\nsamples = 9\\\\nvalue = [7, 2]\"] ;\\n2500 -> 2501 ;\\n2502 [label=\"behavioral_large_gatherings <= 0.5\\\\ngini = 0.444\\\\nsamples = 3\\\\nvalue = [1, 2]\"] ;\\n2501 -> 2502 ;\\n2503 [label=\"gini = 0.0\\\\nsamples = 1\\\\nvalue = [1, 0]\"] ;\\n2502 -> 2503 ;\\n2504 [label=\"gini = 0.0\\\\nsamples = 2\\\\nvalue = [0, 2]\"] ;\\n2502 -> 2504 ;\\n2505 [label=\"gini = 0.0\\\\nsamples = 6\\\\nvalue = [6, 0]\"] ;\\n2501 -> 2505 ;\\n2506 [label=\"age_group <= 3.5\\\\ngini = 0.48\\\\nsamples = 5\\\\nvalue = [2, 3]\"] ;\\n2500 -> 2506 ;\\n2507 [label=\"gini = 0.0\\\\nsamples = 2\\\\nvalue = [2, 0]\"] ;\\n2506 -> 2507 ;\\n2508 [label=\"gini = 0.0\\\\nsamples = 3\\\\nvalue = [0, 3]\"] ;\\n2506 -> 2508 ;\\n2509 [label=\"opinion_h1n1_risk <= 3.5\\\\ngini = 0.198\\\\nsamples = 835\\\\nvalue = [93, 742]\"] ;\\n2491 -> 2509 ;\\n2510 [label=\"health_insurance <= 0.5\\\\ngini = 0.231\\\\nsamples = 578\\\\nvalue = [77, 501]\"] ;\\n2509 -> 2510 ;\\n2511 [label=\"doctor_recc_seasonal <= 0.5\\\\ngini = 0.437\\\\nsamples = 31\\\\nvalue = [10, 21]\"] ;\\n2510 -> 2511 ;\\n2512 [label=\"behavioral_wash_hands <= 0.5\\\\ngini = 0.32\\\\nsamples = 5\\\\nvalue = [4, 1]\"] ;\\n2511 -> 2512 ;\\n2513 [label=\"gini = 0.0\\\\nsamples = 1\\\\nvalue = [0, 1]\"] ;\\n2512 -> 2513 ;\\n2514 [label=\"gini = 0.0\\\\nsamples = 4\\\\nvalue = [4, 0]\"] ;\\n2512 -> 2514 ;\\n2515 [label=\"opinion_seas_risk <= 2.0\\\\ngini = 0.355\\\\nsamples = 26\\\\nvalue = [6, 20]\"] ;\\n2511 -> 2515 ;\\n2516 [label=\"opinion_seas_vacc_effective <= 3.5\\\\ngini = 0.444\\\\nsamples = 3\\\\nvalue = [2, 1]\"] ;\\n2515 -> 2516 ;\\n2517 [label=\"gini = 0.0\\\\nsamples = 2\\\\nvalue = [2, 0]\"] ;\\n2516 -> 2517 ;\\n2518 [label=\"gini = 0.0\\\\nsamples = 1\\\\nvalue = [0, 1]\"] ;\\n2516 -> 2518 ;\\n2519 [label=\"income_poverty <= 2.5\\\\ngini = 0.287\\\\nsamples = 23\\\\nvalue = [4, 19]\"] ;\\n2515 -> 2519 ;\\n2520 [label=\"behavioral_avoidance <= 0.5\\\\ngini = 0.198\\\\nsamples = 18\\\\nvalue = [2, 16]\"] ;\\n2519 -> 2520 ;\\n2521 [label=\"opinion_seas_sick_from_vacc <= 0.5\\\\ngini = 0.444\\\\nsamples = 6\\\\nvalue = [2, 4]\"] ;\\n2520 -> 2521 ;\\n2522 [label=\"gini = 0.0\\\\nsamples = 1\\\\nvalue = [1, 0]\"] ;\\n2521 -> 2522 ;\\n2523 [label=\"gini = 0.32\\\\nsamples = 5\\\\nvalue = [1, 4]\"] ;\\n2521 -> 2523 ;\\n2524 [label=\"gini = 0.0\\\\nsamples = 12\\\\nvalue = [0, 12]\"] ;\\n2520 -> 2524 ;\\n2525 [label=\"rent_or_own <= 0.5\\\\ngini = 0.48\\\\nsamples = 5\\\\nvalue = [2, 3]\"] ;\\n2519 -> 2525 ;\\n2526 [label=\"gini = 0.0\\\\nsamples = 2\\\\nvalue = [2, 0]\"] ;\\n2525 -> 2526 ;\\n2527 [label=\"gini = 0.0\\\\nsamples = 3\\\\nvalue = [0, 3]\"] ;\\n2525 -> 2527 ;\\n2528 [label=\"opinion_h1n1_vacc_effective <= 4.5\\\\ngini = 0.215\\\\nsamples = 547\\\\nvalue = [67, 480]\"] ;\\n2510 -> 2528 ;\\n2529 [label=\"health_worker <= 1.5\\\\ngini = 0.213\\\\nsamples = 546\\\\nvalue = [66, 480]\"] ;\\n2528 -> 2529 ;\\n2530 [label=\"employment_occupation <= 15.5\\\\ngini = 0.21\\\\nsamples = 545\\\\nvalue = [65, 480]\"] ;\\n2529 -> 2530 ;\\n2531 [label=\"census_msa <= 1.5\\\\ngini = 0.193\\\\nsamples = 470\\\\nvalue = [51, 419]\"] ;\\n2530 -> 2531 ;\\n2532 [label=\"education <= 1.5\\\\ngini = 0.16\\\\nsamples = 343\\\\nvalue = [30, 313]\"] ;\\n2531 -> 2532 ;\\n2533 [label=\"gini = 0.258\\\\nsamples = 92\\\\nvalue = [14, 78]\"] ;\\n2532 -> 2533 ;\\n2534 [label=\"gini = 0.119\\\\nsamples = 251\\\\nvalue = [16, 235]\"] ;\\n2532 -> 2534 ;\\n2535 [label=\"age_group <= 0.5\\\\ngini = 0.276\\\\nsamples = 127\\\\nvalue = [21, 106]\"] ;\\n2531 -> 2535 ;\\n2536 [label=\"gini = 0.498\\\\nsamples = 15\\\\nvalue = [7, 8]\"] ;\\n2535 -> 2536 ;\\n2537 [label=\"gini = 0.219\\\\nsamples = 112\\\\nvalue = [14, 98]\"] ;\\n2535 -> 2537 ;\\n2538 [label=\"household_adults <= 2.5\\\\ngini = 0.304\\\\nsamples = 75\\\\nvalue = [14, 61]\"] ;\\n2530 -> 2538 ;\\n2539 [label=\"income_poverty <= 1.5\\\\ngini = 0.278\\\\nsamples = 72\\\\nvalue = [12, 60]\"] ;\\n2538 -> 2539 ;\\n2540 [label=\"gini = 0.239\\\\nsamples = 65\\\\nvalue = [9, 56]\"] ;\\n2539 -> 2540 ;\\n2541 [label=\"gini = 0.49\\\\nsamples = 7\\\\nvalue = [3, 4]\"] ;\\n2539 -> 2541 ;\\n2542 [label=\"rent_or_own <= 0.5\\\\ngini = 0.444\\\\nsamples = 3\\\\nvalue = [2, 1]\"] ;\\n2538 -> 2542 ;\\n2543 [label=\"gini = 0.0\\\\nsamples = 2\\\\nvalue = [2, 0]\"] ;\\n2542 -> 2543 ;\\n2544 [label=\"gini = 0.0\\\\nsamples = 1\\\\nvalue = [0, 1]\"] ;\\n2542 -> 2544 ;\\n2545 [label=\"gini = 0.0\\\\nsamples = 1\\\\nvalue = [1, 0]\"] ;\\n2529 -> 2545 ;\\n2546 [label=\"gini = 0.0\\\\nsamples = 1\\\\nvalue = [1, 0]\"] ;\\n2528 -> 2546 ;\\n2547 [label=\"behavioral_outside_home <= 0.5\\\\ngini = 0.117\\\\nsamples = 257\\\\nvalue = [16, 241]\"] ;\\n2509 -> 2547 ;\\n2548 [label=\"rent_or_own <= 1.5\\\\ngini = 0.041\\\\nsamples = 143\\\\nvalue = [3, 140]\"] ;\\n2547 -> 2548 ;\\n2549 [label=\"opinion_seas_risk <= 0.5\\\\ngini = 0.028\\\\nsamples = 139\\\\nvalue = [2, 137]\"] ;\\n2548 -> 2549 ;\\n2550 [label=\"census_msa <= 1.5\\\\ngini = 0.375\\\\nsamples = 4\\\\nvalue = [1, 3]\"] ;\\n2549 -> 2550 ;\\n2551 [label=\"gini = 0.0\\\\nsamples = 3\\\\nvalue = [0, 3]\"] ;\\n2550 -> 2551 ;\\n2552 [label=\"gini = 0.0\\\\nsamples = 1\\\\nvalue = [1, 0]\"] ;\\n2550 -> 2552 ;\\n2553 [label=\"hhs_geo_region <= 0.5\\\\ngini = 0.015\\\\nsamples = 135\\\\nvalue = [1, 134]\"] ;\\n2549 -> 2553 ;\\n2554 [label=\"household_adults <= 0.5\\\\ngini = 0.142\\\\nsamples = 13\\\\nvalue = [1, 12]\"] ;\\n2553 -> 2554 ;\\n2555 [label=\"employment_industry <= 14.5\\\\ngini = 0.5\\\\nsamples = 2\\\\nvalue = [1, 1]\"] ;\\n2554 -> 2555 ;\\n2556 [label=\"gini = 0.0\\\\nsamples = 1\\\\nvalue = [1, 0]\"] ;\\n2555 -> 2556 ;\\n2557 [label=\"gini = 0.0\\\\nsamples = 1\\\\nvalue = [0, 1]\"] ;\\n2555 -> 2557 ;\\n2558 [label=\"gini = 0.0\\\\nsamples = 11\\\\nvalue = [0, 11]\"] ;\\n2554 -> 2558 ;\\n2559 [label=\"gini = 0.0\\\\nsamples = 122\\\\nvalue = [0, 122]\"] ;\\n2553 -> 2559 ;\\n2560 [label=\"household_adults <= 1.5\\\\ngini = 0.375\\\\nsamples = 4\\\\nvalue = [1, 3]\"] ;\\n2548 -> 2560 ;\\n2561 [label=\"gini = 0.0\\\\nsamples = 3\\\\nvalue = [0, 3]\"] ;\\n2560 -> 2561 ;\\n2562 [label=\"gini = 0.0\\\\nsamples = 1\\\\nvalue = [1, 0]\"] ;\\n2560 -> 2562 ;\\n2563 [label=\"h1n1_concern <= 2.5\\\\ngini = 0.202\\\\nsamples = 114\\\\nvalue = [13, 101]\"] ;\\n2547 -> 2563 ;\\n2564 [label=\"opinion_seas_vacc_effective <= 0.5\\\\ngini = 0.075\\\\nsamples = 51\\\\nvalue = [2, 49]\"] ;\\n2563 -> 2564 ;\\n2565 [label=\"gini = 0.0\\\\nsamples = 1\\\\nvalue = [1, 0]\"] ;\\n2564 -> 2565 ;\\n2566 [label=\"opinion_seas_risk <= 0.5\\\\ngini = 0.039\\\\nsamples = 50\\\\nvalue = [1, 49]\"] ;\\n2564 -> 2566 ;\\n2567 [label=\"education <= 1.5\\\\ngini = 0.5\\\\nsamples = 2\\\\nvalue = [1, 1]\"] ;\\n2566 -> 2567 ;\\n2568 [label=\"gini = 0.0\\\\nsamples = 1\\\\nvalue = [0, 1]\"] ;\\n2567 -> 2568 ;\\n2569 [label=\"gini = 0.0\\\\nsamples = 1\\\\nvalue = [1, 0]\"] ;\\n2567 -> 2569 ;\\n2570 [label=\"gini = 0.0\\\\nsamples = 48\\\\nvalue = [0, 48]\"] ;\\n2566 -> 2570 ;\\n2571 [label=\"behavioral_antiviral_meds <= 0.5\\\\ngini = 0.288\\\\nsamples = 63\\\\nvalue = [11, 52]\"] ;\\n2563 -> 2571 ;\\n2572 [label=\"hhs_geo_region <= 0.5\\\\ngini = 0.226\\\\nsamples = 54\\\\nvalue = [7, 47]\"] ;\\n2571 -> 2572 ;\\n2573 [label=\"gini = 0.0\\\\nsamples = 1\\\\nvalue = [1, 0]\"] ;\\n2572 -> 2573 ;\\n2574 [label=\"household_adults <= 1.5\\\\ngini = 0.201\\\\nsamples = 53\\\\nvalue = [6, 47]\"] ;\\n2572 -> 2574 ;\\n2575 [label=\"employment_industry <= 5.0\\\\ngini = 0.124\\\\nsamples = 45\\\\nvalue = [3, 42]\"] ;\\n2574 -> 2575 ;\\n2576 [label=\"gini = 0.408\\\\nsamples = 7\\\\nvalue = [2, 5]\"] ;\\n2575 -> 2576 ;\\n2577 [label=\"gini = 0.051\\\\nsamples = 38\\\\nvalue = [1, 37]\"] ;\\n2575 -> 2577 ;\\n2578 [label=\"opinion_seas_sick_from_vacc <= 1.5\\\\ngini = 0.469\\\\nsamples = 8\\\\nvalue = [3, 5]\"] ;\\n2574 -> 2578 ;\\n2579 [label=\"gini = 0.0\\\\nsamples = 4\\\\nvalue = [0, 4]\"] ;\\n2578 -> 2579 ;\\n2580 [label=\"gini = 0.375\\\\nsamples = 4\\\\nvalue = [3, 1]\"] ;\\n2578 -> 2580 ;\\n2581 [label=\"h1n1_knowledge <= 1.5\\\\ngini = 0.494\\\\nsamples = 9\\\\nvalue = [4, 5]\"] ;\\n2571 -> 2581 ;\\n2582 [label=\"gini = 0.0\\\\nsamples = 3\\\\nvalue = [0, 3]\"] ;\\n2581 -> 2582 ;\\n2583 [label=\"age_group <= 2.5\\\\ngini = 0.444\\\\nsamples = 6\\\\nvalue = [4, 2]\"] ;\\n2581 -> 2583 ;\\n2584 [label=\"gini = 0.0\\\\nsamples = 4\\\\nvalue = [4, 0]\"] ;\\n2583 -> 2584 ;\\n2585 [label=\"gini = 0.0\\\\nsamples = 2\\\\nvalue = [0, 2]\"] ;\\n2583 -> 2585 ;\\n2586 [label=\"health_worker <= 0.5\\\\ngini = 0.346\\\\nsamples = 3737\\\\nvalue = [2905, 832]\"] ;\\n1804 -> 2586 ;\\n2587 [label=\"doctor_recc_h1n1 <= 0.5\\\\ngini = 0.285\\\\nsamples = 2715\\\\nvalue = [2248, 467]\"] ;\\n2586 -> 2587 ;\\n2588 [label=\"opinion_h1n1_vacc_effective <= 3.5\\\\ngini = 0.195\\\\nsamples = 1584\\\\nvalue = [1411, 173]\"] ;\\n2587 -> 2588 ;\\n2589 [label=\"behavioral_antiviral_meds <= 1.5\\\\ngini = 0.137\\\\nsamples = 1028\\\\nvalue = [952, 76]\"] ;\\n2588 -> 2589 ;\\n2590 [label=\"behavioral_face_mask <= 1.5\\\\ngini = 0.134\\\\nsamples = 1025\\\\nvalue = [951, 74]\"] ;\\n2589 -> 2590 ;\\n2591 [label=\"opinion_h1n1_vacc_effective <= 2.5\\\\ngini = 0.132\\\\nsamples = 1024\\\\nvalue = [951, 73]\"] ;\\n2590 -> 2591 ;\\n2592 [label=\"h1n1_knowledge <= 1.5\\\\ngini = 0.07\\\\nsamples = 329\\\\nvalue = [317, 12]\"] ;\\n2591 -> 2592 ;\\n2593 [label=\"h1n1_concern <= 0.5\\\\ngini = 0.036\\\\nsamples = 220\\\\nvalue = [216, 4]\"] ;\\n2592 -> 2593 ;\\n2594 [label=\"employment_industry <= 18.5\\\\ngini = 0.245\\\\nsamples = 14\\\\nvalue = [12, 2]\"] ;\\n2593 -> 2594 ;\\n2595 [label=\"chronic_med_condition <= 0.5\\\\ngini = 0.142\\\\nsamples = 13\\\\nvalue = [12, 1]\"] ;\\n2594 -> 2595 ;\\n2596 [label=\"gini = 0.0\\\\nsamples = 11\\\\nvalue = [11, 0]\"] ;\\n2595 -> 2596 ;\\n2597 [label=\"employment_status <= 1.5\\\\ngini = 0.5\\\\nsamples = 2\\\\nvalue = [1, 1]\"] ;\\n2595 -> 2597 ;\\n2598 [label=\"gini = 0.0\\\\nsamples = 1\\\\nvalue = [1, 0]\"] ;\\n2597 -> 2598 ;\\n2599 [label=\"gini = 0.0\\\\nsamples = 1\\\\nvalue = [0, 1]\"] ;\\n2597 -> 2599 ;\\n2600 [label=\"gini = 0.0\\\\nsamples = 1\\\\nvalue = [0, 1]\"] ;\\n2594 -> 2600 ;\\n2601 [label=\"behavioral_face_mask <= 0.5\\\\ngini = 0.019\\\\nsamples = 206\\\\nvalue = [204, 2]\"] ;\\n2593 -> 2601 ;\\n2602 [label=\"behavioral_wash_hands <= 0.5\\\\ngini = 0.01\\\\nsamples = 190\\\\nvalue = [189, 1]\"] ;\\n2601 -> 2602 ;\\n2603 [label=\"hhs_geo_region <= 1.5\\\\ngini = 0.124\\\\nsamples = 15\\\\nvalue = [14, 1]\"] ;\\n2602 -> 2603 ;\\n2604 [label=\"gini = 0.0\\\\nsamples = 1\\\\nvalue = [0, 1]\"] ;\\n2603 -> 2604 ;\\n2605 [label=\"gini = 0.0\\\\nsamples = 14\\\\nvalue = [14, 0]\"] ;\\n2603 -> 2605 ;\\n2606 [label=\"gini = 0.0\\\\nsamples = 175\\\\nvalue = [175, 0]\"] ;\\n2602 -> 2606 ;\\n2607 [label=\"opinion_h1n1_sick_from_vacc <= 0.5\\\\ngini = 0.117\\\\nsamples = 16\\\\nvalue = [15, 1]\"] ;\\n2601 -> 2607 ;\\n2608 [label=\"gini = 0.0\\\\nsamples = 1\\\\nvalue = [0, 1]\"] ;\\n2607 -> 2608 ;\\n2609 [label=\"gini = 0.0\\\\nsamples = 15\\\\nvalue = [15, 0]\"] ;\\n2607 -> 2609 ;\\n2610 [label=\"hhs_geo_region <= 8.5\\\\ngini = 0.136\\\\nsamples = 109\\\\nvalue = [101, 8]\"] ;\\n2592 -> 2610 ;\\n2611 [label=\"opinion_h1n1_sick_from_vacc <= 1.5\\\\ngini = 0.096\\\\nsamples = 99\\\\nvalue = [94, 5]\"] ;\\n2610 -> 2611 ;\\n2612 [label=\"chronic_med_condition <= 0.5\\\\ngini = 0.165\\\\nsamples = 44\\\\nvalue = [40, 4]\"] ;\\n2611 -> 2612 ;\\n2613 [label=\"employment_occupation <= 7.0\\\\ngini = 0.061\\\\nsamples = 32\\\\nvalue = [31, 1]\"] ;\\n2612 -> 2613 ;\\n2614 [label=\"gini = 0.32\\\\nsamples = 5\\\\nvalue = [4, 1]\"] ;\\n2613 -> 2614 ;\\n2615 [label=\"gini = 0.0\\\\nsamples = 27\\\\nvalue = [27, 0]\"] ;\\n2613 -> 2615 ;\\n2616 [label=\"behavioral_large_gatherings <= 0.5\\\\ngini = 0.375\\\\nsamples = 12\\\\nvalue = [9, 3]\"] ;\\n2612 -> 2616 ;\\n2617 [label=\"gini = 0.198\\\\nsamples = 9\\\\nvalue = [8, 1]\"] ;\\n2616 -> 2617 ;\\n2618 [label=\"gini = 0.444\\\\nsamples = 3\\\\nvalue = [1, 2]\"] ;\\n2616 -> 2618 ;\\n2619 [label=\"household_children <= 2.5\\\\ngini = 0.036\\\\nsamples = 55\\\\nvalue = [54, 1]\"] ;\\n2611 -> 2619 ;\\n2620 [label=\"gini = 0.0\\\\nsamples = 49\\\\nvalue = [49, 0]\"] ;\\n2619 -> 2620 ;\\n2621 [label=\"hhs_geo_region <= 0.5\\\\ngini = 0.278\\\\nsamples = 6\\\\nvalue = [5, 1]\"] ;\\n2619 -> 2621 ;\\n2622 [label=\"gini = 0.0\\\\nsamples = 1\\\\nvalue = [0, 1]\"] ;\\n2621 -> 2622 ;\\n2623 [label=\"gini = 0.0\\\\nsamples = 5\\\\nvalue = [5, 0]\"] ;\\n2621 -> 2623 ;\\n2624 [label=\"behavioral_large_gatherings <= 0.5\\\\ngini = 0.42\\\\nsamples = 10\\\\nvalue = [7, 3]\"] ;\\n2610 -> 2624 ;\\n2625 [label=\"gini = 0.0\\\\nsamples = 7\\\\nvalue = [7, 0]\"] ;\\n2624 -> 2625 ;\\n2626 [label=\"gini = 0.0\\\\nsamples = 3\\\\nvalue = [0, 3]\"] ;\\n2624 -> 2626 ;\\n2627 [label=\"rent_or_own <= 1.5\\\\ngini = 0.16\\\\nsamples = 695\\\\nvalue = [634, 61]\"] ;\\n2591 -> 2627 ;\\n2628 [label=\"employment_occupation <= 1.5\\\\ngini = 0.147\\\\nsamples = 652\\\\nvalue = [600, 52]\"] ;\\n2627 -> 2628 ;\\n2629 [label=\"opinion_h1n1_sick_from_vacc <= 2.5\\\\ngini = 0.363\\\\nsamples = 21\\\\nvalue = [16, 5]\"] ;\\n2628 -> 2629 ;\\n2630 [label=\"marital_status <= 0.5\\\\ngini = 0.486\\\\nsamples = 12\\\\nvalue = [7, 5]\"] ;\\n2629 -> 2630 ;\\n2631 [label=\"opinion_seas_vacc_effective <= 3.5\\\\ngini = 0.408\\\\nsamples = 7\\\\nvalue = [2, 5]\"] ;\\n2630 -> 2631 ;\\n2632 [label=\"gini = 0.0\\\\nsamples = 5\\\\nvalue = [0, 5]\"] ;\\n2631 -> 2632 ;\\n2633 [label=\"gini = 0.0\\\\nsamples = 2\\\\nvalue = [2, 0]\"] ;\\n2631 -> 2633 ;\\n2634 [label=\"gini = 0.0\\\\nsamples = 5\\\\nvalue = [5, 0]\"] ;\\n2630 -> 2634 ;\\n2635 [label=\"gini = 0.0\\\\nsamples = 9\\\\nvalue = [9, 0]\"] ;\\n2629 -> 2635 ;\\n2636 [label=\"opinion_seas_risk <= 1.5\\\\ngini = 0.138\\\\nsamples = 631\\\\nvalue = [584, 47]\"] ;\\n2628 -> 2636 ;\\n2637 [label=\"h1n1_knowledge <= 1.5\\\\ngini = 0.064\\\\nsamples = 152\\\\nvalue = [147, 5]\"] ;\\n2636 -> 2637 ;\\n2638 [label=\"opinion_seas_sick_from_vacc <= 2.0\\\\ngini = 0.021\\\\nsamples = 94\\\\nvalue = [93, 1]\"] ;\\n2637 -> 2638 ;\\n2639 [label=\"gini = 0.0\\\\nsamples = 64\\\\nvalue = [64, 0]\"] ;\\n2638 -> 2639 ;\\n2640 [label=\"gini = 0.064\\\\nsamples = 30\\\\nvalue = [29, 1]\"] ;\\n2638 -> 2640 ;\\n2641 [label=\"behavioral_touch_face <= 0.5\\\\ngini = 0.128\\\\nsamples = 58\\\\nvalue = [54, 4]\"] ;\\n2637 -> 2641 ;\\n2642 [label=\"gini = 0.291\\\\nsamples = 17\\\\nvalue = [14, 3]\"] ;\\n2641 -> 2642 ;\\n2643 [label=\"gini = 0.048\\\\nsamples = 41\\\\nvalue = [40, 1]\"] ;\\n2641 -> 2643 ;\\n2644 [label=\"employment_occupation <= 22.5\\\\ngini = 0.16\\\\nsamples = 479\\\\nvalue = [437, 42]\"] ;\\n2636 -> 2644 ;\\n2645 [label=\"race <= 2.5\\\\ngini = 0.154\\\\nsamples = 475\\\\nvalue = [435, 40]\"] ;\\n2644 -> 2645 ;\\n2646 [label=\"gini = 0.251\\\\nsamples = 102\\\\nvalue = [87, 15]\"] ;\\n2645 -> 2646 ;\\n2647 [label=\"gini = 0.125\\\\nsamples = 373\\\\nvalue = [348, 25]\"] ;\\n2645 -> 2647 ;\\n2648 [label=\"census_msa <= 0.5\\\\ngini = 0.5\\\\nsamples = 4\\\\nvalue = [2, 2]\"] ;\\n2644 -> 2648 ;\\n2649 [label=\"gini = 0.0\\\\nsamples = 2\\\\nvalue = [0, 2]\"] ;\\n2648 -> 2649 ;\\n2650 [label=\"gini = 0.0\\\\nsamples = 2\\\\nvalue = [2, 0]\"] ;\\n2648 -> 2650 ;\\n2651 [label=\"opinion_seas_risk <= 1.5\\\\ngini = 0.331\\\\nsamples = 43\\\\nvalue = [34, 9]\"] ;\\n2627 -> 2651 ;\\n2652 [label=\"hhs_geo_region <= 3.5\\\\ngini = 0.494\\\\nsamples = 9\\\\nvalue = [4, 5]\"] ;\\n2651 -> 2652 ;\\n2653 [label=\"behavioral_wash_hands <= 0.5\\\\ngini = 0.375\\\\nsamples = 4\\\\nvalue = [3, 1]\"] ;\\n2652 -> 2653 ;\\n2654 [label=\"gini = 0.0\\\\nsamples = 1\\\\nvalue = [0, 1]\"] ;\\n2653 -> 2654 ;\\n2655 [label=\"gini = 0.0\\\\nsamples = 3\\\\nvalue = [3, 0]\"] ;\\n2653 -> 2655 ;\\n2656 [label=\"household_children <= 1.5\\\\ngini = 0.32\\\\nsamples = 5\\\\nvalue = [1, 4]\"] ;\\n2652 -> 2656 ;\\n2657 [label=\"gini = 0.0\\\\nsamples = 4\\\\nvalue = [0, 4]\"] ;\\n2656 -> 2657 ;\\n2658 [label=\"gini = 0.0\\\\nsamples = 1\\\\nvalue = [1, 0]\"] ;\\n2656 -> 2658 ;\\n2659 [label=\"opinion_seas_vacc_effective <= 3.5\\\\ngini = 0.208\\\\nsamples = 34\\\\nvalue = [30, 4]\"] ;\\n2651 -> 2659 ;\\n2660 [label=\"household_children <= 3.5\\\\ngini = 0.077\\\\nsamples = 25\\\\nvalue = [24, 1]\"] ;\\n2659 -> 2660 ;\\n2661 [label=\"gini = 0.0\\\\nsamples = 24\\\\nvalue = [24, 0]\"] ;\\n2660 -> 2661 ;\\n2662 [label=\"gini = 0.0\\\\nsamples = 1\\\\nvalue = [0, 1]\"] ;\\n2660 -> 2662 ;\\n2663 [label=\"hhs_geo_region <= 4.0\\\\ngini = 0.444\\\\nsamples = 9\\\\nvalue = [6, 3]\"] ;\\n2659 -> 2663 ;\\n2664 [label=\"census_msa <= 0.5\\\\ngini = 0.375\\\\nsamples = 4\\\\nvalue = [1, 3]\"] ;\\n2663 -> 2664 ;\\n2665 [label=\"gini = 0.0\\\\nsamples = 1\\\\nvalue = [1, 0]\"] ;\\n2664 -> 2665 ;\\n2666 [label=\"gini = 0.0\\\\nsamples = 3\\\\nvalue = [0, 3]\"] ;\\n2664 -> 2666 ;\\n2667 [label=\"gini = 0.0\\\\nsamples = 5\\\\nvalue = [5, 0]\"] ;\\n2663 -> 2667 ;\\n2668 [label=\"gini = 0.0\\\\nsamples = 1\\\\nvalue = [0, 1]\"] ;\\n2590 -> 2668 ;\\n2669 [label=\"h1n1_knowledge <= 1.5\\\\ngini = 0.444\\\\nsamples = 3\\\\nvalue = [1, 2]\"] ;\\n2589 -> 2669 ;\\n2670 [label=\"gini = 0.0\\\\nsamples = 1\\\\nvalue = [1, 0]\"] ;\\n2669 -> 2670 ;\\n2671 [label=\"gini = 0.0\\\\nsamples = 2\\\\nvalue = [0, 2]\"] ;\\n2669 -> 2671 ;\\n2672 [label=\"employment_industry <= 0.5\\\\ngini = 0.288\\\\nsamples = 556\\\\nvalue = [459, 97]\"] ;\\n2588 -> 2672 ;\\n2673 [label=\"hhs_geo_region <= 3.5\\\\ngini = 0.495\\\\nsamples = 20\\\\nvalue = [11, 9]\"] ;\\n2672 -> 2673 ;\\n2674 [label=\"rent_or_own <= 0.5\\\\ngini = 0.426\\\\nsamples = 13\\\\nvalue = [4, 9]\"] ;\\n2673 -> 2674 ;\\n2675 [label=\"census_msa <= 1.5\\\\ngini = 0.494\\\\nsamples = 9\\\\nvalue = [4, 5]\"] ;\\n2674 -> 2675 ;\\n2676 [label=\"opinion_h1n1_sick_from_vacc <= 3.5\\\\ngini = 0.469\\\\nsamples = 8\\\\nvalue = [3, 5]\"] ;\\n2675 -> 2676 ;\\n2677 [label=\"employment_occupation <= 19.5\\\\ngini = 0.408\\\\nsamples = 7\\\\nvalue = [2, 5]\"] ;\\n2676 -> 2677 ;\\n2678 [label=\"gini = 0.0\\\\nsamples = 4\\\\nvalue = [0, 4]\"] ;\\n2677 -> 2678 ;\\n2679 [label=\"employment_occupation <= 22.5\\\\ngini = 0.444\\\\nsamples = 3\\\\nvalue = [2, 1]\"] ;\\n2677 -> 2679 ;\\n2680 [label=\"gini = 0.0\\\\nsamples = 2\\\\nvalue = [2, 0]\"] ;\\n2679 -> 2680 ;\\n2681 [label=\"gini = 0.0\\\\nsamples = 1\\\\nvalue = [0, 1]\"] ;\\n2679 -> 2681 ;\\n2682 [label=\"gini = 0.0\\\\nsamples = 1\\\\nvalue = [1, 0]\"] ;\\n2676 -> 2682 ;\\n2683 [label=\"gini = 0.0\\\\nsamples = 1\\\\nvalue = [1, 0]\"] ;\\n2675 -> 2683 ;\\n2684 [label=\"gini = 0.0\\\\nsamples = 4\\\\nvalue = [0, 4]\"] ;\\n2674 -> 2684 ;\\n2685 [label=\"gini = 0.0\\\\nsamples = 7\\\\nvalue = [7, 0]\"] ;\\n2673 -> 2685 ;\\n2686 [label=\"employment_industry <= 18.5\\\\ngini = 0.274\\\\nsamples = 536\\\\nvalue = [448, 88]\"] ;\\n2672 -> 2686 ;\\n2687 [label=\"rent_or_own <= 1.5\\\\ngini = 0.246\\\\nsamples = 452\\\\nvalue = [387, 65]\"] ;\\n2686 -> 2687 ;\\n2688 [label=\"h1n1_knowledge <= 1.5\\\\ngini = 0.223\\\\nsamples = 414\\\\nvalue = [361, 53]\"] ;\\n2687 -> 2688 ;\\n2689 [label=\"race <= 2.5\\\\ngini = 0.167\\\\nsamples = 229\\\\nvalue = [208, 21]\"] ;\\n2688 -> 2689 ;\\n2690 [label=\"h1n1_concern <= 1.5\\\\ngini = 0.022\\\\nsamples = 88\\\\nvalue = [87, 1]\"] ;\\n2689 -> 2690 ;\\n2691 [label=\"behavioral_large_gatherings <= 0.5\\\\ngini = 0.198\\\\nsamples = 9\\\\nvalue = [8, 1]\"] ;\\n2690 -> 2691 ;\\n2692 [label=\"gini = 0.0\\\\nsamples = 7\\\\nvalue = [7, 0]\"] ;\\n2691 -> 2692 ;\\n2693 [label=\"census_msa <= 0.5\\\\ngini = 0.5\\\\nsamples = 2\\\\nvalue = [1, 1]\"] ;\\n2691 -> 2693 ;\\n2694 [label=\"gini = 0.0\\\\nsamples = 1\\\\nvalue = [0, 1]\"] ;\\n2693 -> 2694 ;\\n2695 [label=\"gini = 0.0\\\\nsamples = 1\\\\nvalue = [1, 0]\"] ;\\n2693 -> 2695 ;\\n2696 [label=\"gini = 0.0\\\\nsamples = 79\\\\nvalue = [79, 0]\"] ;\\n2690 -> 2696 ;\\n2697 [label=\"household_children <= 1.5\\\\ngini = 0.243\\\\nsamples = 141\\\\nvalue = [121, 20]\"] ;\\n2689 -> 2697 ;\\n2698 [label=\"household_adults <= 0.5\\\\ngini = 0.276\\\\nsamples = 121\\\\nvalue = [101, 20]\"] ;\\n2697 -> 2698 ;\\n2699 [label=\"opinion_seas_sick_from_vacc <= 3.5\\\\ngini = 0.133\\\\nsamples = 42\\\\nvalue = [39, 3]\"] ;\\n2698 -> 2699 ;\\n2700 [label=\"gini = 0.051\\\\nsamples = 38\\\\nvalue = [37, 1]\"] ;\\n2699 -> 2700 ;\\n2701 [label=\"gini = 0.5\\\\nsamples = 4\\\\nvalue = [2, 2]\"] ;\\n2699 -> 2701 ;\\n2702 [label=\"education <= 1.5\\\\ngini = 0.338\\\\nsamples = 79\\\\nvalue = [62, 17]\"] ;\\n2698 -> 2702 ;\\n2703 [label=\"gini = 0.438\\\\nsamples = 34\\\\nvalue = [23, 11]\"] ;\\n2702 -> 2703 ;\\n2704 [label=\"gini = 0.231\\\\nsamples = 45\\\\nvalue = [39, 6]\"] ;\\n2702 -> 2704 ;\\n2705 [label=\"gini = 0.0\\\\nsamples = 20\\\\nvalue = [20, 0]\"] ;\\n2697 -> 2705 ;\\n2706 [label=\"race <= 1.5\\\\ngini = 0.286\\\\nsamples = 185\\\\nvalue = [153, 32]\"] ;\\n2688 -> 2706 ;\\n2707 [label=\"employment_status <= 1.5\\\\ngini = 0.498\\\\nsamples = 17\\\\nvalue = [9, 8]\"] ;\\n2706 -> 2707 ;\\n2708 [label=\"employment_occupation <= 21.0\\\\ngini = 0.473\\\\nsamples = 13\\\\nvalue = [5, 8]\"] ;\\n2707 -> 2708 ;\\n2709 [label=\"hhs_geo_region <= 3.5\\\\ngini = 0.397\\\\nsamples = 11\\\\nvalue = [3, 8]\"] ;\\n2708 -> 2709 ;\\n2710 [label=\"gini = 0.444\\\\nsamples = 3\\\\nvalue = [2, 1]\"] ;\\n2709 -> 2710 ;\\n2711 [label=\"gini = 0.219\\\\nsamples = 8\\\\nvalue = [1, 7]\"] ;\\n2709 -> 2711 ;\\n2712 [label=\"gini = 0.0\\\\nsamples = 2\\\\nvalue = [2, 0]\"] ;\\n2708 -> 2712 ;\\n2713 [label=\"gini = 0.0\\\\nsamples = 4\\\\nvalue = [4, 0]\"] ;\\n2707 -> 2713 ;\\n2714 [label=\"chronic_med_condition <= 0.5\\\\ngini = 0.245\\\\nsamples = 168\\\\nvalue = [144, 24]\"] ;\\n2706 -> 2714 ;\\n2715 [label=\"household_children <= 2.5\\\\ngini = 0.179\\\\nsamples = 121\\\\nvalue = [109, 12]\"] ;\\n2714 -> 2715 ;\\n2716 [label=\"employment_occupation <= 1.5\\\\ngini = 0.156\\\\nsamples = 117\\\\nvalue = [107, 10]\"] ;\\n2715 -> 2716 ;\\n2717 [label=\"gini = 0.48\\\\nsamples = 5\\\\nvalue = [3, 2]\"] ;\\n2716 -> 2717 ;\\n2718 [label=\"gini = 0.133\\\\nsamples = 112\\\\nvalue = [104, 8]\"] ;\\n2716 -> 2718 ;\\n2719 [label=\"opinion_h1n1_sick_from_vacc <= 1.5\\\\ngini = 0.5\\\\nsamples = 4\\\\nvalue = [2, 2]\"] ;\\n2715 -> 2719 ;\\n2720 [label=\"gini = 0.0\\\\nsamples = 2\\\\nvalue = [0, 2]\"] ;\\n2719 -> 2720 ;\\n2721 [label=\"gini = 0.0\\\\nsamples = 2\\\\nvalue = [2, 0]\"] ;\\n2719 -> 2721 ;\\n2722 [label=\"employment_occupation <= 10.5\\\\ngini = 0.38\\\\nsamples = 47\\\\nvalue = [35, 12]\"] ;\\n2714 -> 2722 ;\\n2723 [label=\"employment_industry <= 5.5\\\\ngini = 0.375\\\\nsamples = 4\\\\nvalue = [1, 3]\"] ;\\n2722 -> 2723 ;\\n2724 [label=\"gini = 0.0\\\\nsamples = 1\\\\nvalue = [1, 0]\"] ;\\n2723 -> 2724 ;\\n2725 [label=\"gini = 0.0\\\\nsamples = 3\\\\nvalue = [0, 3]\"] ;\\n2723 -> 2725 ;\\n2726 [label=\"sex <= 0.5\\\\ngini = 0.331\\\\nsamples = 43\\\\nvalue = [34, 9]\"] ;\\n2722 -> 2726 ;\\n2727 [label=\"gini = 0.404\\\\nsamples = 32\\\\nvalue = [23, 9]\"] ;\\n2726 -> 2727 ;\\n2728 [label=\"gini = 0.0\\\\nsamples = 11\\\\nvalue = [11, 0]\"] ;\\n2726 -> 2728 ;\\n2729 [label=\"employment_industry <= 7.0\\\\ngini = 0.432\\\\nsamples = 38\\\\nvalue = [26, 12]\"] ;\\n2687 -> 2729 ;\\n2730 [label=\"gini = 0.0\\\\nsamples = 2\\\\nvalue = [0, 2]\"] ;\\n2729 -> 2730 ;\\n2731 [label=\"age_group <= 0.5\\\\ngini = 0.401\\\\nsamples = 36\\\\nvalue = [26, 10]\"] ;\\n2729 -> 2731 ;\\n2732 [label=\"census_msa <= 1.5\\\\ngini = 0.5\\\\nsamples = 10\\\\nvalue = [5, 5]\"] ;\\n2731 -> 2732 ;\\n2733 [label=\"h1n1_knowledge <= 0.5\\\\ngini = 0.278\\\\nsamples = 6\\\\nvalue = [1, 5]\"] ;\\n2732 -> 2733 ;\\n2734 [label=\"gini = 0.0\\\\nsamples = 1\\\\nvalue = [1, 0]\"] ;\\n2733 -> 2734 ;\\n2735 [label=\"gini = 0.0\\\\nsamples = 5\\\\nvalue = [0, 5]\"] ;\\n2733 -> 2735 ;\\n2736 [label=\"gini = 0.0\\\\nsamples = 4\\\\nvalue = [4, 0]\"] ;\\n2732 -> 2736 ;\\n2737 [label=\"race <= 2.0\\\\ngini = 0.311\\\\nsamples = 26\\\\nvalue = [21, 5]\"] ;\\n2731 -> 2737 ;\\n2738 [label=\"gini = 0.0\\\\nsamples = 10\\\\nvalue = [10, 0]\"] ;\\n2737 -> 2738 ;\\n2739 [label=\"opinion_h1n1_sick_from_vacc <= 2.0\\\\ngini = 0.43\\\\nsamples = 16\\\\nvalue = [11, 5]\"] ;\\n2737 -> 2739 ;\\n2740 [label=\"gini = 0.0\\\\nsamples = 7\\\\nvalue = [7, 0]\"] ;\\n2739 -> 2740 ;\\n2741 [label=\"child_under_6_months <= 0.5\\\\ngini = 0.494\\\\nsamples = 9\\\\nvalue = [4, 5]\"] ;\\n2739 -> 2741 ;\\n2742 [label=\"gini = 0.408\\\\nsamples = 7\\\\nvalue = [2, 5]\"] ;\\n2741 -> 2742 ;\\n2743 [label=\"gini = 0.0\\\\nsamples = 2\\\\nvalue = [2, 0]\"] ;\\n2741 -> 2743 ;\\n2744 [label=\"doctor_recc_seasonal <= 0.5\\\\ngini = 0.398\\\\nsamples = 84\\\\nvalue = [61, 23]\"] ;\\n2686 -> 2744 ;\\n2745 [label=\"employment_occupation <= 3.0\\\\ngini = 0.425\\\\nsamples = 75\\\\nvalue = [52, 23]\"] ;\\n2744 -> 2745 ;\\n2746 [label=\"gini = 0.0\\\\nsamples = 2\\\\nvalue = [0, 2]\"] ;\\n2745 -> 2746 ;\\n2747 [label=\"opinion_seas_vacc_effective <= 3.5\\\\ngini = 0.41\\\\nsamples = 73\\\\nvalue = [52, 21]\"] ;\\n2745 -> 2747 ;\\n2748 [label=\"opinion_seas_sick_from_vacc <= 3.5\\\\ngini = 0.238\\\\nsamples = 29\\\\nvalue = [25, 4]\"] ;\\n2747 -> 2748 ;\\n2749 [label=\"employment_occupation <= 20.5\\\\ngini = 0.142\\\\nsamples = 26\\\\nvalue = [24, 2]\"] ;\\n2748 -> 2749 ;\\n2750 [label=\"h1n1_concern <= 1.5\\\\ngini = 0.077\\\\nsamples = 25\\\\nvalue = [24, 1]\"] ;\\n2749 -> 2750 ;\\n2751 [label=\"gini = 0.375\\\\nsamples = 4\\\\nvalue = [3, 1]\"] ;\\n2750 -> 2751 ;\\n2752 [label=\"gini = 0.0\\\\nsamples = 21\\\\nvalue = [21, 0]\"] ;\\n2750 -> 2752 ;\\n2753 [label=\"gini = 0.0\\\\nsamples = 1\\\\nvalue = [0, 1]\"] ;\\n2749 -> 2753 ;\\n2754 [label=\"household_children <= 1.5\\\\ngini = 0.444\\\\nsamples = 3\\\\nvalue = [1, 2]\"] ;\\n2748 -> 2754 ;\\n2755 [label=\"gini = 0.0\\\\nsamples = 2\\\\nvalue = [0, 2]\"] ;\\n2754 -> 2755 ;\\n2756 [label=\"gini = 0.0\\\\nsamples = 1\\\\nvalue = [1, 0]\"] ;\\n2754 -> 2756 ;\\n2757 [label=\"behavioral_outside_home <= 0.5\\\\ngini = 0.474\\\\nsamples = 44\\\\nvalue = [27, 17]\"] ;\\n2747 -> 2757 ;\\n2758 [label=\"employment_occupation <= 18.5\\\\ngini = 0.499\\\\nsamples = 27\\\\nvalue = [13, 14]\"] ;\\n2757 -> 2758 ;\\n2759 [label=\"race <= 2.0\\\\ngini = 0.465\\\\nsamples = 19\\\\nvalue = [7, 12]\"] ;\\n2758 -> 2759 ;\\n2760 [label=\"gini = 0.0\\\\nsamples = 4\\\\nvalue = [0, 4]\"] ;\\n2759 -> 2760 ;\\n2761 [label=\"gini = 0.498\\\\nsamples = 15\\\\nvalue = [7, 8]\"] ;\\n2759 -> 2761 ;\\n2762 [label=\"income_poverty <= 0.5\\\\ngini = 0.375\\\\nsamples = 8\\\\nvalue = [6, 2]\"] ;\\n2758 -> 2762 ;\\n2763 [label=\"gini = 0.0\\\\nsamples = 1\\\\nvalue = [0, 1]\"] ;\\n2762 -> 2763 ;\\n2764 [label=\"gini = 0.245\\\\nsamples = 7\\\\nvalue = [6, 1]\"] ;\\n2762 -> 2764 ;\\n2765 [label=\"hhs_geo_region <= 7.5\\\\ngini = 0.291\\\\nsamples = 17\\\\nvalue = [14, 3]\"] ;\\n2757 -> 2765 ;\\n2766 [label=\"opinion_h1n1_sick_from_vacc <= 0.5\\\\ngini = 0.133\\\\nsamples = 14\\\\nvalue = [13, 1]\"] ;\\n2765 -> 2766 ;\\n2767 [label=\"gini = 0.5\\\\nsamples = 2\\\\nvalue = [1, 1]\"] ;\\n2766 -> 2767 ;\\n2768 [label=\"gini = 0.0\\\\nsamples = 12\\\\nvalue = [12, 0]\"] ;\\n2766 -> 2768 ;\\n2769 [label=\"age_group <= 2.5\\\\ngini = 0.444\\\\nsamples = 3\\\\nvalue = [1, 2]\"] ;\\n2765 -> 2769 ;\\n2770 [label=\"gini = 0.0\\\\nsamples = 2\\\\nvalue = [0, 2]\"] ;\\n2769 -> 2770 ;\\n2771 [label=\"gini = 0.0\\\\nsamples = 1\\\\nvalue = [1, 0]\"] ;\\n2769 -> 2771 ;\\n2772 [label=\"gini = 0.0\\\\nsamples = 9\\\\nvalue = [9, 0]\"] ;\\n2744 -> 2772 ;\\n2773 [label=\"doctor_recc_seasonal <= 1.5\\\\ngini = 0.385\\\\nsamples = 1131\\\\nvalue = [837, 294]\"] ;\\n2587 -> 2773 ;\\n2774 [label=\"opinion_h1n1_vacc_effective <= 3.5\\\\ngini = 0.471\\\\nsamples = 729\\\\nvalue = [453, 276]\"] ;\\n2773 -> 2774 ;\\n2775 [label=\"opinion_h1n1_risk <= 3.5\\\\ngini = 0.439\\\\nsamples = 418\\\\nvalue = [282, 136]\"] ;\\n2774 -> 2775 ;\\n2776 [label=\"chronic_med_condition <= 0.5\\\\ngini = 0.407\\\\nsamples = 310\\\\nvalue = [222, 88]\"] ;\\n2775 -> 2776 ;\\n2777 [label=\"behavioral_avoidance <= 0.5\\\\ngini = 0.361\\\\nsamples = 152\\\\nvalue = [116, 36]\"] ;\\n2776 -> 2777 ;\\n2778 [label=\"behavioral_antiviral_meds <= 0.5\\\\ngini = 0.486\\\\nsamples = 24\\\\nvalue = [14, 10]\"] ;\\n2777 -> 2778 ;\\n2779 [label=\"employment_occupation <= 12.5\\\\ngini = 0.444\\\\nsamples = 21\\\\nvalue = [14, 7]\"] ;\\n2778 -> 2779 ;\\n2780 [label=\"hhs_geo_region <= 0.5\\\\ngini = 0.26\\\\nsamples = 13\\\\nvalue = [11, 2]\"] ;\\n2779 -> 2780 ;\\n2781 [label=\"gini = 0.0\\\\nsamples = 1\\\\nvalue = [0, 1]\"] ;\\n2780 -> 2781 ;\\n2782 [label=\"household_adults <= 0.5\\\\ngini = 0.153\\\\nsamples = 12\\\\nvalue = [11, 1]\"] ;\\n2780 -> 2782 ;\\n2783 [label=\"gini = 0.5\\\\nsamples = 2\\\\nvalue = [1, 1]\"] ;\\n2782 -> 2783 ;\\n2784 [label=\"gini = 0.0\\\\nsamples = 10\\\\nvalue = [10, 0]\"] ;\\n2782 -> 2784 ;\\n2785 [label=\"hhs_geo_region <= 8.5\\\\ngini = 0.469\\\\nsamples = 8\\\\nvalue = [3, 5]\"] ;\\n2779 -> 2785 ;\\n2786 [label=\"gini = 0.0\\\\nsamples = 5\\\\nvalue = [0, 5]\"] ;\\n2785 -> 2786 ;\\n2787 [label=\"gini = 0.0\\\\nsamples = 3\\\\nvalue = [3, 0]\"] ;\\n2785 -> 2787 ;\\n2788 [label=\"gini = 0.0\\\\nsamples = 3\\\\nvalue = [0, 3]\"] ;\\n2778 -> 2788 ;\\n2789 [label=\"h1n1_concern <= 2.5\\\\ngini = 0.324\\\\nsamples = 128\\\\nvalue = [102, 26]\"] ;\\n2777 -> 2789 ;\\n2790 [label=\"income_poverty <= 1.5\\\\ngini = 0.236\\\\nsamples = 73\\\\nvalue = [63, 10]\"] ;\\n2789 -> 2790 ;\\n2791 [label=\"household_children <= 1.5\\\\ngini = 0.311\\\\nsamples = 52\\\\nvalue = [42, 10]\"] ;\\n2790 -> 2791 ;\\n2792 [label=\"education <= 0.5\\\\ngini = 0.193\\\\nsamples = 37\\\\nvalue = [33, 4]\"] ;\\n2791 -> 2792 ;\\n2793 [label=\"gini = 0.48\\\\nsamples = 10\\\\nvalue = [6, 4]\"] ;\\n2792 -> 2793 ;\\n2794 [label=\"gini = 0.0\\\\nsamples = 27\\\\nvalue = [27, 0]\"] ;\\n2792 -> 2794 ;\\n2795 [label=\"employment_industry <= 7.0\\\\ngini = 0.48\\\\nsamples = 15\\\\nvalue = [9, 6]\"] ;\\n2791 -> 2795 ;\\n2796 [label=\"gini = 0.0\\\\nsamples = 5\\\\nvalue = [5, 0]\"] ;\\n2795 -> 2796 ;\\n2797 [label=\"gini = 0.48\\\\nsamples = 10\\\\nvalue = [4, 6]\"] ;\\n2795 -> 2797 ;\\n2798 [label=\"gini = 0.0\\\\nsamples = 21\\\\nvalue = [21, 0]\"] ;\\n2790 -> 2798 ;\\n2799 [label=\"opinion_seas_risk <= 2.0\\\\ngini = 0.413\\\\nsamples = 55\\\\nvalue = [39, 16]\"] ;\\n2789 -> 2799 ;\\n2800 [label=\"opinion_seas_vacc_effective <= 3.5\\\\ngini = 0.469\\\\nsamples = 8\\\\nvalue = [3, 5]\"] ;\\n2799 -> 2800 ;\\n2801 [label=\"household_adults <= 0.5\\\\ngini = 0.278\\\\nsamples = 6\\\\nvalue = [1, 5]\"] ;\\n2800 -> 2801 ;\\n2802 [label=\"gini = 0.0\\\\nsamples = 1\\\\nvalue = [1, 0]\"] ;\\n2801 -> 2802 ;\\n2803 [label=\"gini = 0.0\\\\nsamples = 5\\\\nvalue = [0, 5]\"] ;\\n2801 -> 2803 ;\\n2804 [label=\"gini = 0.0\\\\nsamples = 2\\\\nvalue = [2, 0]\"] ;\\n2800 -> 2804 ;\\n2805 [label=\"rent_or_own <= 0.5\\\\ngini = 0.359\\\\nsamples = 47\\\\nvalue = [36, 11]\"] ;\\n2799 -> 2805 ;\\n2806 [label=\"opinion_seas_vacc_effective <= 2.5\\\\ngini = 0.231\\\\nsamples = 30\\\\nvalue = [26, 4]\"] ;\\n2805 -> 2806 ;\\n2807 [label=\"gini = 0.5\\\\nsamples = 2\\\\nvalue = [1, 1]\"] ;\\n2806 -> 2807 ;\\n2808 [label=\"gini = 0.191\\\\nsamples = 28\\\\nvalue = [25, 3]\"] ;\\n2806 -> 2808 ;\\n2809 [label=\"census_msa <= 1.5\\\\ngini = 0.484\\\\nsamples = 17\\\\nvalue = [10, 7]\"] ;\\n2805 -> 2809 ;\\n2810 [label=\"gini = 0.463\\\\nsamples = 11\\\\nvalue = [4, 7]\"] ;\\n2809 -> 2810 ;\\n2811 [label=\"gini = 0.0\\\\nsamples = 6\\\\nvalue = [6, 0]\"] ;\\n2809 -> 2811 ;\\n2812 [label=\"h1n1_knowledge <= 0.5\\\\ngini = 0.442\\\\nsamples = 158\\\\nvalue = [106, 52]\"] ;\\n2776 -> 2812 ;\\n2813 [label=\"gini = 0.0\\\\nsamples = 8\\\\nvalue = [8, 0]\"] ;\\n2812 -> 2813 ;\\n2814 [label=\"opinion_h1n1_sick_from_vacc <= 2.0\\\\ngini = 0.453\\\\nsamples = 150\\\\nvalue = [98, 52]\"] ;\\n2812 -> 2814 ;\\n2815 [label=\"behavioral_touch_face <= 0.5\\\\ngini = 0.494\\\\nsamples = 54\\\\nvalue = [30, 24]\"] ;\\n2814 -> 2815 ;\\n2816 [label=\"gini = 0.0\\\\nsamples = 7\\\\nvalue = [7, 0]\"] ;\\n2815 -> 2816 ;\\n2817 [label=\"hhs_geo_region <= 5.5\\\\ngini = 0.5\\\\nsamples = 47\\\\nvalue = [23, 24]\"] ;\\n2815 -> 2817 ;\\n2818 [label=\"opinion_seas_risk <= 3.5\\\\ngini = 0.444\\\\nsamples = 21\\\\nvalue = [14, 7]\"] ;\\n2817 -> 2818 ;\\n2819 [label=\"gini = 0.486\\\\nsamples = 12\\\\nvalue = [5, 7]\"] ;\\n2818 -> 2819 ;\\n2820 [label=\"gini = 0.0\\\\nsamples = 9\\\\nvalue = [9, 0]\"] ;\\n2818 -> 2820 ;\\n2821 [label=\"employment_industry <= 3.0\\\\ngini = 0.453\\\\nsamples = 26\\\\nvalue = [9, 17]\"] ;\\n2817 -> 2821 ;\\n2822 [label=\"gini = 0.0\\\\nsamples = 2\\\\nvalue = [2, 0]\"] ;\\n2821 -> 2822 ;\\n2823 [label=\"gini = 0.413\\\\nsamples = 24\\\\nvalue = [7, 17]\"] ;\\n2821 -> 2823 ;\\n2824 [label=\"behavioral_wash_hands <= 0.5\\\\ngini = 0.413\\\\nsamples = 96\\\\nvalue = [68, 28]\"] ;\\n2814 -> 2824 ;\\n2825 [label=\"gini = 0.0\\\\nsamples = 3\\\\nvalue = [0, 3]\"] ;\\n2824 -> 2825 ;\\n2826 [label=\"census_msa <= 1.5\\\\ngini = 0.393\\\\nsamples = 93\\\\nvalue = [68, 25]\"] ;\\n2824 -> 2826 ;\\n2827 [label=\"hhs_geo_region <= 1.5\\\\ngini = 0.324\\\\nsamples = 64\\\\nvalue = [51, 13]\"] ;\\n2826 -> 2827 ;\\n2828 [label=\"gini = 0.5\\\\nsamples = 10\\\\nvalue = [5, 5]\"] ;\\n2827 -> 2828 ;\\n2829 [label=\"gini = 0.252\\\\nsamples = 54\\\\nvalue = [46, 8]\"] ;\\n2827 -> 2829 ;\\n2830 [label=\"rent_or_own <= 1.5\\\\ngini = 0.485\\\\nsamples = 29\\\\nvalue = [17, 12]\"] ;\\n2826 -> 2830 ;\\n2831 [label=\"gini = 0.466\\\\nsamples = 27\\\\nvalue = [17, 10]\"] ;\\n2830 -> 2831 ;\\n2832 [label=\"gini = 0.0\\\\nsamples = 2\\\\nvalue = [0, 2]\"] ;\\n2830 -> 2832 ;\\n2833 [label=\"employment_occupation <= 6.0\\\\ngini = 0.494\\\\nsamples = 108\\\\nvalue = [60, 48]\"] ;\\n2775 -> 2833 ;\\n2834 [label=\"opinion_seas_vacc_effective <= 1.5\\\\ngini = 0.375\\\\nsamples = 12\\\\nvalue = [3, 9]\"] ;\\n2833 -> 2834 ;\\n2835 [label=\"gini = 0.0\\\\nsamples = 2\\\\nvalue = [2, 0]\"] ;\\n2834 -> 2835 ;\\n2836 [label=\"h1n1_concern <= 1.5\\\\ngini = 0.18\\\\nsamples = 10\\\\nvalue = [1, 9]\"] ;\\n2834 -> 2836 ;\\n2837 [label=\"gini = 0.0\\\\nsamples = 1\\\\nvalue = [1, 0]\"] ;\\n2836 -> 2837 ;\\n2838 [label=\"gini = 0.0\\\\nsamples = 9\\\\nvalue = [0, 9]\"] ;\\n2836 -> 2838 ;\\n2839 [label=\"opinion_h1n1_sick_from_vacc <= 3.5\\\\ngini = 0.482\\\\nsamples = 96\\\\nvalue = [57, 39]\"] ;\\n2833 -> 2839 ;\\n2840 [label=\"household_children <= 0.5\\\\ngini = 0.5\\\\nsamples = 54\\\\nvalue = [27, 27]\"] ;\\n2839 -> 2840 ;\\n2841 [label=\"race <= 0.5\\\\ngini = 0.459\\\\nsamples = 28\\\\nvalue = [10, 18]\"] ;\\n2840 -> 2841 ;\\n2842 [label=\"gini = 0.0\\\\nsamples = 2\\\\nvalue = [2, 0]\"] ;\\n2841 -> 2842 ;\\n2843 [label=\"race <= 2.5\\\\ngini = 0.426\\\\nsamples = 26\\\\nvalue = [8, 18]\"] ;\\n2841 -> 2843 ;\\n2844 [label=\"gini = 0.0\\\\nsamples = 5\\\\nvalue = [0, 5]\"] ;\\n2843 -> 2844 ;\\n2845 [label=\"opinion_seas_risk <= 2.0\\\\ngini = 0.472\\\\nsamples = 21\\\\nvalue = [8, 13]\"] ;\\n2843 -> 2845 ;\\n2846 [label=\"gini = 0.0\\\\nsamples = 4\\\\nvalue = [0, 4]\"] ;\\n2845 -> 2846 ;\\n2847 [label=\"gini = 0.498\\\\nsamples = 17\\\\nvalue = [8, 9]\"] ;\\n2845 -> 2847 ;\\n2848 [label=\"race <= 2.5\\\\ngini = 0.453\\\\nsamples = 26\\\\nvalue = [17, 9]\"] ;\\n2840 -> 2848 ;\\n2849 [label=\"opinion_h1n1_vacc_effective <= 2.5\\\\ngini = 0.444\\\\nsamples = 9\\\\nvalue = [3, 6]\"] ;\\n2848 -> 2849 ;\\n2850 [label=\"gini = 0.0\\\\nsamples = 5\\\\nvalue = [0, 5]\"] ;\\n2849 -> 2850 ;\\n2851 [label=\"opinion_seas_sick_from_vacc <= 2.0\\\\ngini = 0.375\\\\nsamples = 4\\\\nvalue = [3, 1]\"] ;\\n2849 -> 2851 ;\\n2852 [label=\"gini = 0.0\\\\nsamples = 1\\\\nvalue = [0, 1]\"] ;\\n2851 -> 2852 ;\\n2853 [label=\"gini = 0.0\\\\nsamples = 3\\\\nvalue = [3, 0]\"] ;\\n2851 -> 2853 ;\\n2854 [label=\"education <= 2.5\\\\ngini = 0.291\\\\nsamples = 17\\\\nvalue = [14, 3]\"] ;\\n2848 -> 2854 ;\\n2855 [label=\"education <= 1.5\\\\ngini = 0.444\\\\nsamples = 9\\\\nvalue = [6, 3]\"] ;\\n2854 -> 2855 ;\\n2856 [label=\"gini = 0.0\\\\nsamples = 5\\\\nvalue = [5, 0]\"] ;\\n2855 -> 2856 ;\\n2857 [label=\"gini = 0.375\\\\nsamples = 4\\\\nvalue = [1, 3]\"] ;\\n2855 -> 2857 ;\\n2858 [label=\"gini = 0.0\\\\nsamples = 8\\\\nvalue = [8, 0]\"] ;\\n2854 -> 2858 ;\\n2859 [label=\"household_adults <= 0.5\\\\ngini = 0.408\\\\nsamples = 42\\\\nvalue = [30, 12]\"] ;\\n2839 -> 2859 ;\\n2860 [label=\"gini = 0.0\\\\nsamples = 10\\\\nvalue = [10, 0]\"] ;\\n2859 -> 2860 ;\\n2861 [label=\"employment_occupation <= 18.0\\\\ngini = 0.469\\\\nsamples = 32\\\\nvalue = [20, 12]\"] ;\\n2859 -> 2861 ;\\n2862 [label=\"hhs_geo_region <= 8.5\\\\ngini = 0.428\\\\nsamples = 29\\\\nvalue = [20, 9]\"] ;\\n2861 -> 2862 ;\\n2863 [label=\"sex <= 0.5\\\\ngini = 0.384\\\\nsamples = 27\\\\nvalue = [20, 7]\"] ;\\n2862 -> 2863 ;\\n2864 [label=\"gini = 0.455\\\\nsamples = 20\\\\nvalue = [13, 7]\"] ;\\n2863 -> 2864 ;\\n2865 [label=\"gini = 0.0\\\\nsamples = 7\\\\nvalue = [7, 0]\"] ;\\n2863 -> 2865 ;\\n2866 [label=\"gini = 0.0\\\\nsamples = 2\\\\nvalue = [0, 2]\"] ;\\n2862 -> 2866 ;\\n2867 [label=\"gini = 0.0\\\\nsamples = 3\\\\nvalue = [0, 3]\"] ;\\n2861 -> 2867 ;\\n2868 [label=\"census_msa <= 1.5\\\\ngini = 0.495\\\\nsamples = 311\\\\nvalue = [171, 140]\"] ;\\n2774 -> 2868 ;\\n2869 [label=\"employment_occupation <= 2.5\\\\ngini = 0.475\\\\nsamples = 222\\\\nvalue = [136, 86]\"] ;\\n2868 -> 2869 ;\\n2870 [label=\"income_poverty <= 2.0\\\\ngini = 0.153\\\\nsamples = 12\\\\nvalue = [11, 1]\"] ;\\n2869 -> 2870 ;\\n2871 [label=\"gini = 0.0\\\\nsamples = 11\\\\nvalue = [11, 0]\"] ;\\n2870 -> 2871 ;\\n2872 [label=\"gini = 0.0\\\\nsamples = 1\\\\nvalue = [0, 1]\"] ;\\n2870 -> 2872 ;\\n2873 [label=\"behavioral_antiviral_meds <= 0.5\\\\ngini = 0.482\\\\nsamples = 210\\\\nvalue = [125, 85]\"] ;\\n2869 -> 2873 ;\\n2874 [label=\"behavioral_large_gatherings <= 0.5\\\\ngini = 0.469\\\\nsamples = 186\\\\nvalue = [116, 70]\"] ;\\n2873 -> 2874 ;\\n2875 [label=\"behavioral_face_mask <= 0.5\\\\ngini = 0.499\\\\nsamples = 79\\\\nvalue = [41, 38]\"] ;\\n2874 -> 2875 ;\\n2876 [label=\"household_children <= 2.5\\\\ngini = 0.494\\\\nsamples = 72\\\\nvalue = [40, 32]\"] ;\\n2875 -> 2876 ;\\n2877 [label=\"opinion_h1n1_risk <= 3.5\\\\ngini = 0.499\\\\nsamples = 67\\\\nvalue = [35, 32]\"] ;\\n2876 -> 2877 ;\\n2878 [label=\"gini = 0.474\\\\nsamples = 44\\\\nvalue = [27, 17]\"] ;\\n2877 -> 2878 ;\\n2879 [label=\"gini = 0.454\\\\nsamples = 23\\\\nvalue = [8, 15]\"] ;\\n2877 -> 2879 ;\\n2880 [label=\"gini = 0.0\\\\nsamples = 5\\\\nvalue = [5, 0]\"] ;\\n2876 -> 2880 ;\\n2881 [label=\"opinion_seas_risk <= 3.5\\\\ngini = 0.245\\\\nsamples = 7\\\\nvalue = [1, 6]\"] ;\\n2875 -> 2881 ;\\n2882 [label=\"gini = 0.0\\\\nsamples = 1\\\\nvalue = [1, 0]\"] ;\\n2881 -> 2882 ;\\n2883 [label=\"gini = 0.0\\\\nsamples = 6\\\\nvalue = [0, 6]\"] ;\\n2881 -> 2883 ;\\n2884 [label=\"education <= 3.5\\\\ngini = 0.419\\\\nsamples = 107\\\\nvalue = [75, 32]\"] ;\\n2874 -> 2884 ;\\n2885 [label=\"opinion_h1n1_vacc_effective <= 4.5\\\\ngini = 0.398\\\\nsamples = 102\\\\nvalue = [74, 28]\"] ;\\n2884 -> 2885 ;\\n2886 [label=\"hhs_geo_region <= 2.5\\\\ngini = 0.392\\\\nsamples = 101\\\\nvalue = [74, 27]\"] ;\\n2885 -> 2886 ;\\n2887 [label=\"gini = 0.488\\\\nsamples = 19\\\\nvalue = [11, 8]\"] ;\\n2886 -> 2887 ;\\n2888 [label=\"gini = 0.356\\\\nsamples = 82\\\\nvalue = [63, 19]\"] ;\\n2886 -> 2888 ;\\n2889 [label=\"gini = 0.0\\\\nsamples = 1\\\\nvalue = [0, 1]\"] ;\\n2885 -> 2889 ;\\n2890 [label=\"opinion_seas_vacc_effective <= 2.5\\\\ngini = 0.32\\\\nsamples = 5\\\\nvalue = [1, 4]\"] ;\\n2884 -> 2890 ;\\n2891 [label=\"gini = 0.0\\\\nsamples = 1\\\\nvalue = [1, 0]\"] ;\\n2890 -> 2891 ;\\n2892 [label=\"gini = 0.0\\\\nsamples = 4\\\\nvalue = [0, 4]\"] ;\\n2890 -> 2892 ;\\n2893 [label=\"behavioral_avoidance <= 0.5\\\\ngini = 0.469\\\\nsamples = 24\\\\nvalue = [9, 15]\"] ;\\n2873 -> 2893 ;\\n2894 [label=\"gini = 0.0\\\\nsamples = 3\\\\nvalue = [3, 0]\"] ;\\n2893 -> 2894 ;\\n2895 [label=\"opinion_seas_risk <= 3.5\\\\ngini = 0.408\\\\nsamples = 21\\\\nvalue = [6, 15]\"] ;\\n2893 -> 2895 ;\\n2896 [label=\"household_adults <= 0.5\\\\ngini = 0.496\\\\nsamples = 11\\\\nvalue = [5, 6]\"] ;\\n2895 -> 2896 ;\\n2897 [label=\"gini = 0.0\\\\nsamples = 3\\\\nvalue = [0, 3]\"] ;\\n2896 -> 2897 ;\\n2898 [label=\"hhs_geo_region <= 6.0\\\\ngini = 0.469\\\\nsamples = 8\\\\nvalue = [5, 3]\"] ;\\n2896 -> 2898 ;\\n2899 [label=\"gini = 0.375\\\\nsamples = 4\\\\nvalue = [1, 3]\"] ;\\n2898 -> 2899 ;\\n2900 [label=\"gini = 0.0\\\\nsamples = 4\\\\nvalue = [4, 0]\"] ;\\n2898 -> 2900 ;\\n2901 [label=\"household_adults <= 0.5\\\\ngini = 0.18\\\\nsamples = 10\\\\nvalue = [1, 9]\"] ;\\n2895 -> 2901 ;\\n2902 [label=\"behavioral_outside_home <= 0.5\\\\ngini = 0.5\\\\nsamples = 2\\\\nvalue = [1, 1]\"] ;\\n2901 -> 2902 ;\\n2903 [label=\"gini = 0.0\\\\nsamples = 1\\\\nvalue = [0, 1]\"] ;\\n2902 -> 2903 ;\\n2904 [label=\"gini = 0.0\\\\nsamples = 1\\\\nvalue = [1, 0]\"] ;\\n2902 -> 2904 ;\\n2905 [label=\"gini = 0.0\\\\nsamples = 8\\\\nvalue = [0, 8]\"] ;\\n2901 -> 2905 ;\\n2906 [label=\"employment_status <= 0.5\\\\ngini = 0.477\\\\nsamples = 89\\\\nvalue = [35, 54]\"] ;\\n2868 -> 2906 ;\\n2907 [label=\"chronic_med_condition <= 0.5\\\\ngini = 0.36\\\\nsamples = 34\\\\nvalue = [8, 26]\"] ;\\n2906 -> 2907 ;\\n2908 [label=\"opinion_seas_vacc_effective <= 3.5\\\\ngini = 0.48\\\\nsamples = 20\\\\nvalue = [8, 12]\"] ;\\n2907 -> 2908 ;\\n2909 [label=\"gini = 0.0\\\\nsamples = 3\\\\nvalue = [3, 0]\"] ;\\n2908 -> 2909 ;\\n2910 [label=\"household_adults <= 0.5\\\\ngini = 0.415\\\\nsamples = 17\\\\nvalue = [5, 12]\"] ;\\n2908 -> 2910 ;\\n2911 [label=\"rent_or_own <= 0.5\\\\ngini = 0.48\\\\nsamples = 5\\\\nvalue = [3, 2]\"] ;\\n2910 -> 2911 ;\\n2912 [label=\"h1n1_concern <= 2.5\\\\ngini = 0.444\\\\nsamples = 3\\\\nvalue = [1, 2]\"] ;\\n2911 -> 2912 ;\\n2913 [label=\"gini = 0.0\\\\nsamples = 2\\\\nvalue = [0, 2]\"] ;\\n2912 -> 2913 ;\\n2914 [label=\"gini = 0.0\\\\nsamples = 1\\\\nvalue = [1, 0]\"] ;\\n2912 -> 2914 ;\\n2915 [label=\"gini = 0.0\\\\nsamples = 2\\\\nvalue = [2, 0]\"] ;\\n2911 -> 2915 ;\\n2916 [label=\"employment_industry <= 19.5\\\\ngini = 0.278\\\\nsamples = 12\\\\nvalue = [2, 10]\"] ;\\n2910 -> 2916 ;\\n2917 [label=\"employment_occupation <= 2.5\\\\ngini = 0.165\\\\nsamples = 11\\\\nvalue = [1, 10]\"] ;\\n2916 -> 2917 ;\\n2918 [label=\"gini = 0.5\\\\nsamples = 2\\\\nvalue = [1, 1]\"] ;\\n2917 -> 2918 ;\\n2919 [label=\"gini = 0.0\\\\nsamples = 9\\\\nvalue = [0, 9]\"] ;\\n2917 -> 2919 ;\\n2920 [label=\"gini = 0.0\\\\nsamples = 1\\\\nvalue = [1, 0]\"] ;\\n2916 -> 2920 ;\\n2921 [label=\"gini = 0.0\\\\nsamples = 14\\\\nvalue = [0, 14]\"] ;\\n2907 -> 2921 ;\\n2922 [label=\"education <= 0.5\\\\ngini = 0.5\\\\nsamples = 55\\\\nvalue = [27, 28]\"] ;\\n2906 -> 2922 ;\\n2923 [label=\"opinion_h1n1_sick_from_vacc <= 2.0\\\\ngini = 0.355\\\\nsamples = 13\\\\nvalue = [10, 3]\"] ;\\n2922 -> 2923 ;\\n2924 [label=\"household_adults <= 0.5\\\\ngini = 0.469\\\\nsamples = 8\\\\nvalue = [5, 3]\"] ;\\n2923 -> 2924 ;\\n2925 [label=\"gini = 0.0\\\\nsamples = 2\\\\nvalue = [0, 2]\"] ;\\n2924 -> 2925 ;\\n2926 [label=\"age_group <= 3.5\\\\ngini = 0.278\\\\nsamples = 6\\\\nvalue = [5, 1]\"] ;\\n2924 -> 2926 ;\\n2927 [label=\"behavioral_avoidance <= 0.5\\\\ngini = 0.5\\\\nsamples = 2\\\\nvalue = [1, 1]\"] ;\\n2926 -> 2927 ;\\n2928 [label=\"gini = 0.0\\\\nsamples = 1\\\\nvalue = [1, 0]\"] ;\\n2927 -> 2928 ;\\n2929 [label=\"gini = 0.0\\\\nsamples = 1\\\\nvalue = [0, 1]\"] ;\\n2927 -> 2929 ;\\n2930 [label=\"gini = 0.0\\\\nsamples = 4\\\\nvalue = [4, 0]\"] ;\\n2926 -> 2930 ;\\n2931 [label=\"gini = 0.0\\\\nsamples = 5\\\\nvalue = [5, 0]\"] ;\\n2923 -> 2931 ;\\n2932 [label=\"opinion_seas_sick_from_vacc <= 0.5\\\\ngini = 0.482\\\\nsamples = 42\\\\nvalue = [17, 25]\"] ;\\n2922 -> 2932 ;\\n2933 [label=\"income_poverty <= 2.0\\\\ngini = 0.42\\\\nsamples = 10\\\\nvalue = [7, 3]\"] ;\\n2932 -> 2933 ;\\n2934 [label=\"hhs_geo_region <= 3.5\\\\ngini = 0.219\\\\nsamples = 8\\\\nvalue = [7, 1]\"] ;\\n2933 -> 2934 ;\\n2935 [label=\"education <= 2.5\\\\ngini = 0.5\\\\nsamples = 2\\\\nvalue = [1, 1]\"] ;\\n2934 -> 2935 ;\\n2936 [label=\"gini = 0.0\\\\nsamples = 1\\\\nvalue = [1, 0]\"] ;\\n2935 -> 2936 ;\\n2937 [label=\"gini = 0.0\\\\nsamples = 1\\\\nvalue = [0, 1]\"] ;\\n2935 -> 2937 ;\\n2938 [label=\"gini = 0.0\\\\nsamples = 6\\\\nvalue = [6, 0]\"] ;\\n2934 -> 2938 ;\\n2939 [label=\"gini = 0.0\\\\nsamples = 2\\\\nvalue = [0, 2]\"] ;\\n2933 -> 2939 ;\\n2940 [label=\"race <= 2.5\\\\ngini = 0.43\\\\nsamples = 32\\\\nvalue = [10, 22]\"] ;\\n2932 -> 2940 ;\\n2941 [label=\"opinion_h1n1_sick_from_vacc <= 2.0\\\\ngini = 0.444\\\\nsamples = 9\\\\nvalue = [6, 3]\"] ;\\n2940 -> 2941 ;\\n2942 [label=\"behavioral_antiviral_meds <= 0.5\\\\ngini = 0.375\\\\nsamples = 4\\\\nvalue = [1, 3]\"] ;\\n2941 -> 2942 ;\\n2943 [label=\"gini = 0.0\\\\nsamples = 1\\\\nvalue = [1, 0]\"] ;\\n2942 -> 2943 ;\\n2944 [label=\"gini = 0.0\\\\nsamples = 3\\\\nvalue = [0, 3]\"] ;\\n2942 -> 2944 ;\\n2945 [label=\"gini = 0.0\\\\nsamples = 5\\\\nvalue = [5, 0]\"] ;\\n2941 -> 2945 ;\\n2946 [label=\"behavioral_antiviral_meds <= 0.5\\\\ngini = 0.287\\\\nsamples = 23\\\\nvalue = [4, 19]\"] ;\\n2940 -> 2946 ;\\n2947 [label=\"chronic_med_condition <= 0.5\\\\ngini = 0.236\\\\nsamples = 22\\\\nvalue = [3, 19]\"] ;\\n2946 -> 2947 ;\\n2948 [label=\"gini = 0.397\\\\nsamples = 11\\\\nvalue = [3, 8]\"] ;\\n2947 -> 2948 ;\\n2949 [label=\"gini = 0.0\\\\nsamples = 11\\\\nvalue = [0, 11]\"] ;\\n2947 -> 2949 ;\\n2950 [label=\"gini = 0.0\\\\nsamples = 1\\\\nvalue = [1, 0]\"] ;\\n2946 -> 2950 ;\\n2951 [label=\"h1n1_knowledge <= 0.5\\\\ngini = 0.086\\\\nsamples = 402\\\\nvalue = [384, 18]\"] ;\\n2773 -> 2951 ;\\n2952 [label=\"employment_industry <= 5.5\\\\ngini = 0.301\\\\nsamples = 38\\\\nvalue = [31, 7]\"] ;\\n2951 -> 2952 ;\\n2953 [label=\"gini = 0.0\\\\nsamples = 1\\\\nvalue = [0, 1]\"] ;\\n2952 -> 2953 ;\\n2954 [label=\"child_under_6_months <= 0.5\\\\ngini = 0.272\\\\nsamples = 37\\\\nvalue = [31, 6]\"] ;\\n2952 -> 2954 ;\\n2955 [label=\"hhs_geo_region <= 8.5\\\\ngini = 0.239\\\\nsamples = 36\\\\nvalue = [31, 5]\"] ;\\n2954 -> 2955 ;\\n2956 [label=\"behavioral_wash_hands <= 0.5\\\\ngini = 0.175\\\\nsamples = 31\\\\nvalue = [28, 3]\"] ;\\n2955 -> 2956 ;\\n2957 [label=\"h1n1_concern <= 2.0\\\\ngini = 0.444\\\\nsamples = 6\\\\nvalue = [4, 2]\"] ;\\n2956 -> 2957 ;\\n2958 [label=\"gini = 0.0\\\\nsamples = 4\\\\nvalue = [4, 0]\"] ;\\n2957 -> 2958 ;\\n2959 [label=\"gini = 0.0\\\\nsamples = 2\\\\nvalue = [0, 2]\"] ;\\n2957 -> 2959 ;\\n2960 [label=\"h1n1_concern <= 1.0\\\\ngini = 0.077\\\\nsamples = 25\\\\nvalue = [24, 1]\"] ;\\n2956 -> 2960 ;\\n2961 [label=\"behavioral_touch_face <= 0.5\\\\ngini = 0.5\\\\nsamples = 2\\\\nvalue = [1, 1]\"] ;\\n2960 -> 2961 ;\\n2962 [label=\"gini = 0.0\\\\nsamples = 1\\\\nvalue = [0, 1]\"] ;\\n2961 -> 2962 ;\\n2963 [label=\"gini = 0.0\\\\nsamples = 1\\\\nvalue = [1, 0]\"] ;\\n2961 -> 2963 ;\\n2964 [label=\"gini = 0.0\\\\nsamples = 23\\\\nvalue = [23, 0]\"] ;\\n2960 -> 2964 ;\\n2965 [label=\"marital_status <= 0.5\\\\ngini = 0.48\\\\nsamples = 5\\\\nvalue = [3, 2]\"] ;\\n2955 -> 2965 ;\\n2966 [label=\"gini = 0.0\\\\nsamples = 3\\\\nvalue = [3, 0]\"] ;\\n2965 -> 2966 ;\\n2967 [label=\"gini = 0.0\\\\nsamples = 2\\\\nvalue = [0, 2]\"] ;\\n2965 -> 2967 ;\\n2968 [label=\"gini = 0.0\\\\nsamples = 1\\\\nvalue = [0, 1]\"] ;\\n2954 -> 2968 ;\\n2969 [label=\"opinion_seas_risk <= 2.5\\\\ngini = 0.059\\\\nsamples = 364\\\\nvalue = [353, 11]\"] ;\\n2951 -> 2969 ;\\n2970 [label=\"income_poverty <= 2.5\\\\ngini = 0.16\\\\nsamples = 80\\\\nvalue = [73, 7]\"] ;\\n2969 -> 2970 ;\\n2971 [label=\"employment_industry <= 6.5\\\\ngini = 0.106\\\\nsamples = 71\\\\nvalue = [67, 4]\"] ;\\n2970 -> 2971 ;\\n2972 [label=\"behavioral_outside_home <= 0.5\\\\ngini = 0.375\\\\nsamples = 12\\\\nvalue = [9, 3]\"] ;\\n2971 -> 2972 ;\\n2973 [label=\"gini = 0.0\\\\nsamples = 7\\\\nvalue = [7, 0]\"] ;\\n2972 -> 2973 ;\\n2974 [label=\"employment_industry <= 2.5\\\\ngini = 0.48\\\\nsamples = 5\\\\nvalue = [2, 3]\"] ;\\n2972 -> 2974 ;\\n2975 [label=\"gini = 0.0\\\\nsamples = 2\\\\nvalue = [2, 0]\"] ;\\n2974 -> 2975 ;\\n2976 [label=\"gini = 0.0\\\\nsamples = 3\\\\nvalue = [0, 3]\"] ;\\n2974 -> 2976 ;\\n2977 [label=\"hhs_geo_region <= 0.5\\\\ngini = 0.033\\\\nsamples = 59\\\\nvalue = [58, 1]\"] ;\\n2971 -> 2977 ;\\n2978 [label=\"age_group <= 3.5\\\\ngini = 0.219\\\\nsamples = 8\\\\nvalue = [7, 1]\"] ;\\n2977 -> 2978 ;\\n2979 [label=\"gini = 0.0\\\\nsamples = 7\\\\nvalue = [7, 0]\"] ;\\n2978 -> 2979 ;\\n2980 [label=\"gini = 0.0\\\\nsamples = 1\\\\nvalue = [0, 1]\"] ;\\n2978 -> 2980 ;\\n2981 [label=\"gini = 0.0\\\\nsamples = 51\\\\nvalue = [51, 0]\"] ;\\n2977 -> 2981 ;\\n2982 [label=\"opinion_seas_sick_from_vacc <= 0.5\\\\ngini = 0.444\\\\nsamples = 9\\\\nvalue = [6, 3]\"] ;\\n2970 -> 2982 ;\\n2983 [label=\"sex <= 0.5\\\\ngini = 0.375\\\\nsamples = 4\\\\nvalue = [1, 3]\"] ;\\n2982 -> 2983 ;\\n2984 [label=\"gini = 0.0\\\\nsamples = 3\\\\nvalue = [0, 3]\"] ;\\n2983 -> 2984 ;\\n2985 [label=\"gini = 0.0\\\\nsamples = 1\\\\nvalue = [1, 0]\"] ;\\n2983 -> 2985 ;\\n2986 [label=\"gini = 0.0\\\\nsamples = 5\\\\nvalue = [5, 0]\"] ;\\n2982 -> 2986 ;\\n2987 [label=\"hhs_geo_region <= 0.5\\\\ngini = 0.028\\\\nsamples = 284\\\\nvalue = [280, 4]\"] ;\\n2969 -> 2987 ;\\n2988 [label=\"marital_status <= 1.5\\\\ngini = 0.137\\\\nsamples = 27\\\\nvalue = [25, 2]\"] ;\\n2987 -> 2988 ;\\n2989 [label=\"age_group <= 0.5\\\\ngini = 0.074\\\\nsamples = 26\\\\nvalue = [25, 1]\"] ;\\n2988 -> 2989 ;\\n2990 [label=\"opinion_h1n1_vacc_effective <= 3.5\\\\ngini = 0.444\\\\nsamples = 3\\\\nvalue = [2, 1]\"] ;\\n2989 -> 2990 ;\\n2991 [label=\"gini = 0.0\\\\nsamples = 2\\\\nvalue = [2, 0]\"] ;\\n2990 -> 2991 ;\\n2992 [label=\"gini = 0.0\\\\nsamples = 1\\\\nvalue = [0, 1]\"] ;\\n2990 -> 2992 ;\\n2993 [label=\"gini = 0.0\\\\nsamples = 23\\\\nvalue = [23, 0]\"] ;\\n2989 -> 2993 ;\\n2994 [label=\"gini = 0.0\\\\nsamples = 1\\\\nvalue = [0, 1]\"] ;\\n2988 -> 2994 ;\\n2995 [label=\"hhs_geo_region <= 7.5\\\\ngini = 0.015\\\\nsamples = 257\\\\nvalue = [255, 2]\"] ;\\n2987 -> 2995 ;\\n2996 [label=\"gini = 0.0\\\\nsamples = 189\\\\nvalue = [189, 0]\"] ;\\n2995 -> 2996 ;\\n2997 [label=\"age_group <= 3.5\\\\ngini = 0.057\\\\nsamples = 68\\\\nvalue = [66, 2]\"] ;\\n2995 -> 2997 ;\\n2998 [label=\"gini = 0.0\\\\nsamples = 49\\\\nvalue = [49, 0]\"] ;\\n2997 -> 2998 ;\\n2999 [label=\"opinion_h1n1_sick_from_vacc <= 2.0\\\\ngini = 0.188\\\\nsamples = 19\\\\nvalue = [17, 2]\"] ;\\n2997 -> 2999 ;\\n3000 [label=\"sex <= 0.5\\\\ngini = 0.5\\\\nsamples = 4\\\\nvalue = [2, 2]\"] ;\\n2999 -> 3000 ;\\n3001 [label=\"gini = 0.0\\\\nsamples = 2\\\\nvalue = [0, 2]\"] ;\\n3000 -> 3001 ;\\n3002 [label=\"gini = 0.0\\\\nsamples = 2\\\\nvalue = [2, 0]\"] ;\\n3000 -> 3002 ;\\n3003 [label=\"gini = 0.0\\\\nsamples = 15\\\\nvalue = [15, 0]\"] ;\\n2999 -> 3003 ;\\n3004 [label=\"h1n1_knowledge <= 1.5\\\\ngini = 0.459\\\\nsamples = 1022\\\\nvalue = [657, 365]\"] ;\\n2586 -> 3004 ;\\n3005 [label=\"opinion_h1n1_sick_from_vacc <= 0.5\\\\ngini = 0.372\\\\nsamples = 531\\\\nvalue = [400, 131]\"] ;\\n3004 -> 3005 ;\\n3006 [label=\"doctor_recc_h1n1 <= 1.5\\\\ngini = 0.5\\\\nsamples = 45\\\\nvalue = [22, 23]\"] ;\\n3005 -> 3006 ;\\n3007 [label=\"census_msa <= 0.5\\\\ngini = 0.484\\\\nsamples = 39\\\\nvalue = [16, 23]\"] ;\\n3006 -> 3007 ;\\n3008 [label=\"employment_industry <= 5.0\\\\ngini = 0.444\\\\nsamples = 15\\\\nvalue = [10, 5]\"] ;\\n3007 -> 3008 ;\\n3009 [label=\"gini = 0.0\\\\nsamples = 6\\\\nvalue = [6, 0]\"] ;\\n3008 -> 3009 ;\\n3010 [label=\"opinion_h1n1_risk <= 3.5\\\\ngini = 0.494\\\\nsamples = 9\\\\nvalue = [4, 5]\"] ;\\n3008 -> 3010 ;\\n3011 [label=\"gini = 0.0\\\\nsamples = 4\\\\nvalue = [0, 4]\"] ;\\n3010 -> 3011 ;\\n3012 [label=\"opinion_seas_sick_from_vacc <= 2.0\\\\ngini = 0.32\\\\nsamples = 5\\\\nvalue = [4, 1]\"] ;\\n3010 -> 3012 ;\\n3013 [label=\"gini = 0.0\\\\nsamples = 1\\\\nvalue = [0, 1]\"] ;\\n3012 -> 3013 ;\\n3014 [label=\"gini = 0.0\\\\nsamples = 4\\\\nvalue = [4, 0]\"] ;\\n3012 -> 3014 ;\\n3015 [label=\"household_children <= 1.5\\\\ngini = 0.375\\\\nsamples = 24\\\\nvalue = [6, 18]\"] ;\\n3007 -> 3015 ;\\n3016 [label=\"opinion_seas_vacc_effective <= 4.5\\\\ngini = 0.105\\\\nsamples = 18\\\\nvalue = [1, 17]\"] ;\\n3015 -> 3016 ;\\n3017 [label=\"gini = 0.0\\\\nsamples = 17\\\\nvalue = [0, 17]\"] ;\\n3016 -> 3017 ;\\n3018 [label=\"gini = 0.0\\\\nsamples = 1\\\\nvalue = [1, 0]\"] ;\\n3016 -> 3018 ;\\n3019 [label=\"hhs_geo_region <= 8.5\\\\ngini = 0.278\\\\nsamples = 6\\\\nvalue = [5, 1]\"] ;\\n3015 -> 3019 ;\\n3020 [label=\"gini = 0.0\\\\nsamples = 5\\\\nvalue = [5, 0]\"] ;\\n3019 -> 3020 ;\\n3021 [label=\"gini = 0.0\\\\nsamples = 1\\\\nvalue = [0, 1]\"] ;\\n3019 -> 3021 ;\\n3022 [label=\"gini = 0.0\\\\nsamples = 6\\\\nvalue = [6, 0]\"] ;\\n3006 -> 3022 ;\\n3023 [label=\"doctor_recc_h1n1 <= 0.5\\\\ngini = 0.346\\\\nsamples = 486\\\\nvalue = [378, 108]\"] ;\\n3005 -> 3023 ;\\n3024 [label=\"chronic_med_condition <= 1.5\\\\ngini = 0.239\\\\nsamples = 238\\\\nvalue = [205, 33]\"] ;\\n3023 -> 3024 ;\\n3025 [label=\"h1n1_concern <= 0.5\\\\ngini = 0.378\\\\nsamples = 83\\\\nvalue = [62, 21]\"] ;\\n3024 -> 3025 ;\\n3026 [label=\"gini = 0.0\\\\nsamples = 3\\\\nvalue = [0, 3]\"] ;\\n3025 -> 3026 ;\\n3027 [label=\"doctor_recc_seasonal <= 0.5\\\\ngini = 0.349\\\\nsamples = 80\\\\nvalue = [62, 18]\"] ;\\n3025 -> 3027 ;\\n3028 [label=\"opinion_h1n1_vacc_effective <= 2.5\\\\ngini = 0.397\\\\nsamples = 66\\\\nvalue = [48, 18]\"] ;\\n3027 -> 3028 ;\\n3029 [label=\"employment_occupation <= 3.0\\\\ngini = 0.111\\\\nsamples = 17\\\\nvalue = [16, 1]\"] ;\\n3028 -> 3029 ;\\n3030 [label=\"h1n1_concern <= 2.0\\\\ngini = 0.444\\\\nsamples = 3\\\\nvalue = [2, 1]\"] ;\\n3029 -> 3030 ;\\n3031 [label=\"gini = 0.0\\\\nsamples = 1\\\\nvalue = [0, 1]\"] ;\\n3030 -> 3031 ;\\n3032 [label=\"gini = 0.0\\\\nsamples = 2\\\\nvalue = [2, 0]\"] ;\\n3030 -> 3032 ;\\n3033 [label=\"gini = 0.0\\\\nsamples = 14\\\\nvalue = [14, 0]\"] ;\\n3029 -> 3033 ;\\n3034 [label=\"opinion_h1n1_risk <= 3.5\\\\ngini = 0.453\\\\nsamples = 49\\\\nvalue = [32, 17]\"] ;\\n3028 -> 3034 ;\\n3035 [label=\"household_children <= 2.5\\\\ngini = 0.388\\\\nsamples = 38\\\\nvalue = [28, 10]\"] ;\\n3034 -> 3035 ;\\n3036 [label=\"behavioral_large_gatherings <= 0.5\\\\ngini = 0.334\\\\nsamples = 33\\\\nvalue = [26, 7]\"] ;\\n3035 -> 3036 ;\\n3037 [label=\"gini = 0.423\\\\nsamples = 23\\\\nvalue = [16, 7]\"] ;\\n3036 -> 3037 ;\\n3038 [label=\"gini = 0.0\\\\nsamples = 10\\\\nvalue = [10, 0]\"] ;\\n3036 -> 3038 ;\\n3039 [label=\"household_adults <= 0.5\\\\ngini = 0.48\\\\nsamples = 5\\\\nvalue = [2, 3]\"] ;\\n3035 -> 3039 ;\\n3040 [label=\"gini = 0.0\\\\nsamples = 2\\\\nvalue = [2, 0]\"] ;\\n3039 -> 3040 ;\\n3041 [label=\"gini = 0.0\\\\nsamples = 3\\\\nvalue = [0, 3]\"] ;\\n3039 -> 3041 ;\\n3042 [label=\"hhs_geo_region <= 5.5\\\\ngini = 0.463\\\\nsamples = 11\\\\nvalue = [4, 7]\"] ;\\n3034 -> 3042 ;\\n3043 [label=\"behavioral_avoidance <= 0.5\\\\ngini = 0.444\\\\nsamples = 6\\\\nvalue = [4, 2]\"] ;\\n3042 -> 3043 ;\\n3044 [label=\"gini = 0.0\\\\nsamples = 2\\\\nvalue = [0, 2]\"] ;\\n3043 -> 3044 ;\\n3045 [label=\"gini = 0.0\\\\nsamples = 4\\\\nvalue = [4, 0]\"] ;\\n3043 -> 3045 ;\\n3046 [label=\"gini = 0.0\\\\nsamples = 5\\\\nvalue = [0, 5]\"] ;\\n3042 -> 3046 ;\\n3047 [label=\"gini = 0.0\\\\nsamples = 14\\\\nvalue = [14, 0]\"] ;\\n3027 -> 3047 ;\\n3048 [label=\"behavioral_wash_hands <= 0.5\\\\ngini = 0.143\\\\nsamples = 155\\\\nvalue = [143, 12]\"] ;\\n3024 -> 3048 ;\\n3049 [label=\"behavioral_outside_home <= 0.5\\\\ngini = 0.311\\\\nsamples = 26\\\\nvalue = [21, 5]\"] ;\\n3048 -> 3049 ;\\n3050 [label=\"hhs_geo_region <= 1.5\\\\ngini = 0.18\\\\nsamples = 20\\\\nvalue = [18, 2]\"] ;\\n3049 -> 3050 ;\\n3051 [label=\"age_group <= 2.5\\\\ngini = 0.48\\\\nsamples = 5\\\\nvalue = [3, 2]\"] ;\\n3050 -> 3051 ;\\n3052 [label=\"h1n1_knowledge <= 0.5\\\\ngini = 0.444\\\\nsamples = 3\\\\nvalue = [1, 2]\"] ;\\n3051 -> 3052 ;\\n3053 [label=\"gini = 0.0\\\\nsamples = 2\\\\nvalue = [0, 2]\"] ;\\n3052 -> 3053 ;\\n3054 [label=\"gini = 0.0\\\\nsamples = 1\\\\nvalue = [1, 0]\"] ;\\n3052 -> 3054 ;\\n3055 [label=\"gini = 0.0\\\\nsamples = 2\\\\nvalue = [2, 0]\"] ;\\n3051 -> 3055 ;\\n3056 [label=\"gini = 0.0\\\\nsamples = 15\\\\nvalue = [15, 0]\"] ;\\n3050 -> 3056 ;\\n3057 [label=\"behavioral_touch_face <= 0.5\\\\ngini = 0.5\\\\nsamples = 6\\\\nvalue = [3, 3]\"] ;\\n3049 -> 3057 ;\\n3058 [label=\"gini = 0.0\\\\nsamples = 2\\\\nvalue = [2, 0]\"] ;\\n3057 -> 3058 ;\\n3059 [label=\"hhs_geo_region <= 3.0\\\\ngini = 0.375\\\\nsamples = 4\\\\nvalue = [1, 3]\"] ;\\n3057 -> 3059 ;\\n3060 [label=\"gini = 0.0\\\\nsamples = 1\\\\nvalue = [1, 0]\"] ;\\n3059 -> 3060 ;\\n3061 [label=\"gini = 0.0\\\\nsamples = 3\\\\nvalue = [0, 3]\"] ;\\n3059 -> 3061 ;\\n3062 [label=\"hhs_geo_region <= 2.5\\\\ngini = 0.103\\\\nsamples = 129\\\\nvalue = [122, 7]\"] ;\\n3048 -> 3062 ;\\n3063 [label=\"household_adults <= 1.5\\\\ngini = 0.245\\\\nsamples = 21\\\\nvalue = [18, 3]\"] ;\\n3062 -> 3063 ;\\n3064 [label=\"gini = 0.0\\\\nsamples = 13\\\\nvalue = [13, 0]\"] ;\\n3063 -> 3064 ;\\n3065 [label=\"age_group <= 1.5\\\\ngini = 0.469\\\\nsamples = 8\\\\nvalue = [5, 3]\"] ;\\n3063 -> 3065 ;\\n3066 [label=\"h1n1_concern <= 2.5\\\\ngini = 0.278\\\\nsamples = 6\\\\nvalue = [5, 1]\"] ;\\n3065 -> 3066 ;\\n3067 [label=\"gini = 0.0\\\\nsamples = 5\\\\nvalue = [5, 0]\"] ;\\n3066 -> 3067 ;\\n3068 [label=\"gini = 0.0\\\\nsamples = 1\\\\nvalue = [0, 1]\"] ;\\n3066 -> 3068 ;\\n3069 [label=\"gini = 0.0\\\\nsamples = 2\\\\nvalue = [0, 2]\"] ;\\n3065 -> 3069 ;\\n3070 [label=\"behavioral_avoidance <= 0.5\\\\ngini = 0.071\\\\nsamples = 108\\\\nvalue = [104, 4]\"] ;\\n3062 -> 3070 ;\\n3071 [label=\"doctor_recc_seasonal <= 0.5\\\\ngini = 0.18\\\\nsamples = 30\\\\nvalue = [27, 3]\"] ;\\n3070 -> 3071 ;\\n3072 [label=\"age_group <= 0.5\\\\ngini = 0.08\\\\nsamples = 24\\\\nvalue = [23, 1]\"] ;\\n3071 -> 3072 ;\\n3073 [label=\"household_adults <= 2.0\\\\ngini = 0.32\\\\nsamples = 5\\\\nvalue = [4, 1]\"] ;\\n3072 -> 3073 ;\\n3074 [label=\"gini = 0.5\\\\nsamples = 2\\\\nvalue = [1, 1]\"] ;\\n3073 -> 3074 ;\\n3075 [label=\"gini = 0.0\\\\nsamples = 3\\\\nvalue = [3, 0]\"] ;\\n3073 -> 3075 ;\\n3076 [label=\"gini = 0.0\\\\nsamples = 19\\\\nvalue = [19, 0]\"] ;\\n3072 -> 3076 ;\\n3077 [label=\"age_group <= 3.0\\\\ngini = 0.444\\\\nsamples = 6\\\\nvalue = [4, 2]\"] ;\\n3071 -> 3077 ;\\n3078 [label=\"race <= 2.0\\\\ngini = 0.444\\\\nsamples = 3\\\\nvalue = [1, 2]\"] ;\\n3077 -> 3078 ;\\n3079 [label=\"gini = 0.0\\\\nsamples = 1\\\\nvalue = [1, 0]\"] ;\\n3078 -> 3079 ;\\n3080 [label=\"gini = 0.0\\\\nsamples = 2\\\\nvalue = [0, 2]\"] ;\\n3078 -> 3080 ;\\n3081 [label=\"gini = 0.0\\\\nsamples = 3\\\\nvalue = [3, 0]\"] ;\\n3077 -> 3081 ;\\n3082 [label=\"h1n1_concern <= 1.5\\\\ngini = 0.025\\\\nsamples = 78\\\\nvalue = [77, 1]\"] ;\\n3070 -> 3082 ;\\n3083 [label=\"household_children <= 3.5\\\\ngini = 0.087\\\\nsamples = 22\\\\nvalue = [21, 1]\"] ;\\n3082 -> 3083 ;\\n3084 [label=\"gini = 0.0\\\\nsamples = 14\\\\nvalue = [14, 0]\"] ;\\n3083 -> 3084 ;\\n3085 [label=\"age_group <= 0.5\\\\ngini = 0.219\\\\nsamples = 8\\\\nvalue = [7, 1]\"] ;\\n3083 -> 3085 ;\\n3086 [label=\"gini = 0.0\\\\nsamples = 4\\\\nvalue = [4, 0]\"] ;\\n3085 -> 3086 ;\\n3087 [label=\"gini = 0.375\\\\nsamples = 4\\\\nvalue = [3, 1]\"] ;\\n3085 -> 3087 ;\\n3088 [label=\"gini = 0.0\\\\nsamples = 56\\\\nvalue = [56, 0]\"] ;\\n3082 -> 3088 ;\\n3089 [label=\"doctor_recc_seasonal <= 1.5\\\\ngini = 0.422\\\\nsamples = 248\\\\nvalue = [173, 75]\"] ;\\n3023 -> 3089 ;\\n3090 [label=\"opinion_h1n1_vacc_effective <= 3.5\\\\ngini = 0.498\\\\nsamples = 99\\\\nvalue = [53, 46]\"] ;\\n3089 -> 3090 ;\\n3091 [label=\"h1n1_knowledge <= 0.5\\\\ngini = 0.47\\\\nsamples = 53\\\\nvalue = [33, 20]\"] ;\\n3090 -> 3091 ;\\n3092 [label=\"gini = 0.0\\\\nsamples = 3\\\\nvalue = [0, 3]\"] ;\\n3091 -> 3092 ;\\n3093 [label=\"census_msa <= 0.5\\\\ngini = 0.449\\\\nsamples = 50\\\\nvalue = [33, 17]\"] ;\\n3091 -> 3093 ;\\n3094 [label=\"education <= 0.5\\\\ngini = 0.278\\\\nsamples = 24\\\\nvalue = [20, 4]\"] ;\\n3093 -> 3094 ;\\n3095 [label=\"age_group <= 3.5\\\\ngini = 0.5\\\\nsamples = 4\\\\nvalue = [2, 2]\"] ;\\n3094 -> 3095 ;\\n3096 [label=\"gini = 0.0\\\\nsamples = 2\\\\nvalue = [0, 2]\"] ;\\n3095 -> 3096 ;\\n3097 [label=\"gini = 0.0\\\\nsamples = 2\\\\nvalue = [2, 0]\"] ;\\n3095 -> 3097 ;\\n3098 [label=\"behavioral_antiviral_meds <= 0.5\\\\ngini = 0.18\\\\nsamples = 20\\\\nvalue = [18, 2]\"] ;\\n3094 -> 3098 ;\\n3099 [label=\"opinion_h1n1_vacc_effective <= 2.5\\\\ngini = 0.105\\\\nsamples = 18\\\\nvalue = [17, 1]\"] ;\\n3098 -> 3099 ;\\n3100 [label=\"gini = 0.444\\\\nsamples = 3\\\\nvalue = [2, 1]\"] ;\\n3099 -> 3100 ;\\n3101 [label=\"gini = 0.0\\\\nsamples = 15\\\\nvalue = [15, 0]\"] ;\\n3099 -> 3101 ;\\n3102 [label=\"opinion_seas_vacc_effective <= 3.5\\\\ngini = 0.5\\\\nsamples = 2\\\\nvalue = [1, 1]\"] ;\\n3098 -> 3102 ;\\n3103 [label=\"gini = 0.0\\\\nsamples = 1\\\\nvalue = [0, 1]\"] ;\\n3102 -> 3103 ;\\n3104 [label=\"gini = 0.0\\\\nsamples = 1\\\\nvalue = [1, 0]\"] ;\\n3102 -> 3104 ;\\n3105 [label=\"opinion_h1n1_vacc_effective <= 2.5\\\\ngini = 0.5\\\\nsamples = 26\\\\nvalue = [13, 13]\"] ;\\n3093 -> 3105 ;\\n3106 [label=\"employment_occupation <= 19.0\\\\ngini = 0.346\\\\nsamples = 9\\\\nvalue = [7, 2]\"] ;\\n3105 -> 3106 ;\\n3107 [label=\"h1n1_concern <= 1.5\\\\ngini = 0.219\\\\nsamples = 8\\\\nvalue = [7, 1]\"] ;\\n3106 -> 3107 ;\\n3108 [label=\"gini = 0.5\\\\nsamples = 2\\\\nvalue = [1, 1]\"] ;\\n3107 -> 3108 ;\\n3109 [label=\"gini = 0.0\\\\nsamples = 6\\\\nvalue = [6, 0]\"] ;\\n3107 -> 3109 ;\\n3110 [label=\"gini = 0.0\\\\nsamples = 1\\\\nvalue = [0, 1]\"] ;\\n3106 -> 3110 ;\\n3111 [label=\"employment_occupation <= 11.5\\\\ngini = 0.457\\\\nsamples = 17\\\\nvalue = [6, 11]\"] ;\\n3105 -> 3111 ;\\n3112 [label=\"household_children <= 3.5\\\\ngini = 0.391\\\\nsamples = 15\\\\nvalue = [4, 11]\"] ;\\n3111 -> 3112 ;\\n3113 [label=\"gini = 0.278\\\\nsamples = 12\\\\nvalue = [2, 10]\"] ;\\n3112 -> 3113 ;\\n3114 [label=\"gini = 0.444\\\\nsamples = 3\\\\nvalue = [2, 1]\"] ;\\n3112 -> 3114 ;\\n3115 [label=\"gini = 0.0\\\\nsamples = 2\\\\nvalue = [2, 0]\"] ;\\n3111 -> 3115 ;\\n3116 [label=\"opinion_h1n1_risk <= 3.5\\\\ngini = 0.491\\\\nsamples = 46\\\\nvalue = [20, 26]\"] ;\\n3090 -> 3116 ;\\n3117 [label=\"opinion_h1n1_sick_from_vacc <= 2.0\\\\ngini = 0.32\\\\nsamples = 15\\\\nvalue = [3, 12]\"] ;\\n3116 -> 3117 ;\\n3118 [label=\"opinion_seas_vacc_effective <= 3.5\\\\ngini = 0.375\\\\nsamples = 4\\\\nvalue = [3, 1]\"] ;\\n3117 -> 3118 ;\\n3119 [label=\"gini = 0.0\\\\nsamples = 1\\\\nvalue = [0, 1]\"] ;\\n3118 -> 3119 ;\\n3120 [label=\"gini = 0.0\\\\nsamples = 3\\\\nvalue = [3, 0]\"] ;\\n3118 -> 3120 ;\\n3121 [label=\"gini = 0.0\\\\nsamples = 11\\\\nvalue = [0, 11]\"] ;\\n3117 -> 3121 ;\\n3122 [label=\"census_msa <= 1.5\\\\ngini = 0.495\\\\nsamples = 31\\\\nvalue = [17, 14]\"] ;\\n3116 -> 3122 ;\\n3123 [label=\"hhs_geo_region <= 6.5\\\\ngini = 0.499\\\\nsamples = 27\\\\nvalue = [13, 14]\"] ;\\n3122 -> 3123 ;\\n3124 [label=\"behavioral_large_gatherings <= 0.5\\\\ngini = 0.465\\\\nsamples = 19\\\\nvalue = [7, 12]\"] ;\\n3123 -> 3124 ;\\n3125 [label=\"h1n1_concern <= 2.5\\\\ngini = 0.298\\\\nsamples = 11\\\\nvalue = [2, 9]\"] ;\\n3124 -> 3125 ;\\n3126 [label=\"gini = 0.198\\\\nsamples = 9\\\\nvalue = [1, 8]\"] ;\\n3125 -> 3126 ;\\n3127 [label=\"gini = 0.5\\\\nsamples = 2\\\\nvalue = [1, 1]\"] ;\\n3125 -> 3127 ;\\n3128 [label=\"opinion_h1n1_vacc_effective <= 4.5\\\\ngini = 0.469\\\\nsamples = 8\\\\nvalue = [5, 3]\"] ;\\n3124 -> 3128 ;\\n3129 [label=\"gini = 0.0\\\\nsamples = 4\\\\nvalue = [4, 0]\"] ;\\n3128 -> 3129 ;\\n3130 [label=\"gini = 0.375\\\\nsamples = 4\\\\nvalue = [1, 3]\"] ;\\n3128 -> 3130 ;\\n3131 [label=\"h1n1_concern <= 2.5\\\\ngini = 0.375\\\\nsamples = 8\\\\nvalue = [6, 2]\"] ;\\n3123 -> 3131 ;\\n3132 [label=\"race <= 2.5\\\\ngini = 0.245\\\\nsamples = 7\\\\nvalue = [6, 1]\"] ;\\n3131 -> 3132 ;\\n3133 [label=\"gini = 0.0\\\\nsamples = 1\\\\nvalue = [0, 1]\"] ;\\n3132 -> 3133 ;\\n3134 [label=\"gini = 0.0\\\\nsamples = 6\\\\nvalue = [6, 0]\"] ;\\n3132 -> 3134 ;\\n3135 [label=\"gini = 0.0\\\\nsamples = 1\\\\nvalue = [0, 1]\"] ;\\n3131 -> 3135 ;\\n3136 [label=\"gini = 0.0\\\\nsamples = 4\\\\nvalue = [4, 0]\"] ;\\n3122 -> 3136 ;\\n3137 [label=\"education <= 3.5\\\\ngini = 0.313\\\\nsamples = 149\\\\nvalue = [120, 29]\"] ;\\n3089 -> 3137 ;\\n3138 [label=\"gini = 0.0\\\\nsamples = 27\\\\nvalue = [27, 0]\"] ;\\n3137 -> 3138 ;\\n3139 [label=\"opinion_seas_vacc_effective <= 3.5\\\\ngini = 0.362\\\\nsamples = 122\\\\nvalue = [93, 29]\"] ;\\n3137 -> 3139 ;\\n3140 [label=\"gini = 0.0\\\\nsamples = 2\\\\nvalue = [0, 2]\"] ;\\n3139 -> 3140 ;\\n3141 [label=\"age_group <= 2.5\\\\ngini = 0.349\\\\nsamples = 120\\\\nvalue = [93, 27]\"] ;\\n3139 -> 3141 ;\\n3142 [label=\"behavioral_face_mask <= 0.5\\\\ngini = 0.259\\\\nsamples = 72\\\\nvalue = [61, 11]\"] ;\\n3141 -> 3142 ;\\n3143 [label=\"race <= 0.5\\\\ngini = 0.2\\\\nsamples = 62\\\\nvalue = [55, 7]\"] ;\\n3142 -> 3143 ;\\n3144 [label=\"hhs_geo_region <= 4.5\\\\ngini = 0.48\\\\nsamples = 5\\\\nvalue = [3, 2]\"] ;\\n3143 -> 3144 ;\\n3145 [label=\"gini = 0.0\\\\nsamples = 3\\\\nvalue = [3, 0]\"] ;\\n3144 -> 3145 ;\\n3146 [label=\"gini = 0.0\\\\nsamples = 2\\\\nvalue = [0, 2]\"] ;\\n3144 -> 3146 ;\\n3147 [label=\"age_group <= 0.5\\\\ngini = 0.16\\\\nsamples = 57\\\\nvalue = [52, 5]\"] ;\\n3143 -> 3147 ;\\n3148 [label=\"gini = 0.0\\\\nsamples = 22\\\\nvalue = [22, 0]\"] ;\\n3147 -> 3148 ;\\n3149 [label=\"gini = 0.245\\\\nsamples = 35\\\\nvalue = [30, 5]\"] ;\\n3147 -> 3149 ;\\n3150 [label=\"hhs_geo_region <= 6.5\\\\ngini = 0.48\\\\nsamples = 10\\\\nvalue = [6, 4]\"] ;\\n3142 -> 3150 ;\\n3151 [label=\"household_children <= 2.5\\\\ngini = 0.375\\\\nsamples = 8\\\\nvalue = [6, 2]\"] ;\\n3150 -> 3151 ;\\n3152 [label=\"gini = 0.0\\\\nsamples = 4\\\\nvalue = [4, 0]\"] ;\\n3151 -> 3152 ;\\n3153 [label=\"gini = 0.5\\\\nsamples = 4\\\\nvalue = [2, 2]\"] ;\\n3151 -> 3153 ;\\n3154 [label=\"gini = 0.0\\\\nsamples = 2\\\\nvalue = [0, 2]\"] ;\\n3150 -> 3154 ;\\n3155 [label=\"behavioral_large_gatherings <= 0.5\\\\ngini = 0.444\\\\nsamples = 48\\\\nvalue = [32, 16]\"] ;\\n3141 -> 3155 ;\\n3156 [label=\"behavioral_wash_hands <= 0.5\\\\ngini = 0.499\\\\nsamples = 23\\\\nvalue = [11, 12]\"] ;\\n3155 -> 3156 ;\\n3157 [label=\"hhs_geo_region <= 1.5\\\\ngini = 0.245\\\\nsamples = 7\\\\nvalue = [6, 1]\"] ;\\n3156 -> 3157 ;\\n3158 [label=\"gini = 0.0\\\\nsamples = 1\\\\nvalue = [0, 1]\"] ;\\n3157 -> 3158 ;\\n3159 [label=\"gini = 0.0\\\\nsamples = 6\\\\nvalue = [6, 0]\"] ;\\n3157 -> 3159 ;\\n3160 [label=\"h1n1_concern <= 2.5\\\\ngini = 0.43\\\\nsamples = 16\\\\nvalue = [5, 11]\"] ;\\n3156 -> 3160 ;\\n3161 [label=\"gini = 0.278\\\\nsamples = 12\\\\nvalue = [2, 10]\"] ;\\n3160 -> 3161 ;\\n3162 [label=\"gini = 0.375\\\\nsamples = 4\\\\nvalue = [3, 1]\"] ;\\n3160 -> 3162 ;\\n3163 [label=\"behavioral_touch_face <= 0.5\\\\ngini = 0.269\\\\nsamples = 25\\\\nvalue = [21, 4]\"] ;\\n3155 -> 3163 ;\\n3164 [label=\"gini = 0.0\\\\nsamples = 9\\\\nvalue = [9, 0]\"] ;\\n3163 -> 3164 ;\\n3165 [label=\"behavioral_face_mask <= 0.5\\\\ngini = 0.375\\\\nsamples = 16\\\\nvalue = [12, 4]\"] ;\\n3163 -> 3165 ;\\n3166 [label=\"gini = 0.32\\\\nsamples = 15\\\\nvalue = [12, 3]\"] ;\\n3165 -> 3166 ;\\n3167 [label=\"gini = 0.0\\\\nsamples = 1\\\\nvalue = [0, 1]\"] ;\\n3165 -> 3167 ;\\n3168 [label=\"doctor_recc_h1n1 <= 1.5\\\\ngini = 0.499\\\\nsamples = 491\\\\nvalue = [257, 234]\"] ;\\n3004 -> 3168 ;\\n3169 [label=\"opinion_h1n1_vacc_effective <= 2.5\\\\ngini = 0.497\\\\nsamples = 407\\\\nvalue = [189, 218]\"] ;\\n3168 -> 3169 ;\\n3170 [label=\"behavioral_large_gatherings <= 0.5\\\\ngini = 0.316\\\\nsamples = 56\\\\nvalue = [45, 11]\"] ;\\n3169 -> 3170 ;\\n3171 [label=\"behavioral_face_mask <= 0.5\\\\ngini = 0.438\\\\nsamples = 34\\\\nvalue = [23, 11]\"] ;\\n3170 -> 3171 ;\\n3172 [label=\"behavioral_touch_face <= 0.5\\\\ngini = 0.383\\\\nsamples = 31\\\\nvalue = [23, 8]\"] ;\\n3171 -> 3172 ;\\n3173 [label=\"behavioral_antiviral_meds <= 0.5\\\\ngini = 0.153\\\\nsamples = 12\\\\nvalue = [11, 1]\"] ;\\n3172 -> 3173 ;\\n3174 [label=\"gini = 0.0\\\\nsamples = 11\\\\nvalue = [11, 0]\"] ;\\n3173 -> 3174 ;\\n3175 [label=\"gini = 0.0\\\\nsamples = 1\\\\nvalue = [0, 1]\"] ;\\n3173 -> 3175 ;\\n3176 [label=\"marital_status <= 0.5\\\\ngini = 0.465\\\\nsamples = 19\\\\nvalue = [12, 7]\"] ;\\n3172 -> 3176 ;\\n3177 [label=\"opinion_h1n1_sick_from_vacc <= 2.0\\\\ngini = 0.49\\\\nsamples = 7\\\\nvalue = [3, 4]\"] ;\\n3176 -> 3177 ;\\n3178 [label=\"gini = 0.0\\\\nsamples = 3\\\\nvalue = [0, 3]\"] ;\\n3177 -> 3178 ;\\n3179 [label=\"opinion_h1n1_sick_from_vacc <= 3.5\\\\ngini = 0.375\\\\nsamples = 4\\\\nvalue = [3, 1]\"] ;\\n3177 -> 3179 ;\\n3180 [label=\"gini = 0.0\\\\nsamples = 3\\\\nvalue = [3, 0]\"] ;\\n3179 -> 3180 ;\\n3181 [label=\"gini = 0.0\\\\nsamples = 1\\\\nvalue = [0, 1]\"] ;\\n3179 -> 3181 ;\\n3182 [label=\"behavioral_wash_hands <= 0.5\\\\ngini = 0.375\\\\nsamples = 12\\\\nvalue = [9, 3]\"] ;\\n3176 -> 3182 ;\\n3183 [label=\"gini = 0.0\\\\nsamples = 1\\\\nvalue = [0, 1]\"] ;\\n3182 -> 3183 ;\\n3184 [label=\"income_poverty <= 2.0\\\\ngini = 0.298\\\\nsamples = 11\\\\nvalue = [9, 2]\"] ;\\n3182 -> 3184 ;\\n3185 [label=\"gini = 0.0\\\\nsamples = 5\\\\nvalue = [5, 0]\"] ;\\n3184 -> 3185 ;\\n3186 [label=\"opinion_h1n1_risk <= 4.5\\\\ngini = 0.444\\\\nsamples = 6\\\\nvalue = [4, 2]\"] ;\\n3184 -> 3186 ;\\n3187 [label=\"gini = 0.444\\\\nsamples = 3\\\\nvalue = [1, 2]\"] ;\\n3186 -> 3187 ;\\n3188 [label=\"gini = 0.0\\\\nsamples = 3\\\\nvalue = [3, 0]\"] ;\\n3186 -> 3188 ;\\n3189 [label=\"gini = 0.0\\\\nsamples = 3\\\\nvalue = [0, 3]\"] ;\\n3171 -> 3189 ;\\n3190 [label=\"gini = 0.0\\\\nsamples = 22\\\\nvalue = [22, 0]\"] ;\\n3170 -> 3190 ;\\n3191 [label=\"employment_industry <= 5.0\\\\ngini = 0.484\\\\nsamples = 351\\\\nvalue = [144, 207]\"] ;\\n3169 -> 3191 ;\\n3192 [label=\"opinion_h1n1_vacc_effective <= 3.5\\\\ngini = 0.445\\\\nsamples = 242\\\\nvalue = [81, 161]\"] ;\\n3191 -> 3192 ;\\n3193 [label=\"child_under_6_months <= 0.5\\\\ngini = 0.495\\\\nsamples = 113\\\\nvalue = [51, 62]\"] ;\\n3192 -> 3193 ;\\n3194 [label=\"opinion_seas_risk <= 3.5\\\\ngini = 0.496\\\\nsamples = 81\\\\nvalue = [44, 37]\"] ;\\n3193 -> 3194 ;\\n3195 [label=\"h1n1_concern <= 1.5\\\\ngini = 0.456\\\\nsamples = 54\\\\nvalue = [35, 19]\"] ;\\n3194 -> 3195 ;\\n3196 [label=\"gini = 0.0\\\\nsamples = 3\\\\nvalue = [0, 3]\"] ;\\n3195 -> 3196 ;\\n3197 [label=\"income_poverty <= 0.5\\\\ngini = 0.431\\\\nsamples = 51\\\\nvalue = [35, 16]\"] ;\\n3195 -> 3197 ;\\n3198 [label=\"hhs_geo_region <= 0.5\\\\ngini = 0.278\\\\nsamples = 24\\\\nvalue = [20, 4]\"] ;\\n3197 -> 3198 ;\\n3199 [label=\"gini = 0.0\\\\nsamples = 1\\\\nvalue = [0, 1]\"] ;\\n3198 -> 3199 ;\\n3200 [label=\"gini = 0.227\\\\nsamples = 23\\\\nvalue = [20, 3]\"] ;\\n3198 -> 3200 ;\\n3201 [label=\"doctor_recc_seasonal <= 0.5\\\\ngini = 0.494\\\\nsamples = 27\\\\nvalue = [15, 12]\"] ;\\n3197 -> 3201 ;\\n3202 [label=\"gini = 0.391\\\\nsamples = 15\\\\nvalue = [11, 4]\"] ;\\n3201 -> 3202 ;\\n3203 [label=\"gini = 0.444\\\\nsamples = 12\\\\nvalue = [4, 8]\"] ;\\n3201 -> 3203 ;\\n3204 [label=\"hhs_geo_region <= 4.0\\\\ngini = 0.444\\\\nsamples = 27\\\\nvalue = [9, 18]\"] ;\\n3194 -> 3204 ;\\n3205 [label=\"rent_or_own <= 0.5\\\\ngini = 0.5\\\\nsamples = 16\\\\nvalue = [8, 8]\"] ;\\n3204 -> 3205 ;\\n3206 [label=\"opinion_seas_sick_from_vacc <= 0.5\\\\ngini = 0.473\\\\nsamples = 13\\\\nvalue = [5, 8]\"] ;\\n3205 -> 3206 ;\\n3207 [label=\"gini = 0.444\\\\nsamples = 6\\\\nvalue = [4, 2]\"] ;\\n3206 -> 3207 ;\\n3208 [label=\"gini = 0.245\\\\nsamples = 7\\\\nvalue = [1, 6]\"] ;\\n3206 -> 3208 ;\\n3209 [label=\"gini = 0.0\\\\nsamples = 3\\\\nvalue = [3, 0]\"] ;\\n3205 -> 3209 ;\\n3210 [label=\"age_group <= 3.5\\\\ngini = 0.165\\\\nsamples = 11\\\\nvalue = [1, 10]\"] ;\\n3204 -> 3210 ;\\n3211 [label=\"gini = 0.0\\\\nsamples = 10\\\\nvalue = [0, 10]\"] ;\\n3210 -> 3211 ;\\n3212 [label=\"gini = 0.0\\\\nsamples = 1\\\\nvalue = [1, 0]\"] ;\\n3210 -> 3212 ;\\n3213 [label=\"behavioral_face_mask <= 0.5\\\\ngini = 0.342\\\\nsamples = 32\\\\nvalue = [7, 25]\"] ;\\n3193 -> 3213 ;\\n3214 [label=\"opinion_seas_risk <= 0.5\\\\ngini = 0.153\\\\nsamples = 24\\\\nvalue = [2, 22]\"] ;\\n3213 -> 3214 ;\\n3215 [label=\"gini = 0.0\\\\nsamples = 1\\\\nvalue = [1, 0]\"] ;\\n3214 -> 3215 ;\\n3216 [label=\"h1n1_concern <= 0.5\\\\ngini = 0.083\\\\nsamples = 23\\\\nvalue = [1, 22]\"] ;\\n3214 -> 3216 ;\\n3217 [label=\"age_group <= 0.5\\\\ngini = 0.5\\\\nsamples = 2\\\\nvalue = [1, 1]\"] ;\\n3216 -> 3217 ;\\n3218 [label=\"gini = 0.0\\\\nsamples = 1\\\\nvalue = [1, 0]\"] ;\\n3217 -> 3218 ;\\n3219 [label=\"gini = 0.0\\\\nsamples = 1\\\\nvalue = [0, 1]\"] ;\\n3217 -> 3219 ;\\n3220 [label=\"gini = 0.0\\\\nsamples = 21\\\\nvalue = [0, 21]\"] ;\\n3216 -> 3220 ;\\n3221 [label=\"opinion_seas_sick_from_vacc <= 0.5\\\\ngini = 0.469\\\\nsamples = 8\\\\nvalue = [5, 3]\"] ;\\n3213 -> 3221 ;\\n3222 [label=\"census_msa <= 1.5\\\\ngini = 0.375\\\\nsamples = 4\\\\nvalue = [1, 3]\"] ;\\n3221 -> 3222 ;\\n3223 [label=\"gini = 0.0\\\\nsamples = 3\\\\nvalue = [0, 3]\"] ;\\n3222 -> 3223 ;\\n3224 [label=\"gini = 0.0\\\\nsamples = 1\\\\nvalue = [1, 0]\"] ;\\n3222 -> 3224 ;\\n3225 [label=\"gini = 0.0\\\\nsamples = 4\\\\nvalue = [4, 0]\"] ;\\n3221 -> 3225 ;\\n3226 [label=\"age_group <= 2.5\\\\ngini = 0.357\\\\nsamples = 129\\\\nvalue = [30, 99]\"] ;\\n3192 -> 3226 ;\\n3227 [label=\"opinion_h1n1_risk <= 3.5\\\\ngini = 0.278\\\\nsamples = 90\\\\nvalue = [15, 75]\"] ;\\n3226 -> 3227 ;\\n3228 [label=\"marital_status <= 0.5\\\\ngini = 0.386\\\\nsamples = 46\\\\nvalue = [12, 34]\"] ;\\n3227 -> 3228 ;\\n3229 [label=\"hhs_geo_region <= 5.5\\\\ngini = 0.451\\\\nsamples = 35\\\\nvalue = [12, 23]\"] ;\\n3228 -> 3229 ;\\n3230 [label=\"hhs_geo_region <= 0.5\\\\ngini = 0.499\\\\nsamples = 19\\\\nvalue = [9, 10]\"] ;\\n3229 -> 3230 ;\\n3231 [label=\"gini = 0.0\\\\nsamples = 3\\\\nvalue = [0, 3]\"] ;\\n3230 -> 3231 ;\\n3232 [label=\"gini = 0.492\\\\nsamples = 16\\\\nvalue = [9, 7]\"] ;\\n3230 -> 3232 ;\\n3233 [label=\"child_under_6_months <= 0.5\\\\ngini = 0.305\\\\nsamples = 16\\\\nvalue = [3, 13]\"] ;\\n3229 -> 3233 ;\\n3234 [label=\"gini = 0.153\\\\nsamples = 12\\\\nvalue = [1, 11]\"] ;\\n3233 -> 3234 ;\\n3235 [label=\"gini = 0.5\\\\nsamples = 4\\\\nvalue = [2, 2]\"] ;\\n3233 -> 3235 ;\\n3236 [label=\"gini = 0.0\\\\nsamples = 11\\\\nvalue = [0, 11]\"] ;\\n3228 -> 3236 ;\\n3237 [label=\"behavioral_avoidance <= 0.5\\\\ngini = 0.127\\\\nsamples = 44\\\\nvalue = [3, 41]\"] ;\\n3227 -> 3237 ;\\n3238 [label=\"census_msa <= 0.5\\\\ngini = 0.444\\\\nsamples = 9\\\\nvalue = [3, 6]\"] ;\\n3237 -> 3238 ;\\n3239 [label=\"gini = 0.0\\\\nsamples = 5\\\\nvalue = [0, 5]\"] ;\\n3238 -> 3239 ;\\n3240 [label=\"doctor_recc_seasonal <= 0.5\\\\ngini = 0.375\\\\nsamples = 4\\\\nvalue = [3, 1]\"] ;\\n3238 -> 3240 ;\\n3241 [label=\"gini = 0.0\\\\nsamples = 1\\\\nvalue = [0, 1]\"] ;\\n3240 -> 3241 ;\\n3242 [label=\"gini = 0.0\\\\nsamples = 3\\\\nvalue = [3, 0]\"] ;\\n3240 -> 3242 ;\\n3243 [label=\"gini = 0.0\\\\nsamples = 35\\\\nvalue = [0, 35]\"] ;\\n3237 -> 3243 ;\\n3244 [label=\"behavioral_touch_face <= 0.5\\\\ngini = 0.473\\\\nsamples = 39\\\\nvalue = [15, 24]\"] ;\\n3226 -> 3244 ;\\n3245 [label=\"household_adults <= 2.5\\\\ngini = 0.245\\\\nsamples = 7\\\\nvalue = [6, 1]\"] ;\\n3244 -> 3245 ;\\n3246 [label=\"gini = 0.0\\\\nsamples = 6\\\\nvalue = [6, 0]\"] ;\\n3245 -> 3246 ;\\n3247 [label=\"gini = 0.0\\\\nsamples = 1\\\\nvalue = [0, 1]\"] ;\\n3245 -> 3247 ;\\n3248 [label=\"household_adults <= 1.5\\\\ngini = 0.404\\\\nsamples = 32\\\\nvalue = [9, 23]\"] ;\\n3244 -> 3248 ;\\n3249 [label=\"education <= 0.5\\\\ngini = 0.358\\\\nsamples = 30\\\\nvalue = [7, 23]\"] ;\\n3248 -> 3249 ;\\n3250 [label=\"opinion_seas_sick_from_vacc <= 1.5\\\\ngini = 0.444\\\\nsamples = 3\\\\nvalue = [2, 1]\"] ;\\n3249 -> 3250 ;\\n3251 [label=\"gini = 0.0\\\\nsamples = 2\\\\nvalue = [2, 0]\"] ;\\n3250 -> 3251 ;\\n3252 [label=\"gini = 0.0\\\\nsamples = 1\\\\nvalue = [0, 1]\"] ;\\n3250 -> 3252 ;\\n3253 [label=\"hhs_geo_region <= 8.5\\\\ngini = 0.302\\\\nsamples = 27\\\\nvalue = [5, 22]\"] ;\\n3249 -> 3253 ;\\n3254 [label=\"gini = 0.26\\\\nsamples = 26\\\\nvalue = [4, 22]\"] ;\\n3253 -> 3254 ;\\n3255 [label=\"gini = 0.0\\\\nsamples = 1\\\\nvalue = [1, 0]\"] ;\\n3253 -> 3255 ;\\n3256 [label=\"gini = 0.0\\\\nsamples = 2\\\\nvalue = [2, 0]\"] ;\\n3248 -> 3256 ;\\n3257 [label=\"doctor_recc_h1n1 <= 0.5\\\\ngini = 0.488\\\\nsamples = 109\\\\nvalue = [63, 46]\"] ;\\n3191 -> 3257 ;\\n3258 [label=\"opinion_seas_vacc_effective <= 3.5\\\\ngini = 0.415\\\\nsamples = 68\\\\nvalue = [48, 20]\"] ;\\n3257 -> 3258 ;\\n3259 [label=\"age_group <= 0.5\\\\ngini = 0.499\\\\nsamples = 19\\\\nvalue = [9, 10]\"] ;\\n3258 -> 3259 ;\\n3260 [label=\"gini = 0.0\\\\nsamples = 6\\\\nvalue = [0, 6]\"] ;\\n3259 -> 3260 ;\\n3261 [label=\"hhs_geo_region <= 5.5\\\\ngini = 0.426\\\\nsamples = 13\\\\nvalue = [9, 4]\"] ;\\n3259 -> 3261 ;\\n3262 [label=\"gini = 0.0\\\\nsamples = 4\\\\nvalue = [4, 0]\"] ;\\n3261 -> 3262 ;\\n3263 [label=\"behavioral_face_mask <= 0.5\\\\ngini = 0.494\\\\nsamples = 9\\\\nvalue = [5, 4]\"] ;\\n3261 -> 3263 ;\\n3264 [label=\"household_adults <= 1.5\\\\ngini = 0.444\\\\nsamples = 6\\\\nvalue = [2, 4]\"] ;\\n3263 -> 3264 ;\\n3265 [label=\"gini = 0.0\\\\nsamples = 4\\\\nvalue = [0, 4]\"] ;\\n3264 -> 3265 ;\\n3266 [label=\"gini = 0.0\\\\nsamples = 2\\\\nvalue = [2, 0]\"] ;\\n3264 -> 3266 ;\\n3267 [label=\"gini = 0.0\\\\nsamples = 3\\\\nvalue = [3, 0]\"] ;\\n3263 -> 3267 ;\\n3268 [label=\"h1n1_concern <= 2.5\\\\ngini = 0.325\\\\nsamples = 49\\\\nvalue = [39, 10]\"] ;\\n3258 -> 3268 ;\\n3269 [label=\"census_msa <= 1.5\\\\ngini = 0.17\\\\nsamples = 32\\\\nvalue = [29, 3]\"] ;\\n3268 -> 3269 ;\\n3270 [label=\"household_children <= 1.5\\\\ngini = 0.074\\\\nsamples = 26\\\\nvalue = [25, 1]\"] ;\\n3269 -> 3270 ;\\n3271 [label=\"gini = 0.0\\\\nsamples = 22\\\\nvalue = [22, 0]\"] ;\\n3270 -> 3271 ;\\n3272 [label=\"doctor_recc_seasonal <= 0.5\\\\ngini = 0.375\\\\nsamples = 4\\\\nvalue = [3, 1]\"] ;\\n3270 -> 3272 ;\\n3273 [label=\"gini = 0.0\\\\nsamples = 3\\\\nvalue = [3, 0]\"] ;\\n3272 -> 3273 ;\\n3274 [label=\"gini = 0.0\\\\nsamples = 1\\\\nvalue = [0, 1]\"] ;\\n3272 -> 3274 ;\\n3275 [label=\"h1n1_concern <= 1.5\\\\ngini = 0.444\\\\nsamples = 6\\\\nvalue = [4, 2]\"] ;\\n3269 -> 3275 ;\\n3276 [label=\"gini = 0.0\\\\nsamples = 2\\\\nvalue = [0, 2]\"] ;\\n3275 -> 3276 ;\\n3277 [label=\"gini = 0.0\\\\nsamples = 4\\\\nvalue = [4, 0]\"] ;\\n3275 -> 3277 ;\\n3278 [label=\"income_poverty <= 0.5\\\\ngini = 0.484\\\\nsamples = 17\\\\nvalue = [10, 7]\"] ;\\n3268 -> 3278 ;\\n3279 [label=\"gini = 0.0\\\\nsamples = 2\\\\nvalue = [0, 2]\"] ;\\n3278 -> 3279 ;\\n3280 [label=\"health_worker <= 1.5\\\\ngini = 0.444\\\\nsamples = 15\\\\nvalue = [10, 5]\"] ;\\n3278 -> 3280 ;\\n3281 [label=\"gini = 0.0\\\\nsamples = 4\\\\nvalue = [4, 0]\"] ;\\n3280 -> 3281 ;\\n3282 [label=\"opinion_h1n1_vacc_effective <= 4.5\\\\ngini = 0.496\\\\nsamples = 11\\\\nvalue = [6, 5]\"] ;\\n3280 -> 3282 ;\\n3283 [label=\"gini = 0.0\\\\nsamples = 3\\\\nvalue = [0, 3]\"] ;\\n3282 -> 3283 ;\\n3284 [label=\"gini = 0.375\\\\nsamples = 8\\\\nvalue = [6, 2]\"] ;\\n3282 -> 3284 ;\\n3285 [label=\"employment_industry <= 8.0\\\\ngini = 0.464\\\\nsamples = 41\\\\nvalue = [15, 26]\"] ;\\n3257 -> 3285 ;\\n3286 [label=\"gini = 0.0\\\\nsamples = 3\\\\nvalue = [3, 0]\"] ;\\n3285 -> 3286 ;\\n3287 [label=\"behavioral_touch_face <= 0.5\\\\ngini = 0.432\\\\nsamples = 38\\\\nvalue = [12, 26]\"] ;\\n3285 -> 3287 ;\\n3288 [label=\"census_msa <= 0.5\\\\ngini = 0.408\\\\nsamples = 7\\\\nvalue = [5, 2]\"] ;\\n3287 -> 3288 ;\\n3289 [label=\"employment_occupation <= 6.5\\\\ngini = 0.444\\\\nsamples = 3\\\\nvalue = [1, 2]\"] ;\\n3288 -> 3289 ;\\n3290 [label=\"gini = 0.0\\\\nsamples = 1\\\\nvalue = [1, 0]\"] ;\\n3289 -> 3290 ;\\n3291 [label=\"gini = 0.0\\\\nsamples = 2\\\\nvalue = [0, 2]\"] ;\\n3289 -> 3291 ;\\n3292 [label=\"gini = 0.0\\\\nsamples = 4\\\\nvalue = [4, 0]\"] ;\\n3288 -> 3292 ;\\n3293 [label=\"opinion_h1n1_vacc_effective <= 3.5\\\\ngini = 0.35\\\\nsamples = 31\\\\nvalue = [7, 24]\"] ;\\n3287 -> 3293 ;\\n3294 [label=\"rent_or_own <= 0.5\\\\ngini = 0.475\\\\nsamples = 18\\\\nvalue = [7, 11]\"] ;\\n3293 -> 3294 ;\\n3295 [label=\"gini = 0.0\\\\nsamples = 6\\\\nvalue = [0, 6]\"] ;\\n3294 -> 3295 ;\\n3296 [label=\"age_group <= 3.5\\\\ngini = 0.486\\\\nsamples = 12\\\\nvalue = [7, 5]\"] ;\\n3294 -> 3296 ;\\n3297 [label=\"gini = 0.42\\\\nsamples = 10\\\\nvalue = [7, 3]\"] ;\\n3296 -> 3297 ;\\n3298 [label=\"gini = 0.0\\\\nsamples = 2\\\\nvalue = [0, 2]\"] ;\\n3296 -> 3298 ;\\n3299 [label=\"gini = 0.0\\\\nsamples = 13\\\\nvalue = [0, 13]\"] ;\\n3293 -> 3299 ;\\n3300 [label=\"household_adults <= 0.5\\\\ngini = 0.308\\\\nsamples = 84\\\\nvalue = [68, 16]\"] ;\\n3168 -> 3300 ;\\n3301 [label=\"hhs_geo_region <= 8.5\\\\ngini = 0.067\\\\nsamples = 29\\\\nvalue = [28, 1]\"] ;\\n3300 -> 3301 ;\\n3302 [label=\"gini = 0.0\\\\nsamples = 28\\\\nvalue = [28, 0]\"] ;\\n3301 -> 3302 ;\\n3303 [label=\"gini = 0.0\\\\nsamples = 1\\\\nvalue = [0, 1]\"] ;\\n3301 -> 3303 ;\\n3304 [label=\"marital_status <= 0.5\\\\ngini = 0.397\\\\nsamples = 55\\\\nvalue = [40, 15]\"] ;\\n3300 -> 3304 ;\\n3305 [label=\"age_group <= 0.5\\\\ngini = 0.165\\\\nsamples = 22\\\\nvalue = [20, 2]\"] ;\\n3304 -> 3305 ;\\n3306 [label=\"income_poverty <= 0.5\\\\ngini = 0.48\\\\nsamples = 5\\\\nvalue = [3, 2]\"] ;\\n3305 -> 3306 ;\\n3307 [label=\"employment_occupation <= 13.0\\\\ngini = 0.444\\\\nsamples = 3\\\\nvalue = [1, 2]\"] ;\\n3306 -> 3307 ;\\n3308 [label=\"gini = 0.0\\\\nsamples = 2\\\\nvalue = [0, 2]\"] ;\\n3307 -> 3308 ;\\n3309 [label=\"gini = 0.0\\\\nsamples = 1\\\\nvalue = [1, 0]\"] ;\\n3307 -> 3309 ;\\n3310 [label=\"gini = 0.0\\\\nsamples = 2\\\\nvalue = [2, 0]\"] ;\\n3306 -> 3310 ;\\n3311 [label=\"gini = 0.0\\\\nsamples = 17\\\\nvalue = [17, 0]\"] ;\\n3305 -> 3311 ;\\n3312 [label=\"opinion_h1n1_sick_from_vacc <= 0.5\\\\ngini = 0.478\\\\nsamples = 33\\\\nvalue = [20, 13]\"] ;\\n3304 -> 3312 ;\\n3313 [label=\"gini = 0.0\\\\nsamples = 2\\\\nvalue = [0, 2]\"] ;\\n3312 -> 3313 ;\\n3314 [label=\"hhs_geo_region <= 5.5\\\\ngini = 0.458\\\\nsamples = 31\\\\nvalue = [20, 11]\"] ;\\n3312 -> 3314 ;\\n3315 [label=\"age_group <= 2.5\\\\ngini = 0.5\\\\nsamples = 16\\\\nvalue = [8, 8]\"] ;\\n3314 -> 3315 ;\\n3316 [label=\"hhs_geo_region <= 0.5\\\\ngini = 0.42\\\\nsamples = 10\\\\nvalue = [3, 7]\"] ;\\n3315 -> 3316 ;\\n3317 [label=\"gini = 0.0\\\\nsamples = 1\\\\nvalue = [1, 0]\"] ;\\n3316 -> 3317 ;\\n3318 [label=\"opinion_seas_sick_from_vacc <= 2.0\\\\ngini = 0.346\\\\nsamples = 9\\\\nvalue = [2, 7]\"] ;\\n3316 -> 3318 ;\\n3319 [label=\"gini = 0.0\\\\nsamples = 1\\\\nvalue = [1, 0]\"] ;\\n3318 -> 3319 ;\\n3320 [label=\"census_msa <= 0.5\\\\ngini = 0.219\\\\nsamples = 8\\\\nvalue = [1, 7]\"] ;\\n3318 -> 3320 ;\\n3321 [label=\"gini = 0.444\\\\nsamples = 3\\\\nvalue = [1, 2]\"] ;\\n3320 -> 3321 ;\\n3322 [label=\"gini = 0.0\\\\nsamples = 5\\\\nvalue = [0, 5]\"] ;\\n3320 -> 3322 ;\\n3323 [label=\"hhs_geo_region <= 4.5\\\\ngini = 0.278\\\\nsamples = 6\\\\nvalue = [5, 1]\"] ;\\n3315 -> 3323 ;\\n3324 [label=\"gini = 0.0\\\\nsamples = 5\\\\nvalue = [5, 0]\"] ;\\n3323 -> 3324 ;\\n3325 [label=\"gini = 0.0\\\\nsamples = 1\\\\nvalue = [0, 1]\"] ;\\n3323 -> 3325 ;\\n3326 [label=\"race <= 1.5\\\\ngini = 0.32\\\\nsamples = 15\\\\nvalue = [12, 3]\"] ;\\n3314 -> 3326 ;\\n3327 [label=\"behavioral_face_mask <= 0.5\\\\ngini = 0.5\\\\nsamples = 4\\\\nvalue = [2, 2]\"] ;\\n3326 -> 3327 ;\\n3328 [label=\"gini = 0.0\\\\nsamples = 2\\\\nvalue = [2, 0]\"] ;\\n3327 -> 3328 ;\\n3329 [label=\"gini = 0.0\\\\nsamples = 2\\\\nvalue = [0, 2]\"] ;\\n3327 -> 3329 ;\\n3330 [label=\"census_msa <= 1.5\\\\ngini = 0.165\\\\nsamples = 11\\\\nvalue = [10, 1]\"] ;\\n3326 -> 3330 ;\\n3331 [label=\"gini = 0.0\\\\nsamples = 9\\\\nvalue = [9, 0]\"] ;\\n3330 -> 3331 ;\\n3332 [label=\"behavioral_outside_home <= 0.5\\\\ngini = 0.5\\\\nsamples = 2\\\\nvalue = [1, 1]\"] ;\\n3330 -> 3332 ;\\n3333 [label=\"gini = 0.0\\\\nsamples = 1\\\\nvalue = [0, 1]\"] ;\\n3332 -> 3333 ;\\n3334 [label=\"gini = 0.0\\\\nsamples = 1\\\\nvalue = [1, 0]\"] ;\\n3332 -> 3334 ;\\n}'"
      ]
     },
     "execution_count": 93,
     "metadata": {},
     "output_type": "execute_result"
    }
   ],
   "source": [
    "export_graphviz(Dtreemodel,feature_names=X.columns)"
   ]
  },
  {
   "cell_type": "code",
   "execution_count": 94,
   "id": "33e5ebd3",
   "metadata": {},
   "outputs": [
    {
     "data": {
      "text/html": [
       "<div>\n",
       "<style scoped>\n",
       "    .dataframe tbody tr th:only-of-type {\n",
       "        vertical-align: middle;\n",
       "    }\n",
       "\n",
       "    .dataframe tbody tr th {\n",
       "        vertical-align: top;\n",
       "    }\n",
       "\n",
       "    .dataframe thead th {\n",
       "        text-align: right;\n",
       "    }\n",
       "</style>\n",
       "<table border=\"1\" class=\"dataframe\">\n",
       "  <thead>\n",
       "    <tr style=\"text-align: right;\">\n",
       "      <th></th>\n",
       "      <th>index</th>\n",
       "      <th>0</th>\n",
       "    </tr>\n",
       "  </thead>\n",
       "  <tbody>\n",
       "    <tr>\n",
       "      <th>16</th>\n",
       "      <td>0.156013</td>\n",
       "      <td>opinion_h1n1_risk</td>\n",
       "    </tr>\n",
       "    <tr>\n",
       "      <th>14</th>\n",
       "      <td>0.121662</td>\n",
       "      <td>health_insurance</td>\n",
       "    </tr>\n",
       "    <tr>\n",
       "      <th>9</th>\n",
       "      <td>0.091102</td>\n",
       "      <td>doctor_recc_h1n1</td>\n",
       "    </tr>\n",
       "    <tr>\n",
       "      <th>10</th>\n",
       "      <td>0.067413</td>\n",
       "      <td>doctor_recc_seasonal</td>\n",
       "    </tr>\n",
       "    <tr>\n",
       "      <th>15</th>\n",
       "      <td>0.057717</td>\n",
       "      <td>opinion_h1n1_vacc_effective</td>\n",
       "    </tr>\n",
       "    <tr>\n",
       "      <th>29</th>\n",
       "      <td>0.045954</td>\n",
       "      <td>hhs_geo_region</td>\n",
       "    </tr>\n",
       "    <tr>\n",
       "      <th>34</th>\n",
       "      <td>0.034946</td>\n",
       "      <td>employment_occupation</td>\n",
       "    </tr>\n",
       "    <tr>\n",
       "      <th>21</th>\n",
       "      <td>0.034785</td>\n",
       "      <td>age_group</td>\n",
       "    </tr>\n",
       "    <tr>\n",
       "      <th>33</th>\n",
       "      <td>0.031442</td>\n",
       "      <td>employment_industry</td>\n",
       "    </tr>\n",
       "    <tr>\n",
       "      <th>13</th>\n",
       "      <td>0.029708</td>\n",
       "      <td>health_worker</td>\n",
       "    </tr>\n",
       "    <tr>\n",
       "      <th>19</th>\n",
       "      <td>0.026680</td>\n",
       "      <td>opinion_seas_risk</td>\n",
       "    </tr>\n",
       "    <tr>\n",
       "      <th>18</th>\n",
       "      <td>0.025353</td>\n",
       "      <td>opinion_seas_vacc_effective</td>\n",
       "    </tr>\n",
       "    <tr>\n",
       "      <th>0</th>\n",
       "      <td>0.019965</td>\n",
       "      <td>h1n1_concern</td>\n",
       "    </tr>\n",
       "    <tr>\n",
       "      <th>1</th>\n",
       "      <td>0.019558</td>\n",
       "      <td>h1n1_knowledge</td>\n",
       "    </tr>\n",
       "    <tr>\n",
       "      <th>17</th>\n",
       "      <td>0.018928</td>\n",
       "      <td>opinion_h1n1_sick_from_vacc</td>\n",
       "    </tr>\n",
       "    <tr>\n",
       "      <th>32</th>\n",
       "      <td>0.017799</td>\n",
       "      <td>household_children</td>\n",
       "    </tr>\n",
       "    <tr>\n",
       "      <th>23</th>\n",
       "      <td>0.017553</td>\n",
       "      <td>race</td>\n",
       "    </tr>\n",
       "    <tr>\n",
       "      <th>20</th>\n",
       "      <td>0.016751</td>\n",
       "      <td>opinion_seas_sick_from_vacc</td>\n",
       "    </tr>\n",
       "    <tr>\n",
       "      <th>25</th>\n",
       "      <td>0.016127</td>\n",
       "      <td>income_poverty</td>\n",
       "    </tr>\n",
       "    <tr>\n",
       "      <th>31</th>\n",
       "      <td>0.014877</td>\n",
       "      <td>household_adults</td>\n",
       "    </tr>\n",
       "    <tr>\n",
       "      <th>22</th>\n",
       "      <td>0.014337</td>\n",
       "      <td>education</td>\n",
       "    </tr>\n",
       "    <tr>\n",
       "      <th>30</th>\n",
       "      <td>0.013700</td>\n",
       "      <td>census_msa</td>\n",
       "    </tr>\n",
       "    <tr>\n",
       "      <th>24</th>\n",
       "      <td>0.012137</td>\n",
       "      <td>sex</td>\n",
       "    </tr>\n",
       "    <tr>\n",
       "      <th>11</th>\n",
       "      <td>0.009949</td>\n",
       "      <td>chronic_med_condition</td>\n",
       "    </tr>\n",
       "    <tr>\n",
       "      <th>3</th>\n",
       "      <td>0.009932</td>\n",
       "      <td>behavioral_avoidance</td>\n",
       "    </tr>\n",
       "    <tr>\n",
       "      <th>6</th>\n",
       "      <td>0.009682</td>\n",
       "      <td>behavioral_large_gatherings</td>\n",
       "    </tr>\n",
       "    <tr>\n",
       "      <th>26</th>\n",
       "      <td>0.009195</td>\n",
       "      <td>marital_status</td>\n",
       "    </tr>\n",
       "    <tr>\n",
       "      <th>8</th>\n",
       "      <td>0.008042</td>\n",
       "      <td>behavioral_touch_face</td>\n",
       "    </tr>\n",
       "    <tr>\n",
       "      <th>4</th>\n",
       "      <td>0.007893</td>\n",
       "      <td>behavioral_face_mask</td>\n",
       "    </tr>\n",
       "    <tr>\n",
       "      <th>5</th>\n",
       "      <td>0.007760</td>\n",
       "      <td>behavioral_wash_hands</td>\n",
       "    </tr>\n",
       "    <tr>\n",
       "      <th>28</th>\n",
       "      <td>0.007700</td>\n",
       "      <td>employment_status</td>\n",
       "    </tr>\n",
       "    <tr>\n",
       "      <th>27</th>\n",
       "      <td>0.007391</td>\n",
       "      <td>rent_or_own</td>\n",
       "    </tr>\n",
       "    <tr>\n",
       "      <th>7</th>\n",
       "      <td>0.006606</td>\n",
       "      <td>behavioral_outside_home</td>\n",
       "    </tr>\n",
       "    <tr>\n",
       "      <th>2</th>\n",
       "      <td>0.006193</td>\n",
       "      <td>behavioral_antiviral_meds</td>\n",
       "    </tr>\n",
       "    <tr>\n",
       "      <th>12</th>\n",
       "      <td>0.005150</td>\n",
       "      <td>child_under_6_months</td>\n",
       "    </tr>\n",
       "  </tbody>\n",
       "</table>\n",
       "</div>"
      ],
      "text/plain": [
       "       index                            0\n",
       "16  0.156013            opinion_h1n1_risk\n",
       "14  0.121662             health_insurance\n",
       "9   0.091102             doctor_recc_h1n1\n",
       "10  0.067413         doctor_recc_seasonal\n",
       "15  0.057717  opinion_h1n1_vacc_effective\n",
       "29  0.045954               hhs_geo_region\n",
       "34  0.034946        employment_occupation\n",
       "21  0.034785                    age_group\n",
       "33  0.031442          employment_industry\n",
       "13  0.029708                health_worker\n",
       "19  0.026680            opinion_seas_risk\n",
       "18  0.025353  opinion_seas_vacc_effective\n",
       "0   0.019965                 h1n1_concern\n",
       "1   0.019558               h1n1_knowledge\n",
       "17  0.018928  opinion_h1n1_sick_from_vacc\n",
       "32  0.017799           household_children\n",
       "23  0.017553                         race\n",
       "20  0.016751  opinion_seas_sick_from_vacc\n",
       "25  0.016127               income_poverty\n",
       "31  0.014877             household_adults\n",
       "22  0.014337                    education\n",
       "30  0.013700                   census_msa\n",
       "24  0.012137                          sex\n",
       "11  0.009949        chronic_med_condition\n",
       "3   0.009932         behavioral_avoidance\n",
       "6   0.009682  behavioral_large_gatherings\n",
       "26  0.009195               marital_status\n",
       "8   0.008042        behavioral_touch_face\n",
       "4   0.007893         behavioral_face_mask\n",
       "5   0.007760        behavioral_wash_hands\n",
       "28  0.007700            employment_status\n",
       "27  0.007391                  rent_or_own\n",
       "7   0.006606      behavioral_outside_home\n",
       "2   0.006193    behavioral_antiviral_meds\n",
       "12  0.005150         child_under_6_months"
      ]
     },
     "execution_count": 94,
     "metadata": {},
     "output_type": "execute_result"
    }
   ],
   "source": [
    "pd.DataFrame(X.columns,Dtreemodel.feature_importances_).reset_index().sort_values(ascending=False,by=\"index\")"
   ]
  },
  {
   "cell_type": "code",
   "execution_count": 95,
   "id": "edd56e5d",
   "metadata": {},
   "outputs": [],
   "source": [
    "XFe=X.drop(['behavioral_antiviral_meds','child_under_6_months','behavioral_face_mask','behavioral_wash_hands','employment_status',\n",
    "            'rent_or_own','chronic_med_condition','behavioral_avoidance','behavioral_large_gatherings',\n",
    "          'marital_status','sex','behavioral_outside_home','behavioral_touch_face'],axis=1)"
   ]
  },
  {
   "cell_type": "code",
   "execution_count": 96,
   "id": "c4d313e1",
   "metadata": {},
   "outputs": [
    {
     "data": {
      "text/plain": [
       "(26707, 22)"
      ]
     },
     "execution_count": 96,
     "metadata": {},
     "output_type": "execute_result"
    }
   ],
   "source": [
    "XFe.shape"
   ]
  },
  {
   "cell_type": "code",
   "execution_count": 97,
   "id": "c9566f76",
   "metadata": {},
   "outputs": [],
   "source": [
    "DtreemodelXFe=Dtree.fit(XFe,y)"
   ]
  },
  {
   "cell_type": "code",
   "execution_count": 98,
   "id": "8343c3d9",
   "metadata": {},
   "outputs": [
    {
     "data": {
      "text/plain": [
       "0.8796570187591268"
      ]
     },
     "execution_count": 98,
     "metadata": {},
     "output_type": "execute_result"
    }
   ],
   "source": [
    "DtreemodelXFe.score(XFe,y)"
   ]
  },
  {
   "cell_type": "code",
   "execution_count": 99,
   "id": "ac77048e",
   "metadata": {},
   "outputs": [],
   "source": [
    "DtreemodelXFey1=Dtree.fit(XFe,y1)"
   ]
  },
  {
   "cell_type": "code",
   "execution_count": 100,
   "id": "1e9263a8",
   "metadata": {},
   "outputs": [
    {
     "data": {
      "text/plain": [
       "0.9180739132062755"
      ]
     },
     "execution_count": 100,
     "metadata": {},
     "output_type": "execute_result"
    }
   ],
   "source": [
    "DtreemodelXFey1.score(XFe,y1)"
   ]
  },
  {
   "cell_type": "code",
   "execution_count": 101,
   "id": "28725e67",
   "metadata": {},
   "outputs": [],
   "source": [
    "DtreepredictXFe=DtreemodelXFe.predict(XFe)"
   ]
  },
  {
   "cell_type": "code",
   "execution_count": 102,
   "id": "c4529569",
   "metadata": {},
   "outputs": [
    {
     "name": "stdout",
     "output_type": "stream",
     "text": [
      "              precision    recall  f1-score   support\n",
      "\n",
      "           0       0.61      0.94      0.74     14272\n",
      "           1       0.82      0.30      0.44     12435\n",
      "\n",
      "    accuracy                           0.64     26707\n",
      "   macro avg       0.71      0.62      0.59     26707\n",
      "weighted avg       0.70      0.64      0.60     26707\n",
      "\n"
     ]
    }
   ],
   "source": [
    "print(classification_report(y,DtreepredictXFe))"
   ]
  },
  {
   "cell_type": "code",
   "execution_count": 103,
   "id": "338569ec",
   "metadata": {},
   "outputs": [
    {
     "data": {
      "text/plain": [
       "0.730145730936713"
      ]
     },
     "execution_count": 103,
     "metadata": {},
     "output_type": "execute_result"
    }
   ],
   "source": [
    "(cross_val_score(Dtree,XFe,y)).mean()"
   ]
  },
  {
   "cell_type": "code",
   "execution_count": 104,
   "id": "a0c23163",
   "metadata": {},
   "outputs": [],
   "source": [
    "DtreepredictXFey1=DtreemodelXFey1.predict(XFe)"
   ]
  },
  {
   "cell_type": "code",
   "execution_count": 105,
   "id": "b65aef64",
   "metadata": {},
   "outputs": [
    {
     "name": "stdout",
     "output_type": "stream",
     "text": [
      "              precision    recall  f1-score   support\n",
      "\n",
      "           0       0.93      0.97      0.95     21033\n",
      "           1       0.88      0.72      0.79      5674\n",
      "\n",
      "    accuracy                           0.92     26707\n",
      "   macro avg       0.90      0.84      0.87     26707\n",
      "weighted avg       0.92      0.92      0.91     26707\n",
      "\n"
     ]
    }
   ],
   "source": [
    "print(classification_report(y1,DtreepredictXFey1))"
   ]
  },
  {
   "cell_type": "code",
   "execution_count": 106,
   "id": "f5f9b64f",
   "metadata": {},
   "outputs": [
    {
     "data": {
      "text/plain": [
       "0.8107611757929499"
      ]
     },
     "execution_count": 106,
     "metadata": {},
     "output_type": "execute_result"
    }
   ],
   "source": [
    "(cross_val_score(Dtree,XFe,y1)).mean()"
   ]
  },
  {
   "cell_type": "markdown",
   "id": "6c030ad6",
   "metadata": {},
   "source": [
    "# Random Forest"
   ]
  },
  {
   "cell_type": "code",
   "execution_count": 311,
   "id": "cf808b2c",
   "metadata": {},
   "outputs": [],
   "source": [
    "from sklearn.ensemble import RandomForestClassifier"
   ]
  },
  {
   "cell_type": "code",
   "execution_count": 312,
   "id": "fec1fd64",
   "metadata": {},
   "outputs": [],
   "source": [
    "Rforest=RandomForestClassifier(n_estimators=2000)"
   ]
  },
  {
   "cell_type": "code",
   "execution_count": 313,
   "id": "8b262911",
   "metadata": {},
   "outputs": [],
   "source": [
    "Rforestmodel=Rforest.fit(X,y)"
   ]
  },
  {
   "cell_type": "code",
   "execution_count": 314,
   "id": "c32b9f92",
   "metadata": {},
   "outputs": [
    {
     "data": {
      "text/plain": [
       "1.0"
      ]
     },
     "execution_count": 314,
     "metadata": {},
     "output_type": "execute_result"
    }
   ],
   "source": [
    "Rforestmodel.score(X,y)"
   ]
  },
  {
   "cell_type": "code",
   "execution_count": 315,
   "id": "22bc6915",
   "metadata": {},
   "outputs": [],
   "source": [
    "Rforestpredict=Rforestmodel.predict(X)"
   ]
  },
  {
   "cell_type": "code",
   "execution_count": 316,
   "id": "6e2c78b1",
   "metadata": {},
   "outputs": [
    {
     "name": "stdout",
     "output_type": "stream",
     "text": [
      "              precision    recall  f1-score   support\n",
      "\n",
      "           0       1.00      1.00      1.00     14272\n",
      "           1       1.00      1.00      1.00     12435\n",
      "\n",
      "    accuracy                           1.00     26707\n",
      "   macro avg       1.00      1.00      1.00     26707\n",
      "weighted avg       1.00      1.00      1.00     26707\n",
      "\n"
     ]
    }
   ],
   "source": [
    "print(classification_report(y,Rforestpredict))"
   ]
  },
  {
   "cell_type": "code",
   "execution_count": 317,
   "id": "bb0f80c1",
   "metadata": {},
   "outputs": [
    {
     "data": {
      "text/plain": [
       "0.7812186422489404"
      ]
     },
     "execution_count": 317,
     "metadata": {},
     "output_type": "execute_result"
    }
   ],
   "source": [
    "(cross_val_score(Rforest,X,y)).mean()"
   ]
  },
  {
   "cell_type": "code",
   "execution_count": 318,
   "id": "16ecb26d",
   "metadata": {},
   "outputs": [],
   "source": [
    "Rforestmodel2=Rforest.fit(X,y1)"
   ]
  },
  {
   "cell_type": "code",
   "execution_count": 319,
   "id": "9f1e4627",
   "metadata": {},
   "outputs": [
    {
     "data": {
      "text/plain": [
       "1.0"
      ]
     },
     "execution_count": 319,
     "metadata": {},
     "output_type": "execute_result"
    }
   ],
   "source": [
    "Rforestmodel2.score(X,y1)"
   ]
  },
  {
   "cell_type": "code",
   "execution_count": 320,
   "id": "d58bda45",
   "metadata": {},
   "outputs": [],
   "source": [
    "Rforestpredict2=Rforestmodel2.predict(X)"
   ]
  },
  {
   "cell_type": "code",
   "execution_count": 321,
   "id": "648f2867",
   "metadata": {},
   "outputs": [
    {
     "name": "stdout",
     "output_type": "stream",
     "text": [
      "              precision    recall  f1-score   support\n",
      "\n",
      "           0       1.00      1.00      1.00     21033\n",
      "           1       1.00      1.00      1.00      5674\n",
      "\n",
      "    accuracy                           1.00     26707\n",
      "   macro avg       1.00      1.00      1.00     26707\n",
      "weighted avg       1.00      1.00      1.00     26707\n",
      "\n"
     ]
    }
   ],
   "source": [
    "print(classification_report(y1,Rforestpredict2))"
   ]
  },
  {
   "cell_type": "code",
   "execution_count": 322,
   "id": "8fd06103",
   "metadata": {},
   "outputs": [
    {
     "data": {
      "text/plain": [
       "0.8531471782431439"
      ]
     },
     "execution_count": 322,
     "metadata": {},
     "output_type": "execute_result"
    }
   ],
   "source": [
    "(cross_val_score(Rforest,X,y1)).mean()"
   ]
  },
  {
   "cell_type": "code",
   "execution_count": 323,
   "id": "075e6b10",
   "metadata": {},
   "outputs": [],
   "source": [
    "Rforestpredictseason=Rforestmodel.predict(vaccinetestdf)"
   ]
  },
  {
   "cell_type": "code",
   "execution_count": 324,
   "id": "41d6d48a",
   "metadata": {},
   "outputs": [],
   "source": [
    "Rforestpredicth1n1=Rforestmodel2.predict(vaccinetestdf)"
   ]
  },
  {
   "cell_type": "code",
   "execution_count": 326,
   "id": "c59df51a",
   "metadata": {},
   "outputs": [],
   "source": [
    "pd.DataFrame(Rforestpredictseason).to_csv(\"RforestseasonNEW.csv\")"
   ]
  },
  {
   "cell_type": "code",
   "execution_count": 327,
   "id": "abb82dfd",
   "metadata": {},
   "outputs": [],
   "source": [
    "pd.DataFrame(Rforestpredicth1n1).to_csv(\"Rforesth1n1NEW.csv\")"
   ]
  },
  {
   "cell_type": "markdown",
   "id": "b545ca99",
   "metadata": {},
   "source": [
    "## Gradient Boosting"
   ]
  },
  {
   "cell_type": "code",
   "execution_count": 111,
   "id": "0b0c3a3f",
   "metadata": {},
   "outputs": [],
   "source": [
    "from sklearn.ensemble import GradientBoostingClassifier"
   ]
  },
  {
   "cell_type": "code",
   "execution_count": 112,
   "id": "3c3799cc",
   "metadata": {},
   "outputs": [],
   "source": [
    "GBM=GradientBoostingClassifier(n_estimators=500)"
   ]
  },
  {
   "cell_type": "code",
   "execution_count": 113,
   "id": "bf163385",
   "metadata": {},
   "outputs": [],
   "source": [
    "GBMmodel=GBM.fit(X,y)"
   ]
  },
  {
   "cell_type": "code",
   "execution_count": 114,
   "id": "48149a06",
   "metadata": {},
   "outputs": [
    {
     "data": {
      "text/plain": [
       "0.8085146216347774"
      ]
     },
     "execution_count": 114,
     "metadata": {},
     "output_type": "execute_result"
    }
   ],
   "source": [
    "GBMmodel.score(X,y)"
   ]
  },
  {
   "cell_type": "code",
   "execution_count": 115,
   "id": "9c33598b",
   "metadata": {},
   "outputs": [],
   "source": [
    "GBMpredict=GBMmodel.predict(X)"
   ]
  },
  {
   "cell_type": "code",
   "execution_count": 116,
   "id": "c1822b52",
   "metadata": {},
   "outputs": [
    {
     "name": "stdout",
     "output_type": "stream",
     "text": [
      "              precision    recall  f1-score   support\n",
      "\n",
      "           0       0.81      0.83      0.82     14272\n",
      "           1       0.80      0.78      0.79     12435\n",
      "\n",
      "    accuracy                           0.81     26707\n",
      "   macro avg       0.81      0.81      0.81     26707\n",
      "weighted avg       0.81      0.81      0.81     26707\n",
      "\n"
     ]
    }
   ],
   "source": [
    "print(classification_report(y,GBMpredict))"
   ]
  },
  {
   "cell_type": "code",
   "execution_count": 117,
   "id": "4c6cc4f8",
   "metadata": {},
   "outputs": [],
   "source": [
    "from sklearn.metrics import plot_roc_curve"
   ]
  },
  {
   "cell_type": "code",
   "execution_count": 118,
   "id": "5dcc8690",
   "metadata": {},
   "outputs": [
    {
     "data": {
      "text/plain": [
       "<sklearn.metrics._plot.roc_curve.RocCurveDisplay at 0x14fbda66820>"
      ]
     },
     "execution_count": 118,
     "metadata": {},
     "output_type": "execute_result"
    },
    {
     "data": {
      "image/png": "[encoded data removed]",
      "text/plain": [
       "<Figure size 432x288 with 1 Axes>"
      ]
     },
     "metadata": {
      "needs_background": "light"
     },
     "output_type": "display_data"
    }
   ],
   "source": [
    "plot_roc_curve(GBM,X,y)"
   ]
  },
  {
   "cell_type": "code",
   "execution_count": 119,
   "id": "7bb84475",
   "metadata": {},
   "outputs": [
    {
     "data": {
      "text/plain": [
       "0.7886325495269775"
      ]
     },
     "execution_count": 119,
     "metadata": {},
     "output_type": "execute_result"
    }
   ],
   "source": [
    "(cross_val_score(GBM,X,y)).mean()"
   ]
  },
  {
   "cell_type": "code",
   "execution_count": 120,
   "id": "953bc3ab",
   "metadata": {},
   "outputs": [],
   "source": [
    "GBMmodel2=GBM.fit(X,y1)"
   ]
  },
  {
   "cell_type": "code",
   "execution_count": 121,
   "id": "8ca2afa6",
   "metadata": {},
   "outputs": [
    {
     "data": {
      "text/plain": [
       "0.8722057887445239"
      ]
     },
     "execution_count": 121,
     "metadata": {},
     "output_type": "execute_result"
    }
   ],
   "source": [
    "GBMmodel2.score(X,y1)"
   ]
  },
  {
   "cell_type": "code",
   "execution_count": 122,
   "id": "fe9e0dd2",
   "metadata": {},
   "outputs": [],
   "source": [
    "GBMpredict2=GBMmodel2.predict(X)"
   ]
  },
  {
   "cell_type": "code",
   "execution_count": 123,
   "id": "921f2b53",
   "metadata": {},
   "outputs": [
    {
     "name": "stdout",
     "output_type": "stream",
     "text": [
      "              precision    recall  f1-score   support\n",
      "\n",
      "           0       0.89      0.96      0.92     21033\n",
      "           1       0.78      0.55      0.65      5674\n",
      "\n",
      "    accuracy                           0.87     26707\n",
      "   macro avg       0.84      0.76      0.78     26707\n",
      "weighted avg       0.87      0.87      0.86     26707\n",
      "\n"
     ]
    }
   ],
   "source": [
    "print(classification_report(y1,GBMpredict2))"
   ]
  },
  {
   "cell_type": "code",
   "execution_count": 124,
   "id": "94462c63",
   "metadata": {},
   "outputs": [
    {
     "data": {
      "text/plain": [
       "<sklearn.metrics._plot.roc_curve.RocCurveDisplay at 0x14fc409b580>"
      ]
     },
     "execution_count": 124,
     "metadata": {},
     "output_type": "execute_result"
    },
    {
     "data": {
      "image/png": "[encoded data removed]",
      "text/plain": [
       "<Figure size 432x288 with 1 Axes>"
      ]
     },
     "metadata": {
      "needs_background": "light"
     },
     "output_type": "display_data"
    }
   ],
   "source": [
    "plot_roc_curve(GBM,X,y1)"
   ]
  },
  {
   "cell_type": "code",
   "execution_count": 125,
   "id": "332d7167",
   "metadata": {},
   "outputs": [
    {
     "data": {
      "text/plain": [
       "0.8557305644943705"
      ]
     },
     "execution_count": 125,
     "metadata": {},
     "output_type": "execute_result"
    }
   ],
   "source": [
    "(cross_val_score(GBM,X,y1)).mean()"
   ]
  },
  {
   "cell_type": "code",
   "execution_count": 126,
   "id": "0b90a167",
   "metadata": {},
   "outputs": [],
   "source": [
    "GBMseasonpredict=GBMmodel.predict(vaccinetestdf)"
   ]
  },
  {
   "cell_type": "code",
   "execution_count": 127,
   "id": "e658bc71",
   "metadata": {},
   "outputs": [],
   "source": [
    "GBMh1n1predict=GBMmodel2.predict(vaccinetestdf)"
   ]
  },
  {
   "cell_type": "code",
   "execution_count": 128,
   "id": "f911ba3a",
   "metadata": {},
   "outputs": [],
   "source": [
    "pd.DataFrame(GBMseasonpredict).to_csv(\"GBMseason.csv\")"
   ]
  },
  {
   "cell_type": "code",
   "execution_count": 129,
   "id": "5c5e3ba8",
   "metadata": {},
   "outputs": [],
   "source": [
    "pd.DataFrame(GBMh1n1predict).to_csv(\"GBMh1n1.csv\")"
   ]
  },
  {
   "cell_type": "markdown",
   "id": "8a45cd89",
   "metadata": {},
   "source": [
    "# SVM"
   ]
  },
  {
   "cell_type": "code",
   "execution_count": 130,
   "id": "3f92be72",
   "metadata": {},
   "outputs": [],
   "source": [
    "from sklearn.svm import SVC"
   ]
  },
  {
   "cell_type": "code",
   "execution_count": 131,
   "id": "f562c843",
   "metadata": {},
   "outputs": [],
   "source": [
    "SVM=SVC()"
   ]
  },
  {
   "cell_type": "code",
   "execution_count": 132,
   "id": "faa54e73",
   "metadata": {},
   "outputs": [],
   "source": [
    "SVMmodel=SVM.fit(X,y)"
   ]
  },
  {
   "cell_type": "code",
   "execution_count": 133,
   "id": "926b847b",
   "metadata": {},
   "outputs": [
    {
     "data": {
      "text/plain": [
       "0.7783352679072902"
      ]
     },
     "execution_count": 133,
     "metadata": {},
     "output_type": "execute_result"
    }
   ],
   "source": [
    "SVMmodel.score(X,y)"
   ]
  },
  {
   "cell_type": "code",
   "execution_count": 134,
   "id": "9bc2d38a",
   "metadata": {},
   "outputs": [],
   "source": [
    "SVMpredict=SVMmodel.predict(X)"
   ]
  },
  {
   "cell_type": "code",
   "execution_count": 135,
   "id": "21aec882",
   "metadata": {},
   "outputs": [
    {
     "name": "stdout",
     "output_type": "stream",
     "text": [
      "              precision    recall  f1-score   support\n",
      "\n",
      "           0       0.78      0.81      0.80     14272\n",
      "           1       0.77      0.74      0.76     12435\n",
      "\n",
      "    accuracy                           0.78     26707\n",
      "   macro avg       0.78      0.78      0.78     26707\n",
      "weighted avg       0.78      0.78      0.78     26707\n",
      "\n"
     ]
    }
   ],
   "source": [
    "print(classification_report(y,SVMpredict))"
   ]
  },
  {
   "cell_type": "code",
   "execution_count": 136,
   "id": "c92e5eb8",
   "metadata": {},
   "outputs": [
    {
     "data": {
      "text/plain": [
       "<sklearn.metrics._plot.roc_curve.RocCurveDisplay at 0x14fc0832ac0>"
      ]
     },
     "execution_count": 136,
     "metadata": {},
     "output_type": "execute_result"
    },
    {
     "data": {
      "image/png": "[encoded data removed]",
      "text/plain": [
       "<Figure size 432x288 with 1 Axes>"
      ]
     },
     "metadata": {
      "needs_background": "light"
     },
     "output_type": "display_data"
    }
   ],
   "source": [
    "plot_roc_curve(SVM,X,y)"
   ]
  },
  {
   "cell_type": "code",
   "execution_count": 137,
   "id": "581a94d4",
   "metadata": {},
   "outputs": [
    {
     "data": {
      "text/plain": [
       "0.7717081629638861"
      ]
     },
     "execution_count": 137,
     "metadata": {},
     "output_type": "execute_result"
    }
   ],
   "source": [
    "(cross_val_score(SVM,X,y)).mean()"
   ]
  },
  {
   "cell_type": "code",
   "execution_count": 138,
   "id": "1454eccf",
   "metadata": {},
   "outputs": [],
   "source": [
    "SVMmodel2=SVM.fit(X,y1)"
   ]
  },
  {
   "cell_type": "code",
   "execution_count": 139,
   "id": "bf303ef8",
   "metadata": {},
   "outputs": [
    {
     "data": {
      "text/plain": [
       "0.8273860785561837"
      ]
     },
     "execution_count": 139,
     "metadata": {},
     "output_type": "execute_result"
    }
   ],
   "source": [
    "SVMmodel2.score(X,y1)"
   ]
  },
  {
   "cell_type": "code",
   "execution_count": 140,
   "id": "2711377a",
   "metadata": {},
   "outputs": [],
   "source": [
    "SVMpredict2=SVMmodel2.predict(X)"
   ]
  },
  {
   "cell_type": "code",
   "execution_count": 141,
   "id": "97d96a7f",
   "metadata": {},
   "outputs": [
    {
     "name": "stdout",
     "output_type": "stream",
     "text": [
      "              precision    recall  f1-score   support\n",
      "\n",
      "           0       0.83      0.98      0.90     21033\n",
      "           1       0.79      0.26      0.39      5674\n",
      "\n",
      "    accuracy                           0.83     26707\n",
      "   macro avg       0.81      0.62      0.64     26707\n",
      "weighted avg       0.82      0.83      0.79     26707\n",
      "\n"
     ]
    }
   ],
   "source": [
    "print(classification_report(y1,SVMpredict2))"
   ]
  },
  {
   "cell_type": "code",
   "execution_count": 142,
   "id": "7b0c57f7",
   "metadata": {},
   "outputs": [
    {
     "data": {
      "text/plain": [
       "<sklearn.metrics._plot.roc_curve.RocCurveDisplay at 0x14fc0c8efa0>"
      ]
     },
     "execution_count": 142,
     "metadata": {},
     "output_type": "execute_result"
    },
    {
     "data": {
      "image/png": "[encoded data removed]",
      "text/plain": [
       "<Figure size 432x288 with 1 Axes>"
      ]
     },
     "metadata": {
      "needs_background": "light"
     },
     "output_type": "display_data"
    }
   ],
   "source": [
    "plot_roc_curve(SVM,X,y1)"
   ]
  },
  {
   "cell_type": "code",
   "execution_count": 143,
   "id": "eb645b0b",
   "metadata": {},
   "outputs": [
    {
     "data": {
      "text/plain": [
       "0.822630812927495"
      ]
     },
     "execution_count": 143,
     "metadata": {},
     "output_type": "execute_result"
    }
   ],
   "source": [
    "(cross_val_score(SVM,X,y1)).mean()"
   ]
  },
  {
   "cell_type": "code",
   "execution_count": 144,
   "id": "9271ae2b",
   "metadata": {},
   "outputs": [],
   "source": [
    "SVMseasonpredict=SVMmodel.predict(vaccinetestdf)"
   ]
  },
  {
   "cell_type": "code",
   "execution_count": 145,
   "id": "81ab7752",
   "metadata": {},
   "outputs": [],
   "source": [
    "SVMh1n1predict=SVMmodel2.predict(vaccinetestdf)"
   ]
  },
  {
   "cell_type": "code",
   "execution_count": 146,
   "id": "07e5150b",
   "metadata": {},
   "outputs": [],
   "source": [
    "pd.DataFrame(SVMseasonpredict).to_csv(\"SVMseason.csv\")"
   ]
  },
  {
   "cell_type": "code",
   "execution_count": 147,
   "id": "5f4d12d2",
   "metadata": {},
   "outputs": [],
   "source": [
    "pd.DataFrame(SVMh1n1predict).to_csv(\"SVMh1n1.csv\")"
   ]
  }
 ],
 "metadata": {
  "kernelspec": {
   "display_name": "Python 3 (ipykernel)",
   "language": "python",
   "name": "python3"
  },
  "language_info": {
   "codemirror_mode": {
    "name": "ipython",
    "version": 3
   },
   "file_extension": ".py",
   "mimetype": "text/x-python",
   "name": "python",
   "nbconvert_exporter": "python",
   "pygments_lexer": "ipython3",
   "version": "3.9.7"
  }
 },
 "nbformat": 4,
 "nbformat_minor": 5
}
